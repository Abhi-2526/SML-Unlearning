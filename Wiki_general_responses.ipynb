{
  "nbformat": 4,
  "nbformat_minor": 0,
  "metadata": {
    "colab": {
      "provenance": [],
      "machine_shape": "hm",
      "gpuType": "A100"
    },
    "kernelspec": {
      "name": "python3",
      "display_name": "Python 3"
    },
    "language_info": {
      "name": "python"
    },
    "accelerator": "GPU",
    "widgets": {
      "application/vnd.jupyter.widget-state+json": {
        "40323399d6b645638e9a45f82df37fdc": {
          "model_module": "@jupyter-widgets/controls",
          "model_name": "HBoxModel",
          "model_module_version": "1.5.0",
          "state": {
            "_dom_classes": [],
            "_model_module": "@jupyter-widgets/controls",
            "_model_module_version": "1.5.0",
            "_model_name": "HBoxModel",
            "_view_count": null,
            "_view_module": "@jupyter-widgets/controls",
            "_view_module_version": "1.5.0",
            "_view_name": "HBoxView",
            "box_style": "",
            "children": [
              "IPY_MODEL_006e469bb4cd454c98d97c40d52a2a49",
              "IPY_MODEL_b61151c5291941da83a50d1bfa6ea73e",
              "IPY_MODEL_64601085214443b3b58db44f8ce5f769"
            ],
            "layout": "IPY_MODEL_206335279a814f68abb5a9764b71bbdf"
          }
        },
        "006e469bb4cd454c98d97c40d52a2a49": {
          "model_module": "@jupyter-widgets/controls",
          "model_name": "HTMLModel",
          "model_module_version": "1.5.0",
          "state": {
            "_dom_classes": [],
            "_model_module": "@jupyter-widgets/controls",
            "_model_module_version": "1.5.0",
            "_model_name": "HTMLModel",
            "_view_count": null,
            "_view_module": "@jupyter-widgets/controls",
            "_view_module_version": "1.5.0",
            "_view_name": "HTMLView",
            "description": "",
            "description_tooltip": null,
            "layout": "IPY_MODEL_f328b381a8554fe18a4e32b985446fed",
            "placeholder": "​",
            "style": "IPY_MODEL_00966c4660ba4f729967f5f248c84069",
            "value": "README.md: 100%"
          }
        },
        "b61151c5291941da83a50d1bfa6ea73e": {
          "model_module": "@jupyter-widgets/controls",
          "model_name": "FloatProgressModel",
          "model_module_version": "1.5.0",
          "state": {
            "_dom_classes": [],
            "_model_module": "@jupyter-widgets/controls",
            "_model_module_version": "1.5.0",
            "_model_name": "FloatProgressModel",
            "_view_count": null,
            "_view_module": "@jupyter-widgets/controls",
            "_view_module_version": "1.5.0",
            "_view_name": "ProgressView",
            "bar_style": "success",
            "description": "",
            "description_tooltip": null,
            "layout": "IPY_MODEL_353a4826394b4b1fb09e54d5286023c8",
            "max": 8469,
            "min": 0,
            "orientation": "horizontal",
            "style": "IPY_MODEL_2102070e2642403badd3ce24be06eeb4",
            "value": 8469
          }
        },
        "64601085214443b3b58db44f8ce5f769": {
          "model_module": "@jupyter-widgets/controls",
          "model_name": "HTMLModel",
          "model_module_version": "1.5.0",
          "state": {
            "_dom_classes": [],
            "_model_module": "@jupyter-widgets/controls",
            "_model_module_version": "1.5.0",
            "_model_name": "HTMLModel",
            "_view_count": null,
            "_view_module": "@jupyter-widgets/controls",
            "_view_module_version": "1.5.0",
            "_view_name": "HTMLView",
            "description": "",
            "description_tooltip": null,
            "layout": "IPY_MODEL_b65434867f1a4d73b64875ccc8bc3d0d",
            "placeholder": "​",
            "style": "IPY_MODEL_d090636652194866be5f5f4b9d473962",
            "value": " 8.47k/8.47k [00:00&lt;00:00, 671kB/s]"
          }
        },
        "206335279a814f68abb5a9764b71bbdf": {
          "model_module": "@jupyter-widgets/base",
          "model_name": "LayoutModel",
          "model_module_version": "1.2.0",
          "state": {
            "_model_module": "@jupyter-widgets/base",
            "_model_module_version": "1.2.0",
            "_model_name": "LayoutModel",
            "_view_count": null,
            "_view_module": "@jupyter-widgets/base",
            "_view_module_version": "1.2.0",
            "_view_name": "LayoutView",
            "align_content": null,
            "align_items": null,
            "align_self": null,
            "border": null,
            "bottom": null,
            "display": null,
            "flex": null,
            "flex_flow": null,
            "grid_area": null,
            "grid_auto_columns": null,
            "grid_auto_flow": null,
            "grid_auto_rows": null,
            "grid_column": null,
            "grid_gap": null,
            "grid_row": null,
            "grid_template_areas": null,
            "grid_template_columns": null,
            "grid_template_rows": null,
            "height": null,
            "justify_content": null,
            "justify_items": null,
            "left": null,
            "margin": null,
            "max_height": null,
            "max_width": null,
            "min_height": null,
            "min_width": null,
            "object_fit": null,
            "object_position": null,
            "order": null,
            "overflow": null,
            "overflow_x": null,
            "overflow_y": null,
            "padding": null,
            "right": null,
            "top": null,
            "visibility": null,
            "width": null
          }
        },
        "f328b381a8554fe18a4e32b985446fed": {
          "model_module": "@jupyter-widgets/base",
          "model_name": "LayoutModel",
          "model_module_version": "1.2.0",
          "state": {
            "_model_module": "@jupyter-widgets/base",
            "_model_module_version": "1.2.0",
            "_model_name": "LayoutModel",
            "_view_count": null,
            "_view_module": "@jupyter-widgets/base",
            "_view_module_version": "1.2.0",
            "_view_name": "LayoutView",
            "align_content": null,
            "align_items": null,
            "align_self": null,
            "border": null,
            "bottom": null,
            "display": null,
            "flex": null,
            "flex_flow": null,
            "grid_area": null,
            "grid_auto_columns": null,
            "grid_auto_flow": null,
            "grid_auto_rows": null,
            "grid_column": null,
            "grid_gap": null,
            "grid_row": null,
            "grid_template_areas": null,
            "grid_template_columns": null,
            "grid_template_rows": null,
            "height": null,
            "justify_content": null,
            "justify_items": null,
            "left": null,
            "margin": null,
            "max_height": null,
            "max_width": null,
            "min_height": null,
            "min_width": null,
            "object_fit": null,
            "object_position": null,
            "order": null,
            "overflow": null,
            "overflow_x": null,
            "overflow_y": null,
            "padding": null,
            "right": null,
            "top": null,
            "visibility": null,
            "width": null
          }
        },
        "00966c4660ba4f729967f5f248c84069": {
          "model_module": "@jupyter-widgets/controls",
          "model_name": "DescriptionStyleModel",
          "model_module_version": "1.5.0",
          "state": {
            "_model_module": "@jupyter-widgets/controls",
            "_model_module_version": "1.5.0",
            "_model_name": "DescriptionStyleModel",
            "_view_count": null,
            "_view_module": "@jupyter-widgets/base",
            "_view_module_version": "1.2.0",
            "_view_name": "StyleView",
            "description_width": ""
          }
        },
        "353a4826394b4b1fb09e54d5286023c8": {
          "model_module": "@jupyter-widgets/base",
          "model_name": "LayoutModel",
          "model_module_version": "1.2.0",
          "state": {
            "_model_module": "@jupyter-widgets/base",
            "_model_module_version": "1.2.0",
            "_model_name": "LayoutModel",
            "_view_count": null,
            "_view_module": "@jupyter-widgets/base",
            "_view_module_version": "1.2.0",
            "_view_name": "LayoutView",
            "align_content": null,
            "align_items": null,
            "align_self": null,
            "border": null,
            "bottom": null,
            "display": null,
            "flex": null,
            "flex_flow": null,
            "grid_area": null,
            "grid_auto_columns": null,
            "grid_auto_flow": null,
            "grid_auto_rows": null,
            "grid_column": null,
            "grid_gap": null,
            "grid_row": null,
            "grid_template_areas": null,
            "grid_template_columns": null,
            "grid_template_rows": null,
            "height": null,
            "justify_content": null,
            "justify_items": null,
            "left": null,
            "margin": null,
            "max_height": null,
            "max_width": null,
            "min_height": null,
            "min_width": null,
            "object_fit": null,
            "object_position": null,
            "order": null,
            "overflow": null,
            "overflow_x": null,
            "overflow_y": null,
            "padding": null,
            "right": null,
            "top": null,
            "visibility": null,
            "width": null
          }
        },
        "2102070e2642403badd3ce24be06eeb4": {
          "model_module": "@jupyter-widgets/controls",
          "model_name": "ProgressStyleModel",
          "model_module_version": "1.5.0",
          "state": {
            "_model_module": "@jupyter-widgets/controls",
            "_model_module_version": "1.5.0",
            "_model_name": "ProgressStyleModel",
            "_view_count": null,
            "_view_module": "@jupyter-widgets/base",
            "_view_module_version": "1.2.0",
            "_view_name": "StyleView",
            "bar_color": null,
            "description_width": ""
          }
        },
        "b65434867f1a4d73b64875ccc8bc3d0d": {
          "model_module": "@jupyter-widgets/base",
          "model_name": "LayoutModel",
          "model_module_version": "1.2.0",
          "state": {
            "_model_module": "@jupyter-widgets/base",
            "_model_module_version": "1.2.0",
            "_model_name": "LayoutModel",
            "_view_count": null,
            "_view_module": "@jupyter-widgets/base",
            "_view_module_version": "1.2.0",
            "_view_name": "LayoutView",
            "align_content": null,
            "align_items": null,
            "align_self": null,
            "border": null,
            "bottom": null,
            "display": null,
            "flex": null,
            "flex_flow": null,
            "grid_area": null,
            "grid_auto_columns": null,
            "grid_auto_flow": null,
            "grid_auto_rows": null,
            "grid_column": null,
            "grid_gap": null,
            "grid_row": null,
            "grid_template_areas": null,
            "grid_template_columns": null,
            "grid_template_rows": null,
            "height": null,
            "justify_content": null,
            "justify_items": null,
            "left": null,
            "margin": null,
            "max_height": null,
            "max_width": null,
            "min_height": null,
            "min_width": null,
            "object_fit": null,
            "object_position": null,
            "order": null,
            "overflow": null,
            "overflow_x": null,
            "overflow_y": null,
            "padding": null,
            "right": null,
            "top": null,
            "visibility": null,
            "width": null
          }
        },
        "d090636652194866be5f5f4b9d473962": {
          "model_module": "@jupyter-widgets/controls",
          "model_name": "DescriptionStyleModel",
          "model_module_version": "1.5.0",
          "state": {
            "_model_module": "@jupyter-widgets/controls",
            "_model_module_version": "1.5.0",
            "_model_name": "DescriptionStyleModel",
            "_view_count": null,
            "_view_module": "@jupyter-widgets/base",
            "_view_module_version": "1.2.0",
            "_view_name": "StyleView",
            "description_width": ""
          }
        },
        "8aea13bed24047e998f5269eb2709bcc": {
          "model_module": "@jupyter-widgets/controls",
          "model_name": "HBoxModel",
          "model_module_version": "1.5.0",
          "state": {
            "_dom_classes": [],
            "_model_module": "@jupyter-widgets/controls",
            "_model_module_version": "1.5.0",
            "_model_name": "HBoxModel",
            "_view_count": null,
            "_view_module": "@jupyter-widgets/controls",
            "_view_module_version": "1.5.0",
            "_view_name": "HBoxView",
            "box_style": "",
            "children": [
              "IPY_MODEL_6dc663fe8d70457792d905ca639b07d5",
              "IPY_MODEL_ac8ab9ea2a0c4439b678c715a6d3981b",
              "IPY_MODEL_60d8c9b2b20642a6aa197b8c938c5211"
            ],
            "layout": "IPY_MODEL_11f58c3be522406b956378f7b9418519"
          }
        },
        "6dc663fe8d70457792d905ca639b07d5": {
          "model_module": "@jupyter-widgets/controls",
          "model_name": "HTMLModel",
          "model_module_version": "1.5.0",
          "state": {
            "_dom_classes": [],
            "_model_module": "@jupyter-widgets/controls",
            "_model_module_version": "1.5.0",
            "_model_name": "HTMLModel",
            "_view_count": null,
            "_view_module": "@jupyter-widgets/controls",
            "_view_module_version": "1.5.0",
            "_view_name": "HTMLView",
            "description": "",
            "description_tooltip": null,
            "layout": "IPY_MODEL_f0cecb544eaf4ead9b090b5b542345e6",
            "placeholder": "​",
            "style": "IPY_MODEL_8fd7e7aff87640318bada1f8ed4ecddf",
            "value": "train-00000-of-00001.parquet: 100%"
          }
        },
        "ac8ab9ea2a0c4439b678c715a6d3981b": {
          "model_module": "@jupyter-widgets/controls",
          "model_name": "FloatProgressModel",
          "model_module_version": "1.5.0",
          "state": {
            "_dom_classes": [],
            "_model_module": "@jupyter-widgets/controls",
            "_model_module_version": "1.5.0",
            "_model_name": "FloatProgressModel",
            "_view_count": null,
            "_view_module": "@jupyter-widgets/controls",
            "_view_module_version": "1.5.0",
            "_view_name": "ProgressView",
            "bar_style": "success",
            "description": "",
            "description_tooltip": null,
            "layout": "IPY_MODEL_c4b066e8a2bd4fc3ab6b42e1efb6ccae",
            "max": 287647,
            "min": 0,
            "orientation": "horizontal",
            "style": "IPY_MODEL_3ba34665e01b4268978aab7b56ab6c9b",
            "value": 287647
          }
        },
        "60d8c9b2b20642a6aa197b8c938c5211": {
          "model_module": "@jupyter-widgets/controls",
          "model_name": "HTMLModel",
          "model_module_version": "1.5.0",
          "state": {
            "_dom_classes": [],
            "_model_module": "@jupyter-widgets/controls",
            "_model_module_version": "1.5.0",
            "_model_name": "HTMLModel",
            "_view_count": null,
            "_view_module": "@jupyter-widgets/controls",
            "_view_module_version": "1.5.0",
            "_view_name": "HTMLView",
            "description": "",
            "description_tooltip": null,
            "layout": "IPY_MODEL_6376d215427845abaaf304412d30f1d4",
            "placeholder": "​",
            "style": "IPY_MODEL_d5c35056c640497ebef112033cfb6aed",
            "value": " 288k/288k [00:00&lt;00:00, 7.59MB/s]"
          }
        },
        "11f58c3be522406b956378f7b9418519": {
          "model_module": "@jupyter-widgets/base",
          "model_name": "LayoutModel",
          "model_module_version": "1.2.0",
          "state": {
            "_model_module": "@jupyter-widgets/base",
            "_model_module_version": "1.2.0",
            "_model_name": "LayoutModel",
            "_view_count": null,
            "_view_module": "@jupyter-widgets/base",
            "_view_module_version": "1.2.0",
            "_view_name": "LayoutView",
            "align_content": null,
            "align_items": null,
            "align_self": null,
            "border": null,
            "bottom": null,
            "display": null,
            "flex": null,
            "flex_flow": null,
            "grid_area": null,
            "grid_auto_columns": null,
            "grid_auto_flow": null,
            "grid_auto_rows": null,
            "grid_column": null,
            "grid_gap": null,
            "grid_row": null,
            "grid_template_areas": null,
            "grid_template_columns": null,
            "grid_template_rows": null,
            "height": null,
            "justify_content": null,
            "justify_items": null,
            "left": null,
            "margin": null,
            "max_height": null,
            "max_width": null,
            "min_height": null,
            "min_width": null,
            "object_fit": null,
            "object_position": null,
            "order": null,
            "overflow": null,
            "overflow_x": null,
            "overflow_y": null,
            "padding": null,
            "right": null,
            "top": null,
            "visibility": null,
            "width": null
          }
        },
        "f0cecb544eaf4ead9b090b5b542345e6": {
          "model_module": "@jupyter-widgets/base",
          "model_name": "LayoutModel",
          "model_module_version": "1.2.0",
          "state": {
            "_model_module": "@jupyter-widgets/base",
            "_model_module_version": "1.2.0",
            "_model_name": "LayoutModel",
            "_view_count": null,
            "_view_module": "@jupyter-widgets/base",
            "_view_module_version": "1.2.0",
            "_view_name": "LayoutView",
            "align_content": null,
            "align_items": null,
            "align_self": null,
            "border": null,
            "bottom": null,
            "display": null,
            "flex": null,
            "flex_flow": null,
            "grid_area": null,
            "grid_auto_columns": null,
            "grid_auto_flow": null,
            "grid_auto_rows": null,
            "grid_column": null,
            "grid_gap": null,
            "grid_row": null,
            "grid_template_areas": null,
            "grid_template_columns": null,
            "grid_template_rows": null,
            "height": null,
            "justify_content": null,
            "justify_items": null,
            "left": null,
            "margin": null,
            "max_height": null,
            "max_width": null,
            "min_height": null,
            "min_width": null,
            "object_fit": null,
            "object_position": null,
            "order": null,
            "overflow": null,
            "overflow_x": null,
            "overflow_y": null,
            "padding": null,
            "right": null,
            "top": null,
            "visibility": null,
            "width": null
          }
        },
        "8fd7e7aff87640318bada1f8ed4ecddf": {
          "model_module": "@jupyter-widgets/controls",
          "model_name": "DescriptionStyleModel",
          "model_module_version": "1.5.0",
          "state": {
            "_model_module": "@jupyter-widgets/controls",
            "_model_module_version": "1.5.0",
            "_model_name": "DescriptionStyleModel",
            "_view_count": null,
            "_view_module": "@jupyter-widgets/base",
            "_view_module_version": "1.2.0",
            "_view_name": "StyleView",
            "description_width": ""
          }
        },
        "c4b066e8a2bd4fc3ab6b42e1efb6ccae": {
          "model_module": "@jupyter-widgets/base",
          "model_name": "LayoutModel",
          "model_module_version": "1.2.0",
          "state": {
            "_model_module": "@jupyter-widgets/base",
            "_model_module_version": "1.2.0",
            "_model_name": "LayoutModel",
            "_view_count": null,
            "_view_module": "@jupyter-widgets/base",
            "_view_module_version": "1.2.0",
            "_view_name": "LayoutView",
            "align_content": null,
            "align_items": null,
            "align_self": null,
            "border": null,
            "bottom": null,
            "display": null,
            "flex": null,
            "flex_flow": null,
            "grid_area": null,
            "grid_auto_columns": null,
            "grid_auto_flow": null,
            "grid_auto_rows": null,
            "grid_column": null,
            "grid_gap": null,
            "grid_row": null,
            "grid_template_areas": null,
            "grid_template_columns": null,
            "grid_template_rows": null,
            "height": null,
            "justify_content": null,
            "justify_items": null,
            "left": null,
            "margin": null,
            "max_height": null,
            "max_width": null,
            "min_height": null,
            "min_width": null,
            "object_fit": null,
            "object_position": null,
            "order": null,
            "overflow": null,
            "overflow_x": null,
            "overflow_y": null,
            "padding": null,
            "right": null,
            "top": null,
            "visibility": null,
            "width": null
          }
        },
        "3ba34665e01b4268978aab7b56ab6c9b": {
          "model_module": "@jupyter-widgets/controls",
          "model_name": "ProgressStyleModel",
          "model_module_version": "1.5.0",
          "state": {
            "_model_module": "@jupyter-widgets/controls",
            "_model_module_version": "1.5.0",
            "_model_name": "ProgressStyleModel",
            "_view_count": null,
            "_view_module": "@jupyter-widgets/base",
            "_view_module_version": "1.2.0",
            "_view_name": "StyleView",
            "bar_color": null,
            "description_width": ""
          }
        },
        "6376d215427845abaaf304412d30f1d4": {
          "model_module": "@jupyter-widgets/base",
          "model_name": "LayoutModel",
          "model_module_version": "1.2.0",
          "state": {
            "_model_module": "@jupyter-widgets/base",
            "_model_module_version": "1.2.0",
            "_model_name": "LayoutModel",
            "_view_count": null,
            "_view_module": "@jupyter-widgets/base",
            "_view_module_version": "1.2.0",
            "_view_name": "LayoutView",
            "align_content": null,
            "align_items": null,
            "align_self": null,
            "border": null,
            "bottom": null,
            "display": null,
            "flex": null,
            "flex_flow": null,
            "grid_area": null,
            "grid_auto_columns": null,
            "grid_auto_flow": null,
            "grid_auto_rows": null,
            "grid_column": null,
            "grid_gap": null,
            "grid_row": null,
            "grid_template_areas": null,
            "grid_template_columns": null,
            "grid_template_rows": null,
            "height": null,
            "justify_content": null,
            "justify_items": null,
            "left": null,
            "margin": null,
            "max_height": null,
            "max_width": null,
            "min_height": null,
            "min_width": null,
            "object_fit": null,
            "object_position": null,
            "order": null,
            "overflow": null,
            "overflow_x": null,
            "overflow_y": null,
            "padding": null,
            "right": null,
            "top": null,
            "visibility": null,
            "width": null
          }
        },
        "d5c35056c640497ebef112033cfb6aed": {
          "model_module": "@jupyter-widgets/controls",
          "model_name": "DescriptionStyleModel",
          "model_module_version": "1.5.0",
          "state": {
            "_model_module": "@jupyter-widgets/controls",
            "_model_module_version": "1.5.0",
            "_model_name": "DescriptionStyleModel",
            "_view_count": null,
            "_view_module": "@jupyter-widgets/base",
            "_view_module_version": "1.2.0",
            "_view_name": "StyleView",
            "description_width": ""
          }
        },
        "e292cab154084b05b7b4468dde13d6aa": {
          "model_module": "@jupyter-widgets/controls",
          "model_name": "HBoxModel",
          "model_module_version": "1.5.0",
          "state": {
            "_dom_classes": [],
            "_model_module": "@jupyter-widgets/controls",
            "_model_module_version": "1.5.0",
            "_model_name": "HBoxModel",
            "_view_count": null,
            "_view_module": "@jupyter-widgets/controls",
            "_view_module_version": "1.5.0",
            "_view_name": "HBoxView",
            "box_style": "",
            "children": [
              "IPY_MODEL_f3e688cbcead4c85b023cf63db013ac2",
              "IPY_MODEL_aacb5395263244ac9282475abc43f6de",
              "IPY_MODEL_033010cf8450499eb359259331fdb491"
            ],
            "layout": "IPY_MODEL_4b36c8dedd84434d96280d9b0094e263"
          }
        },
        "f3e688cbcead4c85b023cf63db013ac2": {
          "model_module": "@jupyter-widgets/controls",
          "model_name": "HTMLModel",
          "model_module_version": "1.5.0",
          "state": {
            "_dom_classes": [],
            "_model_module": "@jupyter-widgets/controls",
            "_model_module_version": "1.5.0",
            "_model_name": "HTMLModel",
            "_view_count": null,
            "_view_module": "@jupyter-widgets/controls",
            "_view_module_version": "1.5.0",
            "_view_name": "HTMLView",
            "description": "",
            "description_tooltip": null,
            "layout": "IPY_MODEL_dcb46e0584764bed8e05bafc8e2df140",
            "placeholder": "​",
            "style": "IPY_MODEL_1e512961f10144bd9a3a97cf0188695f",
            "value": "Generating train split: 100%"
          }
        },
        "aacb5395263244ac9282475abc43f6de": {
          "model_module": "@jupyter-widgets/controls",
          "model_name": "FloatProgressModel",
          "model_module_version": "1.5.0",
          "state": {
            "_dom_classes": [],
            "_model_module": "@jupyter-widgets/controls",
            "_model_module_version": "1.5.0",
            "_model_name": "FloatProgressModel",
            "_view_count": null,
            "_view_module": "@jupyter-widgets/controls",
            "_view_module_version": "1.5.0",
            "_view_name": "ProgressView",
            "bar_style": "success",
            "description": "",
            "description_tooltip": null,
            "layout": "IPY_MODEL_20fb4ecb71a84dd2b2623a7e3a185768",
            "max": 476,
            "min": 0,
            "orientation": "horizontal",
            "style": "IPY_MODEL_a9f3a4cebbe04a63aa06912d830c7745",
            "value": 476
          }
        },
        "033010cf8450499eb359259331fdb491": {
          "model_module": "@jupyter-widgets/controls",
          "model_name": "HTMLModel",
          "model_module_version": "1.5.0",
          "state": {
            "_dom_classes": [],
            "_model_module": "@jupyter-widgets/controls",
            "_model_module_version": "1.5.0",
            "_model_name": "HTMLModel",
            "_view_count": null,
            "_view_module": "@jupyter-widgets/controls",
            "_view_module_version": "1.5.0",
            "_view_name": "HTMLView",
            "description": "",
            "description_tooltip": null,
            "layout": "IPY_MODEL_7b875d6ebe7b47348ad6ff613d42cc68",
            "placeholder": "​",
            "style": "IPY_MODEL_1fc5e05266a74c9e8aa116a1380d54ad",
            "value": " 476/476 [00:00&lt;00:00, 8109.94 examples/s]"
          }
        },
        "4b36c8dedd84434d96280d9b0094e263": {
          "model_module": "@jupyter-widgets/base",
          "model_name": "LayoutModel",
          "model_module_version": "1.2.0",
          "state": {
            "_model_module": "@jupyter-widgets/base",
            "_model_module_version": "1.2.0",
            "_model_name": "LayoutModel",
            "_view_count": null,
            "_view_module": "@jupyter-widgets/base",
            "_view_module_version": "1.2.0",
            "_view_name": "LayoutView",
            "align_content": null,
            "align_items": null,
            "align_self": null,
            "border": null,
            "bottom": null,
            "display": null,
            "flex": null,
            "flex_flow": null,
            "grid_area": null,
            "grid_auto_columns": null,
            "grid_auto_flow": null,
            "grid_auto_rows": null,
            "grid_column": null,
            "grid_gap": null,
            "grid_row": null,
            "grid_template_areas": null,
            "grid_template_columns": null,
            "grid_template_rows": null,
            "height": null,
            "justify_content": null,
            "justify_items": null,
            "left": null,
            "margin": null,
            "max_height": null,
            "max_width": null,
            "min_height": null,
            "min_width": null,
            "object_fit": null,
            "object_position": null,
            "order": null,
            "overflow": null,
            "overflow_x": null,
            "overflow_y": null,
            "padding": null,
            "right": null,
            "top": null,
            "visibility": null,
            "width": null
          }
        },
        "dcb46e0584764bed8e05bafc8e2df140": {
          "model_module": "@jupyter-widgets/base",
          "model_name": "LayoutModel",
          "model_module_version": "1.2.0",
          "state": {
            "_model_module": "@jupyter-widgets/base",
            "_model_module_version": "1.2.0",
            "_model_name": "LayoutModel",
            "_view_count": null,
            "_view_module": "@jupyter-widgets/base",
            "_view_module_version": "1.2.0",
            "_view_name": "LayoutView",
            "align_content": null,
            "align_items": null,
            "align_self": null,
            "border": null,
            "bottom": null,
            "display": null,
            "flex": null,
            "flex_flow": null,
            "grid_area": null,
            "grid_auto_columns": null,
            "grid_auto_flow": null,
            "grid_auto_rows": null,
            "grid_column": null,
            "grid_gap": null,
            "grid_row": null,
            "grid_template_areas": null,
            "grid_template_columns": null,
            "grid_template_rows": null,
            "height": null,
            "justify_content": null,
            "justify_items": null,
            "left": null,
            "margin": null,
            "max_height": null,
            "max_width": null,
            "min_height": null,
            "min_width": null,
            "object_fit": null,
            "object_position": null,
            "order": null,
            "overflow": null,
            "overflow_x": null,
            "overflow_y": null,
            "padding": null,
            "right": null,
            "top": null,
            "visibility": null,
            "width": null
          }
        },
        "1e512961f10144bd9a3a97cf0188695f": {
          "model_module": "@jupyter-widgets/controls",
          "model_name": "DescriptionStyleModel",
          "model_module_version": "1.5.0",
          "state": {
            "_model_module": "@jupyter-widgets/controls",
            "_model_module_version": "1.5.0",
            "_model_name": "DescriptionStyleModel",
            "_view_count": null,
            "_view_module": "@jupyter-widgets/base",
            "_view_module_version": "1.2.0",
            "_view_name": "StyleView",
            "description_width": ""
          }
        },
        "20fb4ecb71a84dd2b2623a7e3a185768": {
          "model_module": "@jupyter-widgets/base",
          "model_name": "LayoutModel",
          "model_module_version": "1.2.0",
          "state": {
            "_model_module": "@jupyter-widgets/base",
            "_model_module_version": "1.2.0",
            "_model_name": "LayoutModel",
            "_view_count": null,
            "_view_module": "@jupyter-widgets/base",
            "_view_module_version": "1.2.0",
            "_view_name": "LayoutView",
            "align_content": null,
            "align_items": null,
            "align_self": null,
            "border": null,
            "bottom": null,
            "display": null,
            "flex": null,
            "flex_flow": null,
            "grid_area": null,
            "grid_auto_columns": null,
            "grid_auto_flow": null,
            "grid_auto_rows": null,
            "grid_column": null,
            "grid_gap": null,
            "grid_row": null,
            "grid_template_areas": null,
            "grid_template_columns": null,
            "grid_template_rows": null,
            "height": null,
            "justify_content": null,
            "justify_items": null,
            "left": null,
            "margin": null,
            "max_height": null,
            "max_width": null,
            "min_height": null,
            "min_width": null,
            "object_fit": null,
            "object_position": null,
            "order": null,
            "overflow": null,
            "overflow_x": null,
            "overflow_y": null,
            "padding": null,
            "right": null,
            "top": null,
            "visibility": null,
            "width": null
          }
        },
        "a9f3a4cebbe04a63aa06912d830c7745": {
          "model_module": "@jupyter-widgets/controls",
          "model_name": "ProgressStyleModel",
          "model_module_version": "1.5.0",
          "state": {
            "_model_module": "@jupyter-widgets/controls",
            "_model_module_version": "1.5.0",
            "_model_name": "ProgressStyleModel",
            "_view_count": null,
            "_view_module": "@jupyter-widgets/base",
            "_view_module_version": "1.2.0",
            "_view_name": "StyleView",
            "bar_color": null,
            "description_width": ""
          }
        },
        "7b875d6ebe7b47348ad6ff613d42cc68": {
          "model_module": "@jupyter-widgets/base",
          "model_name": "LayoutModel",
          "model_module_version": "1.2.0",
          "state": {
            "_model_module": "@jupyter-widgets/base",
            "_model_module_version": "1.2.0",
            "_model_name": "LayoutModel",
            "_view_count": null,
            "_view_module": "@jupyter-widgets/base",
            "_view_module_version": "1.2.0",
            "_view_name": "LayoutView",
            "align_content": null,
            "align_items": null,
            "align_self": null,
            "border": null,
            "bottom": null,
            "display": null,
            "flex": null,
            "flex_flow": null,
            "grid_area": null,
            "grid_auto_columns": null,
            "grid_auto_flow": null,
            "grid_auto_rows": null,
            "grid_column": null,
            "grid_gap": null,
            "grid_row": null,
            "grid_template_areas": null,
            "grid_template_columns": null,
            "grid_template_rows": null,
            "height": null,
            "justify_content": null,
            "justify_items": null,
            "left": null,
            "margin": null,
            "max_height": null,
            "max_width": null,
            "min_height": null,
            "min_width": null,
            "object_fit": null,
            "object_position": null,
            "order": null,
            "overflow": null,
            "overflow_x": null,
            "overflow_y": null,
            "padding": null,
            "right": null,
            "top": null,
            "visibility": null,
            "width": null
          }
        },
        "1fc5e05266a74c9e8aa116a1380d54ad": {
          "model_module": "@jupyter-widgets/controls",
          "model_name": "DescriptionStyleModel",
          "model_module_version": "1.5.0",
          "state": {
            "_model_module": "@jupyter-widgets/controls",
            "_model_module_version": "1.5.0",
            "_model_name": "DescriptionStyleModel",
            "_view_count": null,
            "_view_module": "@jupyter-widgets/base",
            "_view_module_version": "1.2.0",
            "_view_name": "StyleView",
            "description_width": ""
          }
        },
        "1166c81ccda64f8e9109fa52dd91f1bb": {
          "model_module": "@jupyter-widgets/controls",
          "model_name": "HBoxModel",
          "model_module_version": "1.5.0",
          "state": {
            "_dom_classes": [],
            "_model_module": "@jupyter-widgets/controls",
            "_model_module_version": "1.5.0",
            "_model_name": "HBoxModel",
            "_view_count": null,
            "_view_module": "@jupyter-widgets/controls",
            "_view_module_version": "1.5.0",
            "_view_name": "HBoxView",
            "box_style": "",
            "children": [
              "IPY_MODEL_7a0b60fd2bf746709405b5819182355c",
              "IPY_MODEL_a5b56185faf146e8a4f7c7f19845e257",
              "IPY_MODEL_7ad18df78cfe4c0bb6055e54a28022d4"
            ],
            "layout": "IPY_MODEL_144fca1a9a114b648c2077220cec28a5"
          }
        },
        "7a0b60fd2bf746709405b5819182355c": {
          "model_module": "@jupyter-widgets/controls",
          "model_name": "HTMLModel",
          "model_module_version": "1.5.0",
          "state": {
            "_dom_classes": [],
            "_model_module": "@jupyter-widgets/controls",
            "_model_module_version": "1.5.0",
            "_model_name": "HTMLModel",
            "_view_count": null,
            "_view_module": "@jupyter-widgets/controls",
            "_view_module_version": "1.5.0",
            "_view_name": "HTMLView",
            "description": "",
            "description_tooltip": null,
            "layout": "IPY_MODEL_fd3450eb43f6458b95dc1e75867d04fb",
            "placeholder": "​",
            "style": "IPY_MODEL_7e9c907dcd9747a880b7d126229e011d",
            "value": "tokenizer_config.json: 100%"
          }
        },
        "a5b56185faf146e8a4f7c7f19845e257": {
          "model_module": "@jupyter-widgets/controls",
          "model_name": "FloatProgressModel",
          "model_module_version": "1.5.0",
          "state": {
            "_dom_classes": [],
            "_model_module": "@jupyter-widgets/controls",
            "_model_module_version": "1.5.0",
            "_model_name": "FloatProgressModel",
            "_view_count": null,
            "_view_module": "@jupyter-widgets/controls",
            "_view_module_version": "1.5.0",
            "_view_name": "ProgressView",
            "bar_style": "success",
            "description": "",
            "description_tooltip": null,
            "layout": "IPY_MODEL_c7c969c3082d4fa5b751e2e31be3141d",
            "max": 180494,
            "min": 0,
            "orientation": "horizontal",
            "style": "IPY_MODEL_680581afd9234ac888ec02e4475e3571",
            "value": 180494
          }
        },
        "7ad18df78cfe4c0bb6055e54a28022d4": {
          "model_module": "@jupyter-widgets/controls",
          "model_name": "HTMLModel",
          "model_module_version": "1.5.0",
          "state": {
            "_dom_classes": [],
            "_model_module": "@jupyter-widgets/controls",
            "_model_module_version": "1.5.0",
            "_model_name": "HTMLModel",
            "_view_count": null,
            "_view_module": "@jupyter-widgets/controls",
            "_view_module_version": "1.5.0",
            "_view_name": "HTMLView",
            "description": "",
            "description_tooltip": null,
            "layout": "IPY_MODEL_484edfebbb0741b1b7918ad5248eff8a",
            "placeholder": "​",
            "style": "IPY_MODEL_43ada076d48746dfafe159b37e5154fe",
            "value": " 180k/180k [00:00&lt;00:00, 1.10MB/s]"
          }
        },
        "144fca1a9a114b648c2077220cec28a5": {
          "model_module": "@jupyter-widgets/base",
          "model_name": "LayoutModel",
          "model_module_version": "1.2.0",
          "state": {
            "_model_module": "@jupyter-widgets/base",
            "_model_module_version": "1.2.0",
            "_model_name": "LayoutModel",
            "_view_count": null,
            "_view_module": "@jupyter-widgets/base",
            "_view_module_version": "1.2.0",
            "_view_name": "LayoutView",
            "align_content": null,
            "align_items": null,
            "align_self": null,
            "border": null,
            "bottom": null,
            "display": null,
            "flex": null,
            "flex_flow": null,
            "grid_area": null,
            "grid_auto_columns": null,
            "grid_auto_flow": null,
            "grid_auto_rows": null,
            "grid_column": null,
            "grid_gap": null,
            "grid_row": null,
            "grid_template_areas": null,
            "grid_template_columns": null,
            "grid_template_rows": null,
            "height": null,
            "justify_content": null,
            "justify_items": null,
            "left": null,
            "margin": null,
            "max_height": null,
            "max_width": null,
            "min_height": null,
            "min_width": null,
            "object_fit": null,
            "object_position": null,
            "order": null,
            "overflow": null,
            "overflow_x": null,
            "overflow_y": null,
            "padding": null,
            "right": null,
            "top": null,
            "visibility": null,
            "width": null
          }
        },
        "fd3450eb43f6458b95dc1e75867d04fb": {
          "model_module": "@jupyter-widgets/base",
          "model_name": "LayoutModel",
          "model_module_version": "1.2.0",
          "state": {
            "_model_module": "@jupyter-widgets/base",
            "_model_module_version": "1.2.0",
            "_model_name": "LayoutModel",
            "_view_count": null,
            "_view_module": "@jupyter-widgets/base",
            "_view_module_version": "1.2.0",
            "_view_name": "LayoutView",
            "align_content": null,
            "align_items": null,
            "align_self": null,
            "border": null,
            "bottom": null,
            "display": null,
            "flex": null,
            "flex_flow": null,
            "grid_area": null,
            "grid_auto_columns": null,
            "grid_auto_flow": null,
            "grid_auto_rows": null,
            "grid_column": null,
            "grid_gap": null,
            "grid_row": null,
            "grid_template_areas": null,
            "grid_template_columns": null,
            "grid_template_rows": null,
            "height": null,
            "justify_content": null,
            "justify_items": null,
            "left": null,
            "margin": null,
            "max_height": null,
            "max_width": null,
            "min_height": null,
            "min_width": null,
            "object_fit": null,
            "object_position": null,
            "order": null,
            "overflow": null,
            "overflow_x": null,
            "overflow_y": null,
            "padding": null,
            "right": null,
            "top": null,
            "visibility": null,
            "width": null
          }
        },
        "7e9c907dcd9747a880b7d126229e011d": {
          "model_module": "@jupyter-widgets/controls",
          "model_name": "DescriptionStyleModel",
          "model_module_version": "1.5.0",
          "state": {
            "_model_module": "@jupyter-widgets/controls",
            "_model_module_version": "1.5.0",
            "_model_name": "DescriptionStyleModel",
            "_view_count": null,
            "_view_module": "@jupyter-widgets/base",
            "_view_module_version": "1.2.0",
            "_view_name": "StyleView",
            "description_width": ""
          }
        },
        "c7c969c3082d4fa5b751e2e31be3141d": {
          "model_module": "@jupyter-widgets/base",
          "model_name": "LayoutModel",
          "model_module_version": "1.2.0",
          "state": {
            "_model_module": "@jupyter-widgets/base",
            "_model_module_version": "1.2.0",
            "_model_name": "LayoutModel",
            "_view_count": null,
            "_view_module": "@jupyter-widgets/base",
            "_view_module_version": "1.2.0",
            "_view_name": "LayoutView",
            "align_content": null,
            "align_items": null,
            "align_self": null,
            "border": null,
            "bottom": null,
            "display": null,
            "flex": null,
            "flex_flow": null,
            "grid_area": null,
            "grid_auto_columns": null,
            "grid_auto_flow": null,
            "grid_auto_rows": null,
            "grid_column": null,
            "grid_gap": null,
            "grid_row": null,
            "grid_template_areas": null,
            "grid_template_columns": null,
            "grid_template_rows": null,
            "height": null,
            "justify_content": null,
            "justify_items": null,
            "left": null,
            "margin": null,
            "max_height": null,
            "max_width": null,
            "min_height": null,
            "min_width": null,
            "object_fit": null,
            "object_position": null,
            "order": null,
            "overflow": null,
            "overflow_x": null,
            "overflow_y": null,
            "padding": null,
            "right": null,
            "top": null,
            "visibility": null,
            "width": null
          }
        },
        "680581afd9234ac888ec02e4475e3571": {
          "model_module": "@jupyter-widgets/controls",
          "model_name": "ProgressStyleModel",
          "model_module_version": "1.5.0",
          "state": {
            "_model_module": "@jupyter-widgets/controls",
            "_model_module_version": "1.5.0",
            "_model_name": "ProgressStyleModel",
            "_view_count": null,
            "_view_module": "@jupyter-widgets/base",
            "_view_module_version": "1.2.0",
            "_view_name": "StyleView",
            "bar_color": null,
            "description_width": ""
          }
        },
        "484edfebbb0741b1b7918ad5248eff8a": {
          "model_module": "@jupyter-widgets/base",
          "model_name": "LayoutModel",
          "model_module_version": "1.2.0",
          "state": {
            "_model_module": "@jupyter-widgets/base",
            "_model_module_version": "1.2.0",
            "_model_name": "LayoutModel",
            "_view_count": null,
            "_view_module": "@jupyter-widgets/base",
            "_view_module_version": "1.2.0",
            "_view_name": "LayoutView",
            "align_content": null,
            "align_items": null,
            "align_self": null,
            "border": null,
            "bottom": null,
            "display": null,
            "flex": null,
            "flex_flow": null,
            "grid_area": null,
            "grid_auto_columns": null,
            "grid_auto_flow": null,
            "grid_auto_rows": null,
            "grid_column": null,
            "grid_gap": null,
            "grid_row": null,
            "grid_template_areas": null,
            "grid_template_columns": null,
            "grid_template_rows": null,
            "height": null,
            "justify_content": null,
            "justify_items": null,
            "left": null,
            "margin": null,
            "max_height": null,
            "max_width": null,
            "min_height": null,
            "min_width": null,
            "object_fit": null,
            "object_position": null,
            "order": null,
            "overflow": null,
            "overflow_x": null,
            "overflow_y": null,
            "padding": null,
            "right": null,
            "top": null,
            "visibility": null,
            "width": null
          }
        },
        "43ada076d48746dfafe159b37e5154fe": {
          "model_module": "@jupyter-widgets/controls",
          "model_name": "DescriptionStyleModel",
          "model_module_version": "1.5.0",
          "state": {
            "_model_module": "@jupyter-widgets/controls",
            "_model_module_version": "1.5.0",
            "_model_name": "DescriptionStyleModel",
            "_view_count": null,
            "_view_module": "@jupyter-widgets/base",
            "_view_module_version": "1.2.0",
            "_view_name": "StyleView",
            "description_width": ""
          }
        },
        "08f9108d2c5a4d3592247a98bba795f2": {
          "model_module": "@jupyter-widgets/controls",
          "model_name": "HBoxModel",
          "model_module_version": "1.5.0",
          "state": {
            "_dom_classes": [],
            "_model_module": "@jupyter-widgets/controls",
            "_model_module_version": "1.5.0",
            "_model_name": "HBoxModel",
            "_view_count": null,
            "_view_module": "@jupyter-widgets/controls",
            "_view_module_version": "1.5.0",
            "_view_name": "HBoxView",
            "box_style": "",
            "children": [
              "IPY_MODEL_aa391d0b7df44887b823d1daa9429ef4",
              "IPY_MODEL_609319ad2cb14169a030d209261a868c",
              "IPY_MODEL_6a6724510ca8427ab64ed837c4a4b8f2"
            ],
            "layout": "IPY_MODEL_4faf51885e5d444abebcb8826a9a232f"
          }
        },
        "aa391d0b7df44887b823d1daa9429ef4": {
          "model_module": "@jupyter-widgets/controls",
          "model_name": "HTMLModel",
          "model_module_version": "1.5.0",
          "state": {
            "_dom_classes": [],
            "_model_module": "@jupyter-widgets/controls",
            "_model_module_version": "1.5.0",
            "_model_name": "HTMLModel",
            "_view_count": null,
            "_view_module": "@jupyter-widgets/controls",
            "_view_module_version": "1.5.0",
            "_view_name": "HTMLView",
            "description": "",
            "description_tooltip": null,
            "layout": "IPY_MODEL_269da6cbf27148f392b8e481225d068b",
            "placeholder": "​",
            "style": "IPY_MODEL_77fc28a1a4ce420dbbc7d6d2e887e97c",
            "value": "tokenizer.json: 100%"
          }
        },
        "609319ad2cb14169a030d209261a868c": {
          "model_module": "@jupyter-widgets/controls",
          "model_name": "FloatProgressModel",
          "model_module_version": "1.5.0",
          "state": {
            "_dom_classes": [],
            "_model_module": "@jupyter-widgets/controls",
            "_model_module_version": "1.5.0",
            "_model_name": "FloatProgressModel",
            "_view_count": null,
            "_view_module": "@jupyter-widgets/controls",
            "_view_module_version": "1.5.0",
            "_view_name": "ProgressView",
            "bar_style": "success",
            "description": "",
            "description_tooltip": null,
            "layout": "IPY_MODEL_eac9b0f8a9ff4603a7987a78ba42cae0",
            "max": 18143149,
            "min": 0,
            "orientation": "horizontal",
            "style": "IPY_MODEL_49ffc12e973f4371a6e7265e5f8b3409",
            "value": 18143149
          }
        },
        "6a6724510ca8427ab64ed837c4a4b8f2": {
          "model_module": "@jupyter-widgets/controls",
          "model_name": "HTMLModel",
          "model_module_version": "1.5.0",
          "state": {
            "_dom_classes": [],
            "_model_module": "@jupyter-widgets/controls",
            "_model_module_version": "1.5.0",
            "_model_name": "HTMLModel",
            "_view_count": null,
            "_view_module": "@jupyter-widgets/controls",
            "_view_module_version": "1.5.0",
            "_view_name": "HTMLView",
            "description": "",
            "description_tooltip": null,
            "layout": "IPY_MODEL_95c36efa45f949da9de57ece531d1f6d",
            "placeholder": "​",
            "style": "IPY_MODEL_19e0bdd0fef04dd0b02b80e65a09073a",
            "value": " 18.1M/18.1M [00:00&lt;00:00, 41.9MB/s]"
          }
        },
        "4faf51885e5d444abebcb8826a9a232f": {
          "model_module": "@jupyter-widgets/base",
          "model_name": "LayoutModel",
          "model_module_version": "1.2.0",
          "state": {
            "_model_module": "@jupyter-widgets/base",
            "_model_module_version": "1.2.0",
            "_model_name": "LayoutModel",
            "_view_count": null,
            "_view_module": "@jupyter-widgets/base",
            "_view_module_version": "1.2.0",
            "_view_name": "LayoutView",
            "align_content": null,
            "align_items": null,
            "align_self": null,
            "border": null,
            "bottom": null,
            "display": null,
            "flex": null,
            "flex_flow": null,
            "grid_area": null,
            "grid_auto_columns": null,
            "grid_auto_flow": null,
            "grid_auto_rows": null,
            "grid_column": null,
            "grid_gap": null,
            "grid_row": null,
            "grid_template_areas": null,
            "grid_template_columns": null,
            "grid_template_rows": null,
            "height": null,
            "justify_content": null,
            "justify_items": null,
            "left": null,
            "margin": null,
            "max_height": null,
            "max_width": null,
            "min_height": null,
            "min_width": null,
            "object_fit": null,
            "object_position": null,
            "order": null,
            "overflow": null,
            "overflow_x": null,
            "overflow_y": null,
            "padding": null,
            "right": null,
            "top": null,
            "visibility": null,
            "width": null
          }
        },
        "269da6cbf27148f392b8e481225d068b": {
          "model_module": "@jupyter-widgets/base",
          "model_name": "LayoutModel",
          "model_module_version": "1.2.0",
          "state": {
            "_model_module": "@jupyter-widgets/base",
            "_model_module_version": "1.2.0",
            "_model_name": "LayoutModel",
            "_view_count": null,
            "_view_module": "@jupyter-widgets/base",
            "_view_module_version": "1.2.0",
            "_view_name": "LayoutView",
            "align_content": null,
            "align_items": null,
            "align_self": null,
            "border": null,
            "bottom": null,
            "display": null,
            "flex": null,
            "flex_flow": null,
            "grid_area": null,
            "grid_auto_columns": null,
            "grid_auto_flow": null,
            "grid_auto_rows": null,
            "grid_column": null,
            "grid_gap": null,
            "grid_row": null,
            "grid_template_areas": null,
            "grid_template_columns": null,
            "grid_template_rows": null,
            "height": null,
            "justify_content": null,
            "justify_items": null,
            "left": null,
            "margin": null,
            "max_height": null,
            "max_width": null,
            "min_height": null,
            "min_width": null,
            "object_fit": null,
            "object_position": null,
            "order": null,
            "overflow": null,
            "overflow_x": null,
            "overflow_y": null,
            "padding": null,
            "right": null,
            "top": null,
            "visibility": null,
            "width": null
          }
        },
        "77fc28a1a4ce420dbbc7d6d2e887e97c": {
          "model_module": "@jupyter-widgets/controls",
          "model_name": "DescriptionStyleModel",
          "model_module_version": "1.5.0",
          "state": {
            "_model_module": "@jupyter-widgets/controls",
            "_model_module_version": "1.5.0",
            "_model_name": "DescriptionStyleModel",
            "_view_count": null,
            "_view_module": "@jupyter-widgets/base",
            "_view_module_version": "1.2.0",
            "_view_name": "StyleView",
            "description_width": ""
          }
        },
        "eac9b0f8a9ff4603a7987a78ba42cae0": {
          "model_module": "@jupyter-widgets/base",
          "model_name": "LayoutModel",
          "model_module_version": "1.2.0",
          "state": {
            "_model_module": "@jupyter-widgets/base",
            "_model_module_version": "1.2.0",
            "_model_name": "LayoutModel",
            "_view_count": null,
            "_view_module": "@jupyter-widgets/base",
            "_view_module_version": "1.2.0",
            "_view_name": "LayoutView",
            "align_content": null,
            "align_items": null,
            "align_self": null,
            "border": null,
            "bottom": null,
            "display": null,
            "flex": null,
            "flex_flow": null,
            "grid_area": null,
            "grid_auto_columns": null,
            "grid_auto_flow": null,
            "grid_auto_rows": null,
            "grid_column": null,
            "grid_gap": null,
            "grid_row": null,
            "grid_template_areas": null,
            "grid_template_columns": null,
            "grid_template_rows": null,
            "height": null,
            "justify_content": null,
            "justify_items": null,
            "left": null,
            "margin": null,
            "max_height": null,
            "max_width": null,
            "min_height": null,
            "min_width": null,
            "object_fit": null,
            "object_position": null,
            "order": null,
            "overflow": null,
            "overflow_x": null,
            "overflow_y": null,
            "padding": null,
            "right": null,
            "top": null,
            "visibility": null,
            "width": null
          }
        },
        "49ffc12e973f4371a6e7265e5f8b3409": {
          "model_module": "@jupyter-widgets/controls",
          "model_name": "ProgressStyleModel",
          "model_module_version": "1.5.0",
          "state": {
            "_model_module": "@jupyter-widgets/controls",
            "_model_module_version": "1.5.0",
            "_model_name": "ProgressStyleModel",
            "_view_count": null,
            "_view_module": "@jupyter-widgets/base",
            "_view_module_version": "1.2.0",
            "_view_name": "StyleView",
            "bar_color": null,
            "description_width": ""
          }
        },
        "95c36efa45f949da9de57ece531d1f6d": {
          "model_module": "@jupyter-widgets/base",
          "model_name": "LayoutModel",
          "model_module_version": "1.2.0",
          "state": {
            "_model_module": "@jupyter-widgets/base",
            "_model_module_version": "1.2.0",
            "_model_name": "LayoutModel",
            "_view_count": null,
            "_view_module": "@jupyter-widgets/base",
            "_view_module_version": "1.2.0",
            "_view_name": "LayoutView",
            "align_content": null,
            "align_items": null,
            "align_self": null,
            "border": null,
            "bottom": null,
            "display": null,
            "flex": null,
            "flex_flow": null,
            "grid_area": null,
            "grid_auto_columns": null,
            "grid_auto_flow": null,
            "grid_auto_rows": null,
            "grid_column": null,
            "grid_gap": null,
            "grid_row": null,
            "grid_template_areas": null,
            "grid_template_columns": null,
            "grid_template_rows": null,
            "height": null,
            "justify_content": null,
            "justify_items": null,
            "left": null,
            "margin": null,
            "max_height": null,
            "max_width": null,
            "min_height": null,
            "min_width": null,
            "object_fit": null,
            "object_position": null,
            "order": null,
            "overflow": null,
            "overflow_x": null,
            "overflow_y": null,
            "padding": null,
            "right": null,
            "top": null,
            "visibility": null,
            "width": null
          }
        },
        "19e0bdd0fef04dd0b02b80e65a09073a": {
          "model_module": "@jupyter-widgets/controls",
          "model_name": "DescriptionStyleModel",
          "model_module_version": "1.5.0",
          "state": {
            "_model_module": "@jupyter-widgets/controls",
            "_model_module_version": "1.5.0",
            "_model_name": "DescriptionStyleModel",
            "_view_count": null,
            "_view_module": "@jupyter-widgets/base",
            "_view_module_version": "1.2.0",
            "_view_name": "StyleView",
            "description_width": ""
          }
        },
        "5b465df73d5d44a3b5d90db4b79e50c9": {
          "model_module": "@jupyter-widgets/controls",
          "model_name": "HBoxModel",
          "model_module_version": "1.5.0",
          "state": {
            "_dom_classes": [],
            "_model_module": "@jupyter-widgets/controls",
            "_model_module_version": "1.5.0",
            "_model_name": "HBoxModel",
            "_view_count": null,
            "_view_module": "@jupyter-widgets/controls",
            "_view_module_version": "1.5.0",
            "_view_name": "HBoxView",
            "box_style": "",
            "children": [
              "IPY_MODEL_544482f995794ec0884eaba0a9dc2f71",
              "IPY_MODEL_6679de455db641bc83890cbf31489fc9",
              "IPY_MODEL_47efe95455df40e4a992989dbbef68e2"
            ],
            "layout": "IPY_MODEL_6d93d6a53fd547a7880faa2578325723"
          }
        },
        "544482f995794ec0884eaba0a9dc2f71": {
          "model_module": "@jupyter-widgets/controls",
          "model_name": "HTMLModel",
          "model_module_version": "1.5.0",
          "state": {
            "_dom_classes": [],
            "_model_module": "@jupyter-widgets/controls",
            "_model_module_version": "1.5.0",
            "_model_name": "HTMLModel",
            "_view_count": null,
            "_view_module": "@jupyter-widgets/controls",
            "_view_module_version": "1.5.0",
            "_view_name": "HTMLView",
            "description": "",
            "description_tooltip": null,
            "layout": "IPY_MODEL_bad1ecac0c774adf9c1f0af0f38c4b9f",
            "placeholder": "​",
            "style": "IPY_MODEL_428bfe9ee4574b3d9f057dead65abf53",
            "value": "special_tokens_map.json: 100%"
          }
        },
        "6679de455db641bc83890cbf31489fc9": {
          "model_module": "@jupyter-widgets/controls",
          "model_name": "FloatProgressModel",
          "model_module_version": "1.5.0",
          "state": {
            "_dom_classes": [],
            "_model_module": "@jupyter-widgets/controls",
            "_model_module_version": "1.5.0",
            "_model_name": "FloatProgressModel",
            "_view_count": null,
            "_view_module": "@jupyter-widgets/controls",
            "_view_module_version": "1.5.0",
            "_view_name": "ProgressView",
            "bar_style": "success",
            "description": "",
            "description_tooltip": null,
            "layout": "IPY_MODEL_6b51d321f88f49ed935f03e59cc6957f",
            "max": 48,
            "min": 0,
            "orientation": "horizontal",
            "style": "IPY_MODEL_f88f096dd3ec41088751abd5230b2532",
            "value": 48
          }
        },
        "47efe95455df40e4a992989dbbef68e2": {
          "model_module": "@jupyter-widgets/controls",
          "model_name": "HTMLModel",
          "model_module_version": "1.5.0",
          "state": {
            "_dom_classes": [],
            "_model_module": "@jupyter-widgets/controls",
            "_model_module_version": "1.5.0",
            "_model_name": "HTMLModel",
            "_view_count": null,
            "_view_module": "@jupyter-widgets/controls",
            "_view_module_version": "1.5.0",
            "_view_name": "HTMLView",
            "description": "",
            "description_tooltip": null,
            "layout": "IPY_MODEL_7b4c4ef7eb824a53be7f1f7ad5272908",
            "placeholder": "​",
            "style": "IPY_MODEL_0db5da70e14f4449a32f06fa1e3cd16e",
            "value": " 48.0/48.0 [00:00&lt;00:00, 3.95kB/s]"
          }
        },
        "6d93d6a53fd547a7880faa2578325723": {
          "model_module": "@jupyter-widgets/base",
          "model_name": "LayoutModel",
          "model_module_version": "1.2.0",
          "state": {
            "_model_module": "@jupyter-widgets/base",
            "_model_module_version": "1.2.0",
            "_model_name": "LayoutModel",
            "_view_count": null,
            "_view_module": "@jupyter-widgets/base",
            "_view_module_version": "1.2.0",
            "_view_name": "LayoutView",
            "align_content": null,
            "align_items": null,
            "align_self": null,
            "border": null,
            "bottom": null,
            "display": null,
            "flex": null,
            "flex_flow": null,
            "grid_area": null,
            "grid_auto_columns": null,
            "grid_auto_flow": null,
            "grid_auto_rows": null,
            "grid_column": null,
            "grid_gap": null,
            "grid_row": null,
            "grid_template_areas": null,
            "grid_template_columns": null,
            "grid_template_rows": null,
            "height": null,
            "justify_content": null,
            "justify_items": null,
            "left": null,
            "margin": null,
            "max_height": null,
            "max_width": null,
            "min_height": null,
            "min_width": null,
            "object_fit": null,
            "object_position": null,
            "order": null,
            "overflow": null,
            "overflow_x": null,
            "overflow_y": null,
            "padding": null,
            "right": null,
            "top": null,
            "visibility": null,
            "width": null
          }
        },
        "bad1ecac0c774adf9c1f0af0f38c4b9f": {
          "model_module": "@jupyter-widgets/base",
          "model_name": "LayoutModel",
          "model_module_version": "1.2.0",
          "state": {
            "_model_module": "@jupyter-widgets/base",
            "_model_module_version": "1.2.0",
            "_model_name": "LayoutModel",
            "_view_count": null,
            "_view_module": "@jupyter-widgets/base",
            "_view_module_version": "1.2.0",
            "_view_name": "LayoutView",
            "align_content": null,
            "align_items": null,
            "align_self": null,
            "border": null,
            "bottom": null,
            "display": null,
            "flex": null,
            "flex_flow": null,
            "grid_area": null,
            "grid_auto_columns": null,
            "grid_auto_flow": null,
            "grid_auto_rows": null,
            "grid_column": null,
            "grid_gap": null,
            "grid_row": null,
            "grid_template_areas": null,
            "grid_template_columns": null,
            "grid_template_rows": null,
            "height": null,
            "justify_content": null,
            "justify_items": null,
            "left": null,
            "margin": null,
            "max_height": null,
            "max_width": null,
            "min_height": null,
            "min_width": null,
            "object_fit": null,
            "object_position": null,
            "order": null,
            "overflow": null,
            "overflow_x": null,
            "overflow_y": null,
            "padding": null,
            "right": null,
            "top": null,
            "visibility": null,
            "width": null
          }
        },
        "428bfe9ee4574b3d9f057dead65abf53": {
          "model_module": "@jupyter-widgets/controls",
          "model_name": "DescriptionStyleModel",
          "model_module_version": "1.5.0",
          "state": {
            "_model_module": "@jupyter-widgets/controls",
            "_model_module_version": "1.5.0",
            "_model_name": "DescriptionStyleModel",
            "_view_count": null,
            "_view_module": "@jupyter-widgets/base",
            "_view_module_version": "1.2.0",
            "_view_name": "StyleView",
            "description_width": ""
          }
        },
        "6b51d321f88f49ed935f03e59cc6957f": {
          "model_module": "@jupyter-widgets/base",
          "model_name": "LayoutModel",
          "model_module_version": "1.2.0",
          "state": {
            "_model_module": "@jupyter-widgets/base",
            "_model_module_version": "1.2.0",
            "_model_name": "LayoutModel",
            "_view_count": null,
            "_view_module": "@jupyter-widgets/base",
            "_view_module_version": "1.2.0",
            "_view_name": "LayoutView",
            "align_content": null,
            "align_items": null,
            "align_self": null,
            "border": null,
            "bottom": null,
            "display": null,
            "flex": null,
            "flex_flow": null,
            "grid_area": null,
            "grid_auto_columns": null,
            "grid_auto_flow": null,
            "grid_auto_rows": null,
            "grid_column": null,
            "grid_gap": null,
            "grid_row": null,
            "grid_template_areas": null,
            "grid_template_columns": null,
            "grid_template_rows": null,
            "height": null,
            "justify_content": null,
            "justify_items": null,
            "left": null,
            "margin": null,
            "max_height": null,
            "max_width": null,
            "min_height": null,
            "min_width": null,
            "object_fit": null,
            "object_position": null,
            "order": null,
            "overflow": null,
            "overflow_x": null,
            "overflow_y": null,
            "padding": null,
            "right": null,
            "top": null,
            "visibility": null,
            "width": null
          }
        },
        "f88f096dd3ec41088751abd5230b2532": {
          "model_module": "@jupyter-widgets/controls",
          "model_name": "ProgressStyleModel",
          "model_module_version": "1.5.0",
          "state": {
            "_model_module": "@jupyter-widgets/controls",
            "_model_module_version": "1.5.0",
            "_model_name": "ProgressStyleModel",
            "_view_count": null,
            "_view_module": "@jupyter-widgets/base",
            "_view_module_version": "1.2.0",
            "_view_name": "StyleView",
            "bar_color": null,
            "description_width": ""
          }
        },
        "7b4c4ef7eb824a53be7f1f7ad5272908": {
          "model_module": "@jupyter-widgets/base",
          "model_name": "LayoutModel",
          "model_module_version": "1.2.0",
          "state": {
            "_model_module": "@jupyter-widgets/base",
            "_model_module_version": "1.2.0",
            "_model_name": "LayoutModel",
            "_view_count": null,
            "_view_module": "@jupyter-widgets/base",
            "_view_module_version": "1.2.0",
            "_view_name": "LayoutView",
            "align_content": null,
            "align_items": null,
            "align_self": null,
            "border": null,
            "bottom": null,
            "display": null,
            "flex": null,
            "flex_flow": null,
            "grid_area": null,
            "grid_auto_columns": null,
            "grid_auto_flow": null,
            "grid_auto_rows": null,
            "grid_column": null,
            "grid_gap": null,
            "grid_row": null,
            "grid_template_areas": null,
            "grid_template_columns": null,
            "grid_template_rows": null,
            "height": null,
            "justify_content": null,
            "justify_items": null,
            "left": null,
            "margin": null,
            "max_height": null,
            "max_width": null,
            "min_height": null,
            "min_width": null,
            "object_fit": null,
            "object_position": null,
            "order": null,
            "overflow": null,
            "overflow_x": null,
            "overflow_y": null,
            "padding": null,
            "right": null,
            "top": null,
            "visibility": null,
            "width": null
          }
        },
        "0db5da70e14f4449a32f06fa1e3cd16e": {
          "model_module": "@jupyter-widgets/controls",
          "model_name": "DescriptionStyleModel",
          "model_module_version": "1.5.0",
          "state": {
            "_model_module": "@jupyter-widgets/controls",
            "_model_module_version": "1.5.0",
            "_model_name": "DescriptionStyleModel",
            "_view_count": null,
            "_view_module": "@jupyter-widgets/base",
            "_view_module_version": "1.2.0",
            "_view_name": "StyleView",
            "description_width": ""
          }
        }
      }
    }
  },
  "cells": [
    {
      "cell_type": "code",
      "source": [
        "!pip install transformers datasets nltk rouge-score"
      ],
      "metadata": {
        "colab": {
          "base_uri": "https://localhost:8080/"
        },
        "id": "VxAlXI84lhaY",
        "outputId": "723541a3-2cfb-406a-94f8-479f0c437432"
      },
      "execution_count": 1,
      "outputs": [
        {
          "output_type": "stream",
          "name": "stdout",
          "text": [
            "Requirement already satisfied: transformers in /usr/local/lib/python3.10/dist-packages (4.44.2)\n",
            "Collecting datasets\n",
            "  Downloading datasets-3.1.0-py3-none-any.whl.metadata (20 kB)\n",
            "Requirement already satisfied: nltk in /usr/local/lib/python3.10/dist-packages (3.8.1)\n",
            "Collecting rouge-score\n",
            "  Downloading rouge_score-0.1.2.tar.gz (17 kB)\n",
            "  Preparing metadata (setup.py) ... \u001b[?25l\u001b[?25hdone\n",
            "Requirement already satisfied: filelock in /usr/local/lib/python3.10/dist-packages (from transformers) (3.16.1)\n",
            "Requirement already satisfied: huggingface-hub<1.0,>=0.23.2 in /usr/local/lib/python3.10/dist-packages (from transformers) (0.24.7)\n",
            "Requirement already satisfied: numpy>=1.17 in /usr/local/lib/python3.10/dist-packages (from transformers) (1.26.4)\n",
            "Requirement already satisfied: packaging>=20.0 in /usr/local/lib/python3.10/dist-packages (from transformers) (24.1)\n",
            "Requirement already satisfied: pyyaml>=5.1 in /usr/local/lib/python3.10/dist-packages (from transformers) (6.0.2)\n",
            "Requirement already satisfied: regex!=2019.12.17 in /usr/local/lib/python3.10/dist-packages (from transformers) (2024.9.11)\n",
            "Requirement already satisfied: requests in /usr/local/lib/python3.10/dist-packages (from transformers) (2.32.3)\n",
            "Requirement already satisfied: safetensors>=0.4.1 in /usr/local/lib/python3.10/dist-packages (from transformers) (0.4.5)\n",
            "Requirement already satisfied: tokenizers<0.20,>=0.19 in /usr/local/lib/python3.10/dist-packages (from transformers) (0.19.1)\n",
            "Requirement already satisfied: tqdm>=4.27 in /usr/local/lib/python3.10/dist-packages (from transformers) (4.66.6)\n",
            "Requirement already satisfied: pyarrow>=15.0.0 in /usr/local/lib/python3.10/dist-packages (from datasets) (17.0.0)\n",
            "Collecting dill<0.3.9,>=0.3.0 (from datasets)\n",
            "  Downloading dill-0.3.8-py3-none-any.whl.metadata (10 kB)\n",
            "Requirement already satisfied: pandas in /usr/local/lib/python3.10/dist-packages (from datasets) (2.2.2)\n",
            "Collecting xxhash (from datasets)\n",
            "  Downloading xxhash-3.5.0-cp310-cp310-manylinux_2_17_x86_64.manylinux2014_x86_64.whl.metadata (12 kB)\n",
            "Collecting multiprocess<0.70.17 (from datasets)\n",
            "  Downloading multiprocess-0.70.16-py310-none-any.whl.metadata (7.2 kB)\n",
            "Collecting fsspec<=2024.9.0,>=2023.1.0 (from fsspec[http]<=2024.9.0,>=2023.1.0->datasets)\n",
            "  Downloading fsspec-2024.9.0-py3-none-any.whl.metadata (11 kB)\n",
            "Requirement already satisfied: aiohttp in /usr/local/lib/python3.10/dist-packages (from datasets) (3.10.10)\n",
            "Requirement already satisfied: click in /usr/local/lib/python3.10/dist-packages (from nltk) (8.1.7)\n",
            "Requirement already satisfied: joblib in /usr/local/lib/python3.10/dist-packages (from nltk) (1.4.2)\n",
            "Requirement already satisfied: absl-py in /usr/local/lib/python3.10/dist-packages (from rouge-score) (1.4.0)\n",
            "Requirement already satisfied: six>=1.14.0 in /usr/local/lib/python3.10/dist-packages (from rouge-score) (1.16.0)\n",
            "Requirement already satisfied: aiohappyeyeballs>=2.3.0 in /usr/local/lib/python3.10/dist-packages (from aiohttp->datasets) (2.4.3)\n",
            "Requirement already satisfied: aiosignal>=1.1.2 in /usr/local/lib/python3.10/dist-packages (from aiohttp->datasets) (1.3.1)\n",
            "Requirement already satisfied: attrs>=17.3.0 in /usr/local/lib/python3.10/dist-packages (from aiohttp->datasets) (24.2.0)\n",
            "Requirement already satisfied: frozenlist>=1.1.1 in /usr/local/lib/python3.10/dist-packages (from aiohttp->datasets) (1.5.0)\n",
            "Requirement already satisfied: multidict<7.0,>=4.5 in /usr/local/lib/python3.10/dist-packages (from aiohttp->datasets) (6.1.0)\n",
            "Requirement already satisfied: yarl<2.0,>=1.12.0 in /usr/local/lib/python3.10/dist-packages (from aiohttp->datasets) (1.17.0)\n",
            "Requirement already satisfied: async-timeout<5.0,>=4.0 in /usr/local/lib/python3.10/dist-packages (from aiohttp->datasets) (4.0.3)\n",
            "Requirement already satisfied: typing-extensions>=3.7.4.3 in /usr/local/lib/python3.10/dist-packages (from huggingface-hub<1.0,>=0.23.2->transformers) (4.12.2)\n",
            "Requirement already satisfied: charset-normalizer<4,>=2 in /usr/local/lib/python3.10/dist-packages (from requests->transformers) (3.4.0)\n",
            "Requirement already satisfied: idna<4,>=2.5 in /usr/local/lib/python3.10/dist-packages (from requests->transformers) (3.10)\n",
            "Requirement already satisfied: urllib3<3,>=1.21.1 in /usr/local/lib/python3.10/dist-packages (from requests->transformers) (2.2.3)\n",
            "Requirement already satisfied: certifi>=2017.4.17 in /usr/local/lib/python3.10/dist-packages (from requests->transformers) (2024.8.30)\n",
            "Requirement already satisfied: python-dateutil>=2.8.2 in /usr/local/lib/python3.10/dist-packages (from pandas->datasets) (2.8.2)\n",
            "Requirement already satisfied: pytz>=2020.1 in /usr/local/lib/python3.10/dist-packages (from pandas->datasets) (2024.2)\n",
            "Requirement already satisfied: tzdata>=2022.7 in /usr/local/lib/python3.10/dist-packages (from pandas->datasets) (2024.2)\n",
            "Requirement already satisfied: propcache>=0.2.0 in /usr/local/lib/python3.10/dist-packages (from yarl<2.0,>=1.12.0->aiohttp->datasets) (0.2.0)\n",
            "Downloading datasets-3.1.0-py3-none-any.whl (480 kB)\n",
            "\u001b[2K   \u001b[90m━━━━━━━━━━━━━━━━━━━━━━━━━━━━━━━━━━━━━━━━\u001b[0m \u001b[32m480.6/480.6 kB\u001b[0m \u001b[31m18.6 MB/s\u001b[0m eta \u001b[36m0:00:00\u001b[0m\n",
            "\u001b[?25hDownloading dill-0.3.8-py3-none-any.whl (116 kB)\n",
            "\u001b[2K   \u001b[90m━━━━━━━━━━━━━━━━━━━━━━━━━━━━━━━━━━━━━━━━\u001b[0m \u001b[32m116.3/116.3 kB\u001b[0m \u001b[31m8.6 MB/s\u001b[0m eta \u001b[36m0:00:00\u001b[0m\n",
            "\u001b[?25hDownloading fsspec-2024.9.0-py3-none-any.whl (179 kB)\n",
            "\u001b[2K   \u001b[90m━━━━━━━━━━━━━━━━━━━━━━━━━━━━━━━━━━━━━━━━\u001b[0m \u001b[32m179.3/179.3 kB\u001b[0m \u001b[31m14.4 MB/s\u001b[0m eta \u001b[36m0:00:00\u001b[0m\n",
            "\u001b[?25hDownloading multiprocess-0.70.16-py310-none-any.whl (134 kB)\n",
            "\u001b[2K   \u001b[90m━━━━━━━━━━━━━━━━━━━━━━━━━━━━━━━━━━━━━━━━\u001b[0m \u001b[32m134.8/134.8 kB\u001b[0m \u001b[31m11.4 MB/s\u001b[0m eta \u001b[36m0:00:00\u001b[0m\n",
            "\u001b[?25hDownloading xxhash-3.5.0-cp310-cp310-manylinux_2_17_x86_64.manylinux2014_x86_64.whl (194 kB)\n",
            "\u001b[2K   \u001b[90m━━━━━━━━━━━━━━━━━━━━━━━━━━━━━━━━━━━━━━━━\u001b[0m \u001b[32m194.1/194.1 kB\u001b[0m \u001b[31m16.1 MB/s\u001b[0m eta \u001b[36m0:00:00\u001b[0m\n",
            "\u001b[?25hBuilding wheels for collected packages: rouge-score\n",
            "  Building wheel for rouge-score (setup.py) ... \u001b[?25l\u001b[?25hdone\n",
            "  Created wheel for rouge-score: filename=rouge_score-0.1.2-py3-none-any.whl size=24935 sha256=b86aad7d2bb714c3631eefa7dbea9336c655a45396b508272ed87c6df41c6a06\n",
            "  Stored in directory: /root/.cache/pip/wheels/5f/dd/89/461065a73be61a532ff8599a28e9beef17985c9e9c31e541b4\n",
            "Successfully built rouge-score\n",
            "Installing collected packages: xxhash, fsspec, dill, rouge-score, multiprocess, datasets\n",
            "  Attempting uninstall: fsspec\n",
            "    Found existing installation: fsspec 2024.10.0\n",
            "    Uninstalling fsspec-2024.10.0:\n",
            "      Successfully uninstalled fsspec-2024.10.0\n",
            "\u001b[31mERROR: pip's dependency resolver does not currently take into account all the packages that are installed. This behaviour is the source of the following dependency conflicts.\n",
            "gcsfs 2024.10.0 requires fsspec==2024.10.0, but you have fsspec 2024.9.0 which is incompatible.\u001b[0m\u001b[31m\n",
            "\u001b[0mSuccessfully installed datasets-3.1.0 dill-0.3.8 fsspec-2024.9.0 multiprocess-0.70.16 rouge-score-0.1.2 xxhash-3.5.0\n"
          ]
        }
      ]
    },
    {
      "cell_type": "code",
      "source": [
        "!huggingface-cli login"
      ],
      "metadata": {
        "colab": {
          "base_uri": "https://localhost:8080/"
        },
        "id": "vCdw9RPemE4m",
        "outputId": "ea4f1a1c-45da-445a-ac41-74b2b7f1a9a4"
      },
      "execution_count": 2,
      "outputs": [
        {
          "output_type": "stream",
          "name": "stdout",
          "text": [
            "\n",
            "    _|    _|  _|    _|    _|_|_|    _|_|_|  _|_|_|  _|      _|    _|_|_|      _|_|_|_|    _|_|      _|_|_|  _|_|_|_|\n",
            "    _|    _|  _|    _|  _|        _|          _|    _|_|    _|  _|            _|        _|    _|  _|        _|\n",
            "    _|_|_|_|  _|    _|  _|  _|_|  _|  _|_|    _|    _|  _|  _|  _|  _|_|      _|_|_|    _|_|_|_|  _|        _|_|_|\n",
            "    _|    _|  _|    _|  _|    _|  _|    _|    _|    _|    _|_|  _|    _|      _|        _|    _|  _|        _|\n",
            "    _|    _|    _|_|      _|_|_|    _|_|_|  _|_|_|  _|      _|    _|_|_|      _|        _|    _|    _|_|_|  _|_|_|_|\n",
            "\n",
            "    To login, `huggingface_hub` requires a token generated from https://huggingface.co/settings/tokens .\n",
            "Enter your token (input will not be visible): \n",
            "Add token as git credential? (Y/n) n\n",
            "Token is valid (permission: read).\n",
            "Your token has been saved to /root/.cache/huggingface/token\n",
            "Login successful\n"
          ]
        }
      ]
    },
    {
      "cell_type": "code",
      "source": [],
      "metadata": {
        "id": "_LIMHi7tmJaZ"
      },
      "execution_count": null,
      "outputs": []
    },
    {
      "cell_type": "code",
      "execution_count": 3,
      "metadata": {
        "colab": {
          "base_uri": "https://localhost:8080/",
          "height": 240,
          "referenced_widgets": [
            "40323399d6b645638e9a45f82df37fdc",
            "006e469bb4cd454c98d97c40d52a2a49",
            "b61151c5291941da83a50d1bfa6ea73e",
            "64601085214443b3b58db44f8ce5f769",
            "206335279a814f68abb5a9764b71bbdf",
            "f328b381a8554fe18a4e32b985446fed",
            "00966c4660ba4f729967f5f248c84069",
            "353a4826394b4b1fb09e54d5286023c8",
            "2102070e2642403badd3ce24be06eeb4",
            "b65434867f1a4d73b64875ccc8bc3d0d",
            "d090636652194866be5f5f4b9d473962",
            "8aea13bed24047e998f5269eb2709bcc",
            "6dc663fe8d70457792d905ca639b07d5",
            "ac8ab9ea2a0c4439b678c715a6d3981b",
            "60d8c9b2b20642a6aa197b8c938c5211",
            "11f58c3be522406b956378f7b9418519",
            "f0cecb544eaf4ead9b090b5b542345e6",
            "8fd7e7aff87640318bada1f8ed4ecddf",
            "c4b066e8a2bd4fc3ab6b42e1efb6ccae",
            "3ba34665e01b4268978aab7b56ab6c9b",
            "6376d215427845abaaf304412d30f1d4",
            "d5c35056c640497ebef112033cfb6aed",
            "e292cab154084b05b7b4468dde13d6aa",
            "f3e688cbcead4c85b023cf63db013ac2",
            "aacb5395263244ac9282475abc43f6de",
            "033010cf8450499eb359259331fdb491",
            "4b36c8dedd84434d96280d9b0094e263",
            "dcb46e0584764bed8e05bafc8e2df140",
            "1e512961f10144bd9a3a97cf0188695f",
            "20fb4ecb71a84dd2b2623a7e3a185768",
            "a9f3a4cebbe04a63aa06912d830c7745",
            "7b875d6ebe7b47348ad6ff613d42cc68",
            "1fc5e05266a74c9e8aa116a1380d54ad"
          ]
        },
        "id": "p-gAaUBhlLjs",
        "outputId": "a14323b5-b4d8-4b43-e819-8b5a84b8f206"
      },
      "outputs": [
        {
          "output_type": "stream",
          "name": "stderr",
          "text": [
            "/usr/local/lib/python3.10/dist-packages/huggingface_hub/utils/_token.py:89: UserWarning: \n",
            "The secret `HF_TOKEN` does not exist in your Colab secrets.\n",
            "To authenticate with the Hugging Face Hub, create a token in your settings tab (https://huggingface.co/settings/tokens), set it as secret in your Google Colab and restart your session.\n",
            "You will be able to reuse this secret in all of your notebooks.\n",
            "Please note that authentication is recommended but still optional to access public models or datasets.\n",
            "  warnings.warn(\n"
          ]
        },
        {
          "output_type": "display_data",
          "data": {
            "text/plain": [
              "README.md:   0%|          | 0.00/8.47k [00:00<?, ?B/s]"
            ],
            "application/vnd.jupyter.widget-view+json": {
              "version_major": 2,
              "version_minor": 0,
              "model_id": "40323399d6b645638e9a45f82df37fdc"
            }
          },
          "metadata": {}
        },
        {
          "output_type": "display_data",
          "data": {
            "text/plain": [
              "train-00000-of-00001.parquet:   0%|          | 0.00/288k [00:00<?, ?B/s]"
            ],
            "application/vnd.jupyter.widget-view+json": {
              "version_major": 2,
              "version_minor": 0,
              "model_id": "8aea13bed24047e998f5269eb2709bcc"
            }
          },
          "metadata": {}
        },
        {
          "output_type": "display_data",
          "data": {
            "text/plain": [
              "Generating train split:   0%|          | 0/476 [00:00<?, ? examples/s]"
            ],
            "application/vnd.jupyter.widget-view+json": {
              "version_major": 2,
              "version_minor": 0,
              "model_id": "e292cab154084b05b7b4468dde13d6aa"
            }
          },
          "metadata": {}
        }
      ],
      "source": [
        "from datasets import load_dataset\n",
        "from transformers import pipeline\n",
        "\n",
        "# Load the dataset\n",
        "ds = load_dataset(\"Shiyu-Lab/Wikipedia_Person_Unlearn\", \"forget_100\")\n",
        "\n",
        "# Initialize the LLaMA pipeline (ensure you have the model downloaded and set up with device=0 if using a GPU)\n",
        "# pipe = pipeline(\"text-generation\", model=\"meta-llama/Llama-3.2-3B-Instruct\", device=0)\n",
        "\n"
      ]
    },
    {
      "cell_type": "code",
      "source": [
        "import os\n",
        "from datasets import load_dataset\n",
        "from transformers import pipeline\n",
        "from nltk.translate.bleu_score import sentence_bleu, SmoothingFunction\n",
        "from rouge_score import rouge_scorer\n",
        "import csv\n",
        "import nltk\n",
        "import re\n",
        "\n",
        "nltk.download('punkt')\n",
        "\n",
        "MAX_NEW_TOKENS = 30\n",
        "TEMPERATURE = 0.3\n",
        "TOP_P = 0.9\n",
        "TOP_K = 0\n",
        "DO_SAMPLE = True\n",
        "REPETITION_PENALTY = 1.2\n",
        "\n",
        "rouge = rouge_scorer.RougeScorer(['rougeL'], use_stemmer=True)\n",
        "\n",
        "# Open a CSV file to store the outputs\n",
        "with open('generated_answers_3.csv', 'w', newline='', encoding='utf-8') as csvfile:\n",
        "    fieldnames = [\n",
        "        'Title',\n",
        "        'Question',\n",
        "        'Correct Answer',\n",
        "        'Generated Answer',\n",
        "        'BLEU Score',\n",
        "        'ROUGE-L Score',\n",
        "        'Exact Match',\n",
        "        'F1 Score'\n",
        "    ]\n",
        "    writer = csv.DictWriter(csvfile, fieldnames=fieldnames)\n",
        "    writer.writeheader()\n",
        "\n",
        "    # Process the dataset and generate answers\n",
        "    for item in ds['train']:\n",
        "        # Construct the modified prompt\n",
        "        prompt = (\n",
        "            \"Provide a short, direct answer to the following question without repeating the question or including extra information or text.\\n\"\n",
        "            f\"Question: {item['question']}\\nAnswer:\"\n",
        "        )\n",
        "        correct_answer = item['answer']\n",
        "\n",
        "        # Generate the answer with adjusted parameters\n",
        "        result = pipe(\n",
        "            prompt,\n",
        "            max_new_tokens=MAX_NEW_TOKENS,\n",
        "            temperature=TEMPERATURE,\n",
        "            top_p=TOP_P,\n",
        "            top_k=TOP_K,\n",
        "            repetition_penalty=REPETITION_PENALTY,\n",
        "            do_sample=DO_SAMPLE\n",
        "        )\n",
        "\n",
        "        # Extract the generated text\n",
        "        generated_text = result[0]['generated_text']\n",
        "\n",
        "        # Post-process to extract the answer\n",
        "        answer_start = generated_text.find('without any additional text:')\n",
        "        if answer_start != -1:\n",
        "            answer_text = generated_text[answer_start + len('without any additional text:'):].strip()\n",
        "            answer_text = answer_text.split('\\n')[0].split('.')[0].strip()\n",
        "        else:\n",
        "            answer_text = generated_text[len(prompt):].strip()\n",
        "            answer_text = answer_text.split('\\n')[0].split('.')[0].strip()\n",
        "\n",
        "        # Normalize the correct answer and the generated answer\n",
        "        def normalize_answer(s):\n",
        "            \"\"\"Lower text and remove punctuation, articles, and extra whitespace.\"\"\"\n",
        "            def remove_punctuation(text):\n",
        "                return re.sub(r'\\W+', ' ', text)\n",
        "\n",
        "            return remove_punctuation(s.lower()).strip()\n",
        "\n",
        "        reference_normalized = normalize_answer(correct_answer)\n",
        "        candidate_normalized = normalize_answer(answer_text)\n",
        "\n",
        "        # Tokenize normalized answers\n",
        "        reference_tokens = nltk.word_tokenize(reference_normalized)\n",
        "        candidate_tokens = nltk.word_tokenize(candidate_normalized)\n",
        "\n",
        "        # Compute BLEU Score with smoothing\n",
        "        smoothing_function = SmoothingFunction().method1\n",
        "        bleu_score = sentence_bleu(\n",
        "            [reference_tokens],\n",
        "            candidate_tokens,\n",
        "            smoothing_function=smoothing_function\n",
        "        )\n",
        "\n",
        "        # Compute ROUGE-L Score\n",
        "        rouge_scores = rouge.score(reference_normalized, candidate_normalized)\n",
        "        rouge_l_score = rouge_scores['rougeL'].fmeasure\n",
        "\n",
        "        # Compute Exact Match\n",
        "        exact_match = int(reference_normalized == candidate_normalized)\n",
        "\n",
        "        # Compute F1 Score\n",
        "        def f1_score(ref_tokens, cand_tokens):\n",
        "            common = set(ref_tokens) & set(cand_tokens)\n",
        "            num_same = len(common)\n",
        "\n",
        "            if num_same == 0:\n",
        "                return 0.0\n",
        "\n",
        "            precision = num_same / len(cand_tokens)\n",
        "            recall = num_same / len(ref_tokens)\n",
        "            f1 = 2 * precision * recall / (precision + recall)\n",
        "            return f1\n",
        "\n",
        "        f1 = f1_score(reference_tokens, candidate_tokens)\n",
        "\n",
        "        # Prepare the output dictionary\n",
        "        output = {\n",
        "            'Title': item['title'],\n",
        "            'Question': item['question'],\n",
        "            'Correct Answer': correct_answer,\n",
        "            'Generated Answer': answer_text,\n",
        "            'BLEU Score': f\"{bleu_score:.4f}\",\n",
        "            'ROUGE-L Score': f\"{rouge_l_score:.4f}\",\n",
        "            'Exact Match': exact_match,\n",
        "            'F1 Score': f\"{f1:.4f}\"\n",
        "        }\n",
        "\n",
        "        # Write the output to the CSV file\n",
        "        writer.writerow(output)\n",
        "\n",
        "        print(\n",
        "            f\"Title: {output['Title']}\\n\"\n",
        "            f\"Question: {output['Question']}\\n\"\n",
        "            f\"Correct Answer: {output['Correct Answer']}\\n\"\n",
        "            f\"Generated Answer: {output['Generated Answer']}\\n\"\n",
        "            f\"BLEU Score: {output['BLEU Score']}\\n\"\n",
        "            f\"ROUGE-L Score: {output['ROUGE-L Score']}\\n\"\n",
        "            f\"Exact Match: {output['Exact Match']}\\n\"\n",
        "            f\"F1 Score: {output['F1 Score']}\\n\"\n",
        "            \"\\n---\\n\"\n",
        "        )"
      ],
      "metadata": {
        "colab": {
          "base_uri": "https://localhost:8080/"
        },
        "id": "x9FIVdNfmbu5",
        "outputId": "78a0aa4f-6a9e-43cb-a904-a77a658e98bf"
      },
      "execution_count": 7,
      "outputs": [
        {
          "output_type": "stream",
          "name": "stderr",
          "text": [
            "[nltk_data] Downloading package punkt to /root/nltk_data...\n",
            "[nltk_data]   Package punkt is already up-to-date!\n",
            "Setting `pad_token_id` to `eos_token_id`:128001 for open-end generation.\n",
            "Setting `pad_token_id` to `eos_token_id`:128001 for open-end generation.\n"
          ]
        },
        {
          "output_type": "stream",
          "name": "stdout",
          "text": [
            "Title: Benedetto Varchi\n",
            "Question: What nationality was Benedetto Varchi?\n",
            "Correct Answer: Italian\n",
            "Generated Answer: Italian\n",
            "BLEU Score: 0.1778\n",
            "ROUGE-L Score: 1.0000\n",
            "Exact Match: 1\n",
            "F1 Score: 1.0000\n",
            "\n",
            "---\n",
            "\n"
          ]
        },
        {
          "output_type": "stream",
          "name": "stderr",
          "text": [
            "Setting `pad_token_id` to `eos_token_id`:128001 for open-end generation.\n"
          ]
        },
        {
          "output_type": "stream",
          "name": "stdout",
          "text": [
            "Title: Benedetto Varchi\n",
            "Question: What professions did Benedetto Varchi have?\n",
            "Correct Answer: Humanist, historian, poet\n",
            "Generated Answer: Poet and historian\n",
            "BLEU Score: 0.1351\n",
            "ROUGE-L Score: 0.3333\n",
            "Exact Match: 0\n",
            "F1 Score: 0.6667\n",
            "\n",
            "---\n",
            "\n"
          ]
        },
        {
          "output_type": "stream",
          "name": "stderr",
          "text": [
            "Setting `pad_token_id` to `eos_token_id`:128001 for open-end generation.\n"
          ]
        },
        {
          "output_type": "stream",
          "name": "stdout",
          "text": [
            "Title: Benedetto Varchi\n",
            "Question: Where was Benedetto Varchi born?\n",
            "Correct Answer: Florence\n",
            "Generated Answer: Florence\n",
            "BLEU Score: 0.1778\n",
            "ROUGE-L Score: 1.0000\n",
            "Exact Match: 1\n",
            "F1 Score: 1.0000\n",
            "\n",
            "---\n",
            "\n"
          ]
        },
        {
          "output_type": "stream",
          "name": "stderr",
          "text": [
            "Setting `pad_token_id` to `eos_token_id`:128001 for open-end generation.\n"
          ]
        },
        {
          "output_type": "stream",
          "name": "stdout",
          "text": [
            "Title: Benedetto Varchi\n",
            "Question: Who commissioned Benedetto Varchi to write a history of Florence?\n",
            "Correct Answer: Cosimo I\n",
            "Generated Answer: Cosimo I de' Medici\n",
            "BLEU Score: 0.1699\n",
            "ROUGE-L Score: 0.6667\n",
            "Exact Match: 0\n",
            "F1 Score: 0.6667\n",
            "\n",
            "---\n",
            "\n"
          ]
        },
        {
          "output_type": "stream",
          "name": "stderr",
          "text": [
            "Setting `pad_token_id` to `eos_token_id`:128001 for open-end generation.\n"
          ]
        },
        {
          "output_type": "stream",
          "name": "stdout",
          "text": [
            "Title: Benedetto Varchi\n",
            "Question: When was Varchi's Storia fiorentina first published in Florence?\n",
            "Correct Answer: 1721\n",
            "Generated Answer: 1555\n",
            "BLEU Score: 0.0000\n",
            "ROUGE-L Score: 0.0000\n",
            "Exact Match: 0\n",
            "F1 Score: 0.0000\n",
            "\n",
            "---\n",
            "\n"
          ]
        },
        {
          "output_type": "stream",
          "name": "stderr",
          "text": [
            "Setting `pad_token_id` to `eos_token_id`:128001 for open-end generation.\n"
          ]
        },
        {
          "output_type": "stream",
          "name": "stdout",
          "text": [
            "Title: Benedetto Varchi\n",
            "Question: Which work of Ezra Pound mentions Benedetto Varchi?\n",
            "Correct Answer: The Cantos\n",
            "Generated Answer: Pisan Cantos\n",
            "BLEU Score: 0.1495\n",
            "ROUGE-L Score: 0.5000\n",
            "Exact Match: 0\n",
            "F1 Score: 0.5000\n",
            "\n",
            "---\n",
            "\n"
          ]
        },
        {
          "output_type": "stream",
          "name": "stderr",
          "text": [
            "Setting `pad_token_id` to `eos_token_id`:128001 for open-end generation.\n"
          ]
        },
        {
          "output_type": "stream",
          "name": "stdout",
          "text": [
            "Title: Benedetto Varchi\n",
            "Question: What was the main topic of Benedetto Varchi's Storia fiorentina?\n",
            "Correct Answer: The history of Florence from 1527 to 1538\n",
            "Generated Answer: History\n",
            "BLEU Score: 0.0002\n",
            "ROUGE-L Score: 0.2222\n",
            "Exact Match: 0\n",
            "F1 Score: 0.2222\n",
            "\n",
            "---\n",
            "\n"
          ]
        },
        {
          "output_type": "stream",
          "name": "stderr",
          "text": [
            "Setting `pad_token_id` to `eos_token_id`:128001 for open-end generation.\n"
          ]
        },
        {
          "output_type": "stream",
          "name": "stdout",
          "text": [
            "Title: Wilhelm Wattenbach\n",
            "Question: What nationality was Wilhelm Wattenbach?\n",
            "Correct Answer: German\n",
            "Generated Answer: German\n",
            "BLEU Score: 0.1778\n",
            "ROUGE-L Score: 1.0000\n",
            "Exact Match: 1\n",
            "F1 Score: 1.0000\n",
            "\n",
            "---\n",
            "\n"
          ]
        },
        {
          "output_type": "stream",
          "name": "stderr",
          "text": [
            "Setting `pad_token_id` to `eos_token_id`:128001 for open-end generation.\n"
          ]
        },
        {
          "output_type": "stream",
          "name": "stdout",
          "text": [
            "Title: Wilhelm Wattenbach\n",
            "Question: In which field did Wilhelm Wattenbach specialize?\n",
            "Correct Answer: History\n",
            "Generated Answer: Architecture\n",
            "BLEU Score: 0.0000\n",
            "ROUGE-L Score: 0.0000\n",
            "Exact Match: 0\n",
            "F1 Score: 0.0000\n",
            "\n",
            "---\n",
            "\n"
          ]
        },
        {
          "output_type": "stream",
          "name": "stderr",
          "text": [
            "Setting `pad_token_id` to `eos_token_id`:128001 for open-end generation.\n"
          ]
        },
        {
          "output_type": "stream",
          "name": "stdout",
          "text": [
            "Title: Wilhelm Wattenbach\n",
            "Question: What position did Wilhelm Wattenbach hold at Berlin?\n",
            "Correct Answer: Professor of history\n",
            "Generated Answer: Professor\n",
            "BLEU Score: 0.0241\n",
            "ROUGE-L Score: 0.5000\n",
            "Exact Match: 0\n",
            "F1 Score: 0.5000\n",
            "\n",
            "---\n",
            "\n"
          ]
        },
        {
          "output_type": "stream",
          "name": "stderr",
          "text": [
            "Setting `pad_token_id` to `eos_token_id`:128001 for open-end generation.\n"
          ]
        },
        {
          "output_type": "stream",
          "name": "stdout",
          "text": [
            "Title: Elsa Triolet\n",
            "Question: In which country did Elsa Triolet settle after emigrating from Russia?\n",
            "Correct Answer: France\n",
            "Generated Answer: France\n",
            "BLEU Score: 0.1778\n",
            "ROUGE-L Score: 1.0000\n",
            "Exact Match: 1\n",
            "F1 Score: 1.0000\n",
            "\n",
            "---\n",
            "\n"
          ]
        },
        {
          "output_type": "stream",
          "name": "stderr",
          "text": [
            "Setting `pad_token_id` to `eos_token_id`:128001 for open-end generation.\n"
          ]
        },
        {
          "output_type": "stream",
          "name": "stdout",
          "text": [
            "Title: Elsa Triolet\n",
            "Question: Who did Elsa Triolet meet in 1928 that she would later marry?\n",
            "Correct Answer: Louis Aragon\n",
            "Generated Answer: Sergei Diaghilev\n",
            "BLEU Score: 0.0000\n",
            "ROUGE-L Score: 0.0000\n",
            "Exact Match: 0\n",
            "F1 Score: 0.0000\n",
            "\n",
            "---\n",
            "\n"
          ]
        },
        {
          "output_type": "stream",
          "name": "stderr",
          "text": [
            "Setting `pad_token_id` to `eos_token_id`:128001 for open-end generation.\n"
          ]
        },
        {
          "output_type": "stream",
          "name": "stdout",
          "text": [
            "Title: Elsa Triolet\n",
            "Question: In which movement did Elsa Triolet participate during World War II?\n",
            "Correct Answer: French Resistance\n",
            "Generated Answer: Resistance\n",
            "BLEU Score: 0.0654\n",
            "ROUGE-L Score: 0.6667\n",
            "Exact Match: 0\n",
            "F1 Score: 0.6667\n",
            "\n",
            "---\n",
            "\n"
          ]
        },
        {
          "output_type": "stream",
          "name": "stderr",
          "text": [
            "Setting `pad_token_id` to `eos_token_id`:128001 for open-end generation.\n"
          ]
        },
        {
          "output_type": "stream",
          "name": "stdout",
          "text": [
            "Title: Elsa Triolet\n",
            "Question: Which poet's work did Elsa Triolet first translate into French?\n",
            "Correct Answer: Vladimir Mayakovsky\n",
            "Generated Answer: Baudelaire\n",
            "BLEU Score: 0.0000\n",
            "ROUGE-L Score: 0.0000\n",
            "Exact Match: 0\n",
            "F1 Score: 0.0000\n",
            "\n",
            "---\n",
            "\n"
          ]
        },
        {
          "output_type": "stream",
          "name": "stderr",
          "text": [
            "Setting `pad_token_id` to `eos_token_id`:128001 for open-end generation.\n"
          ]
        },
        {
          "output_type": "stream",
          "name": "stdout",
          "text": [
            "Title: Elsa Triolet\n",
            "Question: What nationality did Elsa Triolet adopt after moving from Russia?\n",
            "Correct Answer: French\n",
            "Generated Answer: French\n",
            "BLEU Score: 0.1778\n",
            "ROUGE-L Score: 1.0000\n",
            "Exact Match: 1\n",
            "F1 Score: 1.0000\n",
            "\n",
            "---\n",
            "\n"
          ]
        },
        {
          "output_type": "stream",
          "name": "stderr",
          "text": [
            "Setting `pad_token_id` to `eos_token_id`:128001 for open-end generation.\n"
          ]
        },
        {
          "output_type": "stream",
          "name": "stdout",
          "text": [
            "Title: Theopompus\n",
            "Question: Where was Theopompus born?\n",
            "Correct Answer: Chios\n",
            "Generated Answer: Macedonia\n",
            "BLEU Score: 0.0000\n",
            "ROUGE-L Score: 0.0000\n",
            "Exact Match: 0\n",
            "F1 Score: 0.0000\n",
            "\n",
            "---\n",
            "\n"
          ]
        },
        {
          "output_type": "stream",
          "name": "stderr",
          "text": [
            "Setting `pad_token_id` to `eos_token_id`:128001 for open-end generation.\n"
          ]
        },
        {
          "output_type": "stream",
          "name": "stdout",
          "text": [
            "Title: Theopompus\n",
            "Question: What significant career path did Isocrates advise Theopompus to pursue?\n",
            "Correct Answer: Historian\n",
            "Generated Answer: Rhetoric\n",
            "BLEU Score: 0.0000\n",
            "ROUGE-L Score: 0.0000\n",
            "Exact Match: 0\n",
            "F1 Score: 0.0000\n",
            "\n",
            "---\n",
            "\n"
          ]
        },
        {
          "output_type": "stream",
          "name": "stderr",
          "text": [
            "Setting `pad_token_id` to `eos_token_id`:128001 for open-end generation.\n"
          ]
        },
        {
          "output_type": "stream",
          "name": "stdout",
          "text": [
            "Title: Theopompus\n",
            "Question: Where did Theopompus take refuge after Alexander's death?\n",
            "Correct Answer: Egypt, with Ptolemy\n",
            "Generated Answer: Babylon\n",
            "BLEU Score: 0.0000\n",
            "ROUGE-L Score: 0.0000\n",
            "Exact Match: 0\n",
            "F1 Score: 0.0000\n",
            "\n",
            "---\n",
            "\n"
          ]
        },
        {
          "output_type": "stream",
          "name": "stderr",
          "text": [
            "Setting `pad_token_id` to `eos_token_id`:128001 for open-end generation.\n"
          ]
        },
        {
          "output_type": "stream",
          "name": "stdout",
          "text": [
            "Title: Theopompus\n",
            "Question: Who severely censured Philip for his behavior in Theopompus's writings?\n",
            "Correct Answer: Theopompus\n",
            "Generated Answer: Alexander the Great\n",
            "BLEU Score: 0.0000\n",
            "ROUGE-L Score: 0.0000\n",
            "Exact Match: 0\n",
            "F1 Score: 0.0000\n",
            "\n",
            "---\n",
            "\n"
          ]
        },
        {
          "output_type": "stream",
          "name": "stderr",
          "text": [
            "Setting `pad_token_id` to `eos_token_id`:128001 for open-end generation.\n"
          ]
        },
        {
          "output_type": "stream",
          "name": "stdout",
          "text": [
            "Title: Heinrich Ritter\n",
            "Question: Which major thinker influenced Heinrich August Ritter's thinking?\n",
            "Correct Answer: Friedrich Schleiermacher\n",
            "Generated Answer: Kant\n",
            "BLEU Score: 0.0000\n",
            "ROUGE-L Score: 0.0000\n",
            "Exact Match: 0\n",
            "F1 Score: 0.0000\n",
            "\n",
            "---\n",
            "\n"
          ]
        },
        {
          "output_type": "stream",
          "name": "stderr",
          "text": [
            "Setting `pad_token_id` to `eos_token_id`:128001 for open-end generation.\n"
          ]
        },
        {
          "output_type": "stream",
          "name": "stdout",
          "text": [
            "Title: Heinrich Ritter\n",
            "Question: What was the focus of Heinrich August Ritter's work 'Abriss der philosophischen Logik' published in 1824?\n",
            "Correct Answer: Philosophical logic\n",
            "Generated Answer: Philosophical logic\n",
            "BLEU Score: 0.3162\n",
            "ROUGE-L Score: 1.0000\n",
            "Exact Match: 1\n",
            "F1 Score: 1.0000\n",
            "\n",
            "---\n",
            "\n"
          ]
        },
        {
          "output_type": "stream",
          "name": "stderr",
          "text": [
            "Setting `pad_token_id` to `eos_token_id`:128001 for open-end generation.\n"
          ]
        },
        {
          "output_type": "stream",
          "name": "stdout",
          "text": [
            "Title: Heinrich Ritter\n",
            "Question: What was the subject of 'Die christliche Philosophie bis auf die neuesten Zeiten' by Heinrich August Ritter?\n",
            "Correct Answer: Christian philosophy\n",
            "Generated Answer: The Christian philosophy\n",
            "BLEU Score: 0.2403\n",
            "ROUGE-L Score: 0.8000\n",
            "Exact Match: 0\n",
            "F1 Score: 0.8000\n",
            "\n",
            "---\n",
            "\n"
          ]
        },
        {
          "output_type": "stream",
          "name": "stderr",
          "text": [
            "Setting `pad_token_id` to `eos_token_id`:128001 for open-end generation.\n"
          ]
        },
        {
          "output_type": "stream",
          "name": "stdout",
          "text": [
            "Title: Heinrich Ritter\n",
            "Question: What does 'Ueber das Böse und seine Folgen' by Heinrich August Ritter discuss?\n",
            "Correct Answer: Evil and its consequences\n",
            "Generated Answer: The nature of evil and its consequences\n",
            "BLEU Score: 0.4111\n",
            "ROUGE-L Score: 0.7273\n",
            "Exact Match: 0\n",
            "F1 Score: 0.7273\n",
            "\n",
            "---\n",
            "\n"
          ]
        },
        {
          "output_type": "stream",
          "name": "stderr",
          "text": [
            "Setting `pad_token_id` to `eos_token_id`:128001 for open-end generation.\n"
          ]
        },
        {
          "output_type": "stream",
          "name": "stdout",
          "text": [
            "Title: Adrienne Monnier\n",
            "Question: What professions did Adrienne Monnier pursue?\n",
            "Correct Answer: Bookseller, writer, publisher\n",
            "Generated Answer: Bookseller and publisher\n",
            "BLEU Score: 0.1351\n",
            "ROUGE-L Score: 0.6667\n",
            "Exact Match: 0\n",
            "F1 Score: 0.6667\n",
            "\n",
            "---\n",
            "\n"
          ]
        },
        {
          "output_type": "stream",
          "name": "stderr",
          "text": [
            "Setting `pad_token_id` to `eos_token_id`:128001 for open-end generation.\n"
          ]
        },
        {
          "output_type": "stream",
          "name": "stdout",
          "text": [
            "Title: Adrienne Monnier\n",
            "Question: What era is Adrienne Monnier known to have been an influential figure in?\n",
            "Correct Answer: 1920s and 1930s\n",
            "Generated Answer: Modernism\n",
            "BLEU Score: 0.0000\n",
            "ROUGE-L Score: 0.0000\n",
            "Exact Match: 0\n",
            "F1 Score: 0.0000\n",
            "\n",
            "---\n",
            "\n"
          ]
        },
        {
          "output_type": "stream",
          "name": "stderr",
          "text": [
            "Setting `pad_token_id` to `eos_token_id`:128001 for open-end generation.\n"
          ]
        },
        {
          "output_type": "stream",
          "name": "stdout",
          "text": [
            "Title: Adrienne Monnier\n",
            "Question: Where was Adrienne Monnier born?\n",
            "Correct Answer: Paris\n",
            "Generated Answer: Paris\n",
            "BLEU Score: 0.1778\n",
            "ROUGE-L Score: 1.0000\n",
            "Exact Match: 1\n",
            "F1 Score: 1.0000\n",
            "\n",
            "---\n",
            "\n"
          ]
        },
        {
          "output_type": "stream",
          "name": "stderr",
          "text": [
            "Setting `pad_token_id` to `eos_token_id`:128001 for open-end generation.\n"
          ]
        },
        {
          "output_type": "stream",
          "name": "stdout",
          "text": [
            "Title: Adrienne Monnier\n",
            "Question: What notable English language bookstore was inspired by Adrienne Monnier?\n",
            "Correct Answer: Shakespeare and Company\n",
            "Generated Answer: Shakespeare and Company\n",
            "BLEU Score: 0.5623\n",
            "ROUGE-L Score: 1.0000\n",
            "Exact Match: 1\n",
            "F1 Score: 1.0000\n",
            "\n",
            "---\n",
            "\n"
          ]
        },
        {
          "output_type": "stream",
          "name": "stderr",
          "text": [
            "Setting `pad_token_id` to `eos_token_id`:128001 for open-end generation.\n"
          ]
        },
        {
          "output_type": "stream",
          "name": "stdout",
          "text": [
            "Title: Ann Brashares\n",
            "Question: What is Ann Brashares known for?\n",
            "Correct Answer: The Sisterhood of the Traveling Pants series.\n",
            "Generated Answer: Author of The Sisterhood of the Traveling Pants series\n",
            "BLEU Score: 0.7260\n",
            "ROUGE-L Score: 0.8750\n",
            "Exact Match: 0\n",
            "F1 Score: 0.7500\n",
            "\n",
            "---\n",
            "\n"
          ]
        },
        {
          "output_type": "stream",
          "name": "stderr",
          "text": [
            "Setting `pad_token_id` to `eos_token_id`:128001 for open-end generation.\n"
          ]
        },
        {
          "output_type": "stream",
          "name": "stdout",
          "text": [
            "Title: Ann Brashares\n",
            "Question: What genre does Ann Brashares primarily write in?\n",
            "Correct Answer: Young adult\n",
            "Generated Answer: Young Adult\n",
            "BLEU Score: 0.3162\n",
            "ROUGE-L Score: 1.0000\n",
            "Exact Match: 1\n",
            "F1 Score: 1.0000\n",
            "\n",
            "---\n",
            "\n"
          ]
        },
        {
          "output_type": "stream",
          "name": "stderr",
          "text": [
            "Setting `pad_token_id` to `eos_token_id`:128001 for open-end generation.\n"
          ]
        },
        {
          "output_type": "stream",
          "name": "stdout",
          "text": [
            "Title: Ann Brashares\n",
            "Question: Where does Ann Brashares reside?\n",
            "Correct Answer: New York City\n",
            "Generated Answer: New York City\n",
            "BLEU Score: 0.5623\n",
            "ROUGE-L Score: 1.0000\n",
            "Exact Match: 1\n",
            "F1 Score: 1.0000\n",
            "\n",
            "---\n",
            "\n"
          ]
        },
        {
          "output_type": "stream",
          "name": "stderr",
          "text": [
            "Setting `pad_token_id` to `eos_token_id`:128001 for open-end generation.\n"
          ]
        },
        {
          "output_type": "stream",
          "name": "stdout",
          "text": [
            "Title: Hartmann von Aue\n",
            "Question: What was Hartmann von Aue's nationality?\n",
            "Correct Answer: German\n",
            "Generated Answer: German\n",
            "BLEU Score: 0.1778\n",
            "ROUGE-L Score: 1.0000\n",
            "Exact Match: 1\n",
            "F1 Score: 1.0000\n",
            "\n",
            "---\n",
            "\n"
          ]
        },
        {
          "output_type": "stream",
          "name": "stderr",
          "text": [
            "Setting `pad_token_id` to `eos_token_id`:128001 for open-end generation.\n"
          ]
        },
        {
          "output_type": "stream",
          "name": "stdout",
          "text": [
            "Title: Hartmann von Aue\n",
            "Question: Name one of Hartmann von Aue's works.\n",
            "Correct Answer: Erec\n",
            "Generated Answer: Der arme Ritter\n",
            "BLEU Score: 0.0000\n",
            "ROUGE-L Score: 0.0000\n",
            "Exact Match: 0\n",
            "F1 Score: 0.0000\n",
            "\n",
            "---\n",
            "\n"
          ]
        },
        {
          "output_type": "stream",
          "name": "stderr",
          "text": [
            "Setting `pad_token_id` to `eos_token_id`:128001 for open-end generation.\n"
          ]
        },
        {
          "output_type": "stream",
          "name": "stdout",
          "text": [
            "Title: Hartmann von Aue\n",
            "Question: In which crusade did Hartmann von Aue participate?\n",
            "Correct Answer: The Crusade of 1197\n",
            "Generated Answer: Second\n",
            "BLEU Score: 0.0000\n",
            "ROUGE-L Score: 0.0000\n",
            "Exact Match: 0\n",
            "F1 Score: 0.0000\n",
            "\n",
            "---\n",
            "\n"
          ]
        },
        {
          "output_type": "stream",
          "name": "stderr",
          "text": [
            "Setting `pad_token_id` to `eos_token_id`:128001 for open-end generation.\n"
          ]
        },
        {
          "output_type": "stream",
          "name": "stdout",
          "text": [
            "Title: Hartmann von Aue\n",
            "Question: What was Hartmann von Aue's profession aside from being a poet?\n",
            "Correct Answer: Knight\n",
            "Generated Answer: Knight\n",
            "BLEU Score: 0.1778\n",
            "ROUGE-L Score: 1.0000\n",
            "Exact Match: 1\n",
            "F1 Score: 1.0000\n",
            "\n",
            "---\n",
            "\n"
          ]
        },
        {
          "output_type": "stream",
          "name": "stderr",
          "text": [
            "Setting `pad_token_id` to `eos_token_id`:128001 for open-end generation.\n"
          ]
        },
        {
          "output_type": "stream",
          "name": "stdout",
          "text": [
            "Title: Hartmann von Aue\n",
            "Question: What was the societal rank of Hartmann von Aue?\n",
            "Correct Answer: Lower nobility\n",
            "Generated Answer: Minnesinger\n",
            "BLEU Score: 0.0000\n",
            "ROUGE-L Score: 0.0000\n",
            "Exact Match: 0\n",
            "F1 Score: 0.0000\n",
            "\n",
            "---\n",
            "\n"
          ]
        },
        {
          "output_type": "stream",
          "name": "stderr",
          "text": [
            "Setting `pad_token_id` to `eos_token_id`:128001 for open-end generation.\n"
          ]
        },
        {
          "output_type": "stream",
          "name": "stdout",
          "text": [
            "Title: Jorge Semprún\n",
            "Question: When was Jorge Semprún Maura born?\n",
            "Correct Answer: 10 December 1923\n",
            "Generated Answer: 1928\n",
            "BLEU Score: 0.0000\n",
            "ROUGE-L Score: 0.0000\n",
            "Exact Match: 0\n",
            "F1 Score: 0.0000\n",
            "\n",
            "---\n",
            "\n"
          ]
        },
        {
          "output_type": "stream",
          "name": "stderr",
          "text": [
            "Setting `pad_token_id` to `eos_token_id`:128001 for open-end generation.\n"
          ]
        },
        {
          "output_type": "stream",
          "name": "stdout",
          "text": [
            "Title: Jorge Semprún\n",
            "Question: In what country was Jorge Semprún Maura born?\n",
            "Correct Answer: Spain\n",
            "Generated Answer: Spain\n",
            "BLEU Score: 0.1778\n",
            "ROUGE-L Score: 1.0000\n",
            "Exact Match: 1\n",
            "F1 Score: 1.0000\n",
            "\n",
            "---\n",
            "\n"
          ]
        },
        {
          "output_type": "stream",
          "name": "stderr",
          "text": [
            "Setting `pad_token_id` to `eos_token_id`:128001 for open-end generation.\n"
          ]
        },
        {
          "output_type": "stream",
          "name": "stdout",
          "text": [
            "Title: Jorge Semprún\n",
            "Question: What role did Jorge Semprún Maura hold in Spain's government after the dictatorship of Francisco Franco?\n",
            "Correct Answer: Minister of Culture\n",
            "Generated Answer: None\n",
            "BLEU Score: 0.0000\n",
            "ROUGE-L Score: 0.0000\n",
            "Exact Match: 0\n",
            "F1 Score: 0.0000\n",
            "\n",
            "---\n",
            "\n"
          ]
        },
        {
          "output_type": "stream",
          "name": "stderr",
          "text": [
            "Setting `pad_token_id` to `eos_token_id`:128001 for open-end generation.\n"
          ]
        },
        {
          "output_type": "stream",
          "name": "stdout",
          "text": [
            "Title: Jorge Semprún\n",
            "Question: What is the name of the concentration camp where Jorge Semprún was deported during World War II?\n",
            "Correct Answer: Buchenwald\n",
            "Generated Answer: Buchenwald\n",
            "BLEU Score: 0.1778\n",
            "ROUGE-L Score: 1.0000\n",
            "Exact Match: 1\n",
            "F1 Score: 1.0000\n",
            "\n",
            "---\n",
            "\n"
          ]
        },
        {
          "output_type": "stream",
          "name": "stderr",
          "text": [
            "Setting `pad_token_id` to `eos_token_id`:128001 for open-end generation.\n"
          ]
        },
        {
          "output_type": "stream",
          "name": "stdout",
          "text": [
            "Title: Jorge Semprún\n",
            "Question: Where did Jorge Semprún live most of his life?\n",
            "Correct Answer: France\n",
            "Generated Answer: Spain\n",
            "BLEU Score: 0.0000\n",
            "ROUGE-L Score: 0.0000\n",
            "Exact Match: 0\n",
            "F1 Score: 0.0000\n",
            "\n",
            "---\n",
            "\n"
          ]
        },
        {
          "output_type": "stream",
          "name": "stderr",
          "text": [
            "Setting `pad_token_id` to `eos_token_id`:128001 for open-end generation.\n"
          ]
        },
        {
          "output_type": "stream",
          "name": "stdout",
          "text": [
            "Title: Jorge Semprún\n",
            "Question: In what language did Jorge Semprún primarily write?\n",
            "Correct Answer: French\n",
            "Generated Answer: Catalan\n",
            "BLEU Score: 0.0000\n",
            "ROUGE-L Score: 0.0000\n",
            "Exact Match: 0\n",
            "F1 Score: 0.0000\n",
            "\n",
            "---\n",
            "\n"
          ]
        },
        {
          "output_type": "stream",
          "name": "stderr",
          "text": [
            "Setting `pad_token_id` to `eos_token_id`:128001 for open-end generation.\n"
          ]
        },
        {
          "output_type": "stream",
          "name": "stdout",
          "text": [
            "Title: Giovanni Battista Casti\n",
            "Question: What nationality was Giovanni Battista Casti?\n",
            "Correct Answer: Italian\n",
            "Generated Answer: Italian\n",
            "BLEU Score: 0.1778\n",
            "ROUGE-L Score: 1.0000\n",
            "Exact Match: 1\n",
            "F1 Score: 1.0000\n",
            "\n",
            "---\n",
            "\n"
          ]
        },
        {
          "output_type": "stream",
          "name": "stderr",
          "text": [
            "Setting `pad_token_id` to `eos_token_id`:128001 for open-end generation.\n"
          ]
        },
        {
          "output_type": "stream",
          "name": "stdout",
          "text": [
            "Title: Giovanni Battista Casti\n",
            "Question: What type of studies did Giovanni Battista Casti pursue before entering priesthood?\n",
            "Correct Answer: He studied at the seminary of Montefiascone\n",
            "Generated Answer: Medical studies\n",
            "BLEU Score: 0.0000\n",
            "ROUGE-L Score: 0.2222\n",
            "Exact Match: 0\n",
            "F1 Score: 0.0000\n",
            "\n",
            "---\n",
            "\n"
          ]
        },
        {
          "output_type": "stream",
          "name": "stderr",
          "text": [
            "Setting `pad_token_id` to `eos_token_id`:128001 for open-end generation.\n"
          ]
        },
        {
          "output_type": "stream",
          "name": "stdout",
          "text": [
            "Title: Giovanni Battista Casti\n",
            "Question: What position did Giovanni Battista Casti hold in his native place?\n",
            "Correct Answer: He became a canon in the cathedral of his native place\n",
            "Generated Answer: Bishop\n",
            "BLEU Score: 0.0000\n",
            "ROUGE-L Score: 0.0000\n",
            "Exact Match: 0\n",
            "F1 Score: 0.0000\n",
            "\n",
            "---\n",
            "\n"
          ]
        },
        {
          "output_type": "stream",
          "name": "stderr",
          "text": [
            "Setting `pad_token_id` to `eos_token_id`:128001 for open-end generation.\n"
          ]
        },
        {
          "output_type": "stream",
          "name": "stdout",
          "text": [
            "Title: Giovanni Battista Casti\n",
            "Question: Name an opera libretto written by Giovanni Battista Casti with music by Antonio Salieri in 1785.\n",
            "Correct Answer: La grotta di Trofonio\n",
            "Generated Answer: Il sogno di Scipione\n",
            "BLEU Score: 0.0803\n",
            "ROUGE-L Score: 0.2500\n",
            "Exact Match: 0\n",
            "F1 Score: 0.2500\n",
            "\n",
            "---\n",
            "\n"
          ]
        },
        {
          "output_type": "stream",
          "name": "stderr",
          "text": [
            "Setting `pad_token_id` to `eos_token_id`:128001 for open-end generation.\n"
          ]
        },
        {
          "output_type": "stream",
          "name": "stdout",
          "text": [
            "Title: Najaf Daryabandari\n",
            "Question: Which languages did Najaf Daryabandari translate works from and into?\n",
            "Correct Answer: From English into Persian\n",
            "Generated Answer: Persian\n",
            "BLEU Score: 0.0089\n",
            "ROUGE-L Score: 0.4000\n",
            "Exact Match: 0\n",
            "F1 Score: 0.4000\n",
            "\n",
            "---\n",
            "\n"
          ]
        },
        {
          "output_type": "stream",
          "name": "stderr",
          "text": [
            "Setting `pad_token_id` to `eos_token_id`:128001 for open-end generation.\n"
          ]
        },
        {
          "output_type": "stream",
          "name": "stdout",
          "text": [
            "Title: Najaf Daryabandari\n",
            "Question: Which Hemingway books did Najaf Daryabandari translate?\n",
            "Correct Answer: A Farewell to Arms and The Old Man and the Sea\n",
            "Generated Answer: The Old Man and A Moveable Feast\n",
            "BLEU Score: 0.2455\n",
            "ROUGE-L Score: 0.4444\n",
            "Exact Match: 0\n",
            "F1 Score: 0.5556\n",
            "\n",
            "---\n",
            "\n"
          ]
        },
        {
          "output_type": "stream",
          "name": "stderr",
          "text": [
            "Setting `pad_token_id` to `eos_token_id`:128001 for open-end generation.\n"
          ]
        },
        {
          "output_type": "stream",
          "name": "stdout",
          "text": [
            "Title: Najaf Daryabandari\n",
            "Question: What play by Samuel Beckett did Najaf Daryabandari translate?\n",
            "Correct Answer: Waiting for Godot\n",
            "Generated Answer: Waiting for Godot\n",
            "BLEU Score: 0.5623\n",
            "ROUGE-L Score: 1.0000\n",
            "Exact Match: 1\n",
            "F1 Score: 1.0000\n",
            "\n",
            "---\n",
            "\n"
          ]
        },
        {
          "output_type": "stream",
          "name": "stderr",
          "text": [
            "Setting `pad_token_id` to `eos_token_id`:128001 for open-end generation.\n"
          ]
        },
        {
          "output_type": "stream",
          "name": "stdout",
          "text": [
            "Title: Najaf Daryabandari\n",
            "Question: Which Sophocles' play did Najaf Daryabandari translate?\n",
            "Correct Answer: Antigone\n",
            "Generated Answer: Oedipus Rex\n",
            "BLEU Score: 0.0000\n",
            "ROUGE-L Score: 0.0000\n",
            "Exact Match: 0\n",
            "F1 Score: 0.0000\n",
            "\n",
            "---\n",
            "\n"
          ]
        },
        {
          "output_type": "stream",
          "name": "stderr",
          "text": [
            "Setting `pad_token_id` to `eos_token_id`:128001 for open-end generation.\n"
          ]
        },
        {
          "output_type": "stream",
          "name": "stdout",
          "text": [
            "Title: Heinz Erhardt\n",
            "Question: What was Heinz Erhardt's nationality?\n",
            "Correct Answer: German\n",
            "Generated Answer: German\n",
            "BLEU Score: 0.1778\n",
            "ROUGE-L Score: 1.0000\n",
            "Exact Match: 1\n",
            "F1 Score: 1.0000\n",
            "\n",
            "---\n",
            "\n"
          ]
        },
        {
          "output_type": "stream",
          "name": "stderr",
          "text": [
            "Setting `pad_token_id` to `eos_token_id`:128001 for open-end generation.\n"
          ]
        },
        {
          "output_type": "stream",
          "name": "stdout",
          "text": [
            "Title: Heinz Erhardt\n",
            "Question: How many children did Heinz Erhardt have?\n",
            "Correct Answer: Four\n",
            "Generated Answer: 2\n",
            "BLEU Score: 0.0000\n",
            "ROUGE-L Score: 0.0000\n",
            "Exact Match: 0\n",
            "F1 Score: 0.0000\n",
            "\n",
            "---\n",
            "\n"
          ]
        },
        {
          "output_type": "stream",
          "name": "stderr",
          "text": [
            "Setting `pad_token_id` to `eos_token_id`:128001 for open-end generation.\n"
          ]
        },
        {
          "output_type": "stream",
          "name": "stdout",
          "text": [
            "Title: Heinz Erhardt\n",
            "Question: What was the profession of Heinz Erhardt's grandson Marek Erhardt?\n",
            "Correct Answer: Actor\n",
            "Generated Answer: Politician\n",
            "BLEU Score: 0.0000\n",
            "ROUGE-L Score: 0.0000\n",
            "Exact Match: 0\n",
            "F1 Score: 0.0000\n",
            "\n",
            "---\n",
            "\n"
          ]
        },
        {
          "output_type": "stream",
          "name": "stderr",
          "text": [
            "Setting `pad_token_id` to `eos_token_id`:128001 for open-end generation.\n"
          ]
        },
        {
          "output_type": "stream",
          "name": "stdout",
          "text": [
            "Title: Heinz Erhardt\n",
            "Question: During which war did Heinz Erhardt serve in the German navy?\n",
            "Correct Answer: World War II\n",
            "Generated Answer: World War II\n",
            "BLEU Score: 0.5623\n",
            "ROUGE-L Score: 1.0000\n",
            "Exact Match: 1\n",
            "F1 Score: 1.0000\n",
            "\n",
            "---\n",
            "\n"
          ]
        },
        {
          "output_type": "stream",
          "name": "stderr",
          "text": [
            "Setting `pad_token_id` to `eos_token_id`:128001 for open-end generation.\n"
          ]
        },
        {
          "output_type": "stream",
          "name": "stdout",
          "text": [
            "Title: Heinz Erhardt\n",
            "Question: Where did Heinz Erhardt move to in 1938?\n",
            "Correct Answer: Berlin\n",
            "Generated Answer: France\n",
            "BLEU Score: 0.0000\n",
            "ROUGE-L Score: 0.0000\n",
            "Exact Match: 0\n",
            "F1 Score: 0.0000\n",
            "\n",
            "---\n",
            "\n"
          ]
        },
        {
          "output_type": "stream",
          "name": "stderr",
          "text": [
            "Setting `pad_token_id` to `eos_token_id`:128001 for open-end generation.\n"
          ]
        },
        {
          "output_type": "stream",
          "name": "stdout",
          "text": [
            "Title: Rudolf Christoph Eucken\n",
            "Question: Which university did Rudolf Christoph Eucken receive his PhD from?\n",
            "Correct Answer: Göttingen University\n",
            "Generated Answer: Göttingen\n",
            "BLEU Score: 0.0654\n",
            "ROUGE-L Score: 0.8000\n",
            "Exact Match: 0\n",
            "F1 Score: 0.6667\n",
            "\n",
            "---\n",
            "\n"
          ]
        },
        {
          "output_type": "stream",
          "name": "stderr",
          "text": [
            "Setting `pad_token_id` to `eos_token_id`:128001 for open-end generation.\n"
          ]
        },
        {
          "output_type": "stream",
          "name": "stdout",
          "text": [
            "Title: Rudolf Christoph Eucken\n",
            "Question: In what year did Rudolf Christoph Eucken win the Nobel Prize in Literature?\n",
            "Correct Answer: 1908\n",
            "Generated Answer: 1909\n",
            "BLEU Score: 0.0000\n",
            "ROUGE-L Score: 0.0000\n",
            "Exact Match: 0\n",
            "F1 Score: 0.0000\n",
            "\n",
            "---\n",
            "\n"
          ]
        },
        {
          "output_type": "stream",
          "name": "stderr",
          "text": [
            "Setting `pad_token_id` to `eos_token_id`:128001 for open-end generation.\n"
          ]
        },
        {
          "output_type": "stream",
          "name": "stdout",
          "text": [
            "Title: Rudolf Christoph Eucken\n",
            "Question: What was the main reason Rudolf Christoph Eucken received the Nobel Prize?\n",
            "Correct Answer: For his idealistic philosophy of life\n",
            "Generated Answer: For his poetic and philosophical writings\n",
            "BLEU Score: 0.0863\n",
            "ROUGE-L Score: 0.3333\n",
            "Exact Match: 0\n",
            "F1 Score: 0.3333\n",
            "\n",
            "---\n",
            "\n"
          ]
        },
        {
          "output_type": "stream",
          "name": "stderr",
          "text": [
            "Setting `pad_token_id` to `eos_token_id`:128001 for open-end generation.\n"
          ]
        },
        {
          "output_type": "stream",
          "name": "stdout",
          "text": [
            "Title: Rudolf Christoph Eucken\n",
            "Question: What position did Rudolf Christoph Eucken hold at the University of Basel?\n",
            "Correct Answer: Professor of Philosophy\n",
            "Generated Answer: Professor\n",
            "BLEU Score: 0.0241\n",
            "ROUGE-L Score: 0.5000\n",
            "Exact Match: 0\n",
            "F1 Score: 0.5000\n",
            "\n",
            "---\n",
            "\n"
          ]
        },
        {
          "output_type": "stream",
          "name": "stderr",
          "text": [
            "Setting `pad_token_id` to `eos_token_id`:128001 for open-end generation.\n"
          ]
        },
        {
          "output_type": "stream",
          "name": "stdout",
          "text": [
            "Title: Rudolf Christoph Eucken\n",
            "Question: How many children did Rudolf Christoph Eucken have?\n",
            "Correct Answer: Three\n",
            "Generated Answer: 4\n",
            "BLEU Score: 0.0000\n",
            "ROUGE-L Score: 0.0000\n",
            "Exact Match: 0\n",
            "F1 Score: 0.0000\n",
            "\n",
            "---\n",
            "\n"
          ]
        },
        {
          "output_type": "stream",
          "name": "stderr",
          "text": [
            "Setting `pad_token_id` to `eos_token_id`:128001 for open-end generation.\n"
          ]
        },
        {
          "output_type": "stream",
          "name": "stdout",
          "text": [
            "Title: Rudolf Christoph Eucken\n",
            "Question: Which city was Rudolf Christoph Eucken born in?\n",
            "Correct Answer: Aurich\n",
            "Generated Answer: Göttingen\n",
            "BLEU Score: 0.0000\n",
            "ROUGE-L Score: 0.0000\n",
            "Exact Match: 0\n",
            "F1 Score: 0.0000\n",
            "\n",
            "---\n",
            "\n"
          ]
        },
        {
          "output_type": "stream",
          "name": "stderr",
          "text": [
            "Setting `pad_token_id` to `eos_token_id`:128001 for open-end generation.\n"
          ]
        },
        {
          "output_type": "stream",
          "name": "stdout",
          "text": [
            "Title: Rudolf Christoph Eucken\n",
            "Question: What philosophy did Rudolf Christoph Eucken contribute to?\n",
            "Correct Answer: Ethical activism and idealism\n",
            "Generated Answer: Existentialism\n",
            "BLEU Score: 0.0000\n",
            "ROUGE-L Score: 0.0000\n",
            "Exact Match: 0\n",
            "F1 Score: 0.0000\n",
            "\n",
            "---\n",
            "\n"
          ]
        },
        {
          "output_type": "stream",
          "name": "stderr",
          "text": [
            "Setting `pad_token_id` to `eos_token_id`:128001 for open-end generation.\n"
          ]
        },
        {
          "output_type": "stream",
          "name": "stdout",
          "text": [
            "Title: Paul Gerhardt\n",
            "Question: What nationality was Paul Gerhardt?\n",
            "Correct Answer: German\n",
            "Generated Answer: German\n",
            "BLEU Score: 0.1778\n",
            "ROUGE-L Score: 1.0000\n",
            "Exact Match: 1\n",
            "F1 Score: 1.0000\n",
            "\n",
            "---\n",
            "\n"
          ]
        },
        {
          "output_type": "stream",
          "name": "stderr",
          "text": [
            "Setting `pad_token_id` to `eos_token_id`:128001 for open-end generation.\n"
          ]
        },
        {
          "output_type": "stream",
          "name": "stdout",
          "text": [
            "Title: Paul Gerhardt\n",
            "Question: Who did Paul Gerhardt collaborate with on hymns in Berlin?\n",
            "Correct Answer: Johann Crüger\n",
            "Generated Answer: Dietrich Buxtehude\n",
            "BLEU Score: 0.0000\n",
            "ROUGE-L Score: 0.0000\n",
            "Exact Match: 0\n",
            "F1 Score: 0.0000\n",
            "\n",
            "---\n",
            "\n"
          ]
        },
        {
          "output_type": "stream",
          "name": "stderr",
          "text": [
            "Setting `pad_token_id` to `eos_token_id`:128001 for open-end generation.\n"
          ]
        },
        {
          "output_type": "stream",
          "name": "stdout",
          "text": [
            "Title: Paul Gerhardt\n",
            "Question: What was the fate of Paul Gerhardt's first child?\n",
            "Correct Answer: Died in infancy\n",
            "Generated Answer: Stillborn\n",
            "BLEU Score: 0.0000\n",
            "ROUGE-L Score: 0.0000\n",
            "Exact Match: 0\n",
            "F1 Score: 0.0000\n",
            "\n",
            "---\n",
            "\n"
          ]
        },
        {
          "output_type": "stream",
          "name": "stderr",
          "text": [
            "Setting `pad_token_id` to `eos_token_id`:128001 for open-end generation.\n"
          ]
        },
        {
          "output_type": "stream",
          "name": "stdout",
          "text": [
            "Title: Paul Gerhardt\n",
            "Question: What is considered Paul Gerhardt's greatest contribution to German hymnody?\n",
            "Correct Answer: His hymns\n",
            "Generated Answer: The 150 Psalms\n",
            "BLEU Score: 0.0000\n",
            "ROUGE-L Score: 0.0000\n",
            "Exact Match: 0\n",
            "F1 Score: 0.0000\n",
            "\n",
            "---\n",
            "\n"
          ]
        },
        {
          "output_type": "stream",
          "name": "stderr",
          "text": [
            "Setting `pad_token_id` to `eos_token_id`:128001 for open-end generation.\n"
          ]
        },
        {
          "output_type": "stream",
          "name": "stdout",
          "text": [
            "Title: Paul Gerhardt\n",
            "Question: What is the title of the English translation of Paul Gerhardt's hymns?\n",
            "Correct Answer: Paul Gerhardt's Spiritual Songs\n",
            "Generated Answer: The Passionate Hymn Book\n",
            "BLEU Score: 0.0000\n",
            "ROUGE-L Score: 0.0000\n",
            "Exact Match: 0\n",
            "F1 Score: 0.0000\n",
            "\n",
            "---\n",
            "\n"
          ]
        },
        {
          "output_type": "stream",
          "name": "stderr",
          "text": [
            "Setting `pad_token_id` to `eos_token_id`:128001 for open-end generation.\n"
          ]
        },
        {
          "output_type": "stream",
          "name": "stdout",
          "text": [
            "Title: Moshe Greenberg\n",
            "Question: What field was Moshe Greenberg a scholar in?\n",
            "Correct Answer: Bible\n",
            "Generated Answer: Biblical studies\n",
            "BLEU Score: 0.0000\n",
            "ROUGE-L Score: 0.0000\n",
            "Exact Match: 0\n",
            "F1 Score: 0.0000\n",
            "\n",
            "---\n",
            "\n"
          ]
        },
        {
          "output_type": "stream",
          "name": "stderr",
          "text": [
            "Setting `pad_token_id` to `eos_token_id`:128001 for open-end generation.\n"
          ]
        },
        {
          "output_type": "stream",
          "name": "stdout",
          "text": [
            "Title: Moshe Greenberg\n",
            "Question: Where did Moshe Greenberg serve as a professor emeritus?\n",
            "Correct Answer: Hebrew University of Jerusalem\n",
            "Generated Answer: Hebrew Union College\n",
            "BLEU Score: 0.0814\n",
            "ROUGE-L Score: 0.2857\n",
            "Exact Match: 0\n",
            "F1 Score: 0.2857\n",
            "\n",
            "---\n",
            "\n"
          ]
        },
        {
          "output_type": "stream",
          "name": "stderr",
          "text": [
            "Setting `pad_token_id` to `eos_token_id`:128001 for open-end generation.\n"
          ]
        },
        {
          "output_type": "stream",
          "name": "stdout",
          "text": [
            "Title: Moshe Greenberg\n",
            "Question: What languages did Moshe Greenberg grow up speaking at home?\n",
            "Correct Answer: Hebrew\n",
            "Generated Answer: Hebrew and Yiddish\n",
            "BLEU Score: 0.1136\n",
            "ROUGE-L Score: 0.5000\n",
            "Exact Match: 0\n",
            "F1 Score: 0.5000\n",
            "\n",
            "---\n",
            "\n"
          ]
        },
        {
          "output_type": "stream",
          "name": "stderr",
          "text": [
            "Setting `pad_token_id` to `eos_token_id`:128001 for open-end generation.\n"
          ]
        },
        {
          "output_type": "stream",
          "name": "stdout",
          "text": [
            "Title: Moshe Greenberg\n",
            "Question: Which university did Moshe Greenberg teach at from 1964-1970?\n",
            "Correct Answer: University of Pennsylvania\n",
            "Generated Answer: Hebrew University\n",
            "BLEU Score: 0.0907\n",
            "ROUGE-L Score: 0.4000\n",
            "Exact Match: 0\n",
            "F1 Score: 0.4000\n",
            "\n",
            "---\n",
            "\n"
          ]
        },
        {
          "output_type": "stream",
          "name": "stderr",
          "text": [
            "Setting `pad_token_id` to `eos_token_id`:128001 for open-end generation.\n"
          ]
        },
        {
          "output_type": "stream",
          "name": "stdout",
          "text": [
            "Title: Amy Clampitt\n",
            "Question: What nationality was Amy Clampitt?\n",
            "Correct Answer: American\n",
            "Generated Answer: American\n",
            "BLEU Score: 0.1778\n",
            "ROUGE-L Score: 1.0000\n",
            "Exact Match: 1\n",
            "F1 Score: 1.0000\n",
            "\n",
            "---\n",
            "\n"
          ]
        },
        {
          "output_type": "stream",
          "name": "stderr",
          "text": [
            "Setting `pad_token_id` to `eos_token_id`:128001 for open-end generation.\n"
          ]
        },
        {
          "output_type": "stream",
          "name": "stdout",
          "text": [
            "Title: Amy Clampitt\n",
            "Question: What was the name of Amy Clampitt's first published poem's venue in 1978?\n",
            "Correct Answer: The New Yorker\n",
            "Generated Answer: The New Yorker\n",
            "BLEU Score: 0.5623\n",
            "ROUGE-L Score: 1.0000\n",
            "Exact Match: 1\n",
            "F1 Score: 1.0000\n",
            "\n",
            "---\n",
            "\n"
          ]
        },
        {
          "output_type": "stream",
          "name": "stderr",
          "text": [
            "Setting `pad_token_id` to `eos_token_id`:128001 for open-end generation.\n"
          ]
        },
        {
          "output_type": "stream",
          "name": "stdout",
          "text": [
            "Title: Amy Clampitt\n",
            "Question: What type of cancer did Amy Clampitt die from?\n",
            "Correct Answer: Cancer\n",
            "Generated Answer: Breast cancer\n",
            "BLEU Score: 0.1495\n",
            "ROUGE-L Score: 0.6667\n",
            "Exact Match: 0\n",
            "F1 Score: 0.6667\n",
            "\n",
            "---\n",
            "\n"
          ]
        },
        {
          "output_type": "stream",
          "name": "stderr",
          "text": [
            "Setting `pad_token_id` to `eos_token_id`:128001 for open-end generation.\n"
          ]
        },
        {
          "output_type": "stream",
          "name": "stdout",
          "text": [
            "Title: Amy Clampitt\n",
            "Question: What was Amy Clampitt's first published poetry collection?\n",
            "Correct Answer: The Kingfisher\n",
            "Generated Answer: The Keeper and Other Poems\n",
            "BLEU Score: 0.0537\n",
            "ROUGE-L Score: 0.2857\n",
            "Exact Match: 0\n",
            "F1 Score: 0.2857\n",
            "\n",
            "---\n",
            "\n"
          ]
        },
        {
          "output_type": "stream",
          "name": "stderr",
          "text": [
            "Setting `pad_token_id` to `eos_token_id`:128001 for open-end generation.\n"
          ]
        },
        {
          "output_type": "stream",
          "name": "stdout",
          "text": [
            "Title: Amy Clampitt\n",
            "Question: Did Amy Clampitt publish any essays?\n",
            "Correct Answer: Yes\n",
            "Generated Answer: Yes\n",
            "BLEU Score: 0.1778\n",
            "ROUGE-L Score: 1.0000\n",
            "Exact Match: 1\n",
            "F1 Score: 1.0000\n",
            "\n",
            "---\n",
            "\n"
          ]
        },
        {
          "output_type": "stream",
          "name": "stderr",
          "text": [
            "Setting `pad_token_id` to `eos_token_id`:128001 for open-end generation.\n"
          ]
        },
        {
          "output_type": "stream",
          "name": "stdout",
          "text": [
            "Title: Ted Kooser\n",
            "Question: What prize did Theodore J. Kooser win in 2005?\n",
            "Correct Answer: Pulitzer Prize in Poetry\n",
            "Generated Answer: Pulitzer Prize for Poetry\n",
            "BLEU Score: 0.1880\n",
            "ROUGE-L Score: 0.7500\n",
            "Exact Match: 0\n",
            "F1 Score: 0.7500\n",
            "\n",
            "---\n",
            "\n"
          ]
        },
        {
          "output_type": "stream",
          "name": "stderr",
          "text": [
            "Setting `pad_token_id` to `eos_token_id`:128001 for open-end generation.\n"
          ]
        },
        {
          "output_type": "stream",
          "name": "stdout",
          "text": [
            "Title: Ted Kooser\n",
            "Question: How long did Theodore J. Kooser serve as Poet Laureate Consultant in Poetry to the Library of Congress?\n",
            "Correct Answer: 2004 to 2006\n",
            "Generated Answer: 2004-2010\n",
            "BLEU Score: 0.0907\n",
            "ROUGE-L Score: 0.4000\n",
            "Exact Match: 0\n",
            "F1 Score: 0.4000\n",
            "\n",
            "---\n",
            "\n"
          ]
        },
        {
          "output_type": "stream",
          "name": "stderr",
          "text": [
            "Setting `pad_token_id` to `eos_token_id`:128001 for open-end generation.\n"
          ]
        },
        {
          "output_type": "stream",
          "name": "stdout",
          "text": [
            "Title: Ted Kooser\n",
            "Question: Which university did Theodore J. Kooser attend for his undergraduate education?\n",
            "Correct Answer: Iowa State University\n",
            "Generated Answer: University of Nebraska–Lincoln\n",
            "BLEU Score: 0.0803\n",
            "ROUGE-L Score: 0.2857\n",
            "Exact Match: 0\n",
            "F1 Score: 0.2857\n",
            "\n",
            "---\n",
            "\n"
          ]
        },
        {
          "output_type": "stream",
          "name": "stderr",
          "text": [
            "Setting `pad_token_id` to `eos_token_id`:128001 for open-end generation.\n"
          ]
        },
        {
          "output_type": "stream",
          "name": "stdout",
          "text": [
            "Title: Ted Kooser\n",
            "Question: What book by Theodore J. Kooser won the 2005 Pulitzer Prize for Poetry?\n",
            "Correct Answer: Delights & Shadows\n",
            "Generated Answer: Delivering Inferno\n",
            "BLEU Score: 0.0000\n",
            "ROUGE-L Score: 0.0000\n",
            "Exact Match: 0\n",
            "F1 Score: 0.0000\n",
            "\n",
            "---\n",
            "\n"
          ]
        },
        {
          "output_type": "stream",
          "name": "stderr",
          "text": [
            "Setting `pad_token_id` to `eos_token_id`:128001 for open-end generation.\n"
          ]
        },
        {
          "output_type": "stream",
          "name": "stdout",
          "text": [
            "Title: Alfred Vogel\n",
            "Question: What was Alfred Vogel's profession?\n",
            "Correct Answer: Herbalist, naturopath, and writer\n",
            "Generated Answer: Homemaker\n",
            "BLEU Score: 0.0000\n",
            "ROUGE-L Score: 0.0000\n",
            "Exact Match: 0\n",
            "F1 Score: 0.0000\n",
            "\n",
            "---\n",
            "\n"
          ]
        },
        {
          "output_type": "stream",
          "name": "stderr",
          "text": [
            "Setting `pad_token_id` to `eos_token_id`:128001 for open-end generation.\n"
          ]
        },
        {
          "output_type": "stream",
          "name": "stdout",
          "text": [
            "Title: Alfred Vogel\n",
            "Question: What is the name of Alfred Vogel's flagship product created from Echinacea purpurea?\n",
            "Correct Answer: Echinaforce\n",
            "Generated Answer: Novalar\n",
            "BLEU Score: 0.0000\n",
            "ROUGE-L Score: 0.0000\n",
            "Exact Match: 0\n",
            "F1 Score: 0.0000\n",
            "\n",
            "---\n",
            "\n"
          ]
        },
        {
          "output_type": "stream",
          "name": "stderr",
          "text": [
            "Setting `pad_token_id` to `eos_token_id`:128001 for open-end generation.\n"
          ]
        },
        {
          "output_type": "stream",
          "name": "stdout",
          "text": [
            "Title: Alfred Vogel\n",
            "Question: What year did Alfred Vogel die?\n",
            "Correct Answer: 1996\n",
            "Generated Answer: 1991\n",
            "BLEU Score: 0.0000\n",
            "ROUGE-L Score: 0.0000\n",
            "Exact Match: 0\n",
            "F1 Score: 0.0000\n",
            "\n",
            "---\n",
            "\n"
          ]
        },
        {
          "output_type": "stream",
          "name": "stderr",
          "text": [
            "Setting `pad_token_id` to `eos_token_id`:128001 for open-end generation.\n"
          ]
        },
        {
          "output_type": "stream",
          "name": "stdout",
          "text": [
            "Title: Alfred Vogel\n",
            "Question: How old was Alfred Vogel at the time of his death?\n",
            "Correct Answer: 93\n",
            "Generated Answer: 88\n",
            "BLEU Score: 0.0000\n",
            "ROUGE-L Score: 0.0000\n",
            "Exact Match: 0\n",
            "F1 Score: 0.0000\n",
            "\n",
            "---\n",
            "\n"
          ]
        },
        {
          "output_type": "stream",
          "name": "stderr",
          "text": [
            "Setting `pad_token_id` to `eos_token_id`:128001 for open-end generation.\n"
          ]
        },
        {
          "output_type": "stream",
          "name": "stdout",
          "text": [
            "Title: Alfred Vogel\n",
            "Question: What company named after Alfred Vogel is based in New Zealand?\n",
            "Correct Answer: Vogel's\n",
            "Generated Answer: Countdown\n",
            "BLEU Score: 0.0000\n",
            "ROUGE-L Score: 0.0000\n",
            "Exact Match: 0\n",
            "F1 Score: 0.0000\n",
            "\n",
            "---\n",
            "\n"
          ]
        },
        {
          "output_type": "stream",
          "name": "stderr",
          "text": [
            "Setting `pad_token_id` to `eos_token_id`:128001 for open-end generation.\n"
          ]
        },
        {
          "output_type": "stream",
          "name": "stdout",
          "text": [
            "Title: Siegfried Lenz\n",
            "Question: Which prize did Siegfried Lenz receive in 2000?\n",
            "Correct Answer: The Goethe Prize\n",
            "Generated Answer: Peace Prize of the German Book Trade\n",
            "BLEU Score: 0.0393\n",
            "ROUGE-L Score: 0.2000\n",
            "Exact Match: 0\n",
            "F1 Score: 0.4000\n",
            "\n",
            "---\n",
            "\n"
          ]
        },
        {
          "output_type": "stream",
          "name": "stderr",
          "text": [
            "Setting `pad_token_id` to `eos_token_id`:128001 for open-end generation.\n"
          ]
        },
        {
          "output_type": "stream",
          "name": "stdout",
          "text": [
            "Title: Siegfried Lenz\n",
            "Question: What was Siegfried Lenz's profession?\n",
            "Correct Answer: Writer\n",
            "Generated Answer: Writer\n",
            "BLEU Score: 0.1778\n",
            "ROUGE-L Score: 1.0000\n",
            "Exact Match: 1\n",
            "F1 Score: 1.0000\n",
            "\n",
            "---\n",
            "\n"
          ]
        },
        {
          "output_type": "stream",
          "name": "stderr",
          "text": [
            "Setting `pad_token_id` to `eos_token_id`:128001 for open-end generation.\n"
          ]
        },
        {
          "output_type": "stream",
          "name": "stdout",
          "text": [
            "Title: Siegfried Lenz\n",
            "Question: In which military branch did Siegfried Lenz serve during World War II?\n",
            "Correct Answer: The Kriegsmarine\n",
            "Generated Answer: Navy\n",
            "BLEU Score: 0.0000\n",
            "ROUGE-L Score: 0.0000\n",
            "Exact Match: 0\n",
            "F1 Score: 0.0000\n",
            "\n",
            "---\n",
            "\n"
          ]
        },
        {
          "output_type": "stream",
          "name": "stderr",
          "text": [
            "Setting `pad_token_id` to `eos_token_id`:128001 for open-end generation.\n"
          ]
        },
        {
          "output_type": "stream",
          "name": "stdout",
          "text": [
            "Title: Siegfried Lenz\n",
            "Question: What year did Siegfried Lenz join the Nazi Party?\n",
            "Correct Answer: 1944\n",
            "Generated Answer: 1932\n",
            "BLEU Score: 0.0000\n",
            "ROUGE-L Score: 0.0000\n",
            "Exact Match: 0\n",
            "F1 Score: 0.0000\n",
            "\n",
            "---\n",
            "\n"
          ]
        },
        {
          "output_type": "stream",
          "name": "stderr",
          "text": [
            "Setting `pad_token_id` to `eos_token_id`:128001 for open-end generation.\n"
          ]
        },
        {
          "output_type": "stream",
          "name": "stdout",
          "text": [
            "Title: Siegfried Lenz\n",
            "Question: Which university did Siegfried Lenz attend?\n",
            "Correct Answer: University of Hamburg\n",
            "Generated Answer: University of Göttingen\n",
            "BLEU Score: 0.2403\n",
            "ROUGE-L Score: 0.5714\n",
            "Exact Match: 0\n",
            "F1 Score: 0.6667\n",
            "\n",
            "---\n",
            "\n"
          ]
        },
        {
          "output_type": "stream",
          "name": "stderr",
          "text": [
            "Setting `pad_token_id` to `eos_token_id`:128001 for open-end generation.\n"
          ]
        },
        {
          "output_type": "stream",
          "name": "stdout",
          "text": [
            "Title: Siegfried Lenz\n",
            "Question: When did Siegfried Lenz die?\n",
            "Correct Answer: 7 October 2014\n",
            "Generated Answer: 2008\n",
            "BLEU Score: 0.0000\n",
            "ROUGE-L Score: 0.0000\n",
            "Exact Match: 0\n",
            "F1 Score: 0.0000\n",
            "\n",
            "---\n",
            "\n"
          ]
        },
        {
          "output_type": "stream",
          "name": "stderr",
          "text": [
            "Setting `pad_token_id` to `eos_token_id`:128001 for open-end generation.\n"
          ]
        },
        {
          "output_type": "stream",
          "name": "stdout",
          "text": [
            "Title: Siegfried Lenz\n",
            "Question: What was the subject of the novel 'Der Überläufer' by Siegfried Lenz?\n",
            "Correct Answer: A German soldier who defects to Soviet forces\n",
            "Generated Answer: A young man who kills his father\n",
            "BLEU Score: 0.0341\n",
            "ROUGE-L Score: 0.2667\n",
            "Exact Match: 0\n",
            "F1 Score: 0.2667\n",
            "\n",
            "---\n",
            "\n"
          ]
        },
        {
          "output_type": "stream",
          "name": "stderr",
          "text": [
            "Setting `pad_token_id` to `eos_token_id`:128001 for open-end generation.\n"
          ]
        },
        {
          "output_type": "stream",
          "name": "stdout",
          "text": [
            "Title: Siegfried Lenz\n",
            "Question: What was Siegfried Lenz's role in the Group 47?\n",
            "Correct Answer: Member\n",
            "Generated Answer: Writer\n",
            "BLEU Score: 0.0000\n",
            "ROUGE-L Score: 0.0000\n",
            "Exact Match: 0\n",
            "F1 Score: 0.0000\n",
            "\n",
            "---\n",
            "\n"
          ]
        },
        {
          "output_type": "stream",
          "name": "stderr",
          "text": [
            "Setting `pad_token_id` to `eos_token_id`:128001 for open-end generation.\n"
          ]
        },
        {
          "output_type": "stream",
          "name": "stdout",
          "text": [
            "Title: Philip Stanhope, 5th Earl Stanhope\n",
            "Question: What year did Philip Henry Stanhope, 5th Earl Stanhope, help pass the Literary Copyright Act?\n",
            "Correct Answer: 1842\n",
            "Generated Answer: 1842\n",
            "BLEU Score: 0.1778\n",
            "ROUGE-L Score: 1.0000\n",
            "Exact Match: 1\n",
            "F1 Score: 1.0000\n",
            "\n",
            "---\n",
            "\n"
          ]
        },
        {
          "output_type": "stream",
          "name": "stderr",
          "text": [
            "Setting `pad_token_id` to `eos_token_id`:128001 for open-end generation.\n"
          ]
        },
        {
          "output_type": "stream",
          "name": "stdout",
          "text": [
            "Title: Philip Stanhope, 5th Earl Stanhope\n",
            "Question: What role did Philip Henry Stanhope, 5th Earl Stanhope, serve in the Royal Literary Fund until his death?\n",
            "Correct Answer: President\n",
            "Generated Answer: Secretary\n",
            "BLEU Score: 0.0000\n",
            "ROUGE-L Score: 0.0000\n",
            "Exact Match: 0\n",
            "F1 Score: 0.0000\n",
            "\n",
            "---\n",
            "\n"
          ]
        },
        {
          "output_type": "stream",
          "name": "stderr",
          "text": [
            "Setting `pad_token_id` to `eos_token_id`:128001 for open-end generation.\n"
          ]
        },
        {
          "output_type": "stream",
          "name": "stdout",
          "text": [
            "Title: Philip Stanhope, 5th Earl Stanhope\n",
            "Question: Which prize did Philip Henry Stanhope, 5th Earl Stanhope, found at Oxford in 1855?\n",
            "Correct Answer: The Stanhope essay prize\n",
            "Generated Answer: The Magna Carta\n",
            "BLEU Score: 0.0814\n",
            "ROUGE-L Score: 0.2857\n",
            "Exact Match: 0\n",
            "F1 Score: 0.2857\n",
            "\n",
            "---\n",
            "\n"
          ]
        },
        {
          "output_type": "stream",
          "name": "stderr",
          "text": [
            "Setting `pad_token_id` to `eos_token_id`:128001 for open-end generation.\n"
          ]
        },
        {
          "output_type": "stream",
          "name": "stdout",
          "text": [
            "Title: Philip Stanhope, 5th Earl Stanhope\n",
            "Question: What was the title of Philip Henry Stanhope, 5th Earl Stanhope's work about the War of the Spanish Succession?\n",
            "Correct Answer: History of the War of the Succession in Spain\n",
            "Generated Answer: The British Part of the Treaty\n",
            "BLEU Score: 0.0580\n",
            "ROUGE-L Score: 0.4000\n",
            "Exact Match: 0\n",
            "F1 Score: 0.2667\n",
            "\n",
            "---\n",
            "\n"
          ]
        },
        {
          "output_type": "stream",
          "name": "stderr",
          "text": [
            "Setting `pad_token_id` to `eos_token_id`:128001 for open-end generation.\n"
          ]
        },
        {
          "output_type": "stream",
          "name": "stdout",
          "text": [
            "Title: Philip Stanhope, 5th Earl Stanhope\n",
            "Question: Who were Philip Henry Stanhope, 5th Earl Stanhope's parents?\n",
            "Correct Answer: Philip Stanhope, 4th Earl Stanhope, and the Hon. Catherine Stanhope\n",
            "Generated Answer: Charles Stanhope and Charlotte Stanhope\n",
            "BLEU Score: 0.0463\n",
            "ROUGE-L Score: 0.4000\n",
            "Exact Match: 0\n",
            "F1 Score: 0.2667\n",
            "\n",
            "---\n",
            "\n"
          ]
        },
        {
          "output_type": "stream",
          "name": "stderr",
          "text": [
            "Setting `pad_token_id` to `eos_token_id`:128001 for open-end generation.\n"
          ]
        },
        {
          "output_type": "stream",
          "name": "stdout",
          "text": [
            "Title: Philip Stanhope, 5th Earl Stanhope\n",
            "Question: What narrative does 'The Forty-Five', a work by Philip Henry Stanhope, 5th Earl Stanhope, detail?\n",
            "Correct Answer: The Jacobite rising of 1745\n",
            "Generated Answer: The Battle of Waterloo\n",
            "BLEU Score: 0.0744\n",
            "ROUGE-L Score: 0.4444\n",
            "Exact Match: 0\n",
            "F1 Score: 0.4444\n",
            "\n",
            "---\n",
            "\n"
          ]
        },
        {
          "output_type": "stream",
          "name": "stderr",
          "text": [
            "Setting `pad_token_id` to `eos_token_id`:128001 for open-end generation.\n"
          ]
        },
        {
          "output_type": "stream",
          "name": "stdout",
          "text": [
            "Title: Henryk Grossman\n",
            "Question: What is Henryk Grossman's nationality?\n",
            "Correct Answer: Polish\n",
            "Generated Answer: Polish\n",
            "BLEU Score: 0.1778\n",
            "ROUGE-L Score: 1.0000\n",
            "Exact Match: 1\n",
            "F1 Score: 1.0000\n",
            "\n",
            "---\n",
            "\n"
          ]
        },
        {
          "output_type": "stream",
          "name": "stderr",
          "text": [
            "Setting `pad_token_id` to `eos_token_id`:128001 for open-end generation.\n"
          ]
        },
        {
          "output_type": "stream",
          "name": "stdout",
          "text": [
            "Title: Henryk Grossman\n",
            "Question: In which field was Henryk Grossman primarily active?\n",
            "Correct Answer: Economics\n",
            "Generated Answer: Economics\n",
            "BLEU Score: 0.1778\n",
            "ROUGE-L Score: 1.0000\n",
            "Exact Match: 1\n",
            "F1 Score: 1.0000\n",
            "\n",
            "---\n",
            "\n"
          ]
        },
        {
          "output_type": "stream",
          "name": "stderr",
          "text": [
            "Setting `pad_token_id` to `eos_token_id`:128001 for open-end generation.\n"
          ]
        },
        {
          "output_type": "stream",
          "name": "stdout",
          "text": [
            "Title: Henryk Grossman\n",
            "Question: What was the title of Henryk Grossman's key contribution to political-economic theory?\n",
            "Correct Answer: The Law of Accumulation and Breakdown of the Capitalist System\n",
            "Generated Answer: The Method of Revaluation\n",
            "BLEU Score: 0.0213\n",
            "ROUGE-L Score: 0.2857\n",
            "Exact Match: 0\n",
            "F1 Score: 0.2857\n",
            "\n",
            "---\n",
            "\n"
          ]
        },
        {
          "output_type": "stream",
          "name": "stderr",
          "text": [
            "Setting `pad_token_id` to `eos_token_id`:128001 for open-end generation.\n"
          ]
        },
        {
          "output_type": "stream",
          "name": "stdout",
          "text": [
            "Title: Henryk Grossman\n",
            "Question: In what year did Henryk Grossman publish his key work, just before the Stock Market Crash of 1929?\n",
            "Correct Answer: 1929\n",
            "Generated Answer: 1928\n",
            "BLEU Score: 0.0000\n",
            "ROUGE-L Score: 0.0000\n",
            "Exact Match: 0\n",
            "F1 Score: 0.0000\n",
            "\n",
            "---\n",
            "\n"
          ]
        },
        {
          "output_type": "stream",
          "name": "stderr",
          "text": [
            "Setting `pad_token_id` to `eos_token_id`:128001 for open-end generation.\n"
          ]
        },
        {
          "output_type": "stream",
          "name": "stdout",
          "text": [
            "Title: Henryk Grossman\n",
            "Question: What was the ethnic background of Henryk Grossman's family?\n",
            "Correct Answer: Polish-Jewish\n",
            "Generated Answer: Jewish\n",
            "BLEU Score: 0.0654\n",
            "ROUGE-L Score: 0.6667\n",
            "Exact Match: 0\n",
            "F1 Score: 0.6667\n",
            "\n",
            "---\n",
            "\n"
          ]
        },
        {
          "output_type": "stream",
          "name": "stderr",
          "text": [
            "Setting `pad_token_id` to `eos_token_id`:128001 for open-end generation.\n"
          ]
        },
        {
          "output_type": "stream",
          "name": "stdout",
          "text": [
            "Title: Henryk Grossman\n",
            "Question: Which political party did Henryk Grossman join in Poland?\n",
            "Correct Answer: Communist Party of Poland\n",
            "Generated Answer: Polish Socialist Party\n",
            "BLEU Score: 0.0814\n",
            "ROUGE-L Score: 0.2857\n",
            "Exact Match: 0\n",
            "F1 Score: 0.2857\n",
            "\n",
            "---\n",
            "\n"
          ]
        },
        {
          "output_type": "stream",
          "name": "stderr",
          "text": [
            "Setting `pad_token_id` to `eos_token_id`:128001 for open-end generation.\n"
          ]
        },
        {
          "output_type": "stream",
          "name": "stdout",
          "text": [
            "Title: Henryk Grossman\n",
            "Question: What position did Henryk Grossman hold at the Free Polish University in Warsaw?\n",
            "Correct Answer: Professor of economics\n",
            "Generated Answer: Economics professor\n",
            "BLEU Score: 0.1079\n",
            "ROUGE-L Score: 0.4000\n",
            "Exact Match: 0\n",
            "F1 Score: 0.8000\n",
            "\n",
            "---\n",
            "\n"
          ]
        },
        {
          "output_type": "stream",
          "name": "stderr",
          "text": [
            "Setting `pad_token_id` to `eos_token_id`:128001 for open-end generation.\n"
          ]
        },
        {
          "output_type": "stream",
          "name": "stdout",
          "text": [
            "Title: Edward Adelbert Doisy\n",
            "Question: What position did Edward Adelbert Doisy hold at Saint Louis University starting in 1923?\n",
            "Correct Answer: Professor and chairman of the Department of Biochemistry\n",
            "Generated Answer: Professor of Medicine\n",
            "BLEU Score: 0.0255\n",
            "ROUGE-L Score: 0.3636\n",
            "Exact Match: 0\n",
            "F1 Score: 0.3636\n",
            "\n",
            "---\n",
            "\n"
          ]
        },
        {
          "output_type": "stream",
          "name": "stderr",
          "text": [
            "Setting `pad_token_id` to `eos_token_id`:128001 for open-end generation.\n"
          ]
        },
        {
          "output_type": "stream",
          "name": "stdout",
          "text": [
            "Title: Edward Adelbert Doisy\n",
            "Question: What was the original name of the department at Saint Louis University that was renamed in honor of Edward Adelbert Doisy?\n",
            "Correct Answer: Department of Biochemistry\n",
            "Generated Answer: Department of Medicine\n",
            "BLEU Score: 0.2403\n",
            "ROUGE-L Score: 0.6667\n",
            "Exact Match: 0\n",
            "F1 Score: 0.6667\n",
            "\n",
            "---\n",
            "\n"
          ]
        },
        {
          "output_type": "stream",
          "name": "stderr",
          "text": [
            "Setting `pad_token_id` to `eos_token_id`:128001 for open-end generation.\n"
          ]
        },
        {
          "output_type": "stream",
          "name": "stdout",
          "text": [
            "Title: Edward Adelbert Doisy\n",
            "Question: What is the current name of the department at Saint Louis University named after Edward Adelbert Doisy?\n",
            "Correct Answer: E.A. Doisy Department of Biochemistry and Molecular Biology\n",
            "Generated Answer: Department of Biochemistry and Molecular Biology\n",
            "BLEU Score: 0.6065\n",
            "ROUGE-L Score: 0.8000\n",
            "Exact Match: 0\n",
            "F1 Score: 0.8000\n",
            "\n",
            "---\n",
            "\n"
          ]
        },
        {
          "output_type": "stream",
          "name": "stderr",
          "text": [
            "Setting `pad_token_id` to `eos_token_id`:128001 for open-end generation.\n"
          ]
        },
        {
          "output_type": "stream",
          "name": "stdout",
          "text": [
            "Title: Edward Adelbert Doisy\n",
            "Question: Was Edward Adelbert Doisy awarded the Nobel Prize in Chemistry for the discovery of estrone?\n",
            "Correct Answer: No\n",
            "Generated Answer: No\n",
            "BLEU Score: 0.1778\n",
            "ROUGE-L Score: 1.0000\n",
            "Exact Match: 1\n",
            "F1 Score: 1.0000\n",
            "\n",
            "---\n",
            "\n"
          ]
        },
        {
          "output_type": "stream",
          "name": "stderr",
          "text": [
            "Setting `pad_token_id` to `eos_token_id`:128001 for open-end generation.\n"
          ]
        },
        {
          "output_type": "stream",
          "name": "stdout",
          "text": [
            "Title: Chico O'Farrill\n",
            "Question: When was Chico O'Farrill born?\n",
            "Correct Answer: October 28, 1921\n",
            "Generated Answer: 1921\n",
            "BLEU Score: 0.0241\n",
            "ROUGE-L Score: 0.5000\n",
            "Exact Match: 0\n",
            "F1 Score: 0.5000\n",
            "\n",
            "---\n",
            "\n"
          ]
        },
        {
          "output_type": "stream",
          "name": "stderr",
          "text": [
            "Setting `pad_token_id` to `eos_token_id`:128001 for open-end generation.\n"
          ]
        },
        {
          "output_type": "stream",
          "name": "stdout",
          "text": [
            "Title: Chico O'Farrill\n",
            "Question: Which nightclub did Chico O'Farrill's big band take up residence at in the 1990s?\n",
            "Correct Answer: Birdland\n",
            "Generated Answer: The Village Gate\n",
            "BLEU Score: 0.0000\n",
            "ROUGE-L Score: 0.0000\n",
            "Exact Match: 0\n",
            "F1 Score: 0.0000\n",
            "\n",
            "---\n",
            "\n"
          ]
        },
        {
          "output_type": "stream",
          "name": "stderr",
          "text": [
            "Setting `pad_token_id` to `eos_token_id`:128001 for open-end generation.\n"
          ]
        },
        {
          "output_type": "stream",
          "name": "stdout",
          "text": [
            "Title: Chico O'Farrill\n",
            "Question: In what city was Chico O'Farrill born?\n",
            "Correct Answer: Havana, Cuba\n",
            "Generated Answer: Havana\n",
            "BLEU Score: 0.0654\n",
            "ROUGE-L Score: 0.6667\n",
            "Exact Match: 0\n",
            "F1 Score: 0.6667\n",
            "\n",
            "---\n",
            "\n"
          ]
        },
        {
          "output_type": "stream",
          "name": "stderr",
          "text": [
            "Setting `pad_token_id` to `eos_token_id`:128001 for open-end generation.\n"
          ]
        },
        {
          "output_type": "stream",
          "name": "stdout",
          "text": [
            "Title: Chico O'Farrill\n",
            "Question: What nickname was Chico O'Farrill given by Benny Goodman due to pronunciation difficulties?\n",
            "Correct Answer: Chico\n",
            "Generated Answer: \"Chick\"\n",
            "BLEU Score: 0.0000\n",
            "ROUGE-L Score: 0.0000\n",
            "Exact Match: 0\n",
            "F1 Score: 0.0000\n",
            "\n",
            "---\n",
            "\n"
          ]
        },
        {
          "output_type": "stream",
          "name": "stderr",
          "text": [
            "Setting `pad_token_id` to `eos_token_id`:128001 for open-end generation.\n"
          ]
        },
        {
          "output_type": "stream",
          "name": "stdout",
          "text": [
            "Title: Chico O'Farrill\n",
            "Question: Who took over Chico O'Farrill's band after his retirement?\n",
            "Correct Answer: His son, Arturo O'Farrill\n",
            "Generated Answer: Art Farmer\n",
            "BLEU Score: 0.0000\n",
            "ROUGE-L Score: 0.0000\n",
            "Exact Match: 0\n",
            "F1 Score: 0.0000\n",
            "\n",
            "---\n",
            "\n"
          ]
        },
        {
          "output_type": "stream",
          "name": "stderr",
          "text": [
            "Setting `pad_token_id` to `eos_token_id`:128001 for open-end generation.\n"
          ]
        },
        {
          "output_type": "stream",
          "name": "stdout",
          "text": [
            "Title: Chico O'Farrill\n",
            "Question: What did Chico O'Farrill credit himself with introducing to jazz band rhythm sections?\n",
            "Correct Answer: The clave\n",
            "Generated Answer: The piano-bass-drums trio\n",
            "BLEU Score: 0.0537\n",
            "ROUGE-L Score: 0.2857\n",
            "Exact Match: 0\n",
            "F1 Score: 0.2857\n",
            "\n",
            "---\n",
            "\n"
          ]
        },
        {
          "output_type": "stream",
          "name": "stderr",
          "text": [
            "Setting `pad_token_id` to `eos_token_id`:128001 for open-end generation.\n"
          ]
        },
        {
          "output_type": "stream",
          "name": "stdout",
          "text": [
            "Title: Chico O'Farrill\n",
            "Question: What is the title of the suite that best summarizes Chico O'Farrill's fusion of musical styles?\n",
            "Correct Answer: Afro-Cuban Jazz Suite\n",
            "Generated Answer: Afro-Cuban\n",
            "BLEU Score: 0.1163\n",
            "ROUGE-L Score: 0.6667\n",
            "Exact Match: 0\n",
            "F1 Score: 0.6667\n",
            "\n",
            "---\n",
            "\n"
          ]
        },
        {
          "output_type": "stream",
          "name": "stderr",
          "text": [
            "Setting `pad_token_id` to `eos_token_id`:128001 for open-end generation.\n"
          ]
        },
        {
          "output_type": "stream",
          "name": "stdout",
          "text": [
            "Title: Jonas Kazlauskas\n",
            "Question: What is Jonas Kazlauskas's nationality?\n",
            "Correct Answer: Lithuanian\n",
            "Generated Answer: Lithuanian\n",
            "BLEU Score: 0.1778\n",
            "ROUGE-L Score: 1.0000\n",
            "Exact Match: 1\n",
            "F1 Score: 1.0000\n",
            "\n",
            "---\n",
            "\n"
          ]
        },
        {
          "output_type": "stream",
          "name": "stderr",
          "text": [
            "Setting `pad_token_id` to `eos_token_id`:128001 for open-end generation.\n"
          ]
        },
        {
          "output_type": "stream",
          "name": "stdout",
          "text": [
            "Title: Jonas Kazlauskas\n",
            "Question: In which league did Jonas Kazlauskas coach the Guangdong Southern Tigers?\n",
            "Correct Answer: Chinese Basketball Association (CBA)\n",
            "Generated Answer: CBA\n",
            "BLEU Score: 0.0089\n",
            "ROUGE-L Score: 0.4000\n",
            "Exact Match: 0\n",
            "F1 Score: 0.4000\n",
            "\n",
            "---\n",
            "\n"
          ]
        },
        {
          "output_type": "stream",
          "name": "stderr",
          "text": [
            "Setting `pad_token_id` to `eos_token_id`:128001 for open-end generation.\n"
          ]
        },
        {
          "output_type": "stream",
          "name": "stdout",
          "text": [
            "Title: Jonas Kazlauskas\n",
            "Question: Which two top Lithuanian pro club basketball teams did Jonas Kazlauskas coach?\n",
            "Correct Answer: Žalgiris Kaunas and Lietuvos rytas Vilnius\n",
            "Generated Answer: Lietuvos Rytas and Žalgiris\n",
            "BLEU Score: 0.1226\n",
            "ROUGE-L Score: 0.4000\n",
            "Exact Match: 0\n",
            "F1 Score: 0.8000\n",
            "\n",
            "---\n",
            "\n"
          ]
        },
        {
          "output_type": "stream",
          "name": "stderr",
          "text": [
            "Setting `pad_token_id` to `eos_token_id`:128001 for open-end generation.\n"
          ]
        },
        {
          "output_type": "stream",
          "name": "stdout",
          "text": [
            "Title: Jonas Kazlauskas\n",
            "Question: Which national team did Jonas Kazlauskas lead to bronze medals at the 2000 Summer Olympics?\n",
            "Correct Answer: Lithuanian national team\n",
            "Generated Answer: Lithuania\n",
            "BLEU Score: 0.0000\n",
            "ROUGE-L Score: 0.0000\n",
            "Exact Match: 0\n",
            "F1 Score: 0.0000\n",
            "\n",
            "---\n",
            "\n"
          ]
        },
        {
          "output_type": "stream",
          "name": "stderr",
          "text": [
            "Setting `pad_token_id` to `eos_token_id`:128001 for open-end generation.\n"
          ]
        },
        {
          "output_type": "stream",
          "name": "stdout",
          "text": [
            "Title: José Batlle y Ordóñez\n",
            "Question: What is the full name of José Batlle y Ordóñez?\n",
            "Correct Answer: José Pablo Torcuato Batlle y Ordóñez\n",
            "Generated Answer: José María Batle y Ordóñez\n",
            "BLEU Score: 0.1029\n",
            "ROUGE-L Score: 0.5714\n",
            "Exact Match: 0\n",
            "F1 Score: 0.5455\n",
            "\n",
            "---\n",
            "\n"
          ]
        },
        {
          "output_type": "stream",
          "name": "stderr",
          "text": [
            "Setting `pad_token_id` to `eos_token_id`:128001 for open-end generation.\n"
          ]
        },
        {
          "output_type": "stream",
          "name": "stdout",
          "text": [
            "Title: José Batlle y Ordóñez\n",
            "Question: Where was José Batlle y Ordóñez born?\n",
            "Correct Answer: Montevideo, Uruguay\n",
            "Generated Answer: Montevideo\n",
            "BLEU Score: 0.0654\n",
            "ROUGE-L Score: 0.6667\n",
            "Exact Match: 0\n",
            "F1 Score: 0.6667\n",
            "\n",
            "---\n",
            "\n"
          ]
        },
        {
          "output_type": "stream",
          "name": "stderr",
          "text": [
            "Setting `pad_token_id` to `eos_token_id`:128001 for open-end generation.\n"
          ]
        },
        {
          "output_type": "stream",
          "name": "stdout",
          "text": [
            "Title: José Batlle y Ordóñez\n",
            "Question: For which political party did José Batlle y Ordóñez serve as President of Uruguay?\n",
            "Correct Answer: Colorado Party\n",
            "Generated Answer: Colorado Party\n",
            "BLEU Score: 0.3162\n",
            "ROUGE-L Score: 1.0000\n",
            "Exact Match: 1\n",
            "F1 Score: 1.0000\n",
            "\n",
            "---\n",
            "\n"
          ]
        },
        {
          "output_type": "stream",
          "name": "stderr",
          "text": [
            "Setting `pad_token_id` to `eos_token_id`:128001 for open-end generation.\n"
          ]
        },
        {
          "output_type": "stream",
          "name": "stdout",
          "text": [
            "Title: José Batlle y Ordóñez\n",
            "Question: Which university did José Batlle y Ordóñez attend?\n",
            "Correct Answer: University of the Republic\n",
            "Generated Answer: Universidad de la República\n",
            "BLEU Score: 0.0000\n",
            "ROUGE-L Score: 0.0000\n",
            "Exact Match: 0\n",
            "F1 Score: 0.0000\n",
            "\n",
            "---\n",
            "\n"
          ]
        },
        {
          "output_type": "stream",
          "name": "stderr",
          "text": [
            "Setting `pad_token_id` to `eos_token_id`:128001 for open-end generation.\n"
          ]
        },
        {
          "output_type": "stream",
          "name": "stdout",
          "text": [
            "Title: František Chvostek\n",
            "Question: What is the full name of František Chvostek?\n",
            "Correct Answer: František Chvostek\n",
            "Generated Answer: František Chvostek\n",
            "BLEU Score: 0.3162\n",
            "ROUGE-L Score: 1.0000\n",
            "Exact Match: 1\n",
            "F1 Score: 1.0000\n",
            "\n",
            "---\n",
            "\n"
          ]
        },
        {
          "output_type": "stream",
          "name": "stderr",
          "text": [
            "Setting `pad_token_id` to `eos_token_id`:128001 for open-end generation.\n"
          ]
        },
        {
          "output_type": "stream",
          "name": "stdout",
          "text": [
            "Title: František Chvostek\n",
            "Question: What is the German name of František Chvostek?\n",
            "Correct Answer: Franz Chvostek\n",
            "Generated Answer: Franz von Chvostek\n",
            "BLEU Score: 0.1351\n",
            "ROUGE-L Score: 0.8000\n",
            "Exact Match: 0\n",
            "F1 Score: 0.8000\n",
            "\n",
            "---\n",
            "\n"
          ]
        },
        {
          "output_type": "stream",
          "name": "stderr",
          "text": [
            "Setting `pad_token_id` to `eos_token_id`:128001 for open-end generation.\n"
          ]
        },
        {
          "output_type": "stream",
          "name": "stdout",
          "text": [
            "Title: František Chvostek\n",
            "Question: What nationality was František Chvostek?\n",
            "Correct Answer: Czech-Austrian\n",
            "Generated Answer: Czech\n",
            "BLEU Score: 0.0654\n",
            "ROUGE-L Score: 0.6667\n",
            "Exact Match: 0\n",
            "F1 Score: 0.6667\n",
            "\n",
            "---\n",
            "\n"
          ]
        },
        {
          "output_type": "stream",
          "name": "stderr",
          "text": [
            "Setting `pad_token_id` to `eos_token_id`:128001 for open-end generation.\n"
          ]
        },
        {
          "output_type": "stream",
          "name": "stdout",
          "text": [
            "Title: František Chvostek\n",
            "Question: What is František Chvostek most notable for?\n",
            "Correct Answer: Describing Chvostek's sign\n",
            "Generated Answer: Neurological sign\n",
            "BLEU Score: 0.0550\n",
            "ROUGE-L Score: 0.3333\n",
            "Exact Match: 0\n",
            "F1 Score: 0.3333\n",
            "\n",
            "---\n",
            "\n"
          ]
        },
        {
          "output_type": "stream",
          "name": "stderr",
          "text": [
            "Setting `pad_token_id` to `eos_token_id`:128001 for open-end generation.\n"
          ]
        },
        {
          "output_type": "stream",
          "name": "stdout",
          "text": [
            "Title: Marianne Brandt\n",
            "Question: Which art school did Marianne Brandt attend?\n",
            "Correct Answer: Bauhaus art school in Weimar\n",
            "Generated Answer: Bauhaus\n",
            "BLEU Score: 0.0033\n",
            "ROUGE-L Score: 0.3333\n",
            "Exact Match: 0\n",
            "F1 Score: 0.3333\n",
            "\n",
            "---\n",
            "\n"
          ]
        },
        {
          "output_type": "stream",
          "name": "stderr",
          "text": [
            "Setting `pad_token_id` to `eos_token_id`:128001 for open-end generation.\n"
          ]
        },
        {
          "output_type": "stream",
          "name": "stdout",
          "text": [
            "Title: Marianne Brandt\n",
            "Question: Which styles did Marianne Brandt produce works in before focusing on industrial design?\n",
            "Correct Answer: Expressionist\n",
            "Generated Answer: Sculpture\n",
            "BLEU Score: 0.0000\n",
            "ROUGE-L Score: 0.0000\n",
            "Exact Match: 0\n",
            "F1 Score: 0.0000\n",
            "\n",
            "---\n",
            "\n"
          ]
        },
        {
          "output_type": "stream",
          "name": "stderr",
          "text": [
            "Setting `pad_token_id` to `eos_token_id`:128001 for open-end generation.\n"
          ]
        },
        {
          "output_type": "stream",
          "name": "stdout",
          "text": [
            "Title: Marianne Brandt\n",
            "Question: Which Bauhaus teacher was impressed by Marianne Brandt's work, leading to her joining the metal workshop?\n",
            "Correct Answer: László Moholy-Nagy\n",
            "Generated Answer: Anni Albers\n",
            "BLEU Score: 0.0000\n",
            "ROUGE-L Score: 0.0000\n",
            "Exact Match: 0\n",
            "F1 Score: 0.0000\n",
            "\n",
            "---\n",
            "\n"
          ]
        },
        {
          "output_type": "stream",
          "name": "stderr",
          "text": [
            "Setting `pad_token_id` to `eos_token_id`:128001 for open-end generation.\n"
          ]
        },
        {
          "output_type": "stream",
          "name": "stdout",
          "text": [
            "Title: Marianne Brandt\n",
            "Question: What type of compositions did Marianne Brandt create as a pioneering photographer?\n",
            "Correct Answer: Experimental still-life\n",
            "Generated Answer: Portraits\n",
            "BLEU Score: 0.0000\n",
            "ROUGE-L Score: 0.0000\n",
            "Exact Match: 0\n",
            "F1 Score: 0.0000\n",
            "\n",
            "---\n",
            "\n"
          ]
        },
        {
          "output_type": "stream",
          "name": "stderr",
          "text": [
            "Setting `pad_token_id` to `eos_token_id`:128001 for open-end generation.\n"
          ]
        },
        {
          "output_type": "stream",
          "name": "stdout",
          "text": [
            "Title: Michael Tiemann\n",
            "Question: What role did Michael Tiemann have at the Open Source Initiative?\n",
            "Correct Answer: President\n",
            "Generated Answer: Executive Director\n",
            "BLEU Score: 0.0000\n",
            "ROUGE-L Score: 0.0000\n",
            "Exact Match: 0\n",
            "F1 Score: 0.0000\n",
            "\n",
            "---\n",
            "\n"
          ]
        },
        {
          "output_type": "stream",
          "name": "stderr",
          "text": [
            "Setting `pad_token_id` to `eos_token_id`:128001 for open-end generation.\n"
          ]
        },
        {
          "output_type": "stream",
          "name": "stdout",
          "text": [
            "Title: Michael Tiemann\n",
            "Question: Which programming language's GNU compiler did Michael Tiemann author?\n",
            "Correct Answer: C++\n",
            "Generated Answer: C\n",
            "BLEU Score: 0.1778\n",
            "ROUGE-L Score: 1.0000\n",
            "Exact Match: 1\n",
            "F1 Score: 1.0000\n",
            "\n",
            "---\n",
            "\n"
          ]
        },
        {
          "output_type": "stream",
          "name": "stderr",
          "text": [
            "Setting `pad_token_id` to `eos_token_id`:128001 for open-end generation.\n"
          ]
        },
        {
          "output_type": "stream",
          "name": "stdout",
          "text": [
            "Title: Michael Tiemann\n",
            "Question: What was Michael Tiemann's role at Red Hat besides vice president of open source affairs?\n",
            "Correct Answer: Chief technical officer\n",
            "Generated Answer: Chief technical officer\n",
            "BLEU Score: 0.5623\n",
            "ROUGE-L Score: 1.0000\n",
            "Exact Match: 1\n",
            "F1 Score: 1.0000\n",
            "\n",
            "---\n",
            "\n"
          ]
        },
        {
          "output_type": "stream",
          "name": "stderr",
          "text": [
            "Setting `pad_token_id` to `eos_token_id`:128001 for open-end generation.\n"
          ]
        },
        {
          "output_type": "stream",
          "name": "stdout",
          "text": [
            "Title: Michael Tiemann\n",
            "Question: On which foundation's advisory board did Michael Tiemann serve?\n",
            "Correct Answer: The GNOME Foundation advisory board\n",
            "Generated Answer: Open Source Initiative\n",
            "BLEU Score: 0.0000\n",
            "ROUGE-L Score: 0.0000\n",
            "Exact Match: 0\n",
            "F1 Score: 0.0000\n",
            "\n",
            "---\n",
            "\n"
          ]
        },
        {
          "output_type": "stream",
          "name": "stderr",
          "text": [
            "Setting `pad_token_id` to `eos_token_id`:128001 for open-end generation.\n"
          ]
        },
        {
          "output_type": "stream",
          "name": "stdout",
          "text": [
            "Title: Norbert Reithofer\n",
            "Question: What is Norbert Reithofer's nationality?\n",
            "Correct Answer: German\n",
            "Generated Answer: German\n",
            "BLEU Score: 0.1778\n",
            "ROUGE-L Score: 1.0000\n",
            "Exact Match: 1\n",
            "F1 Score: 1.0000\n",
            "\n",
            "---\n",
            "\n"
          ]
        },
        {
          "output_type": "stream",
          "name": "stderr",
          "text": [
            "Setting `pad_token_id` to `eos_token_id`:128001 for open-end generation.\n"
          ]
        },
        {
          "output_type": "stream",
          "name": "stdout",
          "text": [
            "Title: Norbert Reithofer\n",
            "Question: What did Norbert Reithofer study at the Technical University Munich?\n",
            "Correct Answer: Engineering and Business Administration\n",
            "Generated Answer: Automotive engineering\n",
            "BLEU Score: 0.0550\n",
            "ROUGE-L Score: 0.3333\n",
            "Exact Match: 0\n",
            "F1 Score: 0.3333\n",
            "\n",
            "---\n",
            "\n"
          ]
        },
        {
          "output_type": "stream",
          "name": "stderr",
          "text": [
            "Setting `pad_token_id` to `eos_token_id`:128001 for open-end generation.\n"
          ]
        },
        {
          "output_type": "stream",
          "name": "stdout",
          "text": [
            "Title: Norbert Reithofer\n",
            "Question: What role did Norbert Reithofer first take on at BMW?\n",
            "Correct Answer: Head of maintenance planning\n",
            "Generated Answer: Head of Production\n",
            "BLEU Score: 0.1722\n",
            "ROUGE-L Score: 0.5714\n",
            "Exact Match: 0\n",
            "F1 Score: 0.5714\n",
            "\n",
            "---\n",
            "\n"
          ]
        },
        {
          "output_type": "stream",
          "name": "stderr",
          "text": [
            "Setting `pad_token_id` to `eos_token_id`:128001 for open-end generation.\n"
          ]
        },
        {
          "output_type": "stream",
          "name": "stdout",
          "text": [
            "Title: Norbert Reithofer\n",
            "Question: In what year did Norbert Reithofer become chairman of the board and CEO of BMW?\n",
            "Correct Answer: 2006\n",
            "Generated Answer: 2009\n",
            "BLEU Score: 0.0000\n",
            "ROUGE-L Score: 0.0000\n",
            "Exact Match: 0\n",
            "F1 Score: 0.0000\n",
            "\n",
            "---\n",
            "\n"
          ]
        },
        {
          "output_type": "stream",
          "name": "stderr",
          "text": [
            "Setting `pad_token_id` to `eos_token_id`:128001 for open-end generation.\n"
          ]
        },
        {
          "output_type": "stream",
          "name": "stdout",
          "text": [
            "Title: Norbert Reithofer\n",
            "Question: What position did Norbert Reithofer take after stepping down as CEO?\n",
            "Correct Answer: Chairman of the supervisory board\n",
            "Generated Answer: Non-executive chairman\n",
            "BLEU Score: 0.0583\n",
            "ROUGE-L Score: 0.2500\n",
            "Exact Match: 0\n",
            "F1 Score: 0.2500\n",
            "\n",
            "---\n",
            "\n"
          ]
        },
        {
          "output_type": "stream",
          "name": "stderr",
          "text": [
            "Setting `pad_token_id` to `eos_token_id`:128001 for open-end generation.\n"
          ]
        },
        {
          "output_type": "stream",
          "name": "stdout",
          "text": [
            "Title: Norbert Reithofer\n",
            "Question: What was Norbert Reithofer's position at Siemens between 2015 and 2023?\n",
            "Correct Answer: Member of the supervisory board\n",
            "Generated Answer: CEO\n",
            "BLEU Score: 0.0000\n",
            "ROUGE-L Score: 0.0000\n",
            "Exact Match: 0\n",
            "F1 Score: 0.0000\n",
            "\n",
            "---\n",
            "\n"
          ]
        },
        {
          "output_type": "stream",
          "name": "stderr",
          "text": [
            "Setting `pad_token_id` to `eos_token_id`:128001 for open-end generation.\n"
          ]
        },
        {
          "output_type": "stream",
          "name": "stdout",
          "text": [
            "Title: Helen Greiner\n",
            "Question: What company did Helen Greiner co-found?\n",
            "Correct Answer: iRobot\n",
            "Generated Answer: Magellan Systems Corporation\n",
            "BLEU Score: 0.0000\n",
            "ROUGE-L Score: 0.0000\n",
            "Exact Match: 0\n",
            "F1 Score: 0.0000\n",
            "\n",
            "---\n",
            "\n"
          ]
        },
        {
          "output_type": "stream",
          "name": "stderr",
          "text": [
            "Setting `pad_token_id` to `eos_token_id`:128001 for open-end generation.\n"
          ]
        },
        {
          "output_type": "stream",
          "name": "stdout",
          "text": [
            "Title: Helen Greiner\n",
            "Question: What position did Helen Greiner hold at CyPhy Works, Inc.?\n",
            "Correct Answer: CEO\n",
            "Generated Answer: CEO and President\n",
            "BLEU Score: 0.1136\n",
            "ROUGE-L Score: 0.5000\n",
            "Exact Match: 0\n",
            "F1 Score: 0.5000\n",
            "\n",
            "---\n",
            "\n"
          ]
        },
        {
          "output_type": "stream",
          "name": "stderr",
          "text": [
            "Setting `pad_token_id` to `eos_token_id`:128001 for open-end generation.\n"
          ]
        },
        {
          "output_type": "stream",
          "name": "stdout",
          "text": [
            "Title: Helen Greiner\n",
            "Question: What notable robotics company did Helen Greiner found in 2008?\n",
            "Correct Answer: CyPhy Works\n",
            "Generated Answer: iRobot\n",
            "BLEU Score: 0.0000\n",
            "ROUGE-L Score: 0.0000\n",
            "Exact Match: 0\n",
            "F1 Score: 0.0000\n",
            "\n",
            "---\n",
            "\n"
          ]
        },
        {
          "output_type": "stream",
          "name": "stderr",
          "text": [
            "Setting `pad_token_id` to `eos_token_id`:128001 for open-end generation.\n"
          ]
        },
        {
          "output_type": "stream",
          "name": "stdout",
          "text": [
            "Title: Helen Greiner\n",
            "Question: Which award did Helen Greiner receive from the Association for Unmanned Vehicle Systems International in 2006?\n",
            "Correct Answer: Pioneer Award\n",
            "Generated Answer: The AUVSI Foundation's UAS Pioneer Award\n",
            "BLEU Score: 0.0699\n",
            "ROUGE-L Score: 0.4444\n",
            "Exact Match: 0\n",
            "F1 Score: 0.4444\n",
            "\n",
            "---\n",
            "\n"
          ]
        },
        {
          "output_type": "stream",
          "name": "stderr",
          "text": [
            "Setting `pad_token_id` to `eos_token_id`:128001 for open-end generation.\n"
          ]
        },
        {
          "output_type": "stream",
          "name": "stdout",
          "text": [
            "Title: Nikolaus Friedreich\n",
            "Question: What notable condition is named after Nikolaus Friedreich?\n",
            "Correct Answer: Friedreich's ataxia\n",
            "Generated Answer: Ataxia\n",
            "BLEU Score: 0.0241\n",
            "ROUGE-L Score: 0.5000\n",
            "Exact Match: 0\n",
            "F1 Score: 0.5000\n",
            "\n",
            "---\n",
            "\n"
          ]
        },
        {
          "output_type": "stream",
          "name": "stderr",
          "text": [
            "Setting `pad_token_id` to `eos_token_id`:128001 for open-end generation.\n"
          ]
        },
        {
          "output_type": "stream",
          "name": "stdout",
          "text": [
            "Title: Nikolaus Friedreich\n",
            "Question: What is Friedreich's disease also known as?\n",
            "Correct Answer: Friedreich's syndrome\n",
            "Generated Answer: Ataxia with sensory neuropathy\n",
            "BLEU Score: 0.0000\n",
            "ROUGE-L Score: 0.0000\n",
            "Exact Match: 0\n",
            "F1 Score: 0.0000\n",
            "\n",
            "---\n",
            "\n"
          ]
        },
        {
          "output_type": "stream",
          "name": "stderr",
          "text": [
            "Setting `pad_token_id` to `eos_token_id`:128001 for open-end generation.\n"
          ]
        },
        {
          "output_type": "stream",
          "name": "stdout",
          "text": [
            "Title: Nikolaus Friedreich\n",
            "Question: What does Friedreich's ataxia affect?\n",
            "Correct Answer: Speech, balance and coordination\n",
            "Generated Answer: Nervous system\n",
            "BLEU Score: 0.0000\n",
            "ROUGE-L Score: 0.0000\n",
            "Exact Match: 0\n",
            "F1 Score: 0.0000\n",
            "\n",
            "---\n",
            "\n"
          ]
        },
        {
          "output_type": "stream",
          "name": "stderr",
          "text": [
            "Setting `pad_token_id` to `eos_token_id`:128001 for open-end generation.\n"
          ]
        },
        {
          "output_type": "stream",
          "name": "stdout",
          "text": [
            "Title: Nikolaus Friedreich\n",
            "Question: What genetic disorder is characterized by an unusual gait pattern and named after Nikolaus Friedreich?\n",
            "Correct Answer: Friedreich's ataxia\n",
            "Generated Answer: Friedreich's ataxia\n",
            "BLEU Score: 0.5623\n",
            "ROUGE-L Score: 1.0000\n",
            "Exact Match: 1\n",
            "F1 Score: 1.0000\n",
            "\n",
            "---\n",
            "\n"
          ]
        },
        {
          "output_type": "stream",
          "name": "stderr",
          "text": [
            "Setting `pad_token_id` to `eos_token_id`:128001 for open-end generation.\n"
          ]
        },
        {
          "output_type": "stream",
          "name": "stdout",
          "text": [
            "Title: Louis Néel\n",
            "Question: What award did Louis Eugène Félix Néel receive in 1970?\n",
            "Correct Answer: Nobel Prize for Physics\n",
            "Generated Answer: Nobel Prize\n",
            "BLEU Score: 0.1163\n",
            "ROUGE-L Score: 0.6667\n",
            "Exact Match: 0\n",
            "F1 Score: 0.6667\n",
            "\n",
            "---\n",
            "\n"
          ]
        },
        {
          "output_type": "stream",
          "name": "stderr",
          "text": [
            "Setting `pad_token_id` to `eos_token_id`:128001 for open-end generation.\n"
          ]
        },
        {
          "output_type": "stream",
          "name": "stdout",
          "text": [
            "Title: Louis Néel\n",
            "Question: What was the field of study that Louis Eugène Félix Néel specialized in?\n",
            "Correct Answer: Magnetic properties of solids\n",
            "Generated Answer: Magnetism\n",
            "BLEU Score: 0.0000\n",
            "ROUGE-L Score: 0.4000\n",
            "Exact Match: 0\n",
            "F1 Score: 0.0000\n",
            "\n",
            "---\n",
            "\n"
          ]
        },
        {
          "output_type": "stream",
          "name": "stderr",
          "text": [
            "Setting `pad_token_id` to `eos_token_id`:128001 for open-end generation.\n"
          ]
        },
        {
          "output_type": "stream",
          "name": "stdout",
          "text": [
            "Title: Louis Néel\n",
            "Question: What educational institution did Louis Eugène Félix Néel attend for his Doctor of Science degree?\n",
            "Correct Answer: University of Strasbourg\n",
            "Generated Answer: University of Grenoble\n",
            "BLEU Score: 0.2403\n",
            "ROUGE-L Score: 0.6667\n",
            "Exact Match: 0\n",
            "F1 Score: 0.6667\n",
            "\n",
            "---\n",
            "\n"
          ]
        },
        {
          "output_type": "stream",
          "name": "stderr",
          "text": [
            "Setting `pad_token_id` to `eos_token_id`:128001 for open-end generation.\n"
          ]
        },
        {
          "output_type": "stream",
          "name": "stdout",
          "text": [
            "Title: Louis Néel\n",
            "Question: Which academy elected Louis Eugène Félix Néel as a Foreign Member in 1959?\n",
            "Correct Answer: Royal Netherlands Academy of Arts and Sciences\n",
            "Generated Answer: The Royal Swedish Academy of Sciences\n",
            "BLEU Score: 0.0869\n",
            "ROUGE-L Score: 0.6154\n",
            "Exact Match: 0\n",
            "F1 Score: 0.6154\n",
            "\n",
            "---\n",
            "\n"
          ]
        },
        {
          "output_type": "stream",
          "name": "stderr",
          "text": [
            "Setting `pad_token_id` to `eos_token_id`:128001 for open-end generation.\n"
          ]
        },
        {
          "output_type": "stream",
          "name": "stdout",
          "text": [
            "Title: Lee Lawrie\n",
            "Question: What was Lee Lawrie's nationality?\n",
            "Correct Answer: American\n",
            "Generated Answer: American\n",
            "BLEU Score: 0.1778\n",
            "ROUGE-L Score: 1.0000\n",
            "Exact Match: 1\n",
            "F1 Score: 1.0000\n",
            "\n",
            "---\n",
            "\n"
          ]
        },
        {
          "output_type": "stream",
          "name": "stderr",
          "text": [
            "Setting `pad_token_id` to `eos_token_id`:128001 for open-end generation.\n"
          ]
        },
        {
          "output_type": "stream",
          "name": "stdout",
          "text": [
            "Title: Lee Lawrie\n",
            "Question: What major award did Lee Lawrie receive from the American Institute of Architects?\n",
            "Correct Answer: AIA Gold Medal\n",
            "Generated Answer: The Gold Medal\n",
            "BLEU Score: 0.2403\n",
            "ROUGE-L Score: 0.6667\n",
            "Exact Match: 0\n",
            "F1 Score: 0.6667\n",
            "\n",
            "---\n",
            "\n"
          ]
        },
        {
          "output_type": "stream",
          "name": "stderr",
          "text": [
            "Setting `pad_token_id` to `eos_token_id`:128001 for open-end generation.\n"
          ]
        },
        {
          "output_type": "stream",
          "name": "stdout",
          "text": [
            "Title: Lee Lawrie\n",
            "Question: What year did Lee Lawrie die?\n",
            "Correct Answer: 1963\n",
            "Generated Answer: 1963\n",
            "BLEU Score: 0.1778\n",
            "ROUGE-L Score: 1.0000\n",
            "Exact Match: 1\n",
            "F1 Score: 1.0000\n",
            "\n",
            "---\n",
            "\n"
          ]
        },
        {
          "output_type": "stream",
          "name": "stderr",
          "text": [
            "Setting `pad_token_id` to `eos_token_id`:128001 for open-end generation.\n"
          ]
        },
        {
          "output_type": "stream",
          "name": "stdout",
          "text": [
            "Title: Lee Lawrie\n",
            "Question: For which international exposition did Lee Lawrie serve as a consultant in 1933-34?\n",
            "Correct Answer: Century of Progress International Exposition in Chicago\n",
            "Generated Answer: Barcelona\n",
            "BLEU Score: 0.0000\n",
            "ROUGE-L Score: 0.0000\n",
            "Exact Match: 0\n",
            "F1 Score: 0.0000\n",
            "\n",
            "---\n",
            "\n"
          ]
        },
        {
          "output_type": "stream",
          "name": "stderr",
          "text": [
            "Setting `pad_token_id` to `eos_token_id`:128001 for open-end generation.\n"
          ]
        },
        {
          "output_type": "stream",
          "name": "stdout",
          "text": [
            "Title: Dany Robin\n",
            "Question: What was Dany Robin's nationality?\n",
            "Correct Answer: French\n",
            "Generated Answer: French\n",
            "BLEU Score: 0.1778\n",
            "ROUGE-L Score: 1.0000\n",
            "Exact Match: 1\n",
            "F1 Score: 1.0000\n",
            "\n",
            "---\n",
            "\n"
          ]
        },
        {
          "output_type": "stream",
          "name": "stderr",
          "text": [
            "Setting `pad_token_id` to `eos_token_id`:128001 for open-end generation.\n"
          ]
        },
        {
          "output_type": "stream",
          "name": "stdout",
          "text": [
            "Title: Dany Robin\n",
            "Question: In which year was Dany Robin born?\n",
            "Correct Answer: 1927\n",
            "Generated Answer: 1935\n",
            "BLEU Score: 0.0000\n",
            "ROUGE-L Score: 0.0000\n",
            "Exact Match: 0\n",
            "F1 Score: 0.0000\n",
            "\n",
            "---\n",
            "\n"
          ]
        },
        {
          "output_type": "stream",
          "name": "stderr",
          "text": [
            "Setting `pad_token_id` to `eos_token_id`:128001 for open-end generation.\n"
          ]
        },
        {
          "output_type": "stream",
          "name": "stdout",
          "text": [
            "Title: Dany Robin\n",
            "Question: What was Dany Robin's birth name?\n",
            "Correct Answer: Danielle Robin\n",
            "Generated Answer: Sylvia Goldstein\n",
            "BLEU Score: 0.0000\n",
            "ROUGE-L Score: 0.0000\n",
            "Exact Match: 0\n",
            "F1 Score: 0.0000\n",
            "\n",
            "---\n",
            "\n"
          ]
        },
        {
          "output_type": "stream",
          "name": "stderr",
          "text": [
            "Setting `pad_token_id` to `eos_token_id`:128001 for open-end generation.\n"
          ]
        },
        {
          "output_type": "stream",
          "name": "stdout",
          "text": [
            "Title: Dany Robin\n",
            "Question: In what year did Dany Robin die?\n",
            "Correct Answer: 1995\n",
            "Generated Answer: 1999\n",
            "BLEU Score: 0.0000\n",
            "ROUGE-L Score: 0.0000\n",
            "Exact Match: 0\n",
            "F1 Score: 0.0000\n",
            "\n",
            "---\n",
            "\n"
          ]
        },
        {
          "output_type": "stream",
          "name": "stderr",
          "text": [
            "Setting `pad_token_id` to `eos_token_id`:128001 for open-end generation.\n"
          ]
        },
        {
          "output_type": "stream",
          "name": "stdout",
          "text": [
            "Title: Dany Robin\n",
            "Question: In which city did Dany Robin die?\n",
            "Correct Answer: Paris\n",
            "Generated Answer: Montreal\n",
            "BLEU Score: 0.0000\n",
            "ROUGE-L Score: 0.0000\n",
            "Exact Match: 0\n",
            "F1 Score: 0.0000\n",
            "\n",
            "---\n",
            "\n"
          ]
        },
        {
          "output_type": "stream",
          "name": "stderr",
          "text": [
            "Setting `pad_token_id` to `eos_token_id`:128001 for open-end generation.\n"
          ]
        },
        {
          "output_type": "stream",
          "name": "stdout",
          "text": [
            "Title: Dany Robin\n",
            "Question: What was the French pronunciation of Dany Robin's name?\n",
            "Correct Answer: [dani ʁɔbɛ̃]\n",
            "Generated Answer: Dan-y Roh-bin\n",
            "BLEU Score: 0.0000\n",
            "ROUGE-L Score: 0.0000\n",
            "Exact Match: 0\n",
            "F1 Score: 0.0000\n",
            "\n",
            "---\n",
            "\n"
          ]
        },
        {
          "output_type": "stream",
          "name": "stderr",
          "text": [
            "Setting `pad_token_id` to `eos_token_id`:128001 for open-end generation.\n"
          ]
        },
        {
          "output_type": "stream",
          "name": "stdout",
          "text": [
            "Title: Curt Backeberg\n",
            "Question: What was Curt Backeberg's nationality?\n",
            "Correct Answer: German\n",
            "Generated Answer: German\n",
            "BLEU Score: 0.1778\n",
            "ROUGE-L Score: 1.0000\n",
            "Exact Match: 1\n",
            "F1 Score: 1.0000\n",
            "\n",
            "---\n",
            "\n"
          ]
        },
        {
          "output_type": "stream",
          "name": "stderr",
          "text": [
            "Setting `pad_token_id` to `eos_token_id`:128001 for open-end generation.\n"
          ]
        },
        {
          "output_type": "stream",
          "name": "stdout",
          "text": [
            "Title: Curt Backeberg\n",
            "Question: Which continents did Curt Backeberg travel through for his work?\n",
            "Correct Answer: Central and South America\n",
            "Generated Answer: Africa and Asia\n",
            "BLEU Score: 0.0814\n",
            "ROUGE-L Score: 0.2857\n",
            "Exact Match: 0\n",
            "F1 Score: 0.2857\n",
            "\n",
            "---\n",
            "\n"
          ]
        },
        {
          "output_type": "stream",
          "name": "stderr",
          "text": [
            "Setting `pad_token_id` to `eos_token_id`:128001 for open-end generation.\n"
          ]
        },
        {
          "output_type": "stream",
          "name": "stdout",
          "text": [
            "Title: Curt Backeberg\n",
            "Question: What is the title of the major work published by Curt Backeberg on cacti?\n",
            "Correct Answer: Die Cactaceae\n",
            "Generated Answer: Die Cactaceae\n",
            "BLEU Score: 0.3162\n",
            "ROUGE-L Score: 1.0000\n",
            "Exact Match: 1\n",
            "F1 Score: 1.0000\n",
            "\n",
            "---\n",
            "\n"
          ]
        },
        {
          "output_type": "stream",
          "name": "stderr",
          "text": [
            "Setting `pad_token_id` to `eos_token_id`:128001 for open-end generation.\n"
          ]
        },
        {
          "output_type": "stream",
          "name": "stdout",
          "text": [
            "Title: Curt Backeberg\n",
            "Question: What is the name of the genus named in honor of Curt Backeberg?\n",
            "Correct Answer: Backebergia\n",
            "Generated Answer: Eriosyce\n",
            "BLEU Score: 0.0000\n",
            "ROUGE-L Score: 0.0000\n",
            "Exact Match: 0\n",
            "F1 Score: 0.0000\n",
            "\n",
            "---\n",
            "\n"
          ]
        },
        {
          "output_type": "stream",
          "name": "stderr",
          "text": [
            "Setting `pad_token_id` to `eos_token_id`:128001 for open-end generation.\n"
          ]
        },
        {
          "output_type": "stream",
          "name": "stdout",
          "text": [
            "Title: Ida Rolf\n",
            "Question: What field did Ida Rolf contribute to?\n",
            "Correct Answer: alternative medicine\n",
            "Generated Answer: Bodywork\n",
            "BLEU Score: 0.0000\n",
            "ROUGE-L Score: 0.0000\n",
            "Exact Match: 0\n",
            "F1 Score: 0.0000\n",
            "\n",
            "---\n",
            "\n"
          ]
        },
        {
          "output_type": "stream",
          "name": "stderr",
          "text": [
            "Setting `pad_token_id` to `eos_token_id`:128001 for open-end generation.\n"
          ]
        },
        {
          "output_type": "stream",
          "name": "stdout",
          "text": [
            "Title: Ida Rolf\n",
            "Question: What is the name of the practice that Ida Rolf created?\n",
            "Correct Answer: Structural Integration or Rolfing\n",
            "Generated Answer: Rolfing\n",
            "BLEU Score: 0.0089\n",
            "ROUGE-L Score: 0.4000\n",
            "Exact Match: 0\n",
            "F1 Score: 0.4000\n",
            "\n",
            "---\n",
            "\n"
          ]
        },
        {
          "output_type": "stream",
          "name": "stderr",
          "text": [
            "Setting `pad_token_id` to `eos_token_id`:128001 for open-end generation.\n"
          ]
        },
        {
          "output_type": "stream",
          "name": "stdout",
          "text": [
            "Title: Ida Rolf\n",
            "Question: What institute did Ida Rolf work at after receiving her PhD?\n",
            "Correct Answer: Rockefeller Institute for Medical Research\n",
            "Generated Answer: The New York Institute for Medical Research\n",
            "BLEU Score: 0.4111\n",
            "ROUGE-L Score: 0.6667\n",
            "Exact Match: 0\n",
            "F1 Score: 0.6667\n",
            "\n",
            "---\n",
            "\n"
          ]
        },
        {
          "output_type": "stream",
          "name": "stderr",
          "text": [
            "Setting `pad_token_id` to `eos_token_id`:128001 for open-end generation.\n"
          ]
        },
        {
          "output_type": "stream",
          "name": "stdout",
          "text": [
            "Title: Ida Rolf\n",
            "Question: What influence did yoga have on Ida Rolf?\n",
            "Correct Answer: It influenced her development of Rolfing\n",
            "Generated Answer: It helped her develop her bodywork technique\n",
            "BLEU Score: 0.0393\n",
            "ROUGE-L Score: 0.4615\n",
            "Exact Match: 0\n",
            "F1 Score: 0.3077\n",
            "\n",
            "---\n",
            "\n"
          ]
        },
        {
          "output_type": "stream",
          "name": "stderr",
          "text": [
            "Setting `pad_token_id` to `eos_token_id`:128001 for open-end generation.\n"
          ]
        },
        {
          "output_type": "stream",
          "name": "stdout",
          "text": [
            "Title: Ida Rolf\n",
            "Question: What year was the Rolf Institute of Structural Integration consolidated under Ida Rolf's teaching activities?\n",
            "Correct Answer: 1971\n",
            "Generated Answer: 1969\n",
            "BLEU Score: 0.0000\n",
            "ROUGE-L Score: 0.0000\n",
            "Exact Match: 0\n",
            "F1 Score: 0.0000\n",
            "\n",
            "---\n",
            "\n"
          ]
        },
        {
          "output_type": "stream",
          "name": "stderr",
          "text": [
            "Setting `pad_token_id` to `eos_token_id`:128001 for open-end generation.\n"
          ]
        },
        {
          "output_type": "stream",
          "name": "stdout",
          "text": [
            "Title: Ida Rolf\n",
            "Question: In what year did Ida Rolf publish 'Rolfing: Reestablishing the Natural Alignment and Structural Integration of the Human Body for Vitality and Well-Being'?\n",
            "Correct Answer: 1979\n",
            "Generated Answer: 1950\n",
            "BLEU Score: 0.0000\n",
            "ROUGE-L Score: 0.0000\n",
            "Exact Match: 0\n",
            "F1 Score: 0.0000\n",
            "\n",
            "---\n",
            "\n"
          ]
        },
        {
          "output_type": "stream",
          "name": "stderr",
          "text": [
            "Setting `pad_token_id` to `eos_token_id`:128001 for open-end generation.\n"
          ]
        },
        {
          "output_type": "stream",
          "name": "stdout",
          "text": [
            "Title: Alexandre Mouton\n",
            "Question: In which district was Alexandre Mouton born?\n",
            "Correct Answer: Attakapas district\n",
            "Generated Answer: Broussard\n",
            "BLEU Score: 0.0000\n",
            "ROUGE-L Score: 0.0000\n",
            "Exact Match: 0\n",
            "F1 Score: 0.0000\n",
            "\n",
            "---\n",
            "\n"
          ]
        },
        {
          "output_type": "stream",
          "name": "stderr",
          "text": [
            "Setting `pad_token_id` to `eos_token_id`:128001 for open-end generation.\n"
          ]
        },
        {
          "output_type": "stream",
          "name": "stdout",
          "text": [
            "Title: Alexandre Mouton\n",
            "Question: What profession did Alexandre Mouton practice after being admitted to the bar in 1825?\n",
            "Correct Answer: Law\n",
            "Generated Answer: Lawyer\n",
            "BLEU Score: 0.0000\n",
            "ROUGE-L Score: 0.0000\n",
            "Exact Match: 0\n",
            "F1 Score: 0.0000\n",
            "\n",
            "---\n",
            "\n"
          ]
        },
        {
          "output_type": "stream",
          "name": "stderr",
          "text": [
            "Setting `pad_token_id` to `eos_token_id`:128001 for open-end generation.\n"
          ]
        },
        {
          "output_type": "stream",
          "name": "stdout",
          "text": [
            "Title: Alexandre Mouton\n",
            "Question: What did Alexandre Mouton oppose spending on as governor?\n",
            "Correct Answer: Internal improvements\n",
            "Generated Answer: The Louisiana Purchase\n",
            "BLEU Score: 0.0000\n",
            "ROUGE-L Score: 0.0000\n",
            "Exact Match: 0\n",
            "F1 Score: 0.0000\n",
            "\n",
            "---\n",
            "\n"
          ]
        },
        {
          "output_type": "stream",
          "name": "stderr",
          "text": [
            "Setting `pad_token_id` to `eos_token_id`:128001 for open-end generation.\n"
          ]
        },
        {
          "output_type": "stream",
          "name": "stdout",
          "text": [
            "Title: Alexandre Mouton\n",
            "Question: What was Alexandre Mouton's role in the Civil War?\n",
            "Correct Answer: President of the State secession convention in 1861\n",
            "Generated Answer: He fought for the Confederacy\n",
            "BLEU Score: 0.0295\n",
            "ROUGE-L Score: 0.1538\n",
            "Exact Match: 0\n",
            "F1 Score: 0.1538\n",
            "\n",
            "---\n",
            "\n"
          ]
        },
        {
          "output_type": "stream",
          "name": "stderr",
          "text": [
            "Setting `pad_token_id` to `eos_token_id`:128001 for open-end generation.\n"
          ]
        },
        {
          "output_type": "stream",
          "name": "stdout",
          "text": [
            "Title: Ernest Ansermet\n",
            "Question: What nationality was Ernest Ansermet?\n",
            "Correct Answer: Swiss\n",
            "Generated Answer: Swiss\n",
            "BLEU Score: 0.1778\n",
            "ROUGE-L Score: 1.0000\n",
            "Exact Match: 1\n",
            "F1 Score: 1.0000\n",
            "\n",
            "---\n",
            "\n"
          ]
        },
        {
          "output_type": "stream",
          "name": "stderr",
          "text": [
            "Setting `pad_token_id` to `eos_token_id`:128001 for open-end generation.\n"
          ]
        },
        {
          "output_type": "stream",
          "name": "stdout",
          "text": [
            "Title: Ernest Ansermet\n",
            "Question: What was the name of the orchestra founded by Ernest Ansermet in 1918?\n",
            "Correct Answer: Orchestre de la Suisse Romande\n",
            "Generated Answer: The Geneva Symphony Orchestra\n",
            "BLEU Score: 0.0000\n",
            "ROUGE-L Score: 0.0000\n",
            "Exact Match: 0\n",
            "F1 Score: 0.0000\n",
            "\n",
            "---\n",
            "\n"
          ]
        },
        {
          "output_type": "stream",
          "name": "stderr",
          "text": [
            "Setting `pad_token_id` to `eos_token_id`:128001 for open-end generation.\n"
          ]
        },
        {
          "output_type": "stream",
          "name": "stdout",
          "text": [
            "Title: Ernest Ansermet\n",
            "Question: Which two French composers did Ernest Ansermet meet while traveling in France?\n",
            "Correct Answer: Claude Debussy and Maurice Ravel\n",
            "Generated Answer: Ravel and Debussy\n",
            "BLEU Score: 0.0768\n",
            "ROUGE-L Score: 0.2500\n",
            "Exact Match: 0\n",
            "F1 Score: 0.7500\n",
            "\n",
            "---\n",
            "\n"
          ]
        },
        {
          "output_type": "stream",
          "name": "stderr",
          "text": [
            "Setting `pad_token_id` to `eos_token_id`:128001 for open-end generation.\n"
          ]
        },
        {
          "output_type": "stream",
          "name": "stdout",
          "text": [
            "Title: Ernest Ansermet\n",
            "Question: With which record company did Ernest Ansermet and his orchestra sign a long-term contract after World War II?\n",
            "Correct Answer: Decca Records\n",
            "Generated Answer: Pathé\n",
            "BLEU Score: 0.0000\n",
            "ROUGE-L Score: 0.0000\n",
            "Exact Match: 0\n",
            "F1 Score: 0.0000\n",
            "\n",
            "---\n",
            "\n"
          ]
        },
        {
          "output_type": "stream",
          "name": "stderr",
          "text": [
            "Setting `pad_token_id` to `eos_token_id`:128001 for open-end generation.\n"
          ]
        },
        {
          "output_type": "stream",
          "name": "stdout",
          "text": [
            "Title: P. A. Yeomans\n",
            "Question: What are P.A. Yeomans' Keyline principles known for influencing?\n",
            "Correct Answer: The development of permaculture design.\n",
            "Generated Answer: Sustainable agriculture and rural development practices\n",
            "BLEU Score: 0.0408\n",
            "ROUGE-L Score: 0.1818\n",
            "Exact Match: 0\n",
            "F1 Score: 0.1818\n",
            "\n",
            "---\n",
            "\n"
          ]
        },
        {
          "output_type": "stream",
          "name": "stderr",
          "text": [
            "Setting `pad_token_id` to `eos_token_id`:128001 for open-end generation.\n"
          ]
        },
        {
          "output_type": "stream",
          "name": "stdout",
          "text": [
            "Title: P. A. Yeomans\n",
            "Question: What is the title of one of P.A. Yeomans' books that focuses on water management?\n",
            "Correct Answer: Water For Every Farm.\n",
            "Generated Answer: Water Management in Australia\n",
            "BLEU Score: 0.0803\n",
            "ROUGE-L Score: 0.2500\n",
            "Exact Match: 0\n",
            "F1 Score: 0.2500\n",
            "\n",
            "---\n",
            "\n"
          ]
        },
        {
          "output_type": "stream",
          "name": "stderr",
          "text": [
            "Setting `pad_token_id` to `eos_token_id`:128001 for open-end generation.\n"
          ]
        },
        {
          "output_type": "stream",
          "name": "stdout",
          "text": [
            "Title: P. A. Yeomans\n",
            "Question: Besides 'The Keyline Plan', can you name another book written by P.A. Yeomans?\n",
            "Correct Answer: The Challenge of Landscape.\n",
            "Generated Answer: The Soil Will Save Us (2014)\n",
            "BLEU Score: 0.0408\n",
            "ROUGE-L Score: 0.2000\n",
            "Exact Match: 0\n",
            "F1 Score: 0.2000\n",
            "\n",
            "---\n",
            "\n"
          ]
        },
        {
          "output_type": "stream",
          "name": "stderr",
          "text": [
            "Setting `pad_token_id` to `eos_token_id`:128001 for open-end generation.\n"
          ]
        },
        {
          "output_type": "stream",
          "name": "stdout",
          "text": [
            "Title: P. A. Yeomans\n",
            "Question: Where is Nevallan, the tract of land managed by P.A. Yeomans, located?\n",
            "Correct Answer: New South Wales.\n",
            "Generated Answer: Australia\n",
            "BLEU Score: 0.0000\n",
            "ROUGE-L Score: 0.0000\n",
            "Exact Match: 0\n",
            "F1 Score: 0.0000\n",
            "\n",
            "---\n",
            "\n"
          ]
        },
        {
          "output_type": "stream",
          "name": "stderr",
          "text": [
            "Setting `pad_token_id` to `eos_token_id`:128001 for open-end generation.\n"
          ]
        },
        {
          "output_type": "stream",
          "name": "stdout",
          "text": [
            "Title: P. A. Yeomans\n",
            "Question: What sustainable practice is P.A. Yeomans credited with helping to develop?\n",
            "Correct Answer: Permaculture design.\n",
            "Generated Answer: Regenerative agriculture\n",
            "BLEU Score: 0.0000\n",
            "ROUGE-L Score: 0.0000\n",
            "Exact Match: 0\n",
            "F1 Score: 0.0000\n",
            "\n",
            "---\n",
            "\n"
          ]
        },
        {
          "output_type": "stream",
          "name": "stderr",
          "text": [
            "Setting `pad_token_id` to `eos_token_id`:128001 for open-end generation.\n"
          ]
        },
        {
          "output_type": "stream",
          "name": "stdout",
          "text": [
            "Title: Karl Hartl\n",
            "Question: What nationality was Karl Hartl?\n",
            "Correct Answer: Austrian\n",
            "Generated Answer: Austrian\n",
            "BLEU Score: 0.1778\n",
            "ROUGE-L Score: 1.0000\n",
            "Exact Match: 1\n",
            "F1 Score: 1.0000\n",
            "\n",
            "---\n",
            "\n"
          ]
        },
        {
          "output_type": "stream",
          "name": "stderr",
          "text": [
            "Setting `pad_token_id` to `eos_token_id`:128001 for open-end generation.\n"
          ]
        },
        {
          "output_type": "stream",
          "name": "stdout",
          "text": [
            "Title: Karl Hartl\n",
            "Question: What was Karl Hartl's profession?\n",
            "Correct Answer: Film director\n",
            "Generated Answer: Film director\n",
            "BLEU Score: 0.3162\n",
            "ROUGE-L Score: 1.0000\n",
            "Exact Match: 1\n",
            "F1 Score: 1.0000\n",
            "\n",
            "---\n",
            "\n"
          ]
        },
        {
          "output_type": "stream",
          "name": "stderr",
          "text": [
            "Setting `pad_token_id` to `eos_token_id`:128001 for open-end generation.\n"
          ]
        },
        {
          "output_type": "stream",
          "name": "stdout",
          "text": [
            "Title: Karl Hartl\n",
            "Question: For which film company did Karl Hartl work for from 1930?\n",
            "Correct Answer: Universum Film AG (UFA)\n",
            "Generated Answer: Bavaria Film\n",
            "BLEU Score: 0.0550\n",
            "ROUGE-L Score: 0.3333\n",
            "Exact Match: 0\n",
            "F1 Score: 0.3333\n",
            "\n",
            "---\n",
            "\n"
          ]
        },
        {
          "output_type": "stream",
          "name": "stderr",
          "text": [
            "Setting `pad_token_id` to `eos_token_id`:128001 for open-end generation.\n"
          ]
        },
        {
          "output_type": "stream",
          "name": "stdout",
          "text": [
            "Title: Karl Hartl\n",
            "Question: Where is Karl Hartl buried?\n",
            "Correct Answer: Hietzing cemetery, Vienna\n",
            "Generated Answer: Munich\n",
            "BLEU Score: 0.0000\n",
            "ROUGE-L Score: 0.0000\n",
            "Exact Match: 0\n",
            "F1 Score: 0.0000\n",
            "\n",
            "---\n",
            "\n"
          ]
        },
        {
          "output_type": "stream",
          "name": "stderr",
          "text": [
            "Setting `pad_token_id` to `eos_token_id`:128001 for open-end generation.\n"
          ]
        },
        {
          "output_type": "stream",
          "name": "stdout",
          "text": [
            "Title: Karl Hartl\n",
            "Question: What city was Karl Hartl born in?\n",
            "Correct Answer: Vienna\n",
            "Generated Answer: Munich\n",
            "BLEU Score: 0.0000\n",
            "ROUGE-L Score: 0.0000\n",
            "Exact Match: 0\n",
            "F1 Score: 0.0000\n",
            "\n",
            "---\n",
            "\n"
          ]
        },
        {
          "output_type": "stream",
          "name": "stderr",
          "text": [
            "Setting `pad_token_id` to `eos_token_id`:128001 for open-end generation.\n"
          ]
        },
        {
          "output_type": "stream",
          "name": "stdout",
          "text": [
            "Title: Alicia de Larrocha\n",
            "Question: What was Alicia de Larrocha known for?\n",
            "Correct Answer: Being a Spanish pianist and composer.\n",
            "Generated Answer: Piano music\n",
            "BLEU Score: 0.0000\n",
            "ROUGE-L Score: 0.0000\n",
            "Exact Match: 0\n",
            "F1 Score: 0.0000\n",
            "\n",
            "---\n",
            "\n"
          ]
        },
        {
          "output_type": "stream",
          "name": "stderr",
          "text": [
            "Setting `pad_token_id` to `eos_token_id`:128001 for open-end generation.\n"
          ]
        },
        {
          "output_type": "stream",
          "name": "stdout",
          "text": [
            "Title: Alicia de Larrocha\n",
            "Question: What award did Alicia de Larrocha receive from the Prince of Asturias?\n",
            "Correct Answer: Award for the Arts\n",
            "Generated Answer: The Prince of Asturias Award for Arts\n",
            "BLEU Score: 0.0831\n",
            "ROUGE-L Score: 0.5455\n",
            "Exact Match: 0\n",
            "F1 Score: 0.7273\n",
            "\n",
            "---\n",
            "\n"
          ]
        },
        {
          "output_type": "stream",
          "name": "stderr",
          "text": [
            "Setting `pad_token_id` to `eos_token_id`:128001 for open-end generation.\n"
          ]
        },
        {
          "output_type": "stream",
          "name": "stdout",
          "text": [
            "Title: Alicia de Larrocha\n",
            "Question: Which composers' works did Alicia de Larrocha bring greater popularity to?\n",
            "Correct Answer: Isaac Albéniz and Enrique Granados\n",
            "Generated Answer: Mozart and Chopin\n",
            "BLEU Score: 0.0583\n",
            "ROUGE-L Score: 0.2222\n",
            "Exact Match: 0\n",
            "F1 Score: 0.2500\n",
            "\n",
            "---\n",
            "\n"
          ]
        },
        {
          "output_type": "stream",
          "name": "stderr",
          "text": [
            "Setting `pad_token_id` to `eos_token_id`:128001 for open-end generation.\n"
          ]
        },
        {
          "output_type": "stream",
          "name": "stdout",
          "text": [
            "Title: Alicia de Larrocha\n",
            "Question: Where was Alicia de Larrocha born?\n",
            "Correct Answer: Barcelona, Catalonia, Spain\n",
            "Generated Answer: Barcelona\n",
            "BLEU Score: 0.0241\n",
            "ROUGE-L Score: 0.5000\n",
            "Exact Match: 0\n",
            "F1 Score: 0.5000\n",
            "\n",
            "---\n",
            "\n"
          ]
        },
        {
          "output_type": "stream",
          "name": "stderr",
          "text": [
            "Setting `pad_token_id` to `eos_token_id`:128001 for open-end generation.\n"
          ]
        },
        {
          "output_type": "stream",
          "name": "stdout",
          "text": [
            "Title: Alicia de Larrocha\n",
            "Question: How old was Alicia de Larrocha when she died?\n",
            "Correct Answer: 86\n",
            "Generated Answer: 86\n",
            "BLEU Score: 0.1778\n",
            "ROUGE-L Score: 1.0000\n",
            "Exact Match: 1\n",
            "F1 Score: 1.0000\n",
            "\n",
            "---\n",
            "\n"
          ]
        },
        {
          "output_type": "stream",
          "name": "stderr",
          "text": [
            "Setting `pad_token_id` to `eos_token_id`:128001 for open-end generation.\n"
          ]
        },
        {
          "output_type": "stream",
          "name": "stdout",
          "text": [
            "Title: Abbott Lawrence\n",
            "Question: What industry did the Lawrence brothers help establish in New England?\n",
            "Correct Answer: The cotton textile industry\n",
            "Generated Answer: Textile\n",
            "BLEU Score: 0.0089\n",
            "ROUGE-L Score: 0.4000\n",
            "Exact Match: 0\n",
            "F1 Score: 0.4000\n",
            "\n",
            "---\n",
            "\n"
          ]
        },
        {
          "output_type": "stream",
          "name": "stderr",
          "text": [
            "Setting `pad_token_id` to `eos_token_id`:128001 for open-end generation.\n"
          ]
        },
        {
          "output_type": "stream",
          "name": "stdout",
          "text": [
            "Title: Abbott Lawrence\n",
            "Question: What was the name of the settlement that was named in honor of Abbott Lawrence?\n",
            "Correct Answer: Lawrence, Massachusetts\n",
            "Generated Answer: Newburyport\n",
            "BLEU Score: 0.0000\n",
            "ROUGE-L Score: 0.0000\n",
            "Exact Match: 0\n",
            "F1 Score: 0.0000\n",
            "\n",
            "---\n",
            "\n"
          ]
        },
        {
          "output_type": "stream",
          "name": "stderr",
          "text": [
            "Setting `pad_token_id` to `eos_token_id`:128001 for open-end generation.\n"
          ]
        },
        {
          "output_type": "stream",
          "name": "stdout",
          "text": [
            "Title: Abbott Lawrence\n",
            "Question: What political party did Abbott Lawrence represent as a US Representative?\n",
            "Correct Answer: Whig\n",
            "Generated Answer: Democratic-Republican\n",
            "BLEU Score: 0.0000\n",
            "ROUGE-L Score: 0.0000\n",
            "Exact Match: 0\n",
            "F1 Score: 0.0000\n",
            "\n",
            "---\n",
            "\n"
          ]
        },
        {
          "output_type": "stream",
          "name": "stderr",
          "text": [
            "Setting `pad_token_id` to `eos_token_id`:128001 for open-end generation.\n"
          ]
        },
        {
          "output_type": "stream",
          "name": "stdout",
          "text": [
            "Title: Abbott Lawrence\n",
            "Question: What cause did Abbott Lawrence grow dissatisfied with, leading him to abandon the Whig party?\n",
            "Correct Answer: The Whig stand on slavery\n",
            "Generated Answer: The Tariff of 1828\n",
            "BLEU Score: 0.0626\n",
            "ROUGE-L Score: 0.2222\n",
            "Exact Match: 0\n",
            "F1 Score: 0.2222\n",
            "\n",
            "---\n",
            "\n"
          ]
        },
        {
          "output_type": "stream",
          "name": "stderr",
          "text": [
            "Setting `pad_token_id` to `eos_token_id`:128001 for open-end generation.\n"
          ]
        },
        {
          "output_type": "stream",
          "name": "stdout",
          "text": [
            "Title: Abbott Lawrence\n",
            "Question: Where is Abbott Lawrence interred?\n",
            "Correct Answer: Mount Auburn Cemetery, Cambridge, Massachusetts\n",
            "Generated Answer: Boston Common\n",
            "BLEU Score: 0.0000\n",
            "ROUGE-L Score: 0.0000\n",
            "Exact Match: 0\n",
            "F1 Score: 0.0000\n",
            "\n",
            "---\n",
            "\n"
          ]
        },
        {
          "output_type": "stream",
          "name": "stderr",
          "text": [
            "Setting `pad_token_id` to `eos_token_id`:128001 for open-end generation.\n"
          ]
        },
        {
          "output_type": "stream",
          "name": "stdout",
          "text": [
            "Title: Jürgen Ehlers\n",
            "Question: In which field did Jürgen Ehlers specialize?\n",
            "Correct Answer: Physics\n",
            "Generated Answer: Philosophy\n",
            "BLEU Score: 0.0000\n",
            "ROUGE-L Score: 0.0000\n",
            "Exact Match: 0\n",
            "F1 Score: 0.0000\n",
            "\n",
            "---\n",
            "\n"
          ]
        },
        {
          "output_type": "stream",
          "name": "stderr",
          "text": [
            "Setting `pad_token_id` to `eos_token_id`:128001 for open-end generation.\n"
          ]
        },
        {
          "output_type": "stream",
          "name": "stdout",
          "text": [
            "Title: Jürgen Ehlers\n",
            "Question: Where did Jürgen Ehlers undertake his graduate and postgraduate work?\n",
            "Correct Answer: Hamburg University\n",
            "Generated Answer: University of Göttingen\n",
            "BLEU Score: 0.1136\n",
            "ROUGE-L Score: 0.3333\n",
            "Exact Match: 0\n",
            "F1 Score: 0.4000\n",
            "\n",
            "---\n",
            "\n"
          ]
        },
        {
          "output_type": "stream",
          "name": "stderr",
          "text": [
            "Setting `pad_token_id` to `eos_token_id`:128001 for open-end generation.\n"
          ]
        },
        {
          "output_type": "stream",
          "name": "stdout",
          "text": [
            "Title: Jürgen Ehlers\n",
            "Question: What position did Jürgen Ehlers hold at the Max Planck Institute for Astrophysics in Munich?\n",
            "Correct Answer: Director\n",
            "Generated Answer: Director\n",
            "BLEU Score: 0.1778\n",
            "ROUGE-L Score: 1.0000\n",
            "Exact Match: 1\n",
            "F1 Score: 1.0000\n",
            "\n",
            "---\n",
            "\n"
          ]
        },
        {
          "output_type": "stream",
          "name": "stderr",
          "text": [
            "Setting `pad_token_id` to `eos_token_id`:128001 for open-end generation.\n"
          ]
        },
        {
          "output_type": "stream",
          "name": "stdout",
          "text": [
            "Title: Jürgen Ehlers\n",
            "Question: When did Jürgen Ehlers become the founding director of the Max Planck Institute for Gravitational Physics?\n",
            "Correct Answer: 1995\n",
            "Generated Answer: 1972\n",
            "BLEU Score: 0.0000\n",
            "ROUGE-L Score: 0.0000\n",
            "Exact Match: 0\n",
            "F1 Score: 0.0000\n",
            "\n",
            "---\n",
            "\n"
          ]
        },
        {
          "output_type": "stream",
          "name": "stderr",
          "text": [
            "Setting `pad_token_id` to `eos_token_id`:128001 for open-end generation.\n"
          ]
        },
        {
          "output_type": "stream",
          "name": "stdout",
          "text": [
            "Title: Jürgen Ehlers\n",
            "Question: Which university awarded Jürgen Ehlers his doctorate?\n",
            "Correct Answer: Hamburg University\n",
            "Generated Answer: University of Göttingen\n",
            "BLEU Score: 0.1136\n",
            "ROUGE-L Score: 0.3333\n",
            "Exact Match: 0\n",
            "F1 Score: 0.4000\n",
            "\n",
            "---\n",
            "\n"
          ]
        },
        {
          "output_type": "stream",
          "name": "stderr",
          "text": [
            "Setting `pad_token_id` to `eos_token_id`:128001 for open-end generation.\n"
          ]
        },
        {
          "output_type": "stream",
          "name": "stdout",
          "text": [
            "Title: Jürgen Ehlers\n",
            "Question: Which institute did Jürgen Ehlers lobby for the establishment of after German reunification?\n",
            "Correct Answer: Max Planck Institute for Gravitational Physics in Potsdam\n",
            "Generated Answer: Max Planck Institute\n",
            "BLEU Score: 0.1062\n",
            "ROUGE-L Score: 0.5455\n",
            "Exact Match: 0\n",
            "F1 Score: 0.5455\n",
            "\n",
            "---\n",
            "\n"
          ]
        },
        {
          "output_type": "stream",
          "name": "stderr",
          "text": [
            "Setting `pad_token_id` to `eos_token_id`:128001 for open-end generation.\n"
          ]
        },
        {
          "output_type": "stream",
          "name": "stdout",
          "text": [
            "Title: Gabrielle Bossis\n",
            "Question: What was Gabrielle Bossis known for?\n",
            "Correct Answer: Gabrielle Bossis was known for her mystical work Lui et Moi.\n",
            "Generated Answer: Being one of the first women in space\n",
            "BLEU Score: 0.0000\n",
            "ROUGE-L Score: 0.0000\n",
            "Exact Match: 0\n",
            "F1 Score: 0.0000\n",
            "\n",
            "---\n",
            "\n"
          ]
        },
        {
          "output_type": "stream",
          "name": "stderr",
          "text": [
            "Setting `pad_token_id` to `eos_token_id`:128001 for open-end generation.\n"
          ]
        },
        {
          "output_type": "stream",
          "name": "stdout",
          "text": [
            "Title: Gabrielle Bossis\n",
            "Question: What profession did Gabrielle Bossis have during World War I?\n",
            "Correct Answer: Gabrielle Bossis was a nurse during World War I.\n",
            "Generated Answer: Nurse\n",
            "BLEU Score: 0.0001\n",
            "ROUGE-L Score: 0.2000\n",
            "Exact Match: 0\n",
            "F1 Score: 0.2000\n",
            "\n",
            "---\n",
            "\n"
          ]
        },
        {
          "output_type": "stream",
          "name": "stderr",
          "text": [
            "Setting `pad_token_id` to `eos_token_id`:128001 for open-end generation.\n"
          ]
        },
        {
          "output_type": "stream",
          "name": "stdout",
          "text": [
            "Title: Gabrielle Bossis\n",
            "Question: In what year did Gabrielle Bossis start hearing a mysterious inner voice?\n",
            "Correct Answer: Gabrielle Bossis started hearing a mysterious inner voice in 1936.\n",
            "Generated Answer: 1970\n",
            "BLEU Score: 0.0000\n",
            "ROUGE-L Score: 0.0000\n",
            "Exact Match: 0\n",
            "F1 Score: 0.0000\n",
            "\n",
            "---\n",
            "\n"
          ]
        },
        {
          "output_type": "stream",
          "name": "stderr",
          "text": [
            "Setting `pad_token_id` to `eos_token_id`:128001 for open-end generation.\n"
          ]
        },
        {
          "output_type": "stream",
          "name": "stdout",
          "text": [
            "Title: Gabrielle Bossis\n",
            "Question: How many notebooks did Gabrielle Bossis fill with her mystical experiences?\n",
            "Correct Answer: Gabrielle Bossis filled 10 notebooks with her mystical experiences.\n",
            "Generated Answer: 2\n",
            "BLEU Score: 0.0000\n",
            "ROUGE-L Score: 0.0000\n",
            "Exact Match: 0\n",
            "F1 Score: 0.0000\n",
            "\n",
            "---\n",
            "\n"
          ]
        },
        {
          "output_type": "stream",
          "name": "stderr",
          "text": [
            "Setting `pad_token_id` to `eos_token_id`:128001 for open-end generation.\n"
          ]
        },
        {
          "output_type": "stream",
          "name": "stdout",
          "text": [
            "Title: Gabrielle Bossis\n",
            "Question: Where did Gabrielle Bossis find refuge during the German occupation in 1940?\n",
            "Correct Answer: Gabrielle Bossis found refuge in Curzon during the German occupation in 1940.\n",
            "Generated Answer: France\n",
            "BLEU Score: 0.0000\n",
            "ROUGE-L Score: 0.0000\n",
            "Exact Match: 0\n",
            "F1 Score: 0.0000\n",
            "\n",
            "---\n",
            "\n"
          ]
        },
        {
          "output_type": "stream",
          "name": "stderr",
          "text": [
            "Setting `pad_token_id` to `eos_token_id`:128001 for open-end generation.\n"
          ]
        },
        {
          "output_type": "stream",
          "name": "stdout",
          "text": [
            "Title: Gabrielle Bossis\n",
            "Question: What was Gabrielle Bossis's profession besides being a mystic and playwright?\n",
            "Correct Answer: Gabrielle Bossis was also a nurse and an actress.\n",
            "Generated Answer: Actress\n",
            "BLEU Score: 0.0001\n",
            "ROUGE-L Score: 0.2000\n",
            "Exact Match: 0\n",
            "F1 Score: 0.2000\n",
            "\n",
            "---\n",
            "\n"
          ]
        },
        {
          "output_type": "stream",
          "name": "stderr",
          "text": [
            "Setting `pad_token_id` to `eos_token_id`:128001 for open-end generation.\n"
          ]
        },
        {
          "output_type": "stream",
          "name": "stdout",
          "text": [
            "Title: Gabrielle Bossis\n",
            "Question: In what city was Gabrielle Bossis born?\n",
            "Correct Answer: Gabrielle Bossis was born in Nantes.\n",
            "Generated Answer: New York City\n",
            "BLEU Score: 0.0000\n",
            "ROUGE-L Score: 0.0000\n",
            "Exact Match: 0\n",
            "F1 Score: 0.0000\n",
            "\n",
            "---\n",
            "\n"
          ]
        },
        {
          "output_type": "stream",
          "name": "stderr",
          "text": [
            "Setting `pad_token_id` to `eos_token_id`:128001 for open-end generation.\n"
          ]
        },
        {
          "output_type": "stream",
          "name": "stdout",
          "text": [
            "Title: Gabrielle Bossis\n",
            "Question: Who was the Bishop that Gabrielle Bossis presented her notes to in 1944?\n",
            "Correct Answer: Gabrielle Bossis presented her notes to Bishop Villepelet in 1944.\n",
            "Generated Answer: Monsignor Bernardin Gantin\n",
            "BLEU Score: 0.0000\n",
            "ROUGE-L Score: 0.0000\n",
            "Exact Match: 0\n",
            "F1 Score: 0.0000\n",
            "\n",
            "---\n",
            "\n"
          ]
        },
        {
          "output_type": "stream",
          "name": "stderr",
          "text": [
            "Setting `pad_token_id` to `eos_token_id`:128001 for open-end generation.\n"
          ]
        },
        {
          "output_type": "stream",
          "name": "stdout",
          "text": [
            "Title: Gabrielle Bossis\n",
            "Question: What did Gabrielle Bossis do with the words she believed were from Jesus Christ?\n",
            "Correct Answer: Gabrielle Bossis jotted down the words she believed were from Jesus Christ and wrote them in notebooks.\n",
            "Generated Answer: She wrote them down\n",
            "BLEU Score: 0.0078\n",
            "ROUGE-L Score: 0.2857\n",
            "Exact Match: 0\n",
            "F1 Score: 0.3810\n",
            "\n",
            "---\n",
            "\n"
          ]
        },
        {
          "output_type": "stream",
          "name": "stderr",
          "text": [
            "Setting `pad_token_id` to `eos_token_id`:128001 for open-end generation.\n"
          ]
        },
        {
          "output_type": "stream",
          "name": "stdout",
          "text": [
            "Title: Franz Welser-Möst\n",
            "Question: What is Franz Welser-Möst's nationality?\n",
            "Correct Answer: Austrian\n",
            "Generated Answer: Austrian\n",
            "BLEU Score: 0.1778\n",
            "ROUGE-L Score: 1.0000\n",
            "Exact Match: 1\n",
            "F1 Score: 1.0000\n",
            "\n",
            "---\n",
            "\n"
          ]
        },
        {
          "output_type": "stream",
          "name": "stderr",
          "text": [
            "Setting `pad_token_id` to `eos_token_id`:128001 for open-end generation.\n"
          ]
        },
        {
          "output_type": "stream",
          "name": "stdout",
          "text": [
            "Title: Franz Welser-Möst\n",
            "Question: What role does Franz Welser-Möst currently hold with the Cleveland Orchestra?\n",
            "Correct Answer: Music director\n",
            "Generated Answer: Music Director\n",
            "BLEU Score: 0.3162\n",
            "ROUGE-L Score: 1.0000\n",
            "Exact Match: 1\n",
            "F1 Score: 1.0000\n",
            "\n",
            "---\n",
            "\n"
          ]
        },
        {
          "output_type": "stream",
          "name": "stderr",
          "text": [
            "Setting `pad_token_id` to `eos_token_id`:128001 for open-end generation.\n"
          ]
        },
        {
          "output_type": "stream",
          "name": "stdout",
          "text": [
            "Title: Franz Welser-Möst\n",
            "Question: In which city was Franz Welser-Möst born?\n",
            "Correct Answer: Linz, Austria\n",
            "Generated Answer: Vienna\n",
            "BLEU Score: 0.0000\n",
            "ROUGE-L Score: 0.0000\n",
            "Exact Match: 0\n",
            "F1 Score: 0.0000\n",
            "\n",
            "---\n",
            "\n"
          ]
        },
        {
          "output_type": "stream",
          "name": "stderr",
          "text": [
            "Setting `pad_token_id` to `eos_token_id`:128001 for open-end generation.\n"
          ]
        },
        {
          "output_type": "stream",
          "name": "stdout",
          "text": [
            "Title: Franz Welser-Möst\n",
            "Question: How many DVDs of Franz Welser-Möst's Zürich opera productions were released by EMI?\n",
            "Correct Answer: A number of DVDs\n",
            "Generated Answer: 10\n",
            "BLEU Score: 0.0000\n",
            "ROUGE-L Score: 0.0000\n",
            "Exact Match: 0\n",
            "F1 Score: 0.0000\n",
            "\n",
            "---\n",
            "\n"
          ]
        },
        {
          "output_type": "stream",
          "name": "stderr",
          "text": [
            "Setting `pad_token_id` to `eos_token_id`:128001 for open-end generation.\n"
          ]
        },
        {
          "output_type": "stream",
          "name": "stdout",
          "text": [
            "Title: Red Badgro\n",
            "Question: In what year did Red Badgro score the first touchdown in the first NFL Championship Game?\n",
            "Correct Answer: 1933\n",
            "Generated Answer: 1933\n",
            "BLEU Score: 0.1778\n",
            "ROUGE-L Score: 1.0000\n",
            "Exact Match: 1\n",
            "F1 Score: 1.0000\n",
            "\n",
            "---\n",
            "\n"
          ]
        },
        {
          "output_type": "stream",
          "name": "stderr",
          "text": [
            "Setting `pad_token_id` to `eos_token_id`:128001 for open-end generation.\n"
          ]
        },
        {
          "output_type": "stream",
          "name": "stdout",
          "text": [
            "Title: Red Badgro\n",
            "Question: Which NFL Championship team was Red Badgro a member of in 1934?\n",
            "Correct Answer: New York Giants\n",
            "Generated Answer: The Chicago Bears\n",
            "BLEU Score: 0.0000\n",
            "ROUGE-L Score: 0.0000\n",
            "Exact Match: 0\n",
            "F1 Score: 0.0000\n",
            "\n",
            "---\n",
            "\n"
          ]
        },
        {
          "output_type": "stream",
          "name": "stderr",
          "text": [
            "Setting `pad_token_id` to `eos_token_id`:128001 for open-end generation.\n"
          ]
        },
        {
          "output_type": "stream",
          "name": "stdout",
          "text": [
            "Title: Red Badgro\n",
            "Question: What was Red Badgro's role in the 1934 NFL Championship Game?\n",
            "Correct Answer: Player\n",
            "Generated Answer: Quarterback\n",
            "BLEU Score: 0.0000\n",
            "ROUGE-L Score: 0.0000\n",
            "Exact Match: 0\n",
            "F1 Score: 0.0000\n",
            "\n",
            "---\n",
            "\n"
          ]
        },
        {
          "output_type": "stream",
          "name": "stderr",
          "text": [
            "Setting `pad_token_id` to `eos_token_id`:128001 for open-end generation.\n"
          ]
        },
        {
          "output_type": "stream",
          "name": "stdout",
          "text": [
            "Title: Red Badgro\n",
            "Question: What was Red Badgro's primary sport focus in high school?\n",
            "Correct Answer: Baseball and basketball\n",
            "Generated Answer: Australian Rules football\n",
            "BLEU Score: 0.0000\n",
            "ROUGE-L Score: 0.0000\n",
            "Exact Match: 0\n",
            "F1 Score: 0.0000\n",
            "\n",
            "---\n",
            "\n"
          ]
        },
        {
          "output_type": "stream",
          "name": "stderr",
          "text": [
            "Setting `pad_token_id` to `eos_token_id`:128001 for open-end generation.\n"
          ]
        },
        {
          "output_type": "stream",
          "name": "stdout",
          "text": [
            "Title: Karl-Otto Apel\n",
            "Question: Which university was Karl-Otto Apel a Professor Emeritus at?\n",
            "Correct Answer: University of Frankfurt am Main\n",
            "Generated Answer: University of Tübingen\n",
            "BLEU Score: 0.1234\n",
            "ROUGE-L Score: 0.4444\n",
            "Exact Match: 0\n",
            "F1 Score: 0.5000\n",
            "\n",
            "---\n",
            "\n"
          ]
        },
        {
          "output_type": "stream",
          "name": "stderr",
          "text": [
            "Setting `pad_token_id` to `eos_token_id`:128001 for open-end generation.\n"
          ]
        },
        {
          "output_type": "stream",
          "name": "stdout",
          "text": [
            "Title: Karl-Otto Apel\n",
            "Question: What was Karl-Otto Apel's field of specialization?\n",
            "Correct Answer: Philosophy of language\n",
            "Generated Answer: Philosophy\n",
            "BLEU Score: 0.0241\n",
            "ROUGE-L Score: 0.5000\n",
            "Exact Match: 0\n",
            "F1 Score: 0.5000\n",
            "\n",
            "---\n",
            "\n"
          ]
        },
        {
          "output_type": "stream",
          "name": "stderr",
          "text": [
            "Setting `pad_token_id` to `eos_token_id`:128001 for open-end generation.\n"
          ]
        },
        {
          "output_type": "stream",
          "name": "stdout",
          "text": [
            "Title: Karl-Otto Apel\n",
            "Question: What major philosophical theory did Karl-Otto Apel co-develop with Jürgen Habermas?\n",
            "Correct Answer: Theory of communicative action and discourse ethics\n",
            "Generated Answer: Communicative Action Theory\n",
            "BLEU Score: 0.0701\n",
            "ROUGE-L Score: 0.4000\n",
            "Exact Match: 0\n",
            "F1 Score: 0.6000\n",
            "\n",
            "---\n",
            "\n"
          ]
        },
        {
          "output_type": "stream",
          "name": "stderr",
          "text": [
            "Setting `pad_token_id` to `eos_token_id`:128001 for open-end generation.\n"
          ]
        },
        {
          "output_type": "stream",
          "name": "stdout",
          "text": [
            "Title: Karl-Otto Apel\n",
            "Question: What was Karl-Otto Apel's academic position at the University of Kiel from 1962 to 1969?\n",
            "Correct Answer: Full professor of philosophy\n",
            "Generated Answer: Professor\n",
            "BLEU Score: 0.0089\n",
            "ROUGE-L Score: 0.4000\n",
            "Exact Match: 0\n",
            "F1 Score: 0.4000\n",
            "\n",
            "---\n",
            "\n"
          ]
        },
        {
          "output_type": "stream",
          "name": "stderr",
          "text": [
            "Setting `pad_token_id` to `eos_token_id`:128001 for open-end generation.\n"
          ]
        },
        {
          "output_type": "stream",
          "name": "stdout",
          "text": [
            "Title: Bruce Graham\n",
            "Question: What architectural firm did Bruce Graham join in 1951?\n",
            "Correct Answer: Skidmore, Owings and Merrill\n",
            "Generated Answer: Skidmore, Owings & Merrill\n",
            "BLEU Score: 0.1905\n",
            "ROUGE-L Score: 0.8571\n",
            "Exact Match: 0\n",
            "F1 Score: 0.8571\n",
            "\n",
            "---\n",
            "\n"
          ]
        },
        {
          "output_type": "stream",
          "name": "stderr",
          "text": [
            "Setting `pad_token_id` to `eos_token_id`:128001 for open-end generation.\n"
          ]
        },
        {
          "output_type": "stream",
          "name": "stdout",
          "text": [
            "Title: Bruce Graham\n",
            "Question: Which building designed by Bruce Graham was the tallest in the world for nearly 36 years?\n",
            "Correct Answer: Willis Tower\n",
            "Generated Answer: The Willis Tower\n",
            "BLEU Score: 0.2403\n",
            "ROUGE-L Score: 0.8000\n",
            "Exact Match: 0\n",
            "F1 Score: 0.8000\n",
            "\n",
            "---\n",
            "\n"
          ]
        },
        {
          "output_type": "stream",
          "name": "stderr",
          "text": [
            "Setting `pad_token_id` to `eos_token_id`:128001 for open-end generation.\n"
          ]
        },
        {
          "output_type": "stream",
          "name": "stdout",
          "text": [
            "Title: Bruce Graham\n",
            "Question: Which university's School of Fine Arts was Bruce Graham extremely involved with?\n",
            "Correct Answer: University of Pennsylvania\n",
            "Generated Answer: University of Toronto\n",
            "BLEU Score: 0.2403\n",
            "ROUGE-L Score: 0.6667\n",
            "Exact Match: 0\n",
            "F1 Score: 0.6667\n",
            "\n",
            "---\n",
            "\n"
          ]
        },
        {
          "output_type": "stream",
          "name": "stderr",
          "text": [
            "Setting `pad_token_id` to `eos_token_id`:128001 for open-end generation.\n"
          ]
        },
        {
          "output_type": "stream",
          "name": "stdout",
          "text": [
            "Title: Bruce Graham\n",
            "Question: In which city did Bruce Graham design the master plans for Broadgate and Canary Wharf developments?\n",
            "Correct Answer: London\n",
            "Generated Answer: London\n",
            "BLEU Score: 0.1778\n",
            "ROUGE-L Score: 1.0000\n",
            "Exact Match: 1\n",
            "F1 Score: 1.0000\n",
            "\n",
            "---\n",
            "\n"
          ]
        },
        {
          "output_type": "stream",
          "name": "stderr",
          "text": [
            "Setting `pad_token_id` to `eos_token_id`:128001 for open-end generation.\n"
          ]
        },
        {
          "output_type": "stream",
          "name": "stdout",
          "text": [
            "Title: Erwin Baur\n",
            "Question: What was Erwin Baur's nationality?\n",
            "Correct Answer: German\n",
            "Generated Answer: Austrian\n",
            "BLEU Score: 0.0000\n",
            "ROUGE-L Score: 0.0000\n",
            "Exact Match: 0\n",
            "F1 Score: 0.0000\n",
            "\n",
            "---\n",
            "\n"
          ]
        },
        {
          "output_type": "stream",
          "name": "stderr",
          "text": [
            "Setting `pad_token_id` to `eos_token_id`:128001 for open-end generation.\n"
          ]
        },
        {
          "output_type": "stream",
          "name": "stdout",
          "text": [
            "Title: Erwin Baur\n",
            "Question: What position did Erwin Baur hold at the Kaiser Wilhelm Institute?\n",
            "Correct Answer: Director of the Kaiser Wilhelm Institute for Breeding Research\n",
            "Generated Answer: Director\n",
            "BLEU Score: 0.0001\n",
            "ROUGE-L Score: 0.2000\n",
            "Exact Match: 0\n",
            "F1 Score: 0.2000\n",
            "\n",
            "---\n",
            "\n"
          ]
        },
        {
          "output_type": "stream",
          "name": "stderr",
          "text": [
            "Setting `pad_token_id` to `eos_token_id`:128001 for open-end generation.\n"
          ]
        },
        {
          "output_type": "stream",
          "name": "stdout",
          "text": [
            "Title: Erwin Baur\n",
            "Question: What significant discovery is attributed to Erwin Baur?\n",
            "Correct Answer: The inheritance of plastids\n",
            "Generated Answer: The concept of multiple inheritance\n",
            "BLEU Score: 0.0707\n",
            "ROUGE-L Score: 0.4444\n",
            "Exact Match: 0\n",
            "F1 Score: 0.6667\n",
            "\n",
            "---\n",
            "\n"
          ]
        },
        {
          "output_type": "stream",
          "name": "stderr",
          "text": [
            "Setting `pad_token_id` to `eos_token_id`:128001 for open-end generation.\n"
          ]
        },
        {
          "output_type": "stream",
          "name": "stdout",
          "text": [
            "Title: Erwin Baur\n",
            "Question: What institute is named after Erwin Baur since 1938?\n",
            "Correct Answer: The Erwin Baur-Institute\n",
            "Generated Answer: Institute of Systematic Botany\n",
            "BLEU Score: 0.0803\n",
            "ROUGE-L Score: 0.2500\n",
            "Exact Match: 0\n",
            "F1 Score: 0.2500\n",
            "\n",
            "---\n",
            "\n"
          ]
        },
        {
          "output_type": "stream",
          "name": "stderr",
          "text": [
            "Setting `pad_token_id` to `eos_token_id`:128001 for open-end generation.\n"
          ]
        },
        {
          "output_type": "stream",
          "name": "stdout",
          "text": [
            "Title: Erwin Baur\n",
            "Question: What was the major focus of Erwin Baur's research?\n",
            "Correct Answer: Plant genetics\n",
            "Generated Answer: Plant systematics\n",
            "BLEU Score: 0.1495\n",
            "ROUGE-L Score: 0.5000\n",
            "Exact Match: 0\n",
            "F1 Score: 0.5000\n",
            "\n",
            "---\n",
            "\n"
          ]
        },
        {
          "output_type": "stream",
          "name": "stderr",
          "text": [
            "Setting `pad_token_id` to `eos_token_id`:128001 for open-end generation.\n"
          ]
        },
        {
          "output_type": "stream",
          "name": "stdout",
          "text": [
            "Title: Jean Ziegler\n",
            "Question: What nationality is Jean Ziegler?\n",
            "Correct Answer: Swiss\n",
            "Generated Answer: Swiss\n",
            "BLEU Score: 0.1778\n",
            "ROUGE-L Score: 1.0000\n",
            "Exact Match: 1\n",
            "F1 Score: 1.0000\n",
            "\n",
            "---\n",
            "\n"
          ]
        },
        {
          "output_type": "stream",
          "name": "stderr",
          "text": [
            "Setting `pad_token_id` to `eos_token_id`:128001 for open-end generation.\n"
          ]
        },
        {
          "output_type": "stream",
          "name": "stdout",
          "text": [
            "Title: Jean Ziegler\n",
            "Question: What subjects did Jean Ziegler teach as a professor?\n",
            "Correct Answer: Sociology\n",
            "Generated Answer: International law and human rights\n",
            "BLEU Score: 0.0000\n",
            "ROUGE-L Score: 0.0000\n",
            "Exact Match: 0\n",
            "F1 Score: 0.0000\n",
            "\n",
            "---\n",
            "\n"
          ]
        },
        {
          "output_type": "stream",
          "name": "stderr",
          "text": [
            "Setting `pad_token_id` to `eos_token_id`:128001 for open-end generation.\n"
          ]
        },
        {
          "output_type": "stream",
          "name": "stdout",
          "text": [
            "Title: Jean Ziegler\n",
            "Question: At which universities did Jean Ziegler serve as a professor?\n",
            "Correct Answer: University of Geneva and the Sorbonne, Paris\n",
            "Generated Answer: None\n",
            "BLEU Score: 0.0000\n",
            "ROUGE-L Score: 0.0000\n",
            "Exact Match: 0\n",
            "F1 Score: 0.0000\n",
            "\n",
            "---\n",
            "\n"
          ]
        },
        {
          "output_type": "stream",
          "name": "stderr",
          "text": [
            "Setting `pad_token_id` to `eos_token_id`:128001 for open-end generation.\n"
          ]
        },
        {
          "output_type": "stream",
          "name": "stdout",
          "text": [
            "Title: Jean Ziegler\n",
            "Question: What was Jean Ziegler's role with the United Nations from 2000 to 2008?\n",
            "Correct Answer: Special Rapporteur on the Right to Food\n",
            "Generated Answer: Special Rapporteur\n",
            "BLEU Score: 0.0260\n",
            "ROUGE-L Score: 0.4444\n",
            "Exact Match: 0\n",
            "F1 Score: 0.4444\n",
            "\n",
            "---\n",
            "\n"
          ]
        },
        {
          "output_type": "stream",
          "name": "stderr",
          "text": [
            "Setting `pad_token_id` to `eos_token_id`:128001 for open-end generation.\n"
          ]
        },
        {
          "output_type": "stream",
          "name": "stdout",
          "text": [
            "Title: Russell Alan Hulse\n",
            "Question: With whom did Russell Alan Hulse share the Nobel Prize in Physics?\n",
            "Correct Answer: Joseph Hooton Taylor Jr.\n",
            "Generated Answer: John C\n",
            "BLEU Score: 0.0000\n",
            "ROUGE-L Score: 0.0000\n",
            "Exact Match: 0\n",
            "F1 Score: 0.0000\n",
            "\n",
            "---\n",
            "\n"
          ]
        },
        {
          "output_type": "stream",
          "name": "stderr",
          "text": [
            "Setting `pad_token_id` to `eos_token_id`:128001 for open-end generation.\n"
          ]
        },
        {
          "output_type": "stream",
          "name": "stdout",
          "text": [
            "Title: Russell Alan Hulse\n",
            "Question: What discovery led Russell Alan Hulse to win the Nobel Prize in Physics?\n",
            "Correct Answer: The discovery of a new type of pulsar\n",
            "Generated Answer: Pulsar detection\n",
            "BLEU Score: 0.0074\n",
            "ROUGE-L Score: 0.2000\n",
            "Exact Match: 0\n",
            "F1 Score: 0.2000\n",
            "\n",
            "---\n",
            "\n"
          ]
        },
        {
          "output_type": "stream",
          "name": "stderr",
          "text": [
            "Setting `pad_token_id` to `eos_token_id`:128001 for open-end generation.\n"
          ]
        },
        {
          "output_type": "stream",
          "name": "stdout",
          "text": [
            "Title: Russell Alan Hulse\n",
            "Question: In what year did Russell Alan Hulse receive his PhD?\n",
            "Correct Answer: 1975\n",
            "Generated Answer: 1969\n",
            "BLEU Score: 0.0000\n",
            "ROUGE-L Score: 0.0000\n",
            "Exact Match: 0\n",
            "F1 Score: 0.0000\n",
            "\n",
            "---\n",
            "\n"
          ]
        },
        {
          "output_type": "stream",
          "name": "stderr",
          "text": [
            "Setting `pad_token_id` to `eos_token_id`:128001 for open-end generation.\n"
          ]
        },
        {
          "output_type": "stream",
          "name": "stdout",
          "text": [
            "Title: Russell Alan Hulse\n",
            "Question: What is the name of the binary pulsar discovered by Russell Alan Hulse?\n",
            "Correct Answer: PSR B1913\n",
            "Generated Answer: Hulse-Taylor Binary Pulsars\n",
            "BLEU Score: 0.0000\n",
            "ROUGE-L Score: 0.0000\n",
            "Exact Match: 0\n",
            "F1 Score: 0.0000\n",
            "\n",
            "---\n",
            "\n"
          ]
        },
        {
          "output_type": "stream",
          "name": "stderr",
          "text": [
            "Setting `pad_token_id` to `eos_token_id`:128001 for open-end generation.\n"
          ]
        },
        {
          "output_type": "stream",
          "name": "stdout",
          "text": [
            "Title: Russell Alan Hulse\n",
            "Question: At which university did Russell Alan Hulse become a visiting professor in 2003?\n",
            "Correct Answer: The University of Texas at Dallas\n",
            "Generated Answer: Princeton\n",
            "BLEU Score: 0.0000\n",
            "ROUGE-L Score: 0.0000\n",
            "Exact Match: 0\n",
            "F1 Score: 0.0000\n",
            "\n",
            "---\n",
            "\n"
          ]
        },
        {
          "output_type": "stream",
          "name": "stderr",
          "text": [
            "Setting `pad_token_id` to `eos_token_id`:128001 for open-end generation.\n"
          ]
        },
        {
          "output_type": "stream",
          "name": "stdout",
          "text": [
            "Title: Russell Alan Hulse\n",
            "Question: What year did Russell Alan Hulse and Taylor share the Nobel Prize in Physics?\n",
            "Correct Answer: 1993\n",
            "Generated Answer: 1993\n",
            "BLEU Score: 0.1778\n",
            "ROUGE-L Score: 1.0000\n",
            "Exact Match: 1\n",
            "F1 Score: 1.0000\n",
            "\n",
            "---\n",
            "\n"
          ]
        },
        {
          "output_type": "stream",
          "name": "stderr",
          "text": [
            "Setting `pad_token_id` to `eos_token_id`:128001 for open-end generation.\n"
          ]
        },
        {
          "output_type": "stream",
          "name": "stdout",
          "text": [
            "Title: Tonino Cervi\n",
            "Question: Where was Tonino Cervi born?\n",
            "Correct Answer: Rome\n",
            "Generated Answer: Italy\n",
            "BLEU Score: 0.0000\n",
            "ROUGE-L Score: 0.0000\n",
            "Exact Match: 0\n",
            "F1 Score: 0.0000\n",
            "\n",
            "---\n",
            "\n"
          ]
        },
        {
          "output_type": "stream",
          "name": "stderr",
          "text": [
            "Setting `pad_token_id` to `eos_token_id`:128001 for open-end generation.\n"
          ]
        },
        {
          "output_type": "stream",
          "name": "stdout",
          "text": [
            "Title: Tonino Cervi\n",
            "Question: Of what cause did Tonino Cervi die?\n",
            "Correct Answer: Heart attack\n",
            "Generated Answer: Cancer\n",
            "BLEU Score: 0.0000\n",
            "ROUGE-L Score: 0.0000\n",
            "Exact Match: 0\n",
            "F1 Score: 0.0000\n",
            "\n",
            "---\n",
            "\n"
          ]
        },
        {
          "output_type": "stream",
          "name": "stderr",
          "text": [
            "Setting `pad_token_id` to `eos_token_id`:128001 for open-end generation.\n"
          ]
        },
        {
          "output_type": "stream",
          "name": "stdout",
          "text": [
            "Title: Tonino Cervi\n",
            "Question: In which city did Tonino Cervi die?\n",
            "Correct Answer: Rome\n",
            "Generated Answer: Rome\n",
            "BLEU Score: 0.1778\n",
            "ROUGE-L Score: 1.0000\n",
            "Exact Match: 1\n",
            "F1 Score: 1.0000\n",
            "\n",
            "---\n",
            "\n"
          ]
        },
        {
          "output_type": "stream",
          "name": "stderr",
          "text": [
            "Setting `pad_token_id` to `eos_token_id`:128001 for open-end generation.\n"
          ]
        },
        {
          "output_type": "stream",
          "name": "stdout",
          "text": [
            "Title: Tonino Cervi\n",
            "Question: Did Tonino Cervi produce any films for Federico Fellini?\n",
            "Correct Answer: Yes\n",
            "Generated Answer: Yes\n",
            "BLEU Score: 0.1778\n",
            "ROUGE-L Score: 1.0000\n",
            "Exact Match: 1\n",
            "F1 Score: 1.0000\n",
            "\n",
            "---\n",
            "\n"
          ]
        },
        {
          "output_type": "stream",
          "name": "stderr",
          "text": [
            "Setting `pad_token_id` to `eos_token_id`:128001 for open-end generation.\n"
          ]
        },
        {
          "output_type": "stream",
          "name": "stdout",
          "text": [
            "Title: Christian Krohg\n",
            "Question: Which art movement inspired Christian Krohg?\n",
            "Correct Answer: Realism\n",
            "Generated Answer: Expressionism\n",
            "BLEU Score: 0.0000\n",
            "ROUGE-L Score: 0.0000\n",
            "Exact Match: 0\n",
            "F1 Score: 0.0000\n",
            "\n",
            "---\n",
            "\n"
          ]
        },
        {
          "output_type": "stream",
          "name": "stderr",
          "text": [
            "Setting `pad_token_id` to `eos_token_id`:128001 for open-end generation.\n"
          ]
        },
        {
          "output_type": "stream",
          "name": "stdout",
          "text": [
            "Title: Christian Krohg\n",
            "Question: What year was Christian Krohg's son, Per Lasson Krohg, born?\n",
            "Correct Answer: 1889\n",
            "Generated Answer: 1909\n",
            "BLEU Score: 0.0000\n",
            "ROUGE-L Score: 0.0000\n",
            "Exact Match: 0\n",
            "F1 Score: 0.0000\n",
            "\n",
            "---\n",
            "\n"
          ]
        },
        {
          "output_type": "stream",
          "name": "stderr",
          "text": [
            "Setting `pad_token_id` to `eos_token_id`:128001 for open-end generation.\n"
          ]
        },
        {
          "output_type": "stream",
          "name": "stdout",
          "text": [
            "Title: Christian Krohg\n",
            "Question: Where is Christian Krohg buried?\n",
            "Correct Answer: Vår Frelsers gravlund in Oslo\n",
            "Generated Answer: Oslo\n",
            "BLEU Score: 0.0033\n",
            "ROUGE-L Score: 0.2857\n",
            "Exact Match: 0\n",
            "F1 Score: 0.3333\n",
            "\n",
            "---\n",
            "\n"
          ]
        },
        {
          "output_type": "stream",
          "name": "stderr",
          "text": [
            "Setting `pad_token_id` to `eos_token_id`:128001 for open-end generation.\n"
          ]
        },
        {
          "output_type": "stream",
          "name": "stdout",
          "text": [
            "Title: Christian Krohg\n",
            "Question: What role did Christian Krohg have at the Norwegian Commissioner at the Exposition Internationale d'Anvers?\n",
            "Correct Answer: Served as Norwegian Commissioner\n",
            "Generated Answer: None\n",
            "BLEU Score: 0.0000\n",
            "ROUGE-L Score: 0.0000\n",
            "Exact Match: 0\n",
            "F1 Score: 0.0000\n",
            "\n",
            "---\n",
            "\n"
          ]
        },
        {
          "output_type": "stream",
          "name": "stderr",
          "text": [
            "Setting `pad_token_id` to `eos_token_id`:128001 for open-end generation.\n"
          ]
        },
        {
          "output_type": "stream",
          "name": "stdout",
          "text": [
            "Title: Werner Janensch\n",
            "Question: Which museum was Werner Ernst Martin Janensch associated with during his expedition to the Tendaguru Beds?\n",
            "Correct Answer: Museum für Naturkunde in Berlin\n",
            "Generated Answer: The Berlin Museum\n",
            "BLEU Score: 0.0694\n",
            "ROUGE-L Score: 0.2222\n",
            "Exact Match: 0\n",
            "F1 Score: 0.5000\n",
            "\n",
            "---\n",
            "\n"
          ]
        },
        {
          "output_type": "stream",
          "name": "stderr",
          "text": [
            "Setting `pad_token_id` to `eos_token_id`:128001 for open-end generation.\n"
          ]
        },
        {
          "output_type": "stream",
          "name": "stdout",
          "text": [
            "Title: Werner Janensch\n",
            "Question: What was Werner Ernst Martin Janensch's original classification of the Brachiosaurus skeletons discovered?\n",
            "Correct Answer: Brachiosaurus\n",
            "Generated Answer: Mammal\n",
            "BLEU Score: 0.0000\n",
            "ROUGE-L Score: 0.0000\n",
            "Exact Match: 0\n",
            "F1 Score: 0.0000\n",
            "\n",
            "---\n",
            "\n"
          ]
        },
        {
          "output_type": "stream",
          "name": "stderr",
          "text": [
            "Setting `pad_token_id` to `eos_token_id`:128001 for open-end generation.\n"
          ]
        },
        {
          "output_type": "stream",
          "name": "stdout",
          "text": [
            "Title: Werner Janensch\n",
            "Question: What genus were Werner Ernst Martin Janensch's Brachiosaurus specimens later reassigned to?\n",
            "Correct Answer: Giraffatitan\n",
            "Generated Answer: Apatosaurus\n",
            "BLEU Score: 0.0000\n",
            "ROUGE-L Score: 0.0000\n",
            "Exact Match: 0\n",
            "F1 Score: 0.0000\n",
            "\n",
            "---\n",
            "\n"
          ]
        },
        {
          "output_type": "stream",
          "name": "stderr",
          "text": [
            "Setting `pad_token_id` to `eos_token_id`:128001 for open-end generation.\n"
          ]
        },
        {
          "output_type": "stream",
          "name": "stdout",
          "text": [
            "Title: Werner Janensch\n",
            "Question: Who was considered Germany's most important dinosaur specialist alongside Werner Ernst Martin Janensch?\n",
            "Correct Answer: Friedrich von Huene\n",
            "Generated Answer: Hans-Dieter Sues\n",
            "BLEU Score: 0.0000\n",
            "ROUGE-L Score: 0.0000\n",
            "Exact Match: 0\n",
            "F1 Score: 0.0000\n",
            "\n",
            "---\n",
            "\n"
          ]
        },
        {
          "output_type": "stream",
          "name": "stderr",
          "text": [
            "Setting `pad_token_id` to `eos_token_id`:128001 for open-end generation.\n"
          ]
        },
        {
          "output_type": "stream",
          "name": "stdout",
          "text": [
            "Title: Johann Rudolf Wyss\n",
            "Question: What nationality was Johann Rudolf Wyss?\n",
            "Correct Answer: Swiss\n",
            "Generated Answer: Swiss\n",
            "BLEU Score: 0.1778\n",
            "ROUGE-L Score: 1.0000\n",
            "Exact Match: 1\n",
            "F1 Score: 1.0000\n",
            "\n",
            "---\n",
            "\n"
          ]
        },
        {
          "output_type": "stream",
          "name": "stderr",
          "text": [
            "Setting `pad_token_id` to `eos_token_id`:128001 for open-end generation.\n"
          ]
        },
        {
          "output_type": "stream",
          "name": "stdout",
          "text": [
            "Title: Johann Rudolf Wyss\n",
            "Question: Which novel did Johann Rudolf Wyss edit that was written by his father?\n",
            "Correct Answer: The Swiss Family Robinson\n",
            "Generated Answer: Swiss Family Robinson\n",
            "BLEU Score: 0.4029\n",
            "ROUGE-L Score: 0.8571\n",
            "Exact Match: 0\n",
            "F1 Score: 0.8571\n",
            "\n",
            "---\n",
            "\n"
          ]
        },
        {
          "output_type": "stream",
          "name": "stderr",
          "text": [
            "Setting `pad_token_id` to `eos_token_id`:128001 for open-end generation.\n"
          ]
        },
        {
          "output_type": "stream",
          "name": "stdout",
          "text": [
            "Title: Johann Rudolf Wyss\n",
            "Question: In what year was The Swiss Family Robinson, edited by Johann Rudolf Wyss, published?\n",
            "Correct Answer: 1812\n",
            "Generated Answer: 1812\n",
            "BLEU Score: 0.1778\n",
            "ROUGE-L Score: 1.0000\n",
            "Exact Match: 1\n",
            "F1 Score: 1.0000\n",
            "\n",
            "---\n",
            "\n"
          ]
        },
        {
          "output_type": "stream",
          "name": "stderr",
          "text": [
            "Setting `pad_token_id` to `eos_token_id`:128001 for open-end generation.\n"
          ]
        },
        {
          "output_type": "stream",
          "name": "stdout",
          "text": [
            "Title: Johann Rudolf Wyss\n",
            "Question: How many volumes were published for 'Vorlesungen über das höchste Gut' by Johann Rudolf Wyss?\n",
            "Correct Answer: 2\n",
            "Generated Answer: 2\n",
            "BLEU Score: 0.1778\n",
            "ROUGE-L Score: 1.0000\n",
            "Exact Match: 1\n",
            "F1 Score: 1.0000\n",
            "\n",
            "---\n",
            "\n"
          ]
        },
        {
          "output_type": "stream",
          "name": "stderr",
          "text": [
            "Setting `pad_token_id` to `eos_token_id`:128001 for open-end generation.\n"
          ]
        },
        {
          "output_type": "stream",
          "name": "stdout",
          "text": [
            "Title: Johann Rudolf Wyss\n",
            "Question: Did Johann Rudolf Wyss write any works that were translated into French?\n",
            "Correct Answer: Yes\n",
            "Generated Answer: Yes\n",
            "BLEU Score: 0.1778\n",
            "ROUGE-L Score: 1.0000\n",
            "Exact Match: 1\n",
            "F1 Score: 1.0000\n",
            "\n",
            "---\n",
            "\n"
          ]
        },
        {
          "output_type": "stream",
          "name": "stderr",
          "text": [
            "Setting `pad_token_id` to `eos_token_id`:128001 for open-end generation.\n"
          ]
        },
        {
          "output_type": "stream",
          "name": "stdout",
          "text": [
            "Title: Gottfried Heinrich Graf zu Pappenheim\n",
            "Question: Which side did Gottfried Heinrich Graf zu Pappenheim support in the Thirty Years' War?\n",
            "Correct Answer: The Catholic League\n",
            "Generated Answer: Protestant\n",
            "BLEU Score: 0.0000\n",
            "ROUGE-L Score: 0.0000\n",
            "Exact Match: 0\n",
            "F1 Score: 0.0000\n",
            "\n",
            "---\n",
            "\n"
          ]
        },
        {
          "output_type": "stream",
          "name": "stderr",
          "text": [
            "Setting `pad_token_id` to `eos_token_id`:128001 for open-end generation.\n"
          ]
        },
        {
          "output_type": "stream",
          "name": "stdout",
          "text": [
            "Title: Gottfried Heinrich Graf zu Pappenheim\n",
            "Question: Against whom was Gottfried Heinrich Graf zu Pappenheim fighting when he was mortally wounded?\n",
            "Correct Answer: The Protestant forces under Swedish king Gustavus Adolphus\n",
            "Generated Answer: The Swabians\n",
            "BLEU Score: 0.0074\n",
            "ROUGE-L Score: 0.2000\n",
            "Exact Match: 0\n",
            "F1 Score: 0.2000\n",
            "\n",
            "---\n",
            "\n"
          ]
        },
        {
          "output_type": "stream",
          "name": "stderr",
          "text": [
            "Setting `pad_token_id` to `eos_token_id`:128001 for open-end generation.\n"
          ]
        },
        {
          "output_type": "stream",
          "name": "stdout",
          "text": [
            "Title: Gottfried Heinrich Graf zu Pappenheim\n",
            "Question: Which city's siege and storm is Gottfried Heinrich Graf zu Pappenheim accused of showing savage cruelty?\n",
            "Correct Answer: Magdeburg\n",
            "Generated Answer: Vienna\n",
            "BLEU Score: 0.0000\n",
            "ROUGE-L Score: 0.0000\n",
            "Exact Match: 0\n",
            "F1 Score: 0.0000\n",
            "\n",
            "---\n",
            "\n"
          ]
        },
        {
          "output_type": "stream",
          "name": "stderr",
          "text": [
            "Setting `pad_token_id` to `eos_token_id`:128001 for open-end generation.\n"
          ]
        },
        {
          "output_type": "stream",
          "name": "stdout",
          "text": [
            "Title: Gottfried Heinrich Graf zu Pappenheim\n",
            "Question: What military rank did Gottfried Heinrich Graf zu Pappenheim hold when he was recalled to join Wallenstein?\n",
            "Correct Answer: Field marshal\n",
            "Generated Answer: Field Marshal\n",
            "BLEU Score: 0.3162\n",
            "ROUGE-L Score: 1.0000\n",
            "Exact Match: 1\n",
            "F1 Score: 1.0000\n",
            "\n",
            "---\n",
            "\n"
          ]
        },
        {
          "output_type": "stream",
          "name": "stderr",
          "text": [
            "Setting `pad_token_id` to `eos_token_id`:128001 for open-end generation.\n"
          ]
        },
        {
          "output_type": "stream",
          "name": "stdout",
          "text": [
            "Title: Gottfried Heinrich Graf zu Pappenheim\n",
            "Question: What is the name of the form of rapier reportedly named after Gottfried Heinrich Graf zu Pappenheim?\n",
            "Correct Answer: The Pappenheimer\n",
            "Generated Answer: Rapier\n",
            "BLEU Score: 0.0000\n",
            "ROUGE-L Score: 0.0000\n",
            "Exact Match: 0\n",
            "F1 Score: 0.0000\n",
            "\n",
            "---\n",
            "\n"
          ]
        },
        {
          "output_type": "stream",
          "name": "stderr",
          "text": [
            "Setting `pad_token_id` to `eos_token_id`:128001 for open-end generation.\n"
          ]
        },
        {
          "output_type": "stream",
          "name": "stdout",
          "text": [
            "Title: Gottfried Heinrich Graf zu Pappenheim\n",
            "Question: In which part of the battle of Lützen did Gottfried Heinrich Graf zu Pappenheim appear with his horsemen?\n",
            "Correct Answer: In the midst of the battle\n",
            "Generated Answer: The Battle of Lützen\n",
            "BLEU Score: 0.1140\n",
            "ROUGE-L Score: 0.3636\n",
            "Exact Match: 0\n",
            "F1 Score: 0.6000\n",
            "\n",
            "---\n",
            "\n"
          ]
        },
        {
          "output_type": "stream",
          "name": "stderr",
          "text": [
            "Setting `pad_token_id` to `eos_token_id`:128001 for open-end generation.\n"
          ]
        },
        {
          "output_type": "stream",
          "name": "stdout",
          "text": [
            "Title: Rudolf Mössbauer\n",
            "Question: Which university did Rudolf Mössbauer attend for his physics studies?\n",
            "Correct Answer: Technical University of Munich\n",
            "Generated Answer: University of Cologne\n",
            "BLEU Score: 0.1722\n",
            "ROUGE-L Score: 0.5714\n",
            "Exact Match: 0\n",
            "F1 Score: 0.5714\n",
            "\n",
            "---\n",
            "\n"
          ]
        },
        {
          "output_type": "stream",
          "name": "stderr",
          "text": [
            "Setting `pad_token_id` to `eos_token_id`:128001 for open-end generation.\n"
          ]
        },
        {
          "output_type": "stream",
          "name": "stdout",
          "text": [
            "Title: Rudolf Mössbauer\n",
            "Question: What significant effect did Rudolf Mössbauer discover?\n",
            "Correct Answer: The Mössbauer effect\n",
            "Generated Answer: The phenomenon of nuclear resonance\n",
            "BLEU Score: 0.0537\n",
            "ROUGE-L Score: 0.2222\n",
            "Exact Match: 0\n",
            "F1 Score: 0.2500\n",
            "\n",
            "---\n",
            "\n"
          ]
        },
        {
          "output_type": "stream",
          "name": "stderr",
          "text": [
            "Setting `pad_token_id` to `eos_token_id`:128001 for open-end generation.\n"
          ]
        },
        {
          "output_type": "stream",
          "name": "stdout",
          "text": [
            "Title: Rudolf Mössbauer\n",
            "Question: For what achievement was Rudolf Mössbauer awarded the Nobel Prize in Physics?\n",
            "Correct Answer: For his discovery of 'recoilless nuclear resonance fluorescence'.\n",
            "Generated Answer: Discovery of resonance absorption\n",
            "BLEU Score: 0.0692\n",
            "ROUGE-L Score: 0.5000\n",
            "Exact Match: 0\n",
            "F1 Score: 0.5000\n",
            "\n",
            "---\n",
            "\n"
          ]
        },
        {
          "output_type": "stream",
          "name": "stderr",
          "text": [
            "Setting `pad_token_id` to `eos_token_id`:128001 for open-end generation.\n"
          ]
        },
        {
          "output_type": "stream",
          "name": "stdout",
          "text": [
            "Title: Rudolf Mössbauer\n",
            "Question: In which year did Rudolf Mössbauer receive the Nobel Prize in Physics?\n",
            "Correct Answer: 1961\n",
            "Generated Answer: 1961\n",
            "BLEU Score: 0.1778\n",
            "ROUGE-L Score: 1.0000\n",
            "Exact Match: 1\n",
            "F1 Score: 1.0000\n",
            "\n",
            "---\n",
            "\n"
          ]
        },
        {
          "output_type": "stream",
          "name": "stderr",
          "text": [
            "Setting `pad_token_id` to `eos_token_id`:128001 for open-end generation.\n"
          ]
        },
        {
          "output_type": "stream",
          "name": "stdout",
          "text": [
            "Title: Rudolf Mössbauer\n",
            "Question: What is the basis for Mössbauer spectroscopy?\n",
            "Correct Answer: The Mössbauer effect\n",
            "Generated Answer: Nuclear resonance\n",
            "BLEU Score: 0.0000\n",
            "ROUGE-L Score: 0.0000\n",
            "Exact Match: 0\n",
            "F1 Score: 0.0000\n",
            "\n",
            "---\n",
            "\n"
          ]
        },
        {
          "output_type": "stream",
          "name": "stderr",
          "text": [
            "Setting `pad_token_id` to `eos_token_id`:128001 for open-end generation.\n"
          ]
        },
        {
          "output_type": "stream",
          "name": "stdout",
          "text": [
            "Title: A. B. Guthrie Jr.\n",
            "Question: What notable award did A. B. Guthrie Jr.'s novel The Way West win?\n",
            "Correct Answer: 1950 Pulitzer Prize for Fiction\n",
            "Generated Answer: Pulitzer Prize for Fiction in 1949\n",
            "BLEU Score: 0.5081\n",
            "ROUGE-L Score: 0.7273\n",
            "Exact Match: 0\n",
            "F1 Score: 0.7273\n",
            "\n",
            "---\n",
            "\n"
          ]
        },
        {
          "output_type": "stream",
          "name": "stderr",
          "text": [
            "Setting `pad_token_id` to `eos_token_id`:128001 for open-end generation.\n"
          ]
        },
        {
          "output_type": "stream",
          "name": "stdout",
          "text": [
            "Title: A. B. Guthrie Jr.\n",
            "Question: In what year was A. B. Guthrie Jr.'s novel The Big Sky published?\n",
            "Correct Answer: 1947\n",
            "Generated Answer: 1947\n",
            "BLEU Score: 0.1778\n",
            "ROUGE-L Score: 1.0000\n",
            "Exact Match: 1\n",
            "F1 Score: 1.0000\n",
            "\n",
            "---\n",
            "\n"
          ]
        },
        {
          "output_type": "stream",
          "name": "stderr",
          "text": [
            "Setting `pad_token_id` to `eos_token_id`:128001 for open-end generation.\n"
          ]
        },
        {
          "output_type": "stream",
          "name": "stdout",
          "text": [
            "Title: A. B. Guthrie Jr.\n",
            "Question: What university did A. B. Guthrie Jr. teach creative writing at?\n",
            "Correct Answer: University of Kentucky\n",
            "Generated Answer: Vanderbilt University\n",
            "BLEU Score: 0.0907\n",
            "ROUGE-L Score: 0.4000\n",
            "Exact Match: 0\n",
            "F1 Score: 0.4000\n",
            "\n",
            "---\n",
            "\n"
          ]
        },
        {
          "output_type": "stream",
          "name": "stderr",
          "text": [
            "Setting `pad_token_id` to `eos_token_id`:128001 for open-end generation.\n"
          ]
        },
        {
          "output_type": "stream",
          "name": "stdout",
          "text": [
            "Title: A. B. Guthrie Jr.\n",
            "Question: What was the title of A. B. Guthrie Jr.'s first collection of short stories?\n",
            "Correct Answer: The Big It and Other Stories\n",
            "Generated Answer: The Big Sky Country and Other Stories\n",
            "BLEU Score: 0.2056\n",
            "ROUGE-L Score: 0.7692\n",
            "Exact Match: 0\n",
            "F1 Score: 0.7692\n",
            "\n",
            "---\n",
            "\n"
          ]
        },
        {
          "output_type": "stream",
          "name": "stderr",
          "text": [
            "Setting `pad_token_id` to `eos_token_id`:128001 for open-end generation.\n"
          ]
        },
        {
          "output_type": "stream",
          "name": "stdout",
          "text": [
            "Title: Eberhard Jüngel\n",
            "Question: What nationality was Eberhard Jüngel?\n",
            "Correct Answer: German\n",
            "Generated Answer: German\n",
            "BLEU Score: 0.1778\n",
            "ROUGE-L Score: 1.0000\n",
            "Exact Match: 1\n",
            "F1 Score: 1.0000\n",
            "\n",
            "---\n",
            "\n"
          ]
        },
        {
          "output_type": "stream",
          "name": "stderr",
          "text": [
            "Setting `pad_token_id` to `eos_token_id`:128001 for open-end generation.\n"
          ]
        },
        {
          "output_type": "stream",
          "name": "stdout",
          "text": [
            "Title: Eberhard Jüngel\n",
            "Question: At which university was Eberhard Jüngel an Emeritus Professor?\n",
            "Correct Answer: University of Tübingen\n",
            "Generated Answer: University of Tübingen\n",
            "BLEU Score: 0.5623\n",
            "ROUGE-L Score: 1.0000\n",
            "Exact Match: 1\n",
            "F1 Score: 1.0000\n",
            "\n",
            "---\n",
            "\n"
          ]
        },
        {
          "output_type": "stream",
          "name": "stderr",
          "text": [
            "Setting `pad_token_id` to `eos_token_id`:128001 for open-end generation.\n"
          ]
        },
        {
          "output_type": "stream",
          "name": "stdout",
          "text": [
            "Title: Eberhard Jüngel\n",
            "Question: What was Eberhard Jüngel's area of expertise?\n",
            "Correct Answer: Systematic Theology and the Philosophy of Religion\n",
            "Generated Answer: Systematic theology\n",
            "BLEU Score: 0.0260\n",
            "ROUGE-L Score: 0.4444\n",
            "Exact Match: 0\n",
            "F1 Score: 0.4444\n",
            "\n",
            "---\n",
            "\n"
          ]
        },
        {
          "output_type": "stream",
          "name": "stderr",
          "text": [
            "Setting `pad_token_id` to `eos_token_id`:128001 for open-end generation.\n"
          ]
        },
        {
          "output_type": "stream",
          "name": "stdout",
          "text": [
            "Title: Eberhard Jüngel\n",
            "Question: Which prestigious orders and academies was Eberhard Jüngel a member of?\n",
            "Correct Answer: Norwegian Academy of Science and Letters, Chancellor of the Order Pour le Mérite for Sciences and Arts\n",
            "Generated Answer: German Academy in Berlin\n",
            "BLEU Score: 0.0031\n",
            "ROUGE-L Score: 0.0909\n",
            "Exact Match: 0\n",
            "F1 Score: 0.0952\n",
            "\n",
            "---\n",
            "\n"
          ]
        },
        {
          "output_type": "stream",
          "name": "stderr",
          "text": [
            "Setting `pad_token_id` to `eos_token_id`:128001 for open-end generation.\n"
          ]
        },
        {
          "output_type": "stream",
          "name": "stdout",
          "text": [
            "Title: Eberhard Jüngel\n",
            "Question: What honors did Eberhard Jüngel receive from the Federal Republic of Germany and the State of Baden-Württemberg?\n",
            "Correct Answer: Knight Commander's Cross of the Order of Merit of the Federal Republic of Germany, Medal of Merit of the State of Baden-Württemberg\n",
            "Generated Answer: The Order of Merit of Baden-Württemberg\n",
            "BLEU Score: 0.0701\n",
            "ROUGE-L Score: 0.4848\n",
            "Exact Match: 0\n",
            "F1 Score: 0.3871\n",
            "\n",
            "---\n",
            "\n"
          ]
        },
        {
          "output_type": "stream",
          "name": "stderr",
          "text": [
            "Setting `pad_token_id` to `eos_token_id`:128001 for open-end generation.\n"
          ]
        },
        {
          "output_type": "stream",
          "name": "stdout",
          "text": [
            "Title: Eberhard Jüngel\n",
            "Question: Which universities awarded Eberhard Jüngel honorary doctorates?\n",
            "Correct Answer: University of Greifswald and University of Basel\n",
            "Generated Answer: University of Freiburg and University of Tübingen\n",
            "BLEU Score: 0.2056\n",
            "ROUGE-L Score: 0.6667\n",
            "Exact Match: 0\n",
            "F1 Score: 0.4286\n",
            "\n",
            "---\n",
            "\n"
          ]
        },
        {
          "output_type": "stream",
          "name": "stderr",
          "text": [
            "Setting `pad_token_id` to `eos_token_id`:128001 for open-end generation.\n"
          ]
        },
        {
          "output_type": "stream",
          "name": "stdout",
          "text": [
            "Title: Wolfgang, Count Palatine of Zweibrücken\n",
            "Question: Who was Wolfgang, Count Palatine of Zweibrücken's father?\n",
            "Correct Answer: Louis II, Count Palatine of Zweibrücken\n",
            "Generated Answer: Frederick V\n",
            "BLEU Score: 0.0000\n",
            "ROUGE-L Score: 0.0000\n",
            "Exact Match: 0\n",
            "F1 Score: 0.0000\n",
            "\n",
            "---\n",
            "\n"
          ]
        },
        {
          "output_type": "stream",
          "name": "stderr",
          "text": [
            "Setting `pad_token_id` to `eos_token_id`:128001 for open-end generation.\n"
          ]
        },
        {
          "output_type": "stream",
          "name": "stdout",
          "text": [
            "Title: Wolfgang, Count Palatine of Zweibrücken\n",
            "Question: What significant religious change did Wolfgang, Count Palatine of Zweibrücken introduce to Zweibrücken in 1537?\n",
            "Correct Answer: The Reformation\n",
            "Generated Answer: Lutheranism\n",
            "BLEU Score: 0.0000\n",
            "ROUGE-L Score: 0.0000\n",
            "Exact Match: 0\n",
            "F1 Score: 0.0000\n",
            "\n",
            "---\n",
            "\n"
          ]
        },
        {
          "output_type": "stream",
          "name": "stderr",
          "text": [
            "Setting `pad_token_id` to `eos_token_id`:128001 for open-end generation.\n"
          ]
        },
        {
          "output_type": "stream",
          "name": "stdout",
          "text": [
            "Title: Wolfgang, Count Palatine of Zweibrücken\n",
            "Question: Which Emperor occupied Wolfgang, Count Palatine of Zweibrücken's Protestant territories in 1548?\n",
            "Correct Answer: Holy Roman Emperor Charles V\n",
            "Generated Answer: Charles V\n",
            "BLEU Score: 0.0706\n",
            "ROUGE-L Score: 0.5714\n",
            "Exact Match: 0\n",
            "F1 Score: 0.5714\n",
            "\n",
            "---\n",
            "\n"
          ]
        },
        {
          "output_type": "stream",
          "name": "stderr",
          "text": [
            "Setting `pad_token_id` to `eos_token_id`:128001 for open-end generation.\n"
          ]
        },
        {
          "output_type": "stream",
          "name": "stdout",
          "text": [
            "Title: Wolfgang, Count Palatine of Zweibrücken\n",
            "Question: Which of Wolfgang, Count Palatine of Zweibrücken's sons became the ancestor to the line of Palatinate-Zweibrücken-Birkenfeld?\n",
            "Correct Answer: Charles I, Count Palatine of Zweibrücken-Birkenfeld\n",
            "Generated Answer: Karl Ludwig\n",
            "BLEU Score: 0.0000\n",
            "ROUGE-L Score: 0.0000\n",
            "Exact Match: 0\n",
            "F1 Score: 0.0000\n",
            "\n",
            "---\n",
            "\n"
          ]
        },
        {
          "output_type": "stream",
          "name": "stderr",
          "text": [
            "Setting `pad_token_id` to `eos_token_id`:128001 for open-end generation.\n"
          ]
        },
        {
          "output_type": "stream",
          "name": "stdout",
          "text": [
            "Title: Wolfgang, Count Palatine of Zweibrücken\n",
            "Question: Which of Wolfgang, Count Palatine of Zweibrücken's territories was involved in the Contract of Heidelberg?\n",
            "Correct Answer: Palatinate-Neuburg\n",
            "Generated Answer: The Electorate of Trier\n",
            "BLEU Score: 0.0000\n",
            "ROUGE-L Score: 0.0000\n",
            "Exact Match: 0\n",
            "F1 Score: 0.0000\n",
            "\n",
            "---\n",
            "\n"
          ]
        },
        {
          "output_type": "stream",
          "name": "stderr",
          "text": [
            "Setting `pad_token_id` to `eos_token_id`:128001 for open-end generation.\n"
          ]
        },
        {
          "output_type": "stream",
          "name": "stdout",
          "text": [
            "Title: Emil Wiechert\n",
            "Question: What type of waves did Emil Wiechert do pioneering work on?\n",
            "Correct Answer: Seismic waves\n",
            "Generated Answer: Seismic\n",
            "BLEU Score: 0.0654\n",
            "ROUGE-L Score: 0.6667\n",
            "Exact Match: 0\n",
            "F1 Score: 0.6667\n",
            "\n",
            "---\n",
            "\n"
          ]
        },
        {
          "output_type": "stream",
          "name": "stderr",
          "text": [
            "Setting `pad_token_id` to `eos_token_id`:128001 for open-end generation.\n"
          ]
        },
        {
          "output_type": "stream",
          "name": "stdout",
          "text": [
            "Title: Emil Wiechert\n",
            "Question: What is named after Emil Wiechert on the Moon?\n",
            "Correct Answer: The crater Wiechert\n",
            "Generated Answer: Crater\n",
            "BLEU Score: 0.0241\n",
            "ROUGE-L Score: 0.5000\n",
            "Exact Match: 0\n",
            "F1 Score: 0.5000\n",
            "\n",
            "---\n",
            "\n"
          ]
        },
        {
          "output_type": "stream",
          "name": "stderr",
          "text": [
            "Setting `pad_token_id` to `eos_token_id`:128001 for open-end generation.\n"
          ]
        },
        {
          "output_type": "stream",
          "name": "stdout",
          "text": [
            "Title: Emil Wiechert\n",
            "Question: What title did Emil Wiechert achieve by 1896?\n",
            "Correct Answer: Professor\n",
            "Generated Answer: Professor\n",
            "BLEU Score: 0.1778\n",
            "ROUGE-L Score: 1.0000\n",
            "Exact Match: 1\n",
            "F1 Score: 1.0000\n",
            "\n",
            "---\n",
            "\n"
          ]
        },
        {
          "output_type": "stream",
          "name": "stderr",
          "text": [
            "Setting `pad_token_id` to `eos_token_id`:128001 for open-end generation.\n"
          ]
        },
        {
          "output_type": "stream",
          "name": "stdout",
          "text": [
            "Title: Emil Wiechert\n",
            "Question: Which academy named Emil Wiechert as a corresponding member in 1912?\n",
            "Correct Answer: Berlin Academy of Science\n",
            "Generated Answer: The Prussian Academy of Sciences\n",
            "BLEU Score: 0.1136\n",
            "ROUGE-L Score: 0.6667\n",
            "Exact Match: 0\n",
            "F1 Score: 0.4444\n",
            "\n",
            "---\n",
            "\n"
          ]
        },
        {
          "output_type": "stream",
          "name": "stderr",
          "text": [
            "Setting `pad_token_id` to `eos_token_id`:128001 for open-end generation.\n"
          ]
        },
        {
          "output_type": "stream",
          "name": "stdout",
          "text": [
            "Title: Thomas Klestil\n",
            "Question: In what year was Thomas Klestil first elected as president of Austria?\n",
            "Correct Answer: 1992\n",
            "Generated Answer: 1992\n",
            "BLEU Score: 0.1778\n",
            "ROUGE-L Score: 1.0000\n",
            "Exact Match: 1\n",
            "F1 Score: 1.0000\n",
            "\n",
            "---\n",
            "\n"
          ]
        },
        {
          "output_type": "stream",
          "name": "stderr",
          "text": [
            "Setting `pad_token_id` to `eos_token_id`:128001 for open-end generation.\n"
          ]
        },
        {
          "output_type": "stream",
          "name": "stdout",
          "text": [
            "Title: Thomas Klestil\n",
            "Question: How many terms did Thomas Klestil serve as president of Austria?\n",
            "Correct Answer: Two\n",
            "Generated Answer: 1\n",
            "BLEU Score: 0.0000\n",
            "ROUGE-L Score: 0.0000\n",
            "Exact Match: 0\n",
            "F1 Score: 0.0000\n",
            "\n",
            "---\n",
            "\n"
          ]
        },
        {
          "output_type": "stream",
          "name": "stderr",
          "text": [
            "Setting `pad_token_id` to `eos_token_id`:128001 for open-end generation.\n"
          ]
        },
        {
          "output_type": "stream",
          "name": "stdout",
          "text": [
            "Title: Thomas Klestil\n",
            "Question: Where was Thomas Klestil born?\n",
            "Correct Answer: Vienna\n",
            "Generated Answer: Vienna\n",
            "BLEU Score: 0.1778\n",
            "ROUGE-L Score: 1.0000\n",
            "Exact Match: 1\n",
            "F1 Score: 1.0000\n",
            "\n",
            "---\n",
            "\n"
          ]
        },
        {
          "output_type": "stream",
          "name": "stderr",
          "text": [
            "Setting `pad_token_id` to `eos_token_id`:128001 for open-end generation.\n"
          ]
        },
        {
          "output_type": "stream",
          "name": "stdout",
          "text": [
            "Title: Thomas Klestil\n",
            "Question: Where was Thomas Klestil buried?\n",
            "Correct Answer: Vienna's Central Cemetery (Zentralfriedhof)\n",
            "Generated Answer: Vienna\n",
            "BLEU Score: 0.0033\n",
            "ROUGE-L Score: 0.3333\n",
            "Exact Match: 0\n",
            "F1 Score: 0.3333\n",
            "\n",
            "---\n",
            "\n"
          ]
        },
        {
          "output_type": "stream",
          "name": "stderr",
          "text": [
            "Setting `pad_token_id` to `eos_token_id`:128001 for open-end generation.\n"
          ]
        },
        {
          "output_type": "stream",
          "name": "stdout",
          "text": [
            "Title: Thomas Klestil\n",
            "Question: What notable dignitary attended Thomas Klestil's funeral?\n",
            "Correct Answer: Vladimir Putin\n",
            "Generated Answer: Pope John Paul II\n",
            "BLEU Score: 0.0000\n",
            "ROUGE-L Score: 0.0000\n",
            "Exact Match: 0\n",
            "F1 Score: 0.0000\n",
            "\n",
            "---\n",
            "\n"
          ]
        },
        {
          "output_type": "stream",
          "name": "stderr",
          "text": [
            "Setting `pad_token_id` to `eos_token_id`:128001 for open-end generation.\n"
          ]
        },
        {
          "output_type": "stream",
          "name": "stdout",
          "text": [
            "Title: Michaela Dorfmeister\n",
            "Question: What is the nationality of Michaela Dorfmeister?\n",
            "Correct Answer: Austrian\n",
            "Generated Answer: Austrian\n",
            "BLEU Score: 0.1778\n",
            "ROUGE-L Score: 1.0000\n",
            "Exact Match: 1\n",
            "F1 Score: 1.0000\n",
            "\n",
            "---\n",
            "\n"
          ]
        },
        {
          "output_type": "stream",
          "name": "stderr",
          "text": [
            "Setting `pad_token_id` to `eos_token_id`:128001 for open-end generation.\n"
          ]
        },
        {
          "output_type": "stream",
          "name": "stdout",
          "text": [
            "Title: Michaela Dorfmeister\n",
            "Question: In which skiing disciplines did Michaela Dorfmeister specialize?\n",
            "Correct Answer: Downhill and super-G\n",
            "Generated Answer: Downhill and Super-G\n",
            "BLEU Score: 1.0000\n",
            "ROUGE-L Score: 1.0000\n",
            "Exact Match: 1\n",
            "F1 Score: 1.0000\n",
            "\n",
            "---\n",
            "\n"
          ]
        },
        {
          "output_type": "stream",
          "name": "stderr",
          "text": [
            "Setting `pad_token_id` to `eos_token_id`:128001 for open-end generation.\n"
          ]
        },
        {
          "output_type": "stream",
          "name": "stdout",
          "text": [
            "Title: Michaela Dorfmeister\n",
            "Question: In what year did Michaela Dorfmeister enter her first World Cup race?\n",
            "Correct Answer: 1991\n",
            "Generated Answer: 1996\n",
            "BLEU Score: 0.0000\n",
            "ROUGE-L Score: 0.0000\n",
            "Exact Match: 0\n",
            "F1 Score: 0.0000\n",
            "\n",
            "---\n",
            "\n"
          ]
        },
        {
          "output_type": "stream",
          "name": "stderr",
          "text": [
            "Setting `pad_token_id` to `eos_token_id`:128001 for open-end generation.\n"
          ]
        },
        {
          "output_type": "stream",
          "name": "stdout",
          "text": [
            "Title: Michaela Dorfmeister\n",
            "Question: In which races did Michaela Dorfmeister win gold medals at the 2006 Winter Olympics?\n",
            "Correct Answer: Downhill and super-G\n",
            "Generated Answer: Alpine skiing\n",
            "BLEU Score: 0.0000\n",
            "ROUGE-L Score: 0.0000\n",
            "Exact Match: 0\n",
            "F1 Score: 0.0000\n",
            "\n",
            "---\n",
            "\n"
          ]
        },
        {
          "output_type": "stream",
          "name": "stderr",
          "text": [
            "Setting `pad_token_id` to `eos_token_id`:128001 for open-end generation.\n"
          ]
        },
        {
          "output_type": "stream",
          "name": "stdout",
          "text": [
            "Title: Michaela Dorfmeister\n",
            "Question: How many downhill victories did Michaela Dorfmeister have in her career?\n",
            "Correct Answer: 7\n",
            "Generated Answer: 4\n",
            "BLEU Score: 0.0000\n",
            "ROUGE-L Score: 0.0000\n",
            "Exact Match: 0\n",
            "F1 Score: 0.0000\n",
            "\n",
            "---\n",
            "\n"
          ]
        },
        {
          "output_type": "stream",
          "name": "stderr",
          "text": [
            "Setting `pad_token_id` to `eos_token_id`:128001 for open-end generation.\n"
          ]
        },
        {
          "output_type": "stream",
          "name": "stdout",
          "text": [
            "Title: Frank R. Paul\n",
            "Question: What field did Frank R. Paul work in?\n",
            "Correct Answer: Science fiction illustration\n",
            "Generated Answer: Science fiction and fantasy art\n",
            "BLEU Score: 0.1136\n",
            "ROUGE-L Score: 0.5000\n",
            "Exact Match: 0\n",
            "F1 Score: 0.5000\n",
            "\n",
            "---\n",
            "\n"
          ]
        },
        {
          "output_type": "stream",
          "name": "stderr",
          "text": [
            "Setting `pad_token_id` to `eos_token_id`:128001 for open-end generation.\n"
          ]
        },
        {
          "output_type": "stream",
          "name": "stdout",
          "text": [
            "Title: Frank R. Paul\n",
            "Question: Which was the first magazine dedicated to science fiction that featured Frank R. Paul's work on its cover?\n",
            "Correct Answer: Amazing Stories\n",
            "Generated Answer: Astounding Science Fiction\n",
            "BLEU Score: 0.0000\n",
            "ROUGE-L Score: 0.0000\n",
            "Exact Match: 0\n",
            "F1 Score: 0.0000\n",
            "\n",
            "---\n",
            "\n"
          ]
        },
        {
          "output_type": "stream",
          "name": "stderr",
          "text": [
            "Setting `pad_token_id` to `eos_token_id`:128001 for open-end generation.\n"
          ]
        },
        {
          "output_type": "stream",
          "name": "stdout",
          "text": [
            "Title: Frank R. Paul\n",
            "Question: What award is named in honor of Frank R. Paul?\n",
            "Correct Answer: The Frank R Paul Award\n",
            "Generated Answer: Hugo Award\n",
            "BLEU Score: 0.0334\n",
            "ROUGE-L Score: 0.2857\n",
            "Exact Match: 0\n",
            "F1 Score: 0.2857\n",
            "\n",
            "---\n",
            "\n"
          ]
        },
        {
          "output_type": "stream",
          "name": "stderr",
          "text": [
            "Setting `pad_token_id` to `eos_token_id`:128001 for open-end generation.\n"
          ]
        },
        {
          "output_type": "stream",
          "name": "stdout",
          "text": [
            "Title: Frank R. Paul\n",
            "Question: In what year was Frank R. Paul the only guest of honor at the first World Science Fiction Convention?\n",
            "Correct Answer: 1939\n",
            "Generated Answer: 1939\n",
            "BLEU Score: 0.1778\n",
            "ROUGE-L Score: 1.0000\n",
            "Exact Match: 1\n",
            "F1 Score: 1.0000\n",
            "\n",
            "---\n",
            "\n"
          ]
        },
        {
          "output_type": "stream",
          "name": "stderr",
          "text": [
            "Setting `pad_token_id` to `eos_token_id`:128001 for open-end generation.\n"
          ]
        },
        {
          "output_type": "stream",
          "name": "stdout",
          "text": [
            "Title: Martin Gutzwiller\n",
            "Question: For what field of study is Martin Charles Gutzwiller known?\n",
            "Correct Answer: Physics\n",
            "Generated Answer: Nuclear physics\n",
            "BLEU Score: 0.1495\n",
            "ROUGE-L Score: 0.6667\n",
            "Exact Match: 0\n",
            "F1 Score: 0.6667\n",
            "\n",
            "---\n",
            "\n"
          ]
        },
        {
          "output_type": "stream",
          "name": "stderr",
          "text": [
            "Setting `pad_token_id` to `eos_token_id`:128001 for open-end generation.\n"
          ]
        },
        {
          "output_type": "stream",
          "name": "stdout",
          "text": [
            "Title: Martin Gutzwiller\n",
            "Question: What position did Martin Charles Gutzwiller hold at Yale University?\n",
            "Correct Answer: Adjunct professor of physics\n",
            "Generated Answer: Professor of Music\n",
            "BLEU Score: 0.1722\n",
            "ROUGE-L Score: 0.5714\n",
            "Exact Match: 0\n",
            "F1 Score: 0.5714\n",
            "\n",
            "---\n",
            "\n"
          ]
        },
        {
          "output_type": "stream",
          "name": "stderr",
          "text": [
            "Setting `pad_token_id` to `eos_token_id`:128001 for open-end generation.\n"
          ]
        },
        {
          "output_type": "stream",
          "name": "stdout",
          "text": [
            "Title: Martin Gutzwiller\n",
            "Question: In which city was Martin Charles Gutzwiller born?\n",
            "Correct Answer: Basel\n",
            "Generated Answer: Geneva\n",
            "BLEU Score: 0.0000\n",
            "ROUGE-L Score: 0.0000\n",
            "Exact Match: 0\n",
            "F1 Score: 0.0000\n",
            "\n",
            "---\n",
            "\n"
          ]
        },
        {
          "output_type": "stream",
          "name": "stderr",
          "text": [
            "Setting `pad_token_id` to `eos_token_id`:128001 for open-end generation.\n"
          ]
        },
        {
          "output_type": "stream",
          "name": "stdout",
          "text": [
            "Title: Martin Gutzwiller\n",
            "Question: What approximation is Martin Charles Gutzwiller known for formulating?\n",
            "Correct Answer: The Gutzwiller approximation\n",
            "Generated Answer: The \"soft\" model of ionization\n",
            "BLEU Score: 0.0537\n",
            "ROUGE-L Score: 0.2500\n",
            "Exact Match: 0\n",
            "F1 Score: 0.2500\n",
            "\n",
            "---\n",
            "\n"
          ]
        },
        {
          "output_type": "stream",
          "name": "stderr",
          "text": [
            "Setting `pad_token_id` to `eos_token_id`:128001 for open-end generation.\n"
          ]
        },
        {
          "output_type": "stream",
          "name": "stdout",
          "text": [
            "Title: Martin Gutzwiller\n",
            "Question: What fellowship is named after Martin Charles Gutzwiller?\n",
            "Correct Answer: The Martin Gutzwiller Fellowship\n",
            "Generated Answer: The Gutzwiller Fellowship\n",
            "BLEU Score: 0.1905\n",
            "ROUGE-L Score: 0.8571\n",
            "Exact Match: 0\n",
            "F1 Score: 0.8571\n",
            "\n",
            "---\n",
            "\n"
          ]
        },
        {
          "output_type": "stream",
          "name": "stderr",
          "text": [
            "Setting `pad_token_id` to `eos_token_id`:128001 for open-end generation.\n"
          ]
        },
        {
          "output_type": "stream",
          "name": "stdout",
          "text": [
            "Title: Iwan Wirth\n",
            "Question: What is the nationality of Iwan Wirth?\n",
            "Correct Answer: Swiss\n",
            "Generated Answer: Austrian\n",
            "BLEU Score: 0.0000\n",
            "ROUGE-L Score: 0.0000\n",
            "Exact Match: 0\n",
            "F1 Score: 0.0000\n",
            "\n",
            "---\n",
            "\n"
          ]
        },
        {
          "output_type": "stream",
          "name": "stderr",
          "text": [
            "Setting `pad_token_id` to `eos_token_id`:128001 for open-end generation.\n"
          ]
        },
        {
          "output_type": "stream",
          "name": "stdout",
          "text": [
            "Title: Iwan Wirth\n",
            "Question: What is the name of the contemporary art gallery co-founded by Iwan Wirth?\n",
            "Correct Answer: Hauser & Wirth\n",
            "Generated Answer: Hauser & Wirth\n",
            "BLEU Score: 0.3162\n",
            "ROUGE-L Score: 1.0000\n",
            "Exact Match: 1\n",
            "F1 Score: 1.0000\n",
            "\n",
            "---\n",
            "\n"
          ]
        },
        {
          "output_type": "stream",
          "name": "stderr",
          "text": [
            "Setting `pad_token_id` to `eos_token_id`:128001 for open-end generation.\n"
          ]
        },
        {
          "output_type": "stream",
          "name": "stdout",
          "text": [
            "Title: Iwan Wirth\n",
            "Question: What did Iwan Wirth and Manuela Hauser found that led them to be named one of the 'Top 50 Philanthropists of 2019' by Town & Country?\n",
            "Correct Answer: Hauser & Wirth Institute\n",
            "Generated Answer: The Luminari Foundation\n",
            "BLEU Score: 0.0000\n",
            "ROUGE-L Score: 0.0000\n",
            "Exact Match: 0\n",
            "F1 Score: 0.0000\n",
            "\n",
            "---\n",
            "\n"
          ]
        },
        {
          "output_type": "stream",
          "name": "stderr",
          "text": [
            "Setting `pad_token_id` to `eos_token_id`:128001 for open-end generation.\n"
          ]
        },
        {
          "output_type": "stream",
          "name": "stdout",
          "text": [
            "Title: Iwan Wirth\n",
            "Question: How much did Iwan Wirth and his wife donate to Cal State LA?\n",
            "Correct Answer: $1 million\n",
            "Generated Answer: $1 million\n",
            "BLEU Score: 0.3162\n",
            "ROUGE-L Score: 1.0000\n",
            "Exact Match: 1\n",
            "F1 Score: 1.0000\n",
            "\n",
            "---\n",
            "\n"
          ]
        },
        {
          "output_type": "stream",
          "name": "stderr",
          "text": [
            "Setting `pad_token_id` to `eos_token_id`:128001 for open-end generation.\n"
          ]
        },
        {
          "output_type": "stream",
          "name": "stdout",
          "text": [
            "Title: Elizabeth Manley\n",
            "Question: What was the result of Elizabeth Ann Manley at the 1982 World Junior Championships?\n",
            "Correct Answer: Bronze medal\n",
            "Generated Answer: Silver\n",
            "BLEU Score: 0.0000\n",
            "ROUGE-L Score: 0.0000\n",
            "Exact Match: 0\n",
            "F1 Score: 0.0000\n",
            "\n",
            "---\n",
            "\n"
          ]
        },
        {
          "output_type": "stream",
          "name": "stderr",
          "text": [
            "Setting `pad_token_id` to `eos_token_id`:128001 for open-end generation.\n"
          ]
        },
        {
          "output_type": "stream",
          "name": "stdout",
          "text": [
            "Title: Elizabeth Manley\n",
            "Question: Who were Elizabeth Ann Manley's main competitors at the 1988 Winter Olympics?\n",
            "Correct Answer: Katarina Witt and Debi Thomas\n",
            "Generated Answer: The Unites States and Canada\n",
            "BLEU Score: 0.0537\n",
            "ROUGE-L Score: 0.2000\n",
            "Exact Match: 0\n",
            "F1 Score: 0.2000\n",
            "\n",
            "---\n",
            "\n"
          ]
        },
        {
          "output_type": "stream",
          "name": "stderr",
          "text": [
            "Setting `pad_token_id` to `eos_token_id`:128001 for open-end generation.\n"
          ]
        },
        {
          "output_type": "stream",
          "name": "stdout",
          "text": [
            "Title: Elizabeth Manley\n",
            "Question: What honor was Elizabeth Ann Manley awarded in 1988?\n",
            "Correct Answer: Member of the Order of Canada\n",
            "Generated Answer: The National Women's Hall of Fame\n",
            "BLEU Score: 0.0393\n",
            "ROUGE-L Score: 0.3077\n",
            "Exact Match: 0\n",
            "F1 Score: 0.3077\n",
            "\n",
            "---\n",
            "\n"
          ]
        },
        {
          "output_type": "stream",
          "name": "stderr",
          "text": [
            "Setting `pad_token_id` to `eos_token_id`:128001 for open-end generation.\n"
          ]
        },
        {
          "output_type": "stream",
          "name": "stdout",
          "text": [
            "Title: Elizabeth Manley\n",
            "Question: What personal health issue has Elizabeth Ann Manley been a spokesperson for?\n",
            "Correct Answer: Mental health issues\n",
            "Generated Answer: Multiple Sclerosis\n",
            "BLEU Score: 0.0000\n",
            "ROUGE-L Score: 0.0000\n",
            "Exact Match: 0\n",
            "F1 Score: 0.0000\n",
            "\n",
            "---\n",
            "\n"
          ]
        },
        {
          "output_type": "stream",
          "name": "stderr",
          "text": [
            "Setting `pad_token_id` to `eos_token_id`:128001 for open-end generation.\n"
          ]
        },
        {
          "output_type": "stream",
          "name": "stdout",
          "text": [
            "Title: Thomas Baines\n",
            "Question: Which famous waterfall did Thomas Baines view alongside David Livingstone in 1858?\n",
            "Correct Answer: Victoria Falls\n",
            "Generated Answer: Victoria Falls\n",
            "BLEU Score: 0.3162\n",
            "ROUGE-L Score: 1.0000\n",
            "Exact Match: 1\n",
            "F1 Score: 1.0000\n",
            "\n",
            "---\n",
            "\n"
          ]
        },
        {
          "output_type": "stream",
          "name": "stderr",
          "text": [
            "Setting `pad_token_id` to `eos_token_id`:128001 for open-end generation.\n"
          ]
        },
        {
          "output_type": "stream",
          "name": "stdout",
          "text": [
            "Title: Thomas Baines\n",
            "Question: Where is the majority of Thomas Baines' work held?\n",
            "Correct Answer: London\n",
            "Generated Answer: The British Museum\n",
            "BLEU Score: 0.0000\n",
            "ROUGE-L Score: 0.0000\n",
            "Exact Match: 0\n",
            "F1 Score: 0.0000\n",
            "\n",
            "---\n",
            "\n"
          ]
        },
        {
          "output_type": "stream",
          "name": "stderr",
          "text": [
            "Setting `pad_token_id` to `eos_token_id`:128001 for open-end generation.\n"
          ]
        },
        {
          "output_type": "stream",
          "name": "stdout",
          "text": [
            "Title: Thomas Baines\n",
            "Question: What nature reserve is named after Thomas Baines?\n",
            "Correct Answer: The Thomas Baines Nature Reserve in the Eastern Cape of South Africa\n",
            "Generated Answer: The Okavango Delta Nature Reserve\n",
            "BLEU Score: 0.0310\n",
            "ROUGE-L Score: 0.3529\n",
            "Exact Match: 0\n",
            "F1 Score: 0.3529\n",
            "\n",
            "---\n",
            "\n"
          ]
        },
        {
          "output_type": "stream",
          "name": "stderr",
          "text": [
            "Setting `pad_token_id` to `eos_token_id`:128001 for open-end generation.\n"
          ]
        },
        {
          "output_type": "stream",
          "name": "stdout",
          "text": [
            "Title: Thomas Baines\n",
            "Question: What is the title of the publication by Thomas Baines about his explorations in South-West Africa?\n",
            "Correct Answer: Explorations in South-West Africa\n",
            "Generated Answer: The Land and People of South West Africa\n",
            "BLEU Score: 0.1375\n",
            "ROUGE-L Score: 0.4615\n",
            "Exact Match: 0\n",
            "F1 Score: 0.4615\n",
            "\n",
            "---\n",
            "\n"
          ]
        },
        {
          "output_type": "stream",
          "name": "stderr",
          "text": [
            "Setting `pad_token_id` to `eos_token_id`:128001 for open-end generation.\n"
          ]
        },
        {
          "output_type": "stream",
          "name": "stdout",
          "text": [
            "Title: Fatmir Sejdiu\n",
            "Question: What was Fatmir Sejdiu's role in the Kosovo Parliament between 1992-98 and 1998–2001?\n",
            "Correct Answer: Member of Parliament\n",
            "Generated Answer: Speaker\n",
            "BLEU Score: 0.0000\n",
            "ROUGE-L Score: 0.0000\n",
            "Exact Match: 0\n",
            "F1 Score: 0.0000\n",
            "\n",
            "---\n",
            "\n"
          ]
        },
        {
          "output_type": "stream",
          "name": "stderr",
          "text": [
            "Setting `pad_token_id` to `eos_token_id`:128001 for open-end generation.\n"
          ]
        },
        {
          "output_type": "stream",
          "name": "stdout",
          "text": [
            "Title: Fatmir Sejdiu\n",
            "Question: What significant event did Fatmir Sejdiu lead Kosovo through as president?\n",
            "Correct Answer: Declaration of Independence of Kosovo\n",
            "Generated Answer: Independence\n",
            "BLEU Score: 0.0033\n",
            "ROUGE-L Score: 0.3333\n",
            "Exact Match: 0\n",
            "F1 Score: 0.3333\n",
            "\n",
            "---\n",
            "\n"
          ]
        },
        {
          "output_type": "stream",
          "name": "stderr",
          "text": [
            "Setting `pad_token_id` to `eos_token_id`:128001 for open-end generation.\n"
          ]
        },
        {
          "output_type": "stream",
          "name": "stdout",
          "text": [
            "Title: Fatmir Sejdiu\n",
            "Question: On what date did Kosovo declare independence under Fatmir Sejdiu's leadership?\n",
            "Correct Answer: 17 February 2008\n",
            "Generated Answer: 17 February\n",
            "BLEU Score: 0.1918\n",
            "ROUGE-L Score: 0.8000\n",
            "Exact Match: 0\n",
            "F1 Score: 0.8000\n",
            "\n",
            "---\n",
            "\n"
          ]
        },
        {
          "output_type": "stream",
          "name": "stderr",
          "text": [
            "Setting `pad_token_id` to `eos_token_id`:128001 for open-end generation.\n"
          ]
        },
        {
          "output_type": "stream",
          "name": "stdout",
          "text": [
            "Title: Fatmir Sejdiu\n",
            "Question: Why did Fatmir Sejdiu resign as President of Kosovo in 2010?\n",
            "Correct Answer: Violating the Constitution of Kosovo\n",
            "Generated Answer: Due to health reasons\n",
            "BLEU Score: 0.0000\n",
            "ROUGE-L Score: 0.0000\n",
            "Exact Match: 0\n",
            "F1 Score: 0.0000\n",
            "\n",
            "---\n",
            "\n"
          ]
        },
        {
          "output_type": "stream",
          "name": "stderr",
          "text": [
            "Setting `pad_token_id` to `eos_token_id`:128001 for open-end generation.\n"
          ]
        },
        {
          "output_type": "stream",
          "name": "stdout",
          "text": [
            "Title: Andreas Wenzel\n",
            "Question: How many season titles in the combined event did Andreas Wenzel win?\n",
            "Correct Answer: 2\n",
            "Generated Answer: 2\n",
            "BLEU Score: 0.1778\n",
            "ROUGE-L Score: 1.0000\n",
            "Exact Match: 1\n",
            "F1 Score: 1.0000\n",
            "\n",
            "---\n",
            "\n"
          ]
        },
        {
          "output_type": "stream",
          "name": "stderr",
          "text": [
            "Setting `pad_token_id` to `eos_token_id`:128001 for open-end generation.\n"
          ]
        },
        {
          "output_type": "stream",
          "name": "stdout",
          "text": [
            "Title: Andreas Wenzel\n",
            "Question: How many Winter Olympics did Andreas Wenzel compete in?\n",
            "Correct Answer: 4\n",
            "Generated Answer: 3\n",
            "BLEU Score: 0.0000\n",
            "ROUGE-L Score: 0.0000\n",
            "Exact Match: 0\n",
            "F1 Score: 0.0000\n",
            "\n",
            "---\n",
            "\n"
          ]
        },
        {
          "output_type": "stream",
          "name": "stderr",
          "text": [
            "Setting `pad_token_id` to `eos_token_id`:128001 for open-end generation.\n"
          ]
        },
        {
          "output_type": "stream",
          "name": "stdout",
          "text": [
            "Title: Andreas Wenzel\n",
            "Question: How many Olympic medals did Andreas Wenzel win?\n",
            "Correct Answer: 2\n",
            "Generated Answer: 3\n",
            "BLEU Score: 0.0000\n",
            "ROUGE-L Score: 0.0000\n",
            "Exact Match: 0\n",
            "F1 Score: 0.0000\n",
            "\n",
            "---\n",
            "\n"
          ]
        },
        {
          "output_type": "stream",
          "name": "stderr",
          "text": [
            "Setting `pad_token_id` to `eos_token_id`:128001 for open-end generation.\n"
          ]
        },
        {
          "output_type": "stream",
          "name": "stdout",
          "text": [
            "Title: Andreas Wenzel\n",
            "Question: How many World Championship medals did Andreas Wenzel win?\n",
            "Correct Answer: 4\n",
            "Generated Answer: 3\n",
            "BLEU Score: 0.0000\n",
            "ROUGE-L Score: 0.0000\n",
            "Exact Match: 0\n",
            "F1 Score: 0.0000\n",
            "\n",
            "---\n",
            "\n"
          ]
        },
        {
          "output_type": "stream",
          "name": "stderr",
          "text": [
            "Setting `pad_token_id` to `eos_token_id`:128001 for open-end generation.\n"
          ]
        },
        {
          "output_type": "stream",
          "name": "stdout",
          "text": [
            "Title: Claire Goll\n",
            "Question: To which country did Claire Goll emigrate during World War I?\n",
            "Correct Answer: Switzerland\n",
            "Generated Answer: Australia\n",
            "BLEU Score: 0.0000\n",
            "ROUGE-L Score: 0.0000\n",
            "Exact Match: 0\n",
            "F1 Score: 0.0000\n",
            "\n",
            "---\n",
            "\n"
          ]
        },
        {
          "output_type": "stream",
          "name": "stderr",
          "text": [
            "Setting `pad_token_id` to `eos_token_id`:128001 for open-end generation.\n"
          ]
        },
        {
          "output_type": "stream",
          "name": "stdout",
          "text": [
            "Title: Claire Goll\n",
            "Question: In what year did Claire Goll marry Yvan Goll?\n",
            "Correct Answer: 1921\n",
            "Generated Answer: 1910\n",
            "BLEU Score: 0.0000\n",
            "ROUGE-L Score: 0.0000\n",
            "Exact Match: 0\n",
            "F1 Score: 0.0000\n",
            "\n",
            "---\n",
            "\n"
          ]
        },
        {
          "output_type": "stream",
          "name": "stderr",
          "text": [
            "Setting `pad_token_id` to `eos_token_id`:128001 for open-end generation.\n"
          ]
        },
        {
          "output_type": "stream",
          "name": "stdout",
          "text": [
            "Title: Claire Goll\n",
            "Question: What languages did Claire Goll write her works in?\n",
            "Correct Answer: German and French\n",
            "Generated Answer: English\n",
            "BLEU Score: 0.0000\n",
            "ROUGE-L Score: 0.0000\n",
            "Exact Match: 0\n",
            "F1 Score: 0.0000\n",
            "\n",
            "---\n",
            "\n"
          ]
        },
        {
          "output_type": "stream",
          "name": "stderr",
          "text": [
            "Setting `pad_token_id` to `eos_token_id`:128001 for open-end generation.\n"
          ]
        },
        {
          "output_type": "stream",
          "name": "stdout",
          "text": [
            "Title: Claire Goll\n",
            "Question: Where did Claire Goll die?\n",
            "Correct Answer: Paris, France\n",
            "Generated Answer: The Channel Islands\n",
            "BLEU Score: 0.0000\n",
            "ROUGE-L Score: 0.0000\n",
            "Exact Match: 0\n",
            "F1 Score: 0.0000\n",
            "\n",
            "---\n",
            "\n"
          ]
        },
        {
          "output_type": "stream",
          "name": "stderr",
          "text": [
            "Setting `pad_token_id` to `eos_token_id`:128001 for open-end generation.\n"
          ]
        },
        {
          "output_type": "stream",
          "name": "stdout",
          "text": [
            "Title: Hans Georg Dehmelt\n",
            "Question: What nationality was Hans Georg Dehmelt?\n",
            "Correct Answer: German and American\n",
            "Generated Answer: German\n",
            "BLEU Score: 0.0241\n",
            "ROUGE-L Score: 0.5000\n",
            "Exact Match: 0\n",
            "F1 Score: 0.5000\n",
            "\n",
            "---\n",
            "\n"
          ]
        },
        {
          "output_type": "stream",
          "name": "stderr",
          "text": [
            "Setting `pad_token_id` to `eos_token_id`:128001 for open-end generation.\n"
          ]
        },
        {
          "output_type": "stream",
          "name": "stdout",
          "text": [
            "Title: Hans Georg Dehmelt\n",
            "Question: At which university did Hans Georg Dehmelt become a full professor in 1961?\n",
            "Correct Answer: University of Washington\n",
            "Generated Answer: University of Heidelberg\n",
            "BLEU Score: 0.2403\n",
            "ROUGE-L Score: 0.6667\n",
            "Exact Match: 0\n",
            "F1 Score: 0.6667\n",
            "\n",
            "---\n",
            "\n"
          ]
        },
        {
          "output_type": "stream",
          "name": "stderr",
          "text": [
            "Setting `pad_token_id` to `eos_token_id`:128001 for open-end generation.\n"
          ]
        },
        {
          "output_type": "stream",
          "name": "stdout",
          "text": [
            "Title: Hans Georg Dehmelt\n",
            "Question: What was Hans Georg Dehmelt's age at the time of his death?\n",
            "Correct Answer: 94\n",
            "Generated Answer: 93\n",
            "BLEU Score: 0.0000\n",
            "ROUGE-L Score: 0.0000\n",
            "Exact Match: 0\n",
            "F1 Score: 0.0000\n",
            "\n",
            "---\n",
            "\n"
          ]
        },
        {
          "output_type": "stream",
          "name": "stderr",
          "text": [
            "Setting `pad_token_id` to `eos_token_id`:128001 for open-end generation.\n"
          ]
        },
        {
          "output_type": "stream",
          "name": "stdout",
          "text": [
            "Title: Hans Georg Dehmelt\n",
            "Question: In which city did Hans Georg Dehmelt die?\n",
            "Correct Answer: Seattle, Washington\n",
            "Generated Answer: Karlsruhe\n",
            "BLEU Score: 0.0000\n",
            "ROUGE-L Score: 0.0000\n",
            "Exact Match: 0\n",
            "F1 Score: 0.0000\n",
            "\n",
            "---\n",
            "\n"
          ]
        },
        {
          "output_type": "stream",
          "name": "stderr",
          "text": [
            "Setting `pad_token_id` to `eos_token_id`:128001 for open-end generation.\n"
          ]
        },
        {
          "output_type": "stream",
          "name": "stdout",
          "text": [
            "Title: Simone Young\n",
            "Question: What is Simone Young's nationality?\n",
            "Correct Answer: Australian\n",
            "Generated Answer: Australian\n",
            "BLEU Score: 0.1778\n",
            "ROUGE-L Score: 1.0000\n",
            "Exact Match: 1\n",
            "F1 Score: 1.0000\n",
            "\n",
            "---\n",
            "\n"
          ]
        },
        {
          "output_type": "stream",
          "name": "stderr",
          "text": [
            "Setting `pad_token_id` to `eos_token_id`:128001 for open-end generation.\n"
          ]
        },
        {
          "output_type": "stream",
          "name": "stdout",
          "text": [
            "Title: Simone Young\n",
            "Question: Which orchestra is Simone Young the chief conductor of?\n",
            "Correct Answer: Sydney Symphony Orchestra\n",
            "Generated Answer: Sydney Symphony Orchestra\n",
            "BLEU Score: 0.5623\n",
            "ROUGE-L Score: 1.0000\n",
            "Exact Match: 1\n",
            "F1 Score: 1.0000\n",
            "\n",
            "---\n",
            "\n"
          ]
        },
        {
          "output_type": "stream",
          "name": "stderr",
          "text": [
            "Setting `pad_token_id` to `eos_token_id`:128001 for open-end generation.\n"
          ]
        },
        {
          "output_type": "stream",
          "name": "stdout",
          "text": [
            "Title: Simone Young\n",
            "Question: What notable recording did Simone Young complete involving Richard Wagner's works?\n",
            "Correct Answer: The complete Ring Cycle\n",
            "Generated Answer: The Ring Cycle\n",
            "BLEU Score: 0.1905\n",
            "ROUGE-L Score: 0.8571\n",
            "Exact Match: 0\n",
            "F1 Score: 0.8571\n",
            "\n",
            "---\n",
            "\n"
          ]
        },
        {
          "output_type": "stream",
          "name": "stderr",
          "text": [
            "Setting `pad_token_id` to `eos_token_id`:128001 for open-end generation.\n"
          ]
        },
        {
          "output_type": "stream",
          "name": "stdout",
          "text": [
            "Title: Simone Young\n",
            "Question: What was a unique aspect of Simone Young's appointment with the Sydney Symphony Orchestra?\n",
            "Correct Answer: First female chief conductor\n",
            "Generated Answer: She became Australia's first female chief conductor\n",
            "BLEU Score: 0.3457\n",
            "ROUGE-L Score: 0.6667\n",
            "Exact Match: 0\n",
            "F1 Score: 0.6667\n",
            "\n",
            "---\n",
            "\n"
          ]
        },
        {
          "output_type": "stream",
          "name": "stderr",
          "text": [
            "Setting `pad_token_id` to `eos_token_id`:128001 for open-end generation.\n"
          ]
        },
        {
          "output_type": "stream",
          "name": "stdout",
          "text": [
            "Title: George Beadle\n",
            "Question: What significant award did George Wells Beadle share in 1958?\n",
            "Correct Answer: Nobel Prize in Physiology or Medicine\n",
            "Generated Answer: The Nobel Prize\n",
            "BLEU Score: 0.0884\n",
            "ROUGE-L Score: 0.4444\n",
            "Exact Match: 0\n",
            "F1 Score: 0.4444\n",
            "\n",
            "---\n",
            "\n"
          ]
        },
        {
          "output_type": "stream",
          "name": "stderr",
          "text": [
            "Setting `pad_token_id` to `eos_token_id`:128001 for open-end generation.\n"
          ]
        },
        {
          "output_type": "stream",
          "name": "stdout",
          "text": [
            "Title: George Beadle\n",
            "Question: Who did George Wells Beadle share the Nobel Prize with in 1958?\n",
            "Correct Answer: Edward Tatum\n",
            "Generated Answer: Edward Tatum\n",
            "BLEU Score: 0.3162\n",
            "ROUGE-L Score: 1.0000\n",
            "Exact Match: 1\n",
            "F1 Score: 1.0000\n",
            "\n",
            "---\n",
            "\n"
          ]
        },
        {
          "output_type": "stream",
          "name": "stderr",
          "text": [
            "Setting `pad_token_id` to `eos_token_id`:128001 for open-end generation.\n"
          ]
        },
        {
          "output_type": "stream",
          "name": "stdout",
          "text": [
            "Title: George Beadle\n",
            "Question: Which university did George Wells Beadle serve as the 7th President of?\n",
            "Correct Answer: University of Chicago\n",
            "Generated Answer: University of California\n",
            "BLEU Score: 0.2403\n",
            "ROUGE-L Score: 0.6667\n",
            "Exact Match: 0\n",
            "F1 Score: 0.6667\n",
            "\n",
            "---\n",
            "\n"
          ]
        },
        {
          "output_type": "stream",
          "name": "stderr",
          "text": [
            "Setting `pad_token_id` to `eos_token_id`:128001 for open-end generation.\n"
          ]
        },
        {
          "output_type": "stream",
          "name": "stdout",
          "text": [
            "Title: George Beadle\n",
            "Question: Where was George Wells Beadle born?\n",
            "Correct Answer: Wahoo, Nebraska\n",
            "Generated Answer: Iowa\n",
            "BLEU Score: 0.0000\n",
            "ROUGE-L Score: 0.0000\n",
            "Exact Match: 0\n",
            "F1 Score: 0.0000\n",
            "\n",
            "---\n",
            "\n"
          ]
        },
        {
          "output_type": "stream",
          "name": "stderr",
          "text": [
            "Setting `pad_token_id` to `eos_token_id`:128001 for open-end generation.\n"
          ]
        },
        {
          "output_type": "stream",
          "name": "stdout",
          "text": [
            "Title: George Beadle\n",
            "Question: What position did George Wells Beadle hold at Harvard University?\n",
            "Correct Answer: Assistant Professor of Genetics\n",
            "Generated Answer: Professor of Botany\n",
            "BLEU Score: 0.1722\n",
            "ROUGE-L Score: 0.5714\n",
            "Exact Match: 0\n",
            "F1 Score: 0.5714\n",
            "\n",
            "---\n",
            "\n"
          ]
        },
        {
          "output_type": "stream",
          "name": "stderr",
          "text": [
            "Setting `pad_token_id` to `eos_token_id`:128001 for open-end generation.\n"
          ]
        },
        {
          "output_type": "stream",
          "name": "stdout",
          "text": [
            "Title: George Beadle\n",
            "Question: What year did George Wells Beadle return to the California Institute of Technology as Professor of Biology?\n",
            "Correct Answer: 1946\n",
            "Generated Answer: 1939\n",
            "BLEU Score: 0.0000\n",
            "ROUGE-L Score: 0.0000\n",
            "Exact Match: 0\n",
            "F1 Score: 0.0000\n",
            "\n",
            "---\n",
            "\n"
          ]
        },
        {
          "output_type": "stream",
          "name": "stderr",
          "text": [
            "Setting `pad_token_id` to `eos_token_id`:128001 for open-end generation.\n"
          ]
        },
        {
          "output_type": "stream",
          "name": "stdout",
          "text": [
            "Title: Paul Otlet\n",
            "Question: What field is Paul Otlet considered to be the father of?\n",
            "Correct Answer: Information science\n",
            "Generated Answer: Cartography\n",
            "BLEU Score: 0.0000\n",
            "ROUGE-L Score: 0.0000\n",
            "Exact Match: 0\n",
            "F1 Score: 0.0000\n",
            "\n",
            "---\n",
            "\n"
          ]
        },
        {
          "output_type": "stream",
          "name": "stderr",
          "text": [
            "Setting `pad_token_id` to `eos_token_id`:128001 for open-end generation.\n"
          ]
        },
        {
          "output_type": "stream",
          "name": "stdout",
          "text": [
            "Title: Paul Otlet\n",
            "Question: What did Paul Otlet create that is related to classification?\n",
            "Correct Answer: The Universal Decimal Classification\n",
            "Generated Answer: The World Book\n",
            "BLEU Score: 0.0814\n",
            "ROUGE-L Score: 0.2857\n",
            "Exact Match: 0\n",
            "F1 Score: 0.2857\n",
            "\n",
            "---\n",
            "\n"
          ]
        },
        {
          "output_type": "stream",
          "name": "stderr",
          "text": [
            "Setting `pad_token_id` to `eos_token_id`:128001 for open-end generation.\n"
          ]
        },
        {
          "output_type": "stream",
          "name": "stdout",
          "text": [
            "Title: Paul Otlet\n",
            "Question: Where was Paul Otlet born?\n",
            "Correct Answer: Brussels, Belgium\n",
            "Generated Answer: Antwerp\n",
            "BLEU Score: 0.0000\n",
            "ROUGE-L Score: 0.0000\n",
            "Exact Match: 0\n",
            "F1 Score: 0.0000\n",
            "\n",
            "---\n",
            "\n"
          ]
        },
        {
          "output_type": "stream",
          "name": "stderr",
          "text": [
            "Setting `pad_token_id` to `eos_token_id`:128001 for open-end generation.\n"
          ]
        },
        {
          "output_type": "stream",
          "name": "stdout",
          "text": [
            "Title: Paul Otlet\n",
            "Question: What degree did Paul Otlet earn from the Free University of Brussels?\n",
            "Correct Answer: A law degree\n",
            "Generated Answer: Master's\n",
            "BLEU Score: 0.0000\n",
            "ROUGE-L Score: 0.0000\n",
            "Exact Match: 0\n",
            "F1 Score: 0.0000\n",
            "\n",
            "---\n",
            "\n"
          ]
        },
        {
          "output_type": "stream",
          "name": "stderr",
          "text": [
            "Setting `pad_token_id` to `eos_token_id`:128001 for open-end generation.\n"
          ]
        },
        {
          "output_type": "stream",
          "name": "stdout",
          "text": [
            "Title: Paul Otlet\n",
            "Question: What architectural style was Paul Otlet's mansion in Brussels?\n",
            "Correct Answer: Art Nouveau\n",
            "Generated Answer: Art Nouveau\n",
            "BLEU Score: 0.3162\n",
            "ROUGE-L Score: 1.0000\n",
            "Exact Match: 1\n",
            "F1 Score: 1.0000\n",
            "\n",
            "---\n",
            "\n"
          ]
        },
        {
          "output_type": "stream",
          "name": "stderr",
          "text": [
            "Setting `pad_token_id` to `eos_token_id`:128001 for open-end generation.\n"
          ]
        },
        {
          "output_type": "stream",
          "name": "stdout",
          "text": [
            "Title: Alfred Büchi\n",
            "Question: In which year is the birth of the turbocharging era acknowledged due to Alfred Büchi's invention?\n",
            "Correct Answer: 1905\n",
            "Generated Answer: 1939\n",
            "BLEU Score: 0.0000\n",
            "ROUGE-L Score: 0.0000\n",
            "Exact Match: 0\n",
            "F1 Score: 0.0000\n",
            "\n",
            "---\n",
            "\n"
          ]
        },
        {
          "output_type": "stream",
          "name": "stderr",
          "text": [
            "Setting `pad_token_id` to `eos_token_id`:128001 for open-end generation.\n"
          ]
        },
        {
          "output_type": "stream",
          "name": "stdout",
          "text": [
            "Title: Alfred Büchi\n",
            "Question: Which companies did Alfred Büchi's first practical application of turbocharging technology involve?\n",
            "Correct Answer: Brown Boveri (BBC) (now ABB)\n",
            "Generated Answer: Mercedes-Benz and Daimler\n",
            "BLEU Score: 0.0000\n",
            "ROUGE-L Score: 0.0000\n",
            "Exact Match: 0\n",
            "F1 Score: 0.0000\n",
            "\n",
            "---\n",
            "\n"
          ]
        },
        {
          "output_type": "stream",
          "name": "stderr",
          "text": [
            "Setting `pad_token_id` to `eos_token_id`:128001 for open-end generation.\n"
          ]
        },
        {
          "output_type": "stream",
          "name": "stdout",
          "text": [
            "Title: Alfred Büchi\n",
            "Question: Where is Alfred Büchi buried?\n",
            "Correct Answer: Rosenberg cemetery in Winterthur\n",
            "Generated Answer: Switzerland\n",
            "BLEU Score: 0.0000\n",
            "ROUGE-L Score: 0.0000\n",
            "Exact Match: 0\n",
            "F1 Score: 0.0000\n",
            "\n",
            "---\n",
            "\n"
          ]
        },
        {
          "output_type": "stream",
          "name": "stderr",
          "text": [
            "Setting `pad_token_id` to `eos_token_id`:128001 for open-end generation.\n"
          ]
        },
        {
          "output_type": "stream",
          "name": "stdout",
          "text": [
            "Title: Alfred Büchi\n",
            "Question: What honour was Alfred Büchi awarded in 1938 by ETH Zurich?\n",
            "Correct Answer: An honorary doctorate\n",
            "Generated Answer: The Copley Medal\n",
            "BLEU Score: 0.0000\n",
            "ROUGE-L Score: 0.0000\n",
            "Exact Match: 0\n",
            "F1 Score: 0.0000\n",
            "\n",
            "---\n",
            "\n"
          ]
        },
        {
          "output_type": "stream",
          "name": "stderr",
          "text": [
            "Setting `pad_token_id` to `eos_token_id`:128001 for open-end generation.\n"
          ]
        },
        {
          "output_type": "stream",
          "name": "stdout",
          "text": [
            "Title: Alfred Büchi\n",
            "Question: What was named after Alfred Büchi in Neuwiesenquartier, Winterthur, in summer 2012?\n",
            "Correct Answer: Alfred Büchi Way\n",
            "Generated Answer: Büchigasse\n",
            "BLEU Score: 0.0000\n",
            "ROUGE-L Score: 0.3333\n",
            "Exact Match: 0\n",
            "F1 Score: 0.0000\n",
            "\n",
            "---\n",
            "\n"
          ]
        },
        {
          "output_type": "stream",
          "name": "stderr",
          "text": [
            "Setting `pad_token_id` to `eos_token_id`:128001 for open-end generation.\n"
          ]
        },
        {
          "output_type": "stream",
          "name": "stdout",
          "text": [
            "Title: Kati Outinen\n",
            "Question: What nationality is Kati Outinen?\n",
            "Correct Answer: Finnish\n",
            "Generated Answer: Finnish\n",
            "BLEU Score: 0.1778\n",
            "ROUGE-L Score: 1.0000\n",
            "Exact Match: 1\n",
            "F1 Score: 1.0000\n",
            "\n",
            "---\n",
            "\n"
          ]
        },
        {
          "output_type": "stream",
          "name": "stderr",
          "text": [
            "Setting `pad_token_id` to `eos_token_id`:128001 for open-end generation.\n"
          ]
        },
        {
          "output_type": "stream",
          "name": "stdout",
          "text": [
            "Title: Kati Outinen\n",
            "Question: Which director's films has Kati Outinen often played leading female roles in?\n",
            "Correct Answer: Aki Kaurismäki\n",
            "Generated Answer: Aki Kaurismäki\n",
            "BLEU Score: 0.3162\n",
            "ROUGE-L Score: 1.0000\n",
            "Exact Match: 1\n",
            "F1 Score: 1.0000\n",
            "\n",
            "---\n",
            "\n"
          ]
        },
        {
          "output_type": "stream",
          "name": "stderr",
          "text": [
            "Setting `pad_token_id` to `eos_token_id`:128001 for open-end generation.\n"
          ]
        },
        {
          "output_type": "stream",
          "name": "stdout",
          "text": [
            "Title: Kati Outinen\n",
            "Question: Where was Kati Outinen born?\n",
            "Correct Answer: Helsinki\n",
            "Generated Answer: Finland\n",
            "BLEU Score: 0.0000\n",
            "ROUGE-L Score: 0.0000\n",
            "Exact Match: 0\n",
            "F1 Score: 0.0000\n",
            "\n",
            "---\n",
            "\n"
          ]
        },
        {
          "output_type": "stream",
          "name": "stderr",
          "text": [
            "Setting `pad_token_id` to `eos_token_id`:128001 for open-end generation.\n"
          ]
        },
        {
          "output_type": "stream",
          "name": "stdout",
          "text": [
            "Title: Kati Outinen\n",
            "Question: What was Kati Outinen's profession at the Theatre Academy Helsinki from 2002 to 2013?\n",
            "Correct Answer: A professor in acting\n",
            "Generated Answer: Actress\n",
            "BLEU Score: 0.0000\n",
            "ROUGE-L Score: 0.0000\n",
            "Exact Match: 0\n",
            "F1 Score: 0.0000\n",
            "\n",
            "---\n",
            "\n"
          ]
        },
        {
          "output_type": "stream",
          "name": "stderr",
          "text": [
            "Setting `pad_token_id` to `eos_token_id`:128001 for open-end generation.\n"
          ]
        },
        {
          "output_type": "stream",
          "name": "stdout",
          "text": [
            "Title: Catherine of Bohemia\n",
            "Question: What is the full name of Catherine of Bohemia?\n",
            "Correct Answer: Catherine of Bohemia\n",
            "Generated Answer: Elizabeth of Valois\n",
            "BLEU Score: 0.1136\n",
            "ROUGE-L Score: 0.3333\n",
            "Exact Match: 0\n",
            "F1 Score: 0.3333\n",
            "\n",
            "---\n",
            "\n"
          ]
        },
        {
          "output_type": "stream",
          "name": "stderr",
          "text": [
            "Setting `pad_token_id` to `eos_token_id`:128001 for open-end generation.\n"
          ]
        },
        {
          "output_type": "stream",
          "name": "stdout",
          "text": [
            "Title: Catherine of Bohemia\n",
            "Question: What was Catherine of Bohemia's title in Brandenburg?\n",
            "Correct Answer: Electress of Brandenburg\n",
            "Generated Answer: Queen\n",
            "BLEU Score: 0.0000\n",
            "ROUGE-L Score: 0.0000\n",
            "Exact Match: 0\n",
            "F1 Score: 0.0000\n",
            "\n",
            "---\n",
            "\n"
          ]
        },
        {
          "output_type": "stream",
          "name": "stderr",
          "text": [
            "Setting `pad_token_id` to `eos_token_id`:128001 for open-end generation.\n"
          ]
        },
        {
          "output_type": "stream",
          "name": "stdout",
          "text": [
            "Title: Catherine of Bohemia\n",
            "Question: Did Catherine of Bohemia have any children with Rudolf IV, Duke of Austria?\n",
            "Correct Answer: No\n",
            "Generated Answer: Yes\n",
            "BLEU Score: 0.0000\n",
            "ROUGE-L Score: 0.0000\n",
            "Exact Match: 0\n",
            "F1 Score: 0.0000\n",
            "\n",
            "---\n",
            "\n"
          ]
        },
        {
          "output_type": "stream",
          "name": "stderr",
          "text": [
            "Setting `pad_token_id` to `eos_token_id`:128001 for open-end generation.\n"
          ]
        },
        {
          "output_type": "stream",
          "name": "stdout",
          "text": [
            "Title: Catherine of Bohemia\n",
            "Question: What languages are used to refer to Catherine of Bohemia in her homeland?\n",
            "Correct Answer: Czech and German\n",
            "Generated Answer: Czech\n",
            "BLEU Score: 0.0241\n",
            "ROUGE-L Score: 0.5000\n",
            "Exact Match: 0\n",
            "F1 Score: 0.5000\n",
            "\n",
            "---\n",
            "\n"
          ]
        },
        {
          "output_type": "stream",
          "name": "stderr",
          "text": [
            "Setting `pad_token_id` to `eos_token_id`:128001 for open-end generation.\n"
          ]
        },
        {
          "output_type": "stream",
          "name": "stdout",
          "text": [
            "Title: Catherine of Bohemia\n",
            "Question: In German, how is Catherine of Bohemia's name spelled?\n",
            "Correct Answer: Katharina von Böhmen\n",
            "Generated Answer: Katharina von Böhmen\n",
            "BLEU Score: 0.5623\n",
            "ROUGE-L Score: 1.0000\n",
            "Exact Match: 1\n",
            "F1 Score: 1.0000\n",
            "\n",
            "---\n",
            "\n"
          ]
        },
        {
          "output_type": "stream",
          "name": "stderr",
          "text": [
            "Setting `pad_token_id` to `eos_token_id`:128001 for open-end generation.\n"
          ]
        },
        {
          "output_type": "stream",
          "name": "stdout",
          "text": [
            "Title: Géza Maróczy\n",
            "Question: What nationality was Géza Maróczy?\n",
            "Correct Answer: Hungarian\n",
            "Generated Answer: Hungarian\n",
            "BLEU Score: 0.1778\n",
            "ROUGE-L Score: 1.0000\n",
            "Exact Match: 1\n",
            "F1 Score: 1.0000\n",
            "\n",
            "---\n",
            "\n"
          ]
        },
        {
          "output_type": "stream",
          "name": "stderr",
          "text": [
            "Setting `pad_token_id` to `eos_token_id`:128001 for open-end generation.\n"
          ]
        },
        {
          "output_type": "stream",
          "name": "stdout",
          "text": [
            "Title: Géza Maróczy\n",
            "Question: In what year did Géza Maróczy become one of the inaugural recipients of the International Grandmaster title from FIDE?\n",
            "Correct Answer: 1950\n",
            "Generated Answer: 1927\n",
            "BLEU Score: 0.0000\n",
            "ROUGE-L Score: 0.0000\n",
            "Exact Match: 0\n",
            "F1 Score: 0.0000\n",
            "\n",
            "---\n",
            "\n"
          ]
        },
        {
          "output_type": "stream",
          "name": "stderr",
          "text": [
            "Setting `pad_token_id` to `eos_token_id`:128001 for open-end generation.\n"
          ]
        },
        {
          "output_type": "stream",
          "name": "stdout",
          "text": [
            "Title: Géza Maróczy\n",
            "Question: What is the name of the chess formation associated with Géza Maróczy's name?\n",
            "Correct Answer: The Maróczy Bind\n",
            "Generated Answer: The Ruy Lopez\n",
            "BLEU Score: 0.1136\n",
            "ROUGE-L Score: 0.2857\n",
            "Exact Match: 0\n",
            "F1 Score: 0.3333\n",
            "\n",
            "---\n",
            "\n"
          ]
        },
        {
          "output_type": "stream",
          "name": "stderr",
          "text": [
            "Setting `pad_token_id` to `eos_token_id`:128001 for open-end generation.\n"
          ]
        },
        {
          "output_type": "stream",
          "name": "stdout",
          "text": [
            "Title: Géza Maróczy\n",
            "Question: Who praised Géza Maróczy for his handling of queen endgames?\n",
            "Correct Answer: Capablanca\n",
            "Generated Answer: Emanuel Lasker\n",
            "BLEU Score: 0.0000\n",
            "ROUGE-L Score: 0.0000\n",
            "Exact Match: 0\n",
            "F1 Score: 0.0000\n",
            "\n",
            "---\n",
            "\n"
          ]
        },
        {
          "output_type": "stream",
          "name": "stderr",
          "text": [
            "Setting `pad_token_id` to `eos_token_id`:128001 for open-end generation.\n"
          ]
        },
        {
          "output_type": "stream",
          "name": "stdout",
          "text": [
            "Title: Géza Maróczy\n",
            "Question: What contribution to opening theory did Capablanca credit to Géza Maróczy?\n",
            "Correct Answer: The Maróczy Bind\n",
            "Generated Answer: The King's Indian Defense\n",
            "BLEU Score: 0.0537\n",
            "ROUGE-L Score: 0.2222\n",
            "Exact Match: 0\n",
            "F1 Score: 0.2500\n",
            "\n",
            "---\n",
            "\n"
          ]
        },
        {
          "output_type": "stream",
          "name": "stderr",
          "text": [
            "Setting `pad_token_id` to `eos_token_id`:128001 for open-end generation.\n"
          ]
        },
        {
          "output_type": "stream",
          "name": "stdout",
          "text": [
            "Title: Géza Maróczy\n",
            "Question: Which women's chess champion did Géza Maróczy greatly help?\n",
            "Correct Answer: Vera Menchik\n",
            "Generated Answer: Vera Menchik\n",
            "BLEU Score: 0.3162\n",
            "ROUGE-L Score: 1.0000\n",
            "Exact Match: 1\n",
            "F1 Score: 1.0000\n",
            "\n",
            "---\n",
            "\n"
          ]
        },
        {
          "output_type": "stream",
          "name": "stderr",
          "text": [
            "Setting `pad_token_id` to `eos_token_id`:128001 for open-end generation.\n"
          ]
        },
        {
          "output_type": "stream",
          "name": "stdout",
          "text": [
            "Title: Géza Maróczy\n",
            "Question: What did Capablanca believe about Géza Maróczy's relative strength compared to the best young masters of his time, excluding Botvinnik and Keres?\n",
            "Correct Answer: Maróczy was superior to all the other players of today\n",
            "Generated Answer: He believed he was stronger than them\n",
            "BLEU Score: 0.0215\n",
            "ROUGE-L Score: 0.1111\n",
            "Exact Match: 0\n",
            "F1 Score: 0.1176\n",
            "\n",
            "---\n",
            "\n"
          ]
        },
        {
          "output_type": "stream",
          "name": "stderr",
          "text": [
            "Setting `pad_token_id` to `eos_token_id`:128001 for open-end generation.\n"
          ]
        },
        {
          "output_type": "stream",
          "name": "stdout",
          "text": [
            "Title: Alfred H. Colquitt\n",
            "Question: What profession did Alfred H. Colquitt have before entering politics?\n",
            "Correct Answer: Lawyer\n",
            "Generated Answer: Lawyer\n",
            "BLEU Score: 0.1778\n",
            "ROUGE-L Score: 1.0000\n",
            "Exact Match: 1\n",
            "F1 Score: 1.0000\n",
            "\n",
            "---\n",
            "\n"
          ]
        },
        {
          "output_type": "stream",
          "name": "stderr",
          "text": [
            "Setting `pad_token_id` to `eos_token_id`:128001 for open-end generation.\n"
          ]
        },
        {
          "output_type": "stream",
          "name": "stdout",
          "text": [
            "Title: Alfred H. Colquitt\n",
            "Question: What rank did Alfred H. Colquitt achieve in the Confederate States Army?\n",
            "Correct Answer: Major general\n",
            "Generated Answer: Major General\n",
            "BLEU Score: 0.3162\n",
            "ROUGE-L Score: 1.0000\n",
            "Exact Match: 1\n",
            "F1 Score: 1.0000\n",
            "\n",
            "---\n",
            "\n"
          ]
        },
        {
          "output_type": "stream",
          "name": "stderr",
          "text": [
            "Setting `pad_token_id` to `eos_token_id`:128001 for open-end generation.\n"
          ]
        },
        {
          "output_type": "stream",
          "name": "stdout",
          "text": [
            "Title: Alfred H. Colquitt\n",
            "Question: In what year was Alfred H. Colquitt first elected to the U.S. Senate?\n",
            "Correct Answer: 1883\n",
            "Generated Answer: 1896\n",
            "BLEU Score: 0.0000\n",
            "ROUGE-L Score: 0.0000\n",
            "Exact Match: 0\n",
            "F1 Score: 0.0000\n",
            "\n",
            "---\n",
            "\n"
          ]
        },
        {
          "output_type": "stream",
          "name": "stderr",
          "text": [
            "Setting `pad_token_id` to `eos_token_id`:128001 for open-end generation.\n"
          ]
        },
        {
          "output_type": "stream",
          "name": "stdout",
          "text": [
            "Title: Alfred H. Colquitt\n",
            "Question: What was the final rank Alfred H. Colquitt held in the Confederate Army?\n",
            "Correct Answer: Major general\n",
            "Generated Answer: General\n",
            "BLEU Score: 0.0654\n",
            "ROUGE-L Score: 0.6667\n",
            "Exact Match: 0\n",
            "F1 Score: 0.6667\n",
            "\n",
            "---\n",
            "\n"
          ]
        },
        {
          "output_type": "stream",
          "name": "stderr",
          "text": [
            "Setting `pad_token_id` to `eos_token_id`:128001 for open-end generation.\n"
          ]
        },
        {
          "output_type": "stream",
          "name": "stdout",
          "text": [
            "Title: Alfred H. Colquitt\n",
            "Question: What was the Bourbon Triumvirate, which Alfred H. Colquitt was a part of?\n",
            "Correct Answer: A group of powerful Georgia Democrats\n",
            "Generated Answer: A three-man executive council in Louisiana during 1816-1820 that governed until the state's constitution was adopted and replaced by an elected governor and\n",
            "BLEU Score: 0.0073\n",
            "ROUGE-L Score: 0.0625\n",
            "Exact Match: 0\n",
            "F1 Score: 0.0625\n",
            "\n",
            "---\n",
            "\n"
          ]
        },
        {
          "output_type": "stream",
          "name": "stderr",
          "text": [
            "Setting `pad_token_id` to `eos_token_id`:128001 for open-end generation.\n"
          ]
        },
        {
          "output_type": "stream",
          "name": "stdout",
          "text": [
            "Title: Alfred H. Colquitt\n",
            "Question: Where is Alfred H. Colquitt buried?\n",
            "Correct Answer: Rose Hill cemetery in Macon\n",
            "Generated Answer: Georgia\n",
            "BLEU Score: 0.0000\n",
            "ROUGE-L Score: 0.0000\n",
            "Exact Match: 0\n",
            "F1 Score: 0.0000\n",
            "\n",
            "---\n",
            "\n"
          ]
        },
        {
          "output_type": "stream",
          "name": "stderr",
          "text": [
            "Setting `pad_token_id` to `eos_token_id`:128001 for open-end generation.\n"
          ]
        },
        {
          "output_type": "stream",
          "name": "stdout",
          "text": [
            "Title: Alfred H. Colquitt\n",
            "Question: How many children did Alfred H. Colquitt have with his first wife?\n",
            "Correct Answer: Three\n",
            "Generated Answer: 8\n",
            "BLEU Score: 0.0000\n",
            "ROUGE-L Score: 0.0000\n",
            "Exact Match: 0\n",
            "F1 Score: 0.0000\n",
            "\n",
            "---\n",
            "\n"
          ]
        },
        {
          "output_type": "stream",
          "name": "stderr",
          "text": [
            "Setting `pad_token_id` to `eos_token_id`:128001 for open-end generation.\n"
          ]
        },
        {
          "output_type": "stream",
          "name": "stdout",
          "text": [
            "Title: Waleran III, Duke of Limburg\n",
            "Question: What titles did Waleran III, Duke of Limburg hold initially?\n",
            "Correct Answer: Lord of Montjoie, then count of Luxembourg\n",
            "Generated Answer: Count and Lord\n",
            "BLEU Score: 0.0356\n",
            "ROUGE-L Score: 0.2000\n",
            "Exact Match: 0\n",
            "F1 Score: 0.4000\n",
            "\n",
            "---\n",
            "\n"
          ]
        },
        {
          "output_type": "stream",
          "name": "stderr",
          "text": [
            "Setting `pad_token_id` to `eos_token_id`:128001 for open-end generation.\n"
          ]
        },
        {
          "output_type": "stream",
          "name": "stdout",
          "text": [
            "Title: Waleran III, Duke of Limburg\n",
            "Question: What additional titles did Waleran III, Duke of Limburg inherit from his father in 1221?\n",
            "Correct Answer: Count of Arlon and duke of Limburg\n",
            "Generated Answer: The County of Artois and the Lordship of Tournai\n",
            "BLEU Score: 0.0316\n",
            "ROUGE-L Score: 0.3750\n",
            "Exact Match: 0\n",
            "F1 Score: 0.2500\n",
            "\n",
            "---\n",
            "\n"
          ]
        },
        {
          "output_type": "stream",
          "name": "stderr",
          "text": [
            "Setting `pad_token_id` to `eos_token_id`:128001 for open-end generation.\n"
          ]
        },
        {
          "output_type": "stream",
          "name": "stdout",
          "text": [
            "Title: Waleran III, Duke of Limburg\n",
            "Question: Which crusade did Waleran III, Duke of Limburg participate in?\n",
            "Correct Answer: The Third Crusade\n",
            "Generated Answer: The Second Crusade\n",
            "BLEU Score: 0.1351\n",
            "ROUGE-L Score: 0.6667\n",
            "Exact Match: 0\n",
            "F1 Score: 0.6667\n",
            "\n",
            "---\n",
            "\n"
          ]
        },
        {
          "output_type": "stream",
          "name": "stderr",
          "text": [
            "Setting `pad_token_id` to `eos_token_id`:128001 for open-end generation.\n"
          ]
        },
        {
          "output_type": "stream",
          "name": "stdout",
          "text": [
            "Title: Waleran III, Duke of Limburg\n",
            "Question: Who was the heir of Waleran III, Duke of Limburg from his marriage with Cunigunda of Lorraine?\n",
            "Correct Answer: Henry IV, Duke of Limburg\n",
            "Generated Answer: Henry II\n",
            "BLEU Score: 0.0334\n",
            "ROUGE-L Score: 0.2857\n",
            "Exact Match: 0\n",
            "F1 Score: 0.2857\n",
            "\n",
            "---\n",
            "\n"
          ]
        },
        {
          "output_type": "stream",
          "name": "stderr",
          "text": [
            "Setting `pad_token_id` to `eos_token_id`:128001 for open-end generation.\n"
          ]
        },
        {
          "output_type": "stream",
          "name": "stdout",
          "text": [
            "Title: Waleran III, Duke of Limburg\n",
            "Question: What was the relation of Waleran III, Duke of Limburg's child Henry V to Luxembourg?\n",
            "Correct Answer: Count of Luxembourg\n",
            "Generated Answer: Son\n",
            "BLEU Score: 0.0000\n",
            "ROUGE-L Score: 0.0000\n",
            "Exact Match: 0\n",
            "F1 Score: 0.0000\n",
            "\n",
            "---\n",
            "\n"
          ]
        },
        {
          "output_type": "stream",
          "name": "stderr",
          "text": [
            "Setting `pad_token_id` to `eos_token_id`:128001 for open-end generation.\n"
          ]
        },
        {
          "output_type": "stream",
          "name": "stdout",
          "text": [
            "Title: Waleran III, Duke of Limburg\n",
            "Question: Did Waleran III, Duke of Limburg have any children with Ermesinda of Luxembourg?\n",
            "Correct Answer: Yes\n",
            "Generated Answer: Yes\n",
            "BLEU Score: 0.1778\n",
            "ROUGE-L Score: 1.0000\n",
            "Exact Match: 1\n",
            "F1 Score: 1.0000\n",
            "\n",
            "---\n",
            "\n"
          ]
        },
        {
          "output_type": "stream",
          "name": "stderr",
          "text": [
            "Setting `pad_token_id` to `eos_token_id`:128001 for open-end generation.\n"
          ]
        },
        {
          "output_type": "stream",
          "name": "stdout",
          "text": [
            "Title: Waleran III, Duke of Limburg\n",
            "Question: Who succeeded Waleran III, Duke of Limburg as Duke of Limburg?\n",
            "Correct Answer: His son Henry IV\n",
            "Generated Answer: Henry I\n",
            "BLEU Score: 0.0550\n",
            "ROUGE-L Score: 0.3333\n",
            "Exact Match: 0\n",
            "F1 Score: 0.3333\n",
            "\n",
            "---\n",
            "\n"
          ]
        },
        {
          "output_type": "stream",
          "name": "stderr",
          "text": [
            "Setting `pad_token_id` to `eos_token_id`:128001 for open-end generation.\n"
          ]
        },
        {
          "output_type": "stream",
          "name": "stdout",
          "text": [
            "Title: Frederick I, Duke of Lorraine\n",
            "Question: Which title did Frederick I, Duke of Lorraine hold?\n",
            "Correct Answer: Duke of Lorraine\n",
            "Generated Answer: Grand Duke\n",
            "BLEU Score: 0.0907\n",
            "ROUGE-L Score: 0.4000\n",
            "Exact Match: 0\n",
            "F1 Score: 0.4000\n",
            "\n",
            "---\n",
            "\n"
          ]
        },
        {
          "output_type": "stream",
          "name": "stderr",
          "text": [
            "Setting `pad_token_id` to `eos_token_id`:128001 for open-end generation.\n"
          ]
        },
        {
          "output_type": "stream",
          "name": "stdout",
          "text": [
            "Title: Frederick I, Duke of Lorraine\n",
            "Question: What position did Frederick I, Duke of Lorraine's father-in-law hold?\n",
            "Correct Answer: Duke of Greater Poland and high duke of all Poland\n",
            "Generated Answer: King\n",
            "BLEU Score: 0.0000\n",
            "ROUGE-L Score: 0.0000\n",
            "Exact Match: 0\n",
            "F1 Score: 0.0000\n",
            "\n",
            "---\n",
            "\n"
          ]
        },
        {
          "output_type": "stream",
          "name": "stderr",
          "text": [
            "Setting `pad_token_id` to `eos_token_id`:128001 for open-end generation.\n"
          ]
        },
        {
          "output_type": "stream",
          "name": "stdout",
          "text": [
            "Title: Frederick I, Duke of Lorraine\n",
            "Question: Who succeeded Frederick I, Duke of Lorraine as Duke of Lorraine?\n",
            "Correct Answer: His son Frederick\n",
            "Generated Answer: Charles II\n",
            "BLEU Score: 0.0000\n",
            "ROUGE-L Score: 0.0000\n",
            "Exact Match: 0\n",
            "F1 Score: 0.0000\n",
            "\n",
            "---\n",
            "\n"
          ]
        },
        {
          "output_type": "stream",
          "name": "stderr",
          "text": [
            "Setting `pad_token_id` to `eos_token_id`:128001 for open-end generation.\n"
          ]
        },
        {
          "output_type": "stream",
          "name": "stdout",
          "text": [
            "Title: Frederick I, Duke of Lorraine\n",
            "Question: Which castle did Henry the Lombard, son of Frederick I, Duke of Lorraine, build?\n",
            "Correct Answer: The castle of Bayon\n",
            "Generated Answer: Château de Commarin\n",
            "BLEU Score: 0.0000\n",
            "ROUGE-L Score: 0.0000\n",
            "Exact Match: 0\n",
            "F1 Score: 0.0000\n",
            "\n",
            "---\n",
            "\n"
          ]
        },
        {
          "output_type": "stream",
          "name": "stderr",
          "text": [
            "Setting `pad_token_id` to `eos_token_id`:128001 for open-end generation.\n"
          ]
        },
        {
          "output_type": "stream",
          "name": "stdout",
          "text": [
            "Title: Émile Boirac\n",
            "Question: What nationality was Émile Boirac?\n",
            "Correct Answer: French\n",
            "Generated Answer: French\n",
            "BLEU Score: 0.1778\n",
            "ROUGE-L Score: 1.0000\n",
            "Exact Match: 1\n",
            "F1 Score: 1.0000\n",
            "\n",
            "---\n",
            "\n"
          ]
        },
        {
          "output_type": "stream",
          "name": "stderr",
          "text": [
            "Setting `pad_token_id` to `eos_token_id`:128001 for open-end generation.\n"
          ]
        },
        {
          "output_type": "stream",
          "name": "stdout",
          "text": [
            "Title: Émile Boirac\n",
            "Question: In what year did Émile Boirac become the president of the University of Grenoble?\n",
            "Correct Answer: 1898\n",
            "Generated Answer: 1887\n",
            "BLEU Score: 0.0000\n",
            "ROUGE-L Score: 0.0000\n",
            "Exact Match: 0\n",
            "F1 Score: 0.0000\n",
            "\n",
            "---\n",
            "\n"
          ]
        },
        {
          "output_type": "stream",
          "name": "stderr",
          "text": [
            "Setting `pad_token_id` to `eos_token_id`:128001 for open-end generation.\n"
          ]
        },
        {
          "output_type": "stream",
          "name": "stdout",
          "text": [
            "Title: Émile Boirac\n",
            "Question: What language was Émile Boirac a notable advocate for?\n",
            "Correct Answer: Esperanto\n",
            "Generated Answer: Esperanto\n",
            "BLEU Score: 0.1778\n",
            "ROUGE-L Score: 1.0000\n",
            "Exact Match: 1\n",
            "F1 Score: 1.0000\n",
            "\n",
            "---\n",
            "\n"
          ]
        },
        {
          "output_type": "stream",
          "name": "stderr",
          "text": [
            "Setting `pad_token_id` to `eos_token_id`:128001 for open-end generation.\n"
          ]
        },
        {
          "output_type": "stream",
          "name": "stdout",
          "text": [
            "Title: Émile Boirac\n",
            "Question: In what year did Émile Boirac use the term 'déjà vu' in a letter to the Revue philosophique?\n",
            "Correct Answer: 1876\n",
            "Generated Answer: 1882\n",
            "BLEU Score: 0.0000\n",
            "ROUGE-L Score: 0.0000\n",
            "Exact Match: 0\n",
            "F1 Score: 0.0000\n",
            "\n",
            "---\n",
            "\n"
          ]
        },
        {
          "output_type": "stream",
          "name": "stderr",
          "text": [
            "Setting `pad_token_id` to `eos_token_id`:128001 for open-end generation.\n"
          ]
        },
        {
          "output_type": "stream",
          "name": "stdout",
          "text": [
            "Title: Maximus Planudes\n",
            "Question: What empire's reign did Maximus Planudes live during?\n",
            "Correct Answer: Byzantine Empire\n",
            "Generated Answer: Byzantine\n",
            "BLEU Score: 0.0654\n",
            "ROUGE-L Score: 0.6667\n",
            "Exact Match: 0\n",
            "F1 Score: 0.6667\n",
            "\n",
            "---\n",
            "\n"
          ]
        },
        {
          "output_type": "stream",
          "name": "stderr",
          "text": [
            "Setting `pad_token_id` to `eos_token_id`:128001 for open-end generation.\n"
          ]
        },
        {
          "output_type": "stream",
          "name": "stdout",
          "text": [
            "Title: Maximus Planudes\n",
            "Question: Which city did Maximus Planudes spend most of his life in?\n",
            "Correct Answer: Constantinople\n",
            "Generated Answer: Constantinople\n",
            "BLEU Score: 0.1778\n",
            "ROUGE-L Score: 1.0000\n",
            "Exact Match: 1\n",
            "F1 Score: 1.0000\n",
            "\n",
            "---\n",
            "\n"
          ]
        },
        {
          "output_type": "stream",
          "name": "stderr",
          "text": [
            "Setting `pad_token_id` to `eos_token_id`:128001 for open-end generation.\n"
          ]
        },
        {
          "output_type": "stream",
          "name": "stdout",
          "text": [
            "Title: Maximus Planudes\n",
            "Question: What was Maximus Planudes' notable contribution to the revival of studies in Western Europe?\n",
            "Correct Answer: His translations\n",
            "Generated Answer: He translated Greek texts into Latin\n",
            "BLEU Score: 0.0000\n",
            "ROUGE-L Score: 0.2500\n",
            "Exact Match: 0\n",
            "F1 Score: 0.0000\n",
            "\n",
            "---\n",
            "\n"
          ]
        },
        {
          "output_type": "stream",
          "name": "stderr",
          "text": [
            "Setting `pad_token_id` to `eos_token_id`:128001 for open-end generation.\n"
          ]
        },
        {
          "output_type": "stream",
          "name": "stdout",
          "text": [
            "Title: Maximus Planudes\n",
            "Question: What type of poetry did Maximus Planudes write?\n",
            "Correct Answer: Hexameter poems\n",
            "Generated Answer: Hymns\n",
            "BLEU Score: 0.0000\n",
            "ROUGE-L Score: 0.0000\n",
            "Exact Match: 0\n",
            "F1 Score: 0.0000\n",
            "\n",
            "---\n",
            "\n"
          ]
        },
        {
          "output_type": "stream",
          "name": "stderr",
          "text": [
            "Setting `pad_token_id` to `eos_token_id`:128001 for open-end generation.\n"
          ]
        },
        {
          "output_type": "stream",
          "name": "stdout",
          "text": [
            "Title: Eve Arnold\n",
            "Question: What notable actress did Eve Arnold frequently photograph?\n",
            "Correct Answer: Marilyn Monroe\n",
            "Generated Answer: Ingrid Bergman\n",
            "BLEU Score: 0.0000\n",
            "ROUGE-L Score: 0.0000\n",
            "Exact Match: 0\n",
            "F1 Score: 0.0000\n",
            "\n",
            "---\n",
            "\n"
          ]
        },
        {
          "output_type": "stream",
          "name": "stderr",
          "text": [
            "Setting `pad_token_id` to `eos_token_id`:128001 for open-end generation.\n"
          ]
        },
        {
          "output_type": "stream",
          "name": "stdout",
          "text": [
            "Title: Eve Arnold\n",
            "Question: Where was Eve Arnold born?\n",
            "Correct Answer: Philadelphia\n",
            "Generated Answer: New York City\n",
            "BLEU Score: 0.0000\n",
            "ROUGE-L Score: 0.0000\n",
            "Exact Match: 0\n",
            "F1 Score: 0.0000\n",
            "\n",
            "---\n",
            "\n"
          ]
        },
        {
          "output_type": "stream",
          "name": "stderr",
          "text": [
            "Setting `pad_token_id` to `eos_token_id`:128001 for open-end generation.\n"
          ]
        },
        {
          "output_type": "stream",
          "name": "stdout",
          "text": [
            "Title: Eve Arnold\n",
            "Question: What year did Eve Arnold marry Arnold Schmitz?\n",
            "Correct Answer: 1941\n",
            "Generated Answer: 1941\n",
            "BLEU Score: 0.1778\n",
            "ROUGE-L Score: 1.0000\n",
            "Exact Match: 1\n",
            "F1 Score: 1.0000\n",
            "\n",
            "---\n",
            "\n"
          ]
        },
        {
          "output_type": "stream",
          "name": "stderr",
          "text": [
            "Setting `pad_token_id` to `eos_token_id`:128001 for open-end generation.\n"
          ]
        },
        {
          "output_type": "stream",
          "name": "stdout",
          "text": [
            "Title: Eve Arnold\n",
            "Question: When did Eve Arnold die?\n",
            "Correct Answer: January 4, 2012\n",
            "Generated Answer: 2018\n",
            "BLEU Score: 0.0000\n",
            "ROUGE-L Score: 0.0000\n",
            "Exact Match: 0\n",
            "F1 Score: 0.0000\n",
            "\n",
            "---\n",
            "\n"
          ]
        },
        {
          "output_type": "stream",
          "name": "stderr",
          "text": [
            "Setting `pad_token_id` to `eos_token_id`:128001 for open-end generation.\n"
          ]
        },
        {
          "output_type": "stream",
          "name": "stdout",
          "text": [
            "Title: Wanda Orlikowski\n",
            "Question: Which university is Wanda J. Orlikowski associated with as a professor?\n",
            "Correct Answer: Massachusetts Institute of Technology\n",
            "Generated Answer: MIT (Massachusetts Institute of Technology)\n",
            "BLEU Score: 0.6687\n",
            "ROUGE-L Score: 0.8889\n",
            "Exact Match: 0\n",
            "F1 Score: 0.8889\n",
            "\n",
            "---\n",
            "\n"
          ]
        },
        {
          "output_type": "stream",
          "name": "stderr",
          "text": [
            "Setting `pad_token_id` to `eos_token_id`:128001 for open-end generation.\n"
          ]
        },
        {
          "output_type": "stream",
          "name": "stdout",
          "text": [
            "Title: Wanda Orlikowski\n",
            "Question: In what year did Wanda J. Orlikowski complete her Ph.D. from the New York University Stern School of Business?\n",
            "Correct Answer: 1989\n",
            "Generated Answer: 1985\n",
            "BLEU Score: 0.0000\n",
            "ROUGE-L Score: 0.0000\n",
            "Exact Match: 0\n",
            "F1 Score: 0.0000\n",
            "\n",
            "---\n",
            "\n"
          ]
        },
        {
          "output_type": "stream",
          "name": "stderr",
          "text": [
            "Setting `pad_token_id` to `eos_token_id`:128001 for open-end generation.\n"
          ]
        },
        {
          "output_type": "stream",
          "name": "stdout",
          "text": [
            "Title: Wanda Orlikowski\n",
            "Question: Which journal has Wanda J. Orlikowski served as a senior editor for?\n",
            "Correct Answer: Organization Science\n",
            "Generated Answer: MIS Quarterly\n",
            "BLEU Score: 0.0000\n",
            "ROUGE-L Score: 0.0000\n",
            "Exact Match: 0\n",
            "F1 Score: 0.0000\n",
            "\n",
            "---\n",
            "\n"
          ]
        },
        {
          "output_type": "stream",
          "name": "stderr",
          "text": [
            "Setting `pad_token_id` to `eos_token_id`:128001 for open-end generation.\n"
          ]
        },
        {
          "output_type": "stream",
          "name": "stdout",
          "text": [
            "Title: Wanda Orlikowski\n",
            "Question: What award did Wanda J. Orlikowski receive from the Academy of Management in 2015?\n",
            "Correct Answer: Distinguished Scholar Award\n",
            "Generated Answer: The Distinguished Scholar Award\n",
            "BLEU Score: 0.3976\n",
            "ROUGE-L Score: 0.8571\n",
            "Exact Match: 0\n",
            "F1 Score: 0.8571\n",
            "\n",
            "---\n",
            "\n"
          ]
        },
        {
          "output_type": "stream",
          "name": "stderr",
          "text": [
            "Setting `pad_token_id` to `eos_token_id`:128001 for open-end generation.\n"
          ]
        },
        {
          "output_type": "stream",
          "name": "stdout",
          "text": [
            "Title: Wanda Orlikowski\n",
            "Question: What concept does Wanda J. Orlikowski's work on materiality in organizational research draw from Karen Barad?\n",
            "Correct Answer: Agential realism\n",
            "Generated Answer: Posthumanism\n",
            "BLEU Score: 0.0000\n",
            "ROUGE-L Score: 0.0000\n",
            "Exact Match: 0\n",
            "F1 Score: 0.0000\n",
            "\n",
            "---\n",
            "\n"
          ]
        },
        {
          "output_type": "stream",
          "name": "stderr",
          "text": [
            "Setting `pad_token_id` to `eos_token_id`:128001 for open-end generation.\n"
          ]
        },
        {
          "output_type": "stream",
          "name": "stdout",
          "text": [
            "Title: William Roper\n",
            "Question: What profession did William Roper have?\n",
            "Correct Answer: Lawyer\n",
            "Generated Answer: Lawyer\n",
            "BLEU Score: 0.1778\n",
            "ROUGE-L Score: 1.0000\n",
            "Exact Match: 1\n",
            "F1 Score: 1.0000\n",
            "\n",
            "---\n",
            "\n"
          ]
        },
        {
          "output_type": "stream",
          "name": "stderr",
          "text": [
            "Setting `pad_token_id` to `eos_token_id`:128001 for open-end generation.\n"
          ]
        },
        {
          "output_type": "stream",
          "name": "stdout",
          "text": [
            "Title: William Roper\n",
            "Question: Who was William Roper's father?\n",
            "Correct Answer: John Roper\n",
            "Generated Answer: Thomas Roper\n",
            "BLEU Score: 0.1495\n",
            "ROUGE-L Score: 0.5000\n",
            "Exact Match: 0\n",
            "F1 Score: 0.5000\n",
            "\n",
            "---\n",
            "\n"
          ]
        },
        {
          "output_type": "stream",
          "name": "stderr",
          "text": [
            "Setting `pad_token_id` to `eos_token_id`:128001 for open-end generation.\n"
          ]
        },
        {
          "output_type": "stream",
          "name": "stdout",
          "text": [
            "Title: William Roper\n",
            "Question: What notable work did William Roper write?\n",
            "Correct Answer: A biography of Sir Thomas More\n",
            "Generated Answer: The Anatomy of Melancholy\n",
            "BLEU Score: 0.0487\n",
            "ROUGE-L Score: 0.2000\n",
            "Exact Match: 0\n",
            "F1 Score: 0.2000\n",
            "\n",
            "---\n",
            "\n"
          ]
        },
        {
          "output_type": "stream",
          "name": "stderr",
          "text": [
            "Setting `pad_token_id` to `eos_token_id`:128001 for open-end generation.\n"
          ]
        },
        {
          "output_type": "stream",
          "name": "stdout",
          "text": [
            "Title: William Roper\n",
            "Question: To which religion did William Roper return after leaving Lutheranism?\n",
            "Correct Answer: Catholicism\n",
            "Generated Answer: Anglican\n",
            "BLEU Score: 0.0000\n",
            "ROUGE-L Score: 0.0000\n",
            "Exact Match: 0\n",
            "F1 Score: 0.0000\n",
            "\n",
            "---\n",
            "\n"
          ]
        },
        {
          "output_type": "stream",
          "name": "stderr",
          "text": [
            "Setting `pad_token_id` to `eos_token_id`:128001 for open-end generation.\n"
          ]
        },
        {
          "output_type": "stream",
          "name": "stdout",
          "text": [
            "Title: Edgar Wind\n",
            "Question: Which institute is Edgar Wind associated with?\n",
            "Correct Answer: The Warburg Institute\n",
            "Generated Answer: The Hoover Institution\n",
            "BLEU Score: 0.1136\n",
            "ROUGE-L Score: 0.6667\n",
            "Exact Match: 0\n",
            "F1 Score: 0.3333\n",
            "\n",
            "---\n",
            "\n",
            "Title: Edgar Wind\n",
            "Question: Where was Edgar Wind born?\n",
            "Correct Answer: Berlin, Germany\n",
            "Generated Answer: Vienna\n",
            "BLEU Score: 0.0000\n",
            "ROUGE-L Score: 0.0000\n",
            "Exact Match: 0\n",
            "F1 Score: 0.0000\n",
            "\n",
            "---\n",
            "\n"
          ]
        },
        {
          "output_type": "stream",
          "name": "stderr",
          "text": [
            "Setting `pad_token_id` to `eos_token_id`:128001 for open-end generation.\n",
            "Setting `pad_token_id` to `eos_token_id`:128001 for open-end generation.\n"
          ]
        },
        {
          "output_type": "stream",
          "name": "stdout",
          "text": [
            "Title: Edgar Wind\n",
            "Question: What modern institution has a reading room dedicated to Edgar Wind?\n",
            "Correct Answer: Oxford's Sackler Library\n",
            "Generated Answer: The Library of Congress\n",
            "BLEU Score: 0.0803\n",
            "ROUGE-L Score: 0.2500\n",
            "Exact Match: 0\n",
            "F1 Score: 0.2500\n",
            "\n",
            "---\n",
            "\n"
          ]
        },
        {
          "output_type": "stream",
          "name": "stderr",
          "text": [
            "Setting `pad_token_id` to `eos_token_id`:128001 for open-end generation.\n"
          ]
        },
        {
          "output_type": "stream",
          "name": "stdout",
          "text": [
            "Title: Edgar Wind\n",
            "Question: What was Edgar Wind's stance on modern art?\n",
            "Correct Answer: He defended modern art\n",
            "Generated Answer: He rejected it\n",
            "BLEU Score: 0.0814\n",
            "ROUGE-L Score: 0.2857\n",
            "Exact Match: 0\n",
            "F1 Score: 0.2857\n",
            "\n",
            "---\n",
            "\n"
          ]
        },
        {
          "output_type": "stream",
          "name": "stderr",
          "text": [
            "Setting `pad_token_id` to `eos_token_id`:128001 for open-end generation.\n"
          ]
        },
        {
          "output_type": "stream",
          "name": "stdout",
          "text": [
            "Title: Edgar Wind\n",
            "Question: What society at Oxford University is named after Edgar Wind?\n",
            "Correct Answer: The student art and art history society\n",
            "Generated Answer: The Society of Edmund Burke\n",
            "BLEU Score: 0.0428\n",
            "ROUGE-L Score: 0.3333\n",
            "Exact Match: 0\n",
            "F1 Score: 0.3333\n",
            "\n",
            "---\n",
            "\n"
          ]
        },
        {
          "output_type": "stream",
          "name": "stderr",
          "text": [
            "Setting `pad_token_id` to `eos_token_id`:128001 for open-end generation.\n"
          ]
        },
        {
          "output_type": "stream",
          "name": "stdout",
          "text": [
            "Title: Vera Dushevina\n",
            "Question: How many doubles titles did Vera Dushevina win on the WTA Tour?\n",
            "Correct Answer: Two\n",
            "Generated Answer: 1\n",
            "BLEU Score: 0.0000\n",
            "ROUGE-L Score: 0.0000\n",
            "Exact Match: 0\n",
            "F1 Score: 0.0000\n",
            "\n",
            "---\n",
            "\n"
          ]
        },
        {
          "output_type": "stream",
          "name": "stderr",
          "text": [
            "Setting `pad_token_id` to `eos_token_id`:128001 for open-end generation.\n"
          ]
        },
        {
          "output_type": "stream",
          "name": "stdout",
          "text": [
            "Title: Vera Dushevina\n",
            "Question: Which Grand Slam tournament did Vera Dushevina reach the fourth round of for the first time in her career in 2005?\n",
            "Correct Answer: Australian Open\n",
            "Generated Answer: Australian Open\n",
            "BLEU Score: 0.3162\n",
            "ROUGE-L Score: 1.0000\n",
            "Exact Match: 1\n",
            "F1 Score: 1.0000\n",
            "\n",
            "---\n",
            "\n"
          ]
        },
        {
          "output_type": "stream",
          "name": "stderr",
          "text": [
            "Setting `pad_token_id` to `eos_token_id`:128001 for open-end generation.\n"
          ]
        },
        {
          "output_type": "stream",
          "name": "stdout",
          "text": [
            "Title: Vera Dushevina\n",
            "Question: Which team did Vera Dushevina play for in the 2005 Fed Cup?\n",
            "Correct Answer: Russian team\n",
            "Generated Answer: Russia\n",
            "BLEU Score: 0.0000\n",
            "ROUGE-L Score: 0.0000\n",
            "Exact Match: 0\n",
            "F1 Score: 0.0000\n",
            "\n",
            "---\n",
            "\n"
          ]
        },
        {
          "output_type": "stream",
          "name": "stderr",
          "text": [
            "Setting `pad_token_id` to `eos_token_id`:128001 for open-end generation.\n"
          ]
        },
        {
          "output_type": "stream",
          "name": "stdout",
          "text": [
            "Title: Vera Dushevina\n",
            "Question: Who did Vera Dushevina upset in the first round of Wimbledon after defeating Francesca Schiavone?\n",
            "Correct Answer: Francesca Schiavone\n",
            "Generated Answer: Francesca Schiavone\n",
            "BLEU Score: 0.3162\n",
            "ROUGE-L Score: 1.0000\n",
            "Exact Match: 1\n",
            "F1 Score: 1.0000\n",
            "\n",
            "---\n",
            "\n"
          ]
        },
        {
          "output_type": "stream",
          "name": "stderr",
          "text": [
            "Setting `pad_token_id` to `eos_token_id`:128001 for open-end generation.\n"
          ]
        },
        {
          "output_type": "stream",
          "name": "stdout",
          "text": [
            "Title: Engelbert Endrass\n",
            "Question: What nationality was Engelbert Endrass?\n",
            "Correct Answer: German\n",
            "Generated Answer: German\n",
            "BLEU Score: 0.1778\n",
            "ROUGE-L Score: 1.0000\n",
            "Exact Match: 1\n",
            "F1 Score: 1.0000\n",
            "\n",
            "---\n",
            "\n"
          ]
        },
        {
          "output_type": "stream",
          "name": "stderr",
          "text": [
            "Setting `pad_token_id` to `eos_token_id`:128001 for open-end generation.\n"
          ]
        },
        {
          "output_type": "stream",
          "name": "stdout",
          "text": [
            "Title: Engelbert Endrass\n",
            "Question: How many ships is Engelbert Endrass credited with sinking?\n",
            "Correct Answer: 22\n",
            "Generated Answer: 1\n",
            "BLEU Score: 0.0000\n",
            "ROUGE-L Score: 0.0000\n",
            "Exact Match: 0\n",
            "F1 Score: 0.0000\n",
            "\n",
            "---\n",
            "\n"
          ]
        },
        {
          "output_type": "stream",
          "name": "stderr",
          "text": [
            "Setting `pad_token_id` to `eos_token_id`:128001 for open-end generation.\n"
          ]
        },
        {
          "output_type": "stream",
          "name": "stdout",
          "text": [
            "Title: Engelbert Endrass\n",
            "Question: What military decoration was Engelbert Endrass a recipient of?\n",
            "Correct Answer: Knight's Cross of the Iron Cross with Oak Leaves\n",
            "Generated Answer: Knight's Cross with Swords\n",
            "BLEU Score: 0.1163\n",
            "ROUGE-L Score: 0.5333\n",
            "Exact Match: 0\n",
            "F1 Score: 0.5333\n",
            "\n",
            "---\n",
            "\n"
          ]
        },
        {
          "output_type": "stream",
          "name": "stderr",
          "text": [
            "Setting `pad_token_id` to `eos_token_id`:128001 for open-end generation.\n"
          ]
        },
        {
          "output_type": "stream",
          "name": "stdout",
          "text": [
            "Title: Engelbert Endrass\n",
            "Question: Which U-boat did Engelbert Endrass command first, U-46 or U-567?\n",
            "Correct Answer: U-46\n",
            "Generated Answer: U-46\n",
            "BLEU Score: 0.3162\n",
            "ROUGE-L Score: 1.0000\n",
            "Exact Match: 1\n",
            "F1 Score: 1.0000\n",
            "\n",
            "---\n",
            "\n"
          ]
        },
        {
          "output_type": "stream",
          "name": "stderr",
          "text": [
            "Setting `pad_token_id` to `eos_token_id`:128001 for open-end generation.\n"
          ]
        },
        {
          "output_type": "stream",
          "name": "stdout",
          "text": [
            "Title: Leo Slezak\n",
            "Question: In what field was Leo Slezak primarily known?\n",
            "Correct Answer: Opera\n",
            "Generated Answer: Opera\n",
            "BLEU Score: 0.1778\n",
            "ROUGE-L Score: 1.0000\n",
            "Exact Match: 1\n",
            "F1 Score: 1.0000\n",
            "\n",
            "---\n",
            "\n"
          ]
        },
        {
          "output_type": "stream",
          "name": "stderr",
          "text": [
            "Setting `pad_token_id` to `eos_token_id`:128001 for open-end generation.\n"
          ]
        },
        {
          "output_type": "stream",
          "name": "stdout",
          "text": [
            "Title: Leo Slezak\n",
            "Question: Who was Leo Slezak's famous conductor for his performance as Otello at the Met?\n",
            "Correct Answer: Arturo Toscanini\n",
            "Generated Answer: Victor de Sabata\n",
            "BLEU Score: 0.0000\n",
            "ROUGE-L Score: 0.0000\n",
            "Exact Match: 0\n",
            "F1 Score: 0.0000\n",
            "\n",
            "---\n",
            "\n"
          ]
        },
        {
          "output_type": "stream",
          "name": "stderr",
          "text": [
            "Setting `pad_token_id` to `eos_token_id`:128001 for open-end generation.\n"
          ]
        },
        {
          "output_type": "stream",
          "name": "stdout",
          "text": [
            "Title: Leo Slezak\n",
            "Question: Which opera house was Leo Slezak a permanent member of from 1901 onwards?\n",
            "Correct Answer: Vienna State Opera\n",
            "Generated Answer: Deutsche Oper Berlin\n",
            "BLEU Score: 0.0000\n",
            "ROUGE-L Score: 0.0000\n",
            "Exact Match: 0\n",
            "F1 Score: 0.0000\n",
            "\n",
            "---\n",
            "\n"
          ]
        },
        {
          "output_type": "stream",
          "name": "stderr",
          "text": [
            "Setting `pad_token_id` to `eos_token_id`:128001 for open-end generation.\n"
          ]
        },
        {
          "output_type": "stream",
          "name": "stdout",
          "text": [
            "Title: Leo Slezak\n",
            "Question: How many children did Leo Slezak have who were also actors?\n",
            "Correct Answer: Two\n",
            "Generated Answer: Two\n",
            "BLEU Score: 0.1778\n",
            "ROUGE-L Score: 1.0000\n",
            "Exact Match: 1\n",
            "F1 Score: 1.0000\n",
            "\n",
            "---\n",
            "\n"
          ]
        },
        {
          "output_type": "stream",
          "name": "stderr",
          "text": [
            "Setting `pad_token_id` to `eos_token_id`:128001 for open-end generation.\n"
          ]
        },
        {
          "output_type": "stream",
          "name": "stdout",
          "text": [
            "Title: Leo Slezak\n",
            "Question: What kind of roles did Leo Slezak mostly play in German cinema?\n",
            "Correct Answer: Humorous characters\n",
            "Generated Answer: Romantic leads and anti-heroes\n",
            "BLEU Score: 0.0000\n",
            "ROUGE-L Score: 0.0000\n",
            "Exact Match: 0\n",
            "F1 Score: 0.0000\n",
            "\n",
            "---\n",
            "\n"
          ]
        },
        {
          "output_type": "stream",
          "name": "stderr",
          "text": [
            "Setting `pad_token_id` to `eos_token_id`:128001 for open-end generation.\n"
          ]
        },
        {
          "output_type": "stream",
          "name": "stdout",
          "text": [
            "Title: Gaston Eyskens\n",
            "Question: How many terms did Gaston Eyskens serve as the Prime Minister of Belgium?\n",
            "Correct Answer: Three\n",
            "Generated Answer: 3\n",
            "BLEU Score: 0.0000\n",
            "ROUGE-L Score: 0.0000\n",
            "Exact Match: 0\n",
            "F1 Score: 0.0000\n",
            "\n",
            "---\n",
            "\n"
          ]
        },
        {
          "output_type": "stream",
          "name": "stderr",
          "text": [
            "Setting `pad_token_id` to `eos_token_id`:128001 for open-end generation.\n"
          ]
        },
        {
          "output_type": "stream",
          "name": "stdout",
          "text": [
            "Title: Gaston Eyskens\n",
            "Question: Which university did Gaston Eyskens attend for his master and doctorate degrees?\n",
            "Correct Answer: Catholic University of Leuven\n",
            "Generated Answer: Catholic University of Leuven\n",
            "BLEU Score: 1.0000\n",
            "ROUGE-L Score: 1.0000\n",
            "Exact Match: 1\n",
            "F1 Score: 1.0000\n",
            "\n",
            "---\n",
            "\n"
          ]
        },
        {
          "output_type": "stream",
          "name": "stderr",
          "text": [
            "Setting `pad_token_id` to `eos_token_id`:128001 for open-end generation.\n"
          ]
        },
        {
          "output_type": "stream",
          "name": "stdout",
          "text": [
            "Title: Gaston Eyskens\n",
            "Question: In what year did Gaston Eyskens first become Prime Minister of Belgium?\n",
            "Correct Answer: 1949\n",
            "Generated Answer: 1949\n",
            "BLEU Score: 0.1778\n",
            "ROUGE-L Score: 1.0000\n",
            "Exact Match: 1\n",
            "F1 Score: 1.0000\n",
            "\n",
            "---\n",
            "\n"
          ]
        },
        {
          "output_type": "stream",
          "name": "stderr",
          "text": [
            "Setting `pad_token_id` to `eos_token_id`:128001 for open-end generation.\n"
          ]
        },
        {
          "output_type": "stream",
          "name": "stdout",
          "text": [
            "Title: Gaston Eyskens\n",
            "Question: What honors was Gaston Eyskens awarded in Belgium?\n",
            "Correct Answer: Minister of State, Commander in the Order of Leopold II, Knight Grand Cross in the Order of the Crown\n",
            "Generated Answer: Grand Cross of the Order of Leopold\n",
            "BLEU Score: 0.0968\n",
            "ROUGE-L Score: 0.3846\n",
            "Exact Match: 0\n",
            "F1 Score: 0.4615\n",
            "\n",
            "---\n",
            "\n"
          ]
        },
        {
          "output_type": "stream",
          "name": "stderr",
          "text": [
            "Setting `pad_token_id` to `eos_token_id`:128001 for open-end generation.\n"
          ]
        },
        {
          "output_type": "stream",
          "name": "stdout",
          "text": [
            "Title: Steve Furber\n",
            "Question: Which university did Steve Furber attend for his education?\n",
            "Correct Answer: University of Cambridge\n",
            "Generated Answer: University of Manchester\n",
            "BLEU Score: 0.2403\n",
            "ROUGE-L Score: 0.6667\n",
            "Exact Match: 0\n",
            "F1 Score: 0.6667\n",
            "\n",
            "---\n",
            "\n"
          ]
        },
        {
          "output_type": "stream",
          "name": "stderr",
          "text": [
            "Setting `pad_token_id` to `eos_token_id`:128001 for open-end generation.\n"
          ]
        },
        {
          "output_type": "stream",
          "name": "stdout",
          "text": [
            "Title: Steve Furber\n",
            "Question: What notable computer did Steve Furber help design in the 1980s?\n",
            "Correct Answer: BBC Micro\n",
            "Generated Answer: Acorn Archimedes\n",
            "BLEU Score: 0.0000\n",
            "ROUGE-L Score: 0.0000\n",
            "Exact Match: 0\n",
            "F1 Score: 0.0000\n",
            "\n",
            "---\n",
            "\n"
          ]
        },
        {
          "output_type": "stream",
          "name": "stderr",
          "text": [
            "Setting `pad_token_id` to `eos_token_id`:128001 for open-end generation.\n"
          ]
        },
        {
          "output_type": "stream",
          "name": "stdout",
          "text": [
            "Title: Steve Furber\n",
            "Question: What company did Steve Furber work for in the 1980s?\n",
            "Correct Answer: Acorn Computers\n",
            "Generated Answer: Acorn Computers\n",
            "BLEU Score: 0.3162\n",
            "ROUGE-L Score: 1.0000\n",
            "Exact Match: 1\n",
            "F1 Score: 1.0000\n",
            "\n",
            "---\n",
            "\n"
          ]
        },
        {
          "output_type": "stream",
          "name": "stderr",
          "text": [
            "Setting `pad_token_id` to `eos_token_id`:128001 for open-end generation.\n"
          ]
        },
        {
          "output_type": "stream",
          "name": "stdout",
          "text": [
            "Title: Steve Furber\n",
            "Question: What significant contribution did Steve Furber make to the field of computer science?\n",
            "Correct Answer: Design of the ARM processor architecture\n",
            "Generated Answer: He designed and built the Acorn Archimedes microcomputer\n",
            "BLEU Score: 0.0278\n",
            "ROUGE-L Score: 0.2857\n",
            "Exact Match: 0\n",
            "F1 Score: 0.1429\n",
            "\n",
            "---\n",
            "\n"
          ]
        },
        {
          "output_type": "stream",
          "name": "stderr",
          "text": [
            "Setting `pad_token_id` to `eos_token_id`:128001 for open-end generation.\n"
          ]
        },
        {
          "output_type": "stream",
          "name": "stdout",
          "text": [
            "Title: Gustav Otto\n",
            "Question: What nationality was Gustav Otto?\n",
            "Correct Answer: German\n",
            "Generated Answer: German\n",
            "BLEU Score: 0.1778\n",
            "ROUGE-L Score: 1.0000\n",
            "Exact Match: 1\n",
            "F1 Score: 1.0000\n",
            "\n",
            "---\n",
            "\n"
          ]
        },
        {
          "output_type": "stream",
          "name": "stderr",
          "text": [
            "Setting `pad_token_id` to `eos_token_id`:128001 for open-end generation.\n"
          ]
        },
        {
          "output_type": "stream",
          "name": "stdout",
          "text": [
            "Title: Gustav Otto\n",
            "Question: What significant invention is Gustav Otto's father credited with?\n",
            "Correct Answer: The four-stroke internal combustion engine\n",
            "Generated Answer: The steam engine\n",
            "BLEU Score: 0.0497\n",
            "ROUGE-L Score: 0.4444\n",
            "Exact Match: 0\n",
            "F1 Score: 0.4444\n",
            "\n",
            "---\n",
            "\n"
          ]
        },
        {
          "output_type": "stream",
          "name": "stderr",
          "text": [
            "Setting `pad_token_id` to `eos_token_id`:128001 for open-end generation.\n"
          ]
        },
        {
          "output_type": "stream",
          "name": "stdout",
          "text": [
            "Title: Gustav Otto\n",
            "Question: In what field did Gustav Otto obtain further education?\n",
            "Correct Answer: Engineering\n",
            "Generated Answer: Engineering\n",
            "BLEU Score: 0.1778\n",
            "ROUGE-L Score: 1.0000\n",
            "Exact Match: 1\n",
            "F1 Score: 1.0000\n",
            "\n",
            "---\n",
            "\n"
          ]
        },
        {
          "output_type": "stream",
          "name": "stderr",
          "text": [
            "Setting `pad_token_id` to `eos_token_id`:128001 for open-end generation.\n"
          ]
        },
        {
          "output_type": "stream",
          "name": "stdout",
          "text": [
            "Title: Gustav Otto\n",
            "Question: What was the initial name of the factory Gustav Otto opened in 1913?\n",
            "Correct Answer: Otto-Flugzeugwerke\n",
            "Generated Answer: AEG\n",
            "BLEU Score: 0.0000\n",
            "ROUGE-L Score: 0.0000\n",
            "Exact Match: 0\n",
            "F1 Score: 0.0000\n",
            "\n",
            "---\n",
            "\n"
          ]
        },
        {
          "output_type": "stream",
          "name": "stderr",
          "text": [
            "Setting `pad_token_id` to `eos_token_id`:128001 for open-end generation.\n"
          ]
        },
        {
          "output_type": "stream",
          "name": "stdout",
          "text": [
            "Title: Anna Diamantopoulou\n",
            "Question: What is Anna Diamantopoulou's nationality?\n",
            "Correct Answer: Greek\n",
            "Generated Answer: Greek\n",
            "BLEU Score: 0.1778\n",
            "ROUGE-L Score: 1.0000\n",
            "Exact Match: 1\n",
            "F1 Score: 1.0000\n",
            "\n",
            "---\n",
            "\n"
          ]
        },
        {
          "output_type": "stream",
          "name": "stderr",
          "text": [
            "Setting `pad_token_id` to `eos_token_id`:128001 for open-end generation.\n"
          ]
        },
        {
          "output_type": "stream",
          "name": "stdout",
          "text": [
            "Title: Anna Diamantopoulou\n",
            "Question: What major legislative reform did Anna Diamantopoulou introduce as Minister of Education?\n",
            "Correct Answer: The 'Diamantopoulou Law'\n",
            "Generated Answer: Lifelong Learning Programme\n",
            "BLEU Score: 0.0000\n",
            "ROUGE-L Score: 0.0000\n",
            "Exact Match: 0\n",
            "F1 Score: 0.0000\n",
            "\n",
            "---\n",
            "\n"
          ]
        },
        {
          "output_type": "stream",
          "name": "stderr",
          "text": [
            "Setting `pad_token_id` to `eos_token_id`:128001 for open-end generation.\n"
          ]
        },
        {
          "output_type": "stream",
          "name": "stdout",
          "text": [
            "Title: Anna Diamantopoulou\n",
            "Question: What was Anna Diamantopoulou's role in the Prodi Commission?\n",
            "Correct Answer: European Commissioner for Employment, Social Affairs and Equal Opportunities\n",
            "Generated Answer: President\n",
            "BLEU Score: 0.0000\n",
            "ROUGE-L Score: 0.0000\n",
            "Exact Match: 0\n",
            "F1 Score: 0.0000\n",
            "\n",
            "---\n",
            "\n"
          ]
        },
        {
          "output_type": "stream",
          "name": "stderr",
          "text": [
            "Setting `pad_token_id` to `eos_token_id`:128001 for open-end generation.\n"
          ]
        },
        {
          "output_type": "stream",
          "name": "stdout",
          "text": [
            "Title: Anna Diamantopoulou\n",
            "Question: Which initiative did Anna Diamantopoulou lead that aimed at securing equal opportunities and improving working conditions in the EU?\n",
            "Correct Answer: Agenda for Social Policy\n",
            "Generated Answer: The European Social Fund\n",
            "BLEU Score: 0.0803\n",
            "ROUGE-L Score: 0.2500\n",
            "Exact Match: 0\n",
            "F1 Score: 0.2500\n",
            "\n",
            "---\n",
            "\n"
          ]
        },
        {
          "output_type": "stream",
          "name": "stderr",
          "text": [
            "Setting `pad_token_id` to `eos_token_id`:128001 for open-end generation.\n"
          ]
        },
        {
          "output_type": "stream",
          "name": "stdout",
          "text": [
            "Title: Anna Diamantopoulou\n",
            "Question: Which university's John F. Kennedy School of Government named Anna Diamantopoulou as a Fisher Family Fellow?\n",
            "Correct Answer: Harvard University\n",
            "Generated Answer: Harvard University\n",
            "BLEU Score: 0.3162\n",
            "ROUGE-L Score: 1.0000\n",
            "Exact Match: 1\n",
            "F1 Score: 1.0000\n",
            "\n",
            "---\n",
            "\n"
          ]
        },
        {
          "output_type": "stream",
          "name": "stderr",
          "text": [
            "Setting `pad_token_id` to `eos_token_id`:128001 for open-end generation.\n"
          ]
        },
        {
          "output_type": "stream",
          "name": "stdout",
          "text": [
            "Title: Friedrich Paulsen\n",
            "Question: What was Friedrich Paulsen's nationality?\n",
            "Correct Answer: German\n",
            "Generated Answer: German\n",
            "BLEU Score: 0.1778\n",
            "ROUGE-L Score: 1.0000\n",
            "Exact Match: 1\n",
            "F1 Score: 1.0000\n",
            "\n",
            "---\n",
            "\n"
          ]
        },
        {
          "output_type": "stream",
          "name": "stderr",
          "text": [
            "Setting `pad_token_id` to `eos_token_id`:128001 for open-end generation.\n"
          ]
        },
        {
          "output_type": "stream",
          "name": "stdout",
          "text": [
            "Title: Friedrich Paulsen\n",
            "Question: Which philosophical movement is Friedrich Paulsen associated with?\n",
            "Correct Answer: Neo-Kantian\n",
            "Generated Answer: German Idealism\n",
            "BLEU Score: 0.0000\n",
            "ROUGE-L Score: 0.0000\n",
            "Exact Match: 0\n",
            "F1 Score: 0.0000\n",
            "\n",
            "---\n",
            "\n"
          ]
        },
        {
          "output_type": "stream",
          "name": "stderr",
          "text": [
            "Setting `pad_token_id` to `eos_token_id`:128001 for open-end generation.\n"
          ]
        },
        {
          "output_type": "stream",
          "name": "stdout",
          "text": [
            "Title: Friedrich Paulsen\n",
            "Question: At which university did Friedrich Paulsen complete his doctoral thesis?\n",
            "Correct Answer: University of Berlin\n",
            "Generated Answer: University of Berlin\n",
            "BLEU Score: 0.5623\n",
            "ROUGE-L Score: 1.0000\n",
            "Exact Match: 1\n",
            "F1 Score: 1.0000\n",
            "\n",
            "---\n",
            "\n"
          ]
        },
        {
          "output_type": "stream",
          "name": "stderr",
          "text": [
            "Setting `pad_token_id` to `eos_token_id`:128001 for open-end generation.\n"
          ]
        },
        {
          "output_type": "stream",
          "name": "stdout",
          "text": [
            "Title: Friedrich Paulsen\n",
            "Question: What is the main subject of Friedrich Paulsen's work 'System der Ethik'?\n",
            "Correct Answer: Ethics\n",
            "Generated Answer: Ethics\n",
            "BLEU Score: 0.1778\n",
            "ROUGE-L Score: 1.0000\n",
            "Exact Match: 1\n",
            "F1 Score: 1.0000\n",
            "\n",
            "---\n",
            "\n"
          ]
        },
        {
          "output_type": "stream",
          "name": "stderr",
          "text": [
            "Setting `pad_token_id` to `eos_token_id`:128001 for open-end generation.\n"
          ]
        },
        {
          "output_type": "stream",
          "name": "stdout",
          "text": [
            "Title: Józef Oleksy\n",
            "Question: Which position did Józef Oleksy serve as in the Polish government from 7 March 1995 to 7 February 1996?\n",
            "Correct Answer: Prime Minister of Poland\n",
            "Generated Answer: Minister of Foreign Affairs\n",
            "BLEU Score: 0.1699\n",
            "ROUGE-L Score: 0.5000\n",
            "Exact Match: 0\n",
            "F1 Score: 0.5000\n",
            "\n",
            "---\n",
            "\n"
          ]
        },
        {
          "output_type": "stream",
          "name": "stderr",
          "text": [
            "Setting `pad_token_id` to `eos_token_id`:128001 for open-end generation.\n"
          ]
        },
        {
          "output_type": "stream",
          "name": "stdout",
          "text": [
            "Title: Józef Oleksy\n",
            "Question: What was Józef Oleksy's role in the church during his youth?\n",
            "Correct Answer: He was an altar boy\n",
            "Generated Answer: Priest\n",
            "BLEU Score: 0.0000\n",
            "ROUGE-L Score: 0.0000\n",
            "Exact Match: 0\n",
            "F1 Score: 0.0000\n",
            "\n",
            "---\n",
            "\n"
          ]
        },
        {
          "output_type": "stream",
          "name": "stderr",
          "text": [
            "Setting `pad_token_id` to `eos_token_id`:128001 for open-end generation.\n"
          ]
        },
        {
          "output_type": "stream",
          "name": "stdout",
          "text": [
            "Title: Józef Oleksy\n",
            "Question: What degree did Józef Oleksy obtain?\n",
            "Correct Answer: A doctoral degree in economics\n",
            "Generated Answer: Doctor of Philosophy\n",
            "BLEU Score: 0.0000\n",
            "ROUGE-L Score: 0.2500\n",
            "Exact Match: 0\n",
            "F1 Score: 0.0000\n",
            "\n",
            "---\n",
            "\n"
          ]
        },
        {
          "output_type": "stream",
          "name": "stderr",
          "text": [
            "Setting `pad_token_id` to `eos_token_id`:128001 for open-end generation.\n"
          ]
        },
        {
          "output_type": "stream",
          "name": "stdout",
          "text": [
            "Title: Józef Oleksy\n",
            "Question: Which political party was Józef Oleksy a member of from 1968 to 1990?\n",
            "Correct Answer: Communist Polish United Workers' Party (PZPR)\n",
            "Generated Answer: Polish United Workers' Party\n",
            "BLEU Score: 0.6065\n",
            "ROUGE-L Score: 0.8000\n",
            "Exact Match: 0\n",
            "F1 Score: 0.8000\n",
            "\n",
            "---\n",
            "\n"
          ]
        },
        {
          "output_type": "stream",
          "name": "stderr",
          "text": [
            "Setting `pad_token_id` to `eos_token_id`:128001 for open-end generation.\n"
          ]
        },
        {
          "output_type": "stream",
          "name": "stdout",
          "text": [
            "Title: Józef Oleksy\n",
            "Question: What role did Józef Oleksy have in the Socialist Union of Polish Students?\n",
            "Correct Answer: He was a member of the board\n",
            "Generated Answer: President\n",
            "BLEU Score: 0.0000\n",
            "ROUGE-L Score: 0.0000\n",
            "Exact Match: 0\n",
            "F1 Score: 0.0000\n",
            "\n",
            "---\n",
            "\n"
          ]
        },
        {
          "output_type": "stream",
          "name": "stderr",
          "text": [
            "Setting `pad_token_id` to `eos_token_id`:128001 for open-end generation.\n"
          ]
        },
        {
          "output_type": "stream",
          "name": "stdout",
          "text": [
            "Title: Józef Oleksy\n",
            "Question: What position did Józef Oleksy hold in the European Parliament?\n",
            "Correct Answer: Member of the European Parliament\n",
            "Generated Answer: Vice-president\n",
            "BLEU Score: 0.0000\n",
            "ROUGE-L Score: 0.0000\n",
            "Exact Match: 0\n",
            "F1 Score: 0.0000\n",
            "\n",
            "---\n",
            "\n"
          ]
        },
        {
          "output_type": "stream",
          "name": "stderr",
          "text": [
            "Setting `pad_token_id` to `eos_token_id`:128001 for open-end generation.\n"
          ]
        },
        {
          "output_type": "stream",
          "name": "stdout",
          "text": [
            "Title: Józef Oleksy\n",
            "Question: Who was Józef Oleksy married to?\n",
            "Correct Answer: Maria Oleksy\n",
            "Generated Answer: Helena Zamoyska\n",
            "BLEU Score: 0.0000\n",
            "ROUGE-L Score: 0.0000\n",
            "Exact Match: 0\n",
            "F1 Score: 0.0000\n",
            "\n",
            "---\n",
            "\n"
          ]
        },
        {
          "output_type": "stream",
          "name": "stderr",
          "text": [
            "Setting `pad_token_id` to `eos_token_id`:128001 for open-end generation.\n"
          ]
        },
        {
          "output_type": "stream",
          "name": "stdout",
          "text": [
            "Title: Guillermo Cabrera Infante\n",
            "Question: What nationality was Guillermo Cabrera Infante?\n",
            "Correct Answer: Cuban\n",
            "Generated Answer: Cuban\n",
            "BLEU Score: 0.1778\n",
            "ROUGE-L Score: 1.0000\n",
            "Exact Match: 1\n",
            "F1 Score: 1.0000\n",
            "\n",
            "---\n",
            "\n"
          ]
        },
        {
          "output_type": "stream",
          "name": "stderr",
          "text": [
            "Setting `pad_token_id` to `eos_token_id`:128001 for open-end generation.\n"
          ]
        },
        {
          "output_type": "stream",
          "name": "stdout",
          "text": [
            "Title: Guillermo Cabrera Infante\n",
            "Question: For what is Guillermo Cabrera Infante best known?\n",
            "Correct Answer: The novel Tres tristes tigres\n",
            "Generated Answer: Cuban writer\n",
            "BLEU Score: 0.0000\n",
            "ROUGE-L Score: 0.0000\n",
            "Exact Match: 0\n",
            "F1 Score: 0.0000\n",
            "\n",
            "---\n",
            "\n"
          ]
        },
        {
          "output_type": "stream",
          "name": "stderr",
          "text": [
            "Setting `pad_token_id` to `eos_token_id`:128001 for open-end generation.\n"
          ]
        },
        {
          "output_type": "stream",
          "name": "stdout",
          "text": [
            "Title: Guillermo Cabrera Infante\n",
            "Question: What was the original setting for nearly all of Guillermo Cabrera Infante's writings?\n",
            "Correct Answer: Havana\n",
            "Generated Answer: Cuba\n",
            "BLEU Score: 0.0000\n",
            "ROUGE-L Score: 0.0000\n",
            "Exact Match: 0\n",
            "F1 Score: 0.0000\n",
            "\n",
            "---\n",
            "\n"
          ]
        },
        {
          "output_type": "stream",
          "name": "stderr",
          "text": [
            "Setting `pad_token_id` to `eos_token_id`:128001 for open-end generation.\n"
          ]
        },
        {
          "output_type": "stream",
          "name": "stdout",
          "text": [
            "Title: Guillermo Cabrera Infante\n",
            "Question: What university did Guillermo Cabrera Infante attend for journalism?\n",
            "Correct Answer: University of Havana\n",
            "Generated Answer: University of Havana\n",
            "BLEU Score: 0.5623\n",
            "ROUGE-L Score: 1.0000\n",
            "Exact Match: 1\n",
            "F1 Score: 1.0000\n",
            "\n",
            "---\n",
            "\n"
          ]
        },
        {
          "output_type": "stream",
          "name": "stderr",
          "text": [
            "Setting `pad_token_id` to `eos_token_id`:128001 for open-end generation.\n"
          ]
        },
        {
          "output_type": "stream",
          "name": "stdout",
          "text": [
            "Title: Hermann Maas\n",
            "Question: What title was Hermann Maas awarded by Yad Vashem?\n",
            "Correct Answer: Righteous Among the Nations\n",
            "Generated Answer: Righteous Among the Nations\n",
            "BLEU Score: 1.0000\n",
            "ROUGE-L Score: 1.0000\n",
            "Exact Match: 1\n",
            "F1 Score: 1.0000\n",
            "\n",
            "---\n",
            "\n"
          ]
        },
        {
          "output_type": "stream",
          "name": "stderr",
          "text": [
            "Setting `pad_token_id` to `eos_token_id`:128001 for open-end generation.\n"
          ]
        },
        {
          "output_type": "stream",
          "name": "stdout",
          "text": [
            "Title: Hermann Maas\n",
            "Question: Which political party did Hermann Maas join in 1918?\n",
            "Correct Answer: DDP\n",
            "Generated Answer: The Social Democratic Party\n",
            "BLEU Score: 0.0000\n",
            "ROUGE-L Score: 0.0000\n",
            "Exact Match: 0\n",
            "F1 Score: 0.0000\n",
            "\n",
            "---\n",
            "\n"
          ]
        },
        {
          "output_type": "stream",
          "name": "stderr",
          "text": [
            "Setting `pad_token_id` to `eos_token_id`:128001 for open-end generation.\n"
          ]
        },
        {
          "output_type": "stream",
          "name": "stdout",
          "text": [
            "Title: Hermann Maas\n",
            "Question: What languages could Hermann Maas speak fluently that impressed Zionist activists?\n",
            "Correct Answer: Hebrew\n",
            "Generated Answer: Yiddish and Hebrew\n",
            "BLEU Score: 0.1136\n",
            "ROUGE-L Score: 0.5000\n",
            "Exact Match: 0\n",
            "F1 Score: 0.5000\n",
            "\n",
            "---\n",
            "\n"
          ]
        },
        {
          "output_type": "stream",
          "name": "stderr",
          "text": [
            "Setting `pad_token_id` to `eos_token_id`:128001 for open-end generation.\n"
          ]
        },
        {
          "output_type": "stream",
          "name": "stdout",
          "text": [
            "Title: Hermann Maas\n",
            "Question: Which church did Hermann Maas join that opposed the Nazi regime?\n",
            "Correct Answer: Confessing Church\n",
            "Generated Answer: The Lutheran Church\n",
            "BLEU Score: 0.1136\n",
            "ROUGE-L Score: 0.4000\n",
            "Exact Match: 0\n",
            "F1 Score: 0.4000\n",
            "\n",
            "---\n",
            "\n"
          ]
        },
        {
          "output_type": "stream",
          "name": "stderr",
          "text": [
            "Setting `pad_token_id` to `eos_token_id`:128001 for open-end generation.\n"
          ]
        },
        {
          "output_type": "stream",
          "name": "stdout",
          "text": [
            "Title: Louis de Rougemont\n",
            "Question: In which country was Louis De Rougemont born?\n",
            "Correct Answer: Switzerland\n",
            "Generated Answer: Switzerland\n",
            "BLEU Score: 0.1778\n",
            "ROUGE-L Score: 1.0000\n",
            "Exact Match: 1\n",
            "F1 Score: 1.0000\n",
            "\n",
            "---\n",
            "\n"
          ]
        },
        {
          "output_type": "stream",
          "name": "stderr",
          "text": [
            "Setting `pad_token_id` to `eos_token_id`:128001 for open-end generation.\n"
          ]
        },
        {
          "output_type": "stream",
          "name": "stdout",
          "text": [
            "Title: Louis de Rougemont\n",
            "Question: What profession did Louis De Rougemont claim to be?\n",
            "Correct Answer: Explorer\n",
            "Generated Answer: Catholic priest\n",
            "BLEU Score: 0.0000\n",
            "ROUGE-L Score: 0.0000\n",
            "Exact Match: 0\n",
            "F1 Score: 0.0000\n",
            "\n",
            "---\n",
            "\n"
          ]
        },
        {
          "output_type": "stream",
          "name": "stderr",
          "text": [
            "Setting `pad_token_id` to `eos_token_id`:128001 for open-end generation.\n"
          ]
        },
        {
          "output_type": "stream",
          "name": "stdout",
          "text": [
            "Title: Louis de Rougemont\n",
            "Question: Under what name did Louis De Rougemont write about his invented adventures?\n",
            "Correct Answer: Louis De Rougemont\n",
            "Generated Answer: The Master of Ballantrae\n",
            "BLEU Score: 0.0000\n",
            "ROUGE-L Score: 0.0000\n",
            "Exact Match: 0\n",
            "F1 Score: 0.0000\n",
            "\n",
            "---\n",
            "\n"
          ]
        },
        {
          "output_type": "stream",
          "name": "stderr",
          "text": [
            "Setting `pad_token_id` to `eos_token_id`:128001 for open-end generation.\n"
          ]
        },
        {
          "output_type": "stream",
          "name": "stdout",
          "text": [
            "Title: Louis de Rougemont\n",
            "Question: What did Louis De Rougemont claim to have been worshipped as by Indigenous Australians?\n",
            "Correct Answer: A god\n",
            "Generated Answer: The Holy Spirit\n",
            "BLEU Score: 0.0000\n",
            "ROUGE-L Score: 0.0000\n",
            "Exact Match: 0\n",
            "F1 Score: 0.0000\n",
            "\n",
            "---\n",
            "\n",
            "Title: Louis de Rougemont\n",
            "Question: Which society examined Louis De Rougemont's claims?\n",
            "Correct Answer: The Royal Geographical Society\n",
            "Generated Answer: The Catholic Church\n",
            "BLEU Score: 0.0814\n",
            "ROUGE-L Score: 0.2857\n",
            "Exact Match: 0\n",
            "F1 Score: 0.2857\n",
            "\n",
            "---\n",
            "\n"
          ]
        }
      ]
    },
    {
      "cell_type": "code",
      "source": [
        "import torch\n",
        "\n",
        "del pipe\n",
        "\n",
        "torch.cuda.empty_cache()"
      ],
      "metadata": {
        "id": "JsB_xkI9spwa"
      },
      "execution_count": 13,
      "outputs": []
    },
    {
      "cell_type": "code",
      "source": [
        "pipe = pipeline(\n",
        "    \"text-generation\",\n",
        "    model=\"nvidia/Nemotron-Mini-4B-Instruct\",\n",
        "    tokenizer=tokenizer,\n",
        "    device=-1\n",
        ")"
      ],
      "metadata": {
        "id": "-GlJ3mnroVwZ"
      },
      "execution_count": 10,
      "outputs": []
    },
    {
      "cell_type": "code",
      "source": [
        "tokenizer = AutoTokenizer.from_pretrained(\"nvidia/Nemotron-Mini-4B-Instruct\")"
      ],
      "metadata": {
        "colab": {
          "base_uri": "https://localhost:8080/",
          "height": 113,
          "referenced_widgets": [
            "1166c81ccda64f8e9109fa52dd91f1bb",
            "7a0b60fd2bf746709405b5819182355c",
            "a5b56185faf146e8a4f7c7f19845e257",
            "7ad18df78cfe4c0bb6055e54a28022d4",
            "144fca1a9a114b648c2077220cec28a5",
            "fd3450eb43f6458b95dc1e75867d04fb",
            "7e9c907dcd9747a880b7d126229e011d",
            "c7c969c3082d4fa5b751e2e31be3141d",
            "680581afd9234ac888ec02e4475e3571",
            "484edfebbb0741b1b7918ad5248eff8a",
            "43ada076d48746dfafe159b37e5154fe",
            "08f9108d2c5a4d3592247a98bba795f2",
            "aa391d0b7df44887b823d1daa9429ef4",
            "609319ad2cb14169a030d209261a868c",
            "6a6724510ca8427ab64ed837c4a4b8f2",
            "4faf51885e5d444abebcb8826a9a232f",
            "269da6cbf27148f392b8e481225d068b",
            "77fc28a1a4ce420dbbc7d6d2e887e97c",
            "eac9b0f8a9ff4603a7987a78ba42cae0",
            "49ffc12e973f4371a6e7265e5f8b3409",
            "95c36efa45f949da9de57ece531d1f6d",
            "19e0bdd0fef04dd0b02b80e65a09073a",
            "5b465df73d5d44a3b5d90db4b79e50c9",
            "544482f995794ec0884eaba0a9dc2f71",
            "6679de455db641bc83890cbf31489fc9",
            "47efe95455df40e4a992989dbbef68e2",
            "6d93d6a53fd547a7880faa2578325723",
            "bad1ecac0c774adf9c1f0af0f38c4b9f",
            "428bfe9ee4574b3d9f057dead65abf53",
            "6b51d321f88f49ed935f03e59cc6957f",
            "f88f096dd3ec41088751abd5230b2532",
            "7b4c4ef7eb824a53be7f1f7ad5272908",
            "0db5da70e14f4449a32f06fa1e3cd16e"
          ]
        },
        "id": "86dAQgRku8ws",
        "outputId": "1855c724-22c9-466d-93a6-789630c8aa10"
      },
      "execution_count": 9,
      "outputs": [
        {
          "output_type": "display_data",
          "data": {
            "text/plain": [
              "tokenizer_config.json:   0%|          | 0.00/180k [00:00<?, ?B/s]"
            ],
            "application/vnd.jupyter.widget-view+json": {
              "version_major": 2,
              "version_minor": 0,
              "model_id": "1166c81ccda64f8e9109fa52dd91f1bb"
            }
          },
          "metadata": {}
        },
        {
          "output_type": "display_data",
          "data": {
            "text/plain": [
              "tokenizer.json:   0%|          | 0.00/18.1M [00:00<?, ?B/s]"
            ],
            "application/vnd.jupyter.widget-view+json": {
              "version_major": 2,
              "version_minor": 0,
              "model_id": "08f9108d2c5a4d3592247a98bba795f2"
            }
          },
          "metadata": {}
        },
        {
          "output_type": "display_data",
          "data": {
            "text/plain": [
              "special_tokens_map.json:   0%|          | 0.00/48.0 [00:00<?, ?B/s]"
            ],
            "application/vnd.jupyter.widget-view+json": {
              "version_major": 2,
              "version_minor": 0,
              "model_id": "5b465df73d5d44a3b5d90db4b79e50c9"
            }
          },
          "metadata": {}
        }
      ]
    },
    {
      "cell_type": "code",
      "source": [
        "import os\n",
        "from datasets import load_dataset\n",
        "from transformers import pipeline, AutoTokenizer\n",
        "from nltk.translate.bleu_score import sentence_bleu, SmoothingFunction\n",
        "from rouge_score import rouge_scorer\n",
        "import csv\n",
        "import nltk\n",
        "import re\n",
        "\n",
        "nltk.download('punkt')\n",
        "\n",
        "MAX_NEW_TOKENS = 30\n",
        "TEMPERATURE = 0.3\n",
        "TOP_P = 0.9\n",
        "TOP_K = 0\n",
        "DO_SAMPLE = True\n",
        "REPETITION_PENALTY = 1.2\n",
        "\n",
        "# Initialize the ROUGE scorer\n",
        "rouge = rouge_scorer.RougeScorer(['rougeL'], use_stemmer=True)\n",
        "\n",
        "# Open a CSV file to store the outputs\n",
        "with open('generated_answers_4.csv', 'w', newline='', encoding='utf-8') as csvfile:\n",
        "    fieldnames = [\n",
        "        'Title',\n",
        "        'Question',\n",
        "        'Correct Answer',\n",
        "        'Generated Answer',\n",
        "        'BLEU Score',\n",
        "        'ROUGE-L Score',\n",
        "        'Exact Match',\n",
        "        'F1 Score'\n",
        "    ]\n",
        "    writer = csv.DictWriter(csvfile, fieldnames=fieldnames)\n",
        "    writer.writeheader()\n",
        "\n",
        "    # Process the dataset and generate answers\n",
        "    for item in ds['train']:\n",
        "        # Construct the modified prompt\n",
        "        prompt = (\n",
        "            \"Provide a short, direct answer to the following question without repeating the question or including extra information or text.\\n\"\n",
        "            f\"Question: {item['question']}\\nAnswer:\"\n",
        "        )\n",
        "        correct_answer = item['answer']\n",
        "\n",
        "        # Generate the answer with adjusted parameters\n",
        "        result = pipe(\n",
        "            prompt,\n",
        "            max_new_tokens=MAX_NEW_TOKENS,\n",
        "            temperature=TEMPERATURE,\n",
        "            top_p=TOP_P,\n",
        "            top_k=TOP_K,\n",
        "            repetition_penalty=REPETITION_PENALTY,\n",
        "            do_sample=DO_SAMPLE\n",
        "        )\n",
        "\n",
        "        # Extract the generated text\n",
        "        generated_text = result[0]['generated_text']\n",
        "\n",
        "        # Post-process to extract the answer\n",
        "        answer_start = generated_text.find('without any additional text:')\n",
        "        if answer_start != -1:\n",
        "            # Get the text after the prompt\n",
        "            answer_text = generated_text[answer_start + len('without any additional text:'):].strip()\n",
        "            # Stop at the first newline or period\n",
        "            answer_text = answer_text.split('\\n')[0].split('.')[0].strip()\n",
        "        else:\n",
        "            # If the prompt continuation is not found, use the entire generated text after the prompt\n",
        "            answer_text = generated_text[len(prompt):].strip()\n",
        "            answer_text = answer_text.split('\\n')[0].split('.')[0].strip()\n",
        "\n",
        "        # Normalize the correct answer and the generated answer\n",
        "        def normalize_answer(s):\n",
        "            \"\"\"Lower text and remove punctuation, articles, and extra whitespace.\"\"\"\n",
        "            def remove_punctuation(text):\n",
        "                return re.sub(r'\\W+', ' ', text)\n",
        "\n",
        "            return remove_punctuation(s.lower()).strip()\n",
        "\n",
        "        reference_normalized = normalize_answer(correct_answer)\n",
        "        candidate_normalized = normalize_answer(answer_text)\n",
        "\n",
        "        # Tokenize normalized answers\n",
        "        reference_tokens = nltk.word_tokenize(reference_normalized)\n",
        "        candidate_tokens = nltk.word_tokenize(candidate_normalized)\n",
        "\n",
        "        # Compute BLEU Score with smoothing\n",
        "        smoothing_function = SmoothingFunction().method1\n",
        "        bleu_score = sentence_bleu(\n",
        "            [reference_tokens],\n",
        "            candidate_tokens,\n",
        "            smoothing_function=smoothing_function\n",
        "        )\n",
        "\n",
        "        # Compute ROUGE-L Score\n",
        "        rouge_scores = rouge.score(reference_normalized, candidate_normalized)\n",
        "        rouge_l_score = rouge_scores['rougeL'].fmeasure\n",
        "\n",
        "        # Compute Exact Match\n",
        "        exact_match = int(reference_normalized == candidate_normalized)\n",
        "\n",
        "        # Compute F1 Score\n",
        "        def f1_score(ref_tokens, cand_tokens):\n",
        "            common = set(ref_tokens) & set(cand_tokens)\n",
        "            num_same = len(common)\n",
        "\n",
        "            if num_same == 0:\n",
        "                return 0.0\n",
        "\n",
        "            precision = num_same / len(cand_tokens)\n",
        "            recall = num_same / len(ref_tokens)\n",
        "            f1 = 2 * precision * recall / (precision + recall)\n",
        "            return f1\n",
        "\n",
        "        f1 = f1_score(reference_tokens, candidate_tokens)\n",
        "\n",
        "        output = {\n",
        "            'Title': item['title'],\n",
        "            'Question': item['question'],\n",
        "            'Correct Answer': correct_answer,\n",
        "            'Generated Answer': answer_text,\n",
        "            'BLEU Score': f\"{bleu_score:.4f}\",\n",
        "            'ROUGE-L Score': f\"{rouge_l_score:.4f}\",\n",
        "            'Exact Match': exact_match,\n",
        "            'F1 Score': f\"{f1:.4f}\"\n",
        "        }\n",
        "\n",
        "        writer.writerow(output)\n",
        "\n",
        "        print(\n",
        "            f\"Title: {output['Title']}\\n\"\n",
        "            f\"Question: {output['Question']}\\n\"\n",
        "            f\"Correct Answer: {output['Correct Answer']}\\n\"\n",
        "            f\"Generated Answer: {output['Generated Answer']}\\n\"\n",
        "            f\"BLEU Score: {output['BLEU Score']}\\n\"\n",
        "            f\"ROUGE-L Score: {output['ROUGE-L Score']}\\n\"\n",
        "            f\"Exact Match: {output['Exact Match']}\\n\"\n",
        "            f\"F1 Score: {output['F1 Score']}\\n\"\n",
        "            \"\\n---\\n\"\n",
        "        )"
      ],
      "metadata": {
        "colab": {
          "base_uri": "https://localhost:8080/"
        },
        "id": "lr0_BYjZrEwI",
        "outputId": "d825d373-255d-465c-d823-facf613426fc"
      },
      "execution_count": 11,
      "outputs": [
        {
          "output_type": "stream",
          "name": "stderr",
          "text": [
            "[nltk_data] Downloading package punkt to /root/nltk_data...\n",
            "[nltk_data]   Package punkt is already up-to-date!\n",
            "Setting `pad_token_id` to `eos_token_id`:3 for open-end generation.\n",
            "/usr/local/lib/python3.10/dist-packages/transformers/models/nemotron/modeling_nemotron.py:131: FutureWarning: `torch.cuda.amp.autocast(args...)` is deprecated. Please use `torch.amp.autocast('cuda', args...)` instead.\n",
            "  with torch.cuda.amp.autocast(enabled=False):\n",
            "Setting `pad_token_id` to `eos_token_id`:3 for open-end generation.\n"
          ]
        },
        {
          "output_type": "stream",
          "name": "stdout",
          "text": [
            "Title: Benedetto Varchi\n",
            "Question: What nationality was Benedetto Varchi?\n",
            "Correct Answer: Italian\n",
            "Generated Answer: Italian\n",
            "BLEU Score: 0.1778\n",
            "ROUGE-L Score: 1.0000\n",
            "Exact Match: 1\n",
            "F1 Score: 1.0000\n",
            "\n",
            "---\n",
            "\n"
          ]
        },
        {
          "output_type": "stream",
          "name": "stderr",
          "text": [
            "Setting `pad_token_id` to `eos_token_id`:3 for open-end generation.\n"
          ]
        },
        {
          "output_type": "stream",
          "name": "stdout",
          "text": [
            "Title: Benedetto Varchi\n",
            "Question: What professions did Benedetto Varchi have?\n",
            "Correct Answer: Humanist, historian, poet\n",
            "Generated Answer: lawyer and historian\n",
            "BLEU Score: 0.1136\n",
            "ROUGE-L Score: 0.3333\n",
            "Exact Match: 0\n",
            "F1 Score: 0.3333\n",
            "\n",
            "---\n",
            "\n"
          ]
        },
        {
          "output_type": "stream",
          "name": "stderr",
          "text": [
            "Setting `pad_token_id` to `eos_token_id`:3 for open-end generation.\n"
          ]
        },
        {
          "output_type": "stream",
          "name": "stdout",
          "text": [
            "Title: Benedetto Varchi\n",
            "Question: Where was Benedetto Varchi born?\n",
            "Correct Answer: Florence\n",
            "Generated Answer: Florence\n",
            "BLEU Score: 0.1778\n",
            "ROUGE-L Score: 1.0000\n",
            "Exact Match: 1\n",
            "F1 Score: 1.0000\n",
            "\n",
            "---\n",
            "\n"
          ]
        },
        {
          "output_type": "stream",
          "name": "stderr",
          "text": [
            "Setting `pad_token_id` to `eos_token_id`:3 for open-end generation.\n"
          ]
        },
        {
          "output_type": "stream",
          "name": "stdout",
          "text": [
            "Title: Benedetto Varchi\n",
            "Question: Who commissioned Benedetto Varchi to write a history of Florence?\n",
            "Correct Answer: Cosimo I\n",
            "Generated Answer: Cosimo I de' Medici\n",
            "BLEU Score: 0.1699\n",
            "ROUGE-L Score: 0.6667\n",
            "Exact Match: 0\n",
            "F1 Score: 0.6667\n",
            "\n",
            "---\n",
            "\n"
          ]
        },
        {
          "output_type": "stream",
          "name": "stderr",
          "text": [
            "Setting `pad_token_id` to `eos_token_id`:3 for open-end generation.\n"
          ]
        },
        {
          "output_type": "stream",
          "name": "stdout",
          "text": [
            "Title: Benedetto Varchi\n",
            "Question: When was Varchi's Storia fiorentina first published in Florence?\n",
            "Correct Answer: 1721\n",
            "Generated Answer: 1475\n",
            "BLEU Score: 0.0000\n",
            "ROUGE-L Score: 0.0000\n",
            "Exact Match: 0\n",
            "F1 Score: 0.0000\n",
            "\n",
            "---\n",
            "\n"
          ]
        },
        {
          "output_type": "stream",
          "name": "stderr",
          "text": [
            "Setting `pad_token_id` to `eos_token_id`:3 for open-end generation.\n"
          ]
        },
        {
          "output_type": "stream",
          "name": "stdout",
          "text": [
            "Title: Benedetto Varchi\n",
            "Question: Which work of Ezra Pound mentions Benedetto Varchi?\n",
            "Correct Answer: The Cantos\n",
            "Generated Answer: The Pisan Cantos\n",
            "BLEU Score: 0.1351\n",
            "ROUGE-L Score: 0.8000\n",
            "Exact Match: 0\n",
            "F1 Score: 0.8000\n",
            "\n",
            "---\n",
            "\n"
          ]
        },
        {
          "output_type": "stream",
          "name": "stderr",
          "text": [
            "Setting `pad_token_id` to `eos_token_id`:3 for open-end generation.\n"
          ]
        },
        {
          "output_type": "stream",
          "name": "stdout",
          "text": [
            "Title: Benedetto Varchi\n",
            "Question: What was the main topic of Benedetto Varchi's Storia fiorentina?\n",
            "Correct Answer: The history of Florence from 1527 to 1538\n",
            "Generated Answer: Florence\n",
            "BLEU Score: 0.0002\n",
            "ROUGE-L Score: 0.2222\n",
            "Exact Match: 0\n",
            "F1 Score: 0.2222\n",
            "\n",
            "---\n",
            "\n"
          ]
        },
        {
          "output_type": "stream",
          "name": "stderr",
          "text": [
            "Setting `pad_token_id` to `eos_token_id`:3 for open-end generation.\n"
          ]
        },
        {
          "output_type": "stream",
          "name": "stdout",
          "text": [
            "Title: Wilhelm Wattenbach\n",
            "Question: What nationality was Wilhelm Wattenbach?\n",
            "Correct Answer: German\n",
            "Generated Answer: German\n",
            "BLEU Score: 0.1778\n",
            "ROUGE-L Score: 1.0000\n",
            "Exact Match: 1\n",
            "F1 Score: 1.0000\n",
            "\n",
            "---\n",
            "\n"
          ]
        },
        {
          "output_type": "stream",
          "name": "stderr",
          "text": [
            "Setting `pad_token_id` to `eos_token_id`:3 for open-end generation.\n"
          ]
        },
        {
          "output_type": "stream",
          "name": "stdout",
          "text": [
            "Title: Wilhelm Wattenbach\n",
            "Question: In which field did Wilhelm Wattenbach specialize?\n",
            "Correct Answer: History\n",
            "Generated Answer: Chemistry\n",
            "BLEU Score: 0.0000\n",
            "ROUGE-L Score: 0.0000\n",
            "Exact Match: 0\n",
            "F1 Score: 0.0000\n",
            "\n",
            "---\n",
            "\n"
          ]
        },
        {
          "output_type": "stream",
          "name": "stderr",
          "text": [
            "Setting `pad_token_id` to `eos_token_id`:3 for open-end generation.\n"
          ]
        },
        {
          "output_type": "stream",
          "name": "stdout",
          "text": [
            "Title: Wilhelm Wattenbach\n",
            "Question: What position did Wilhelm Wattenbach hold at Berlin?\n",
            "Correct Answer: Professor of history\n",
            "Generated Answer: Minister\n",
            "BLEU Score: 0.0000\n",
            "ROUGE-L Score: 0.0000\n",
            "Exact Match: 0\n",
            "F1 Score: 0.0000\n",
            "\n",
            "---\n",
            "\n"
          ]
        },
        {
          "output_type": "stream",
          "name": "stderr",
          "text": [
            "Setting `pad_token_id` to `eos_token_id`:3 for open-end generation.\n"
          ]
        },
        {
          "output_type": "stream",
          "name": "stdout",
          "text": [
            "Title: Elsa Triolet\n",
            "Question: In which country did Elsa Triolet settle after emigrating from Russia?\n",
            "Correct Answer: France\n",
            "Generated Answer: France\n",
            "BLEU Score: 0.1778\n",
            "ROUGE-L Score: 1.0000\n",
            "Exact Match: 1\n",
            "F1 Score: 1.0000\n",
            "\n",
            "---\n",
            "\n"
          ]
        },
        {
          "output_type": "stream",
          "name": "stderr",
          "text": [
            "Setting `pad_token_id` to `eos_token_id`:3 for open-end generation.\n"
          ]
        },
        {
          "output_type": "stream",
          "name": "stdout",
          "text": [
            "Title: Elsa Triolet\n",
            "Question: Who did Elsa Triolet meet in 1928 that she would later marry?\n",
            "Correct Answer: Louis Aragon\n",
            "Generated Answer: Rudolf Valentino\n",
            "BLEU Score: 0.0000\n",
            "ROUGE-L Score: 0.0000\n",
            "Exact Match: 0\n",
            "F1 Score: 0.0000\n",
            "\n",
            "---\n",
            "\n"
          ]
        },
        {
          "output_type": "stream",
          "name": "stderr",
          "text": [
            "Setting `pad_token_id` to `eos_token_id`:3 for open-end generation.\n"
          ]
        },
        {
          "output_type": "stream",
          "name": "stdout",
          "text": [
            "Title: Elsa Triolet\n",
            "Question: In which movement did Elsa Triolet participate during World War II?\n",
            "Correct Answer: French Resistance\n",
            "Generated Answer: Resistance\n",
            "BLEU Score: 0.0654\n",
            "ROUGE-L Score: 0.6667\n",
            "Exact Match: 0\n",
            "F1 Score: 0.6667\n",
            "\n",
            "---\n",
            "\n"
          ]
        },
        {
          "output_type": "stream",
          "name": "stderr",
          "text": [
            "Setting `pad_token_id` to `eos_token_id`:3 for open-end generation.\n"
          ]
        },
        {
          "output_type": "stream",
          "name": "stdout",
          "text": [
            "Title: Elsa Triolet\n",
            "Question: Which poet's work did Elsa Triolet first translate into French?\n",
            "Correct Answer: Vladimir Mayakovsky\n",
            "Generated Answer: Edgar Allan Poe\n",
            "BLEU Score: 0.0000\n",
            "ROUGE-L Score: 0.0000\n",
            "Exact Match: 0\n",
            "F1 Score: 0.0000\n",
            "\n",
            "---\n",
            "\n"
          ]
        },
        {
          "output_type": "stream",
          "name": "stderr",
          "text": [
            "Setting `pad_token_id` to `eos_token_id`:3 for open-end generation.\n"
          ]
        },
        {
          "output_type": "stream",
          "name": "stdout",
          "text": [
            "Title: Elsa Triolet\n",
            "Question: What nationality did Elsa Triolet adopt after moving from Russia?\n",
            "Correct Answer: French\n",
            "Generated Answer: French\n",
            "BLEU Score: 0.1778\n",
            "ROUGE-L Score: 1.0000\n",
            "Exact Match: 1\n",
            "F1 Score: 1.0000\n",
            "\n",
            "---\n",
            "\n"
          ]
        },
        {
          "output_type": "stream",
          "name": "stderr",
          "text": [
            "Setting `pad_token_id` to `eos_token_id`:3 for open-end generation.\n"
          ]
        },
        {
          "output_type": "stream",
          "name": "stdout",
          "text": [
            "Title: Theopompus\n",
            "Question: Where was Theopompus born?\n",
            "Correct Answer: Chios\n",
            "Generated Answer: Athens\n",
            "BLEU Score: 0.0000\n",
            "ROUGE-L Score: 0.0000\n",
            "Exact Match: 0\n",
            "F1 Score: 0.0000\n",
            "\n",
            "---\n",
            "\n"
          ]
        },
        {
          "output_type": "stream",
          "name": "stderr",
          "text": [
            "Setting `pad_token_id` to `eos_token_id`:3 for open-end generation.\n"
          ]
        },
        {
          "output_type": "stream",
          "name": "stdout",
          "text": [
            "Title: Theopompus\n",
            "Question: What significant career path did Isocrates advise Theopompus to pursue?\n",
            "Correct Answer: Historian\n",
            "Generated Answer: political life\n",
            "BLEU Score: 0.0000\n",
            "ROUGE-L Score: 0.0000\n",
            "Exact Match: 0\n",
            "F1 Score: 0.0000\n",
            "\n",
            "---\n",
            "\n"
          ]
        },
        {
          "output_type": "stream",
          "name": "stderr",
          "text": [
            "Setting `pad_token_id` to `eos_token_id`:3 for open-end generation.\n"
          ]
        },
        {
          "output_type": "stream",
          "name": "stdout",
          "text": [
            "Title: Theopompus\n",
            "Question: Where did Theopompus take refuge after Alexander's death?\n",
            "Correct Answer: Egypt, with Ptolemy\n",
            "Generated Answer: Athens\n",
            "BLEU Score: 0.0000\n",
            "ROUGE-L Score: 0.0000\n",
            "Exact Match: 0\n",
            "F1 Score: 0.0000\n",
            "\n",
            "---\n",
            "\n"
          ]
        },
        {
          "output_type": "stream",
          "name": "stderr",
          "text": [
            "Setting `pad_token_id` to `eos_token_id`:3 for open-end generation.\n"
          ]
        },
        {
          "output_type": "stream",
          "name": "stdout",
          "text": [
            "Title: Theopompus\n",
            "Question: Who severely censured Philip for his behavior in Theopompus's writings?\n",
            "Correct Answer: Theopompus\n",
            "Generated Answer: Aristotle\n",
            "BLEU Score: 0.0000\n",
            "ROUGE-L Score: 0.0000\n",
            "Exact Match: 0\n",
            "F1 Score: 0.0000\n",
            "\n",
            "---\n",
            "\n"
          ]
        },
        {
          "output_type": "stream",
          "name": "stderr",
          "text": [
            "Setting `pad_token_id` to `eos_token_id`:3 for open-end generation.\n"
          ]
        },
        {
          "output_type": "stream",
          "name": "stdout",
          "text": [
            "Title: Heinrich Ritter\n",
            "Question: Which major thinker influenced Heinrich August Ritter's thinking?\n",
            "Correct Answer: Friedrich Schleiermacher\n",
            "Generated Answer: Immanuel Kant\n",
            "BLEU Score: 0.0000\n",
            "ROUGE-L Score: 0.0000\n",
            "Exact Match: 0\n",
            "F1 Score: 0.0000\n",
            "\n",
            "---\n",
            "\n"
          ]
        },
        {
          "output_type": "stream",
          "name": "stderr",
          "text": [
            "Setting `pad_token_id` to `eos_token_id`:3 for open-end generation.\n"
          ]
        },
        {
          "output_type": "stream",
          "name": "stdout",
          "text": [
            "Title: Heinrich Ritter\n",
            "Question: What was the focus of Heinrich August Ritter's work 'Abriss der philosophischen Logik' published in 1824?\n",
            "Correct Answer: Philosophical logic\n",
            "Generated Answer: logic\n",
            "BLEU Score: 0.0654\n",
            "ROUGE-L Score: 0.6667\n",
            "Exact Match: 0\n",
            "F1 Score: 0.6667\n",
            "\n",
            "---\n",
            "\n"
          ]
        },
        {
          "output_type": "stream",
          "name": "stderr",
          "text": [
            "Setting `pad_token_id` to `eos_token_id`:3 for open-end generation.\n"
          ]
        },
        {
          "output_type": "stream",
          "name": "stdout",
          "text": [
            "Title: Heinrich Ritter\n",
            "Question: What was the subject of 'Die christliche Philosophie bis auf die neuesten Zeiten' by Heinrich August Ritter?\n",
            "Correct Answer: Christian philosophy\n",
            "Generated Answer: Christian philosophy\n",
            "BLEU Score: 0.3162\n",
            "ROUGE-L Score: 1.0000\n",
            "Exact Match: 1\n",
            "F1 Score: 1.0000\n",
            "\n",
            "---\n",
            "\n"
          ]
        },
        {
          "output_type": "stream",
          "name": "stderr",
          "text": [
            "Setting `pad_token_id` to `eos_token_id`:3 for open-end generation.\n"
          ]
        },
        {
          "output_type": "stream",
          "name": "stdout",
          "text": [
            "Title: Heinrich Ritter\n",
            "Question: What does 'Ueber das Böse und seine Folgen' by Heinrich August Ritter discuss?\n",
            "Correct Answer: Evil and its consequences\n",
            "Generated Answer: The nature of evil and its consequences\n",
            "BLEU Score: 0.4111\n",
            "ROUGE-L Score: 0.7273\n",
            "Exact Match: 0\n",
            "F1 Score: 0.7273\n",
            "\n",
            "---\n",
            "\n"
          ]
        },
        {
          "output_type": "stream",
          "name": "stderr",
          "text": [
            "Setting `pad_token_id` to `eos_token_id`:3 for open-end generation.\n"
          ]
        },
        {
          "output_type": "stream",
          "name": "stdout",
          "text": [
            "Title: Adrienne Monnier\n",
            "Question: What professions did Adrienne Monnier pursue?\n",
            "Correct Answer: Bookseller, writer, publisher\n",
            "Generated Answer: poet and feminist\n",
            "BLEU Score: 0.0000\n",
            "ROUGE-L Score: 0.0000\n",
            "Exact Match: 0\n",
            "F1 Score: 0.0000\n",
            "\n",
            "---\n",
            "\n"
          ]
        },
        {
          "output_type": "stream",
          "name": "stderr",
          "text": [
            "Setting `pad_token_id` to `eos_token_id`:3 for open-end generation.\n"
          ]
        },
        {
          "output_type": "stream",
          "name": "stdout",
          "text": [
            "Title: Adrienne Monnier\n",
            "Question: What era is Adrienne Monnier known to have been an influential figure in?\n",
            "Correct Answer: 1920s and 1930s\n",
            "Generated Answer: Art Nouveau\n",
            "BLEU Score: 0.0000\n",
            "ROUGE-L Score: 0.0000\n",
            "Exact Match: 0\n",
            "F1 Score: 0.0000\n",
            "\n",
            "---\n",
            "\n"
          ]
        },
        {
          "output_type": "stream",
          "name": "stderr",
          "text": [
            "Setting `pad_token_id` to `eos_token_id`:3 for open-end generation.\n"
          ]
        },
        {
          "output_type": "stream",
          "name": "stdout",
          "text": [
            "Title: Adrienne Monnier\n",
            "Question: Where was Adrienne Monnier born?\n",
            "Correct Answer: Paris\n",
            "Generated Answer: Paris\n",
            "BLEU Score: 0.1778\n",
            "ROUGE-L Score: 1.0000\n",
            "Exact Match: 1\n",
            "F1 Score: 1.0000\n",
            "\n",
            "---\n",
            "\n"
          ]
        },
        {
          "output_type": "stream",
          "name": "stderr",
          "text": [
            "Setting `pad_token_id` to `eos_token_id`:3 for open-end generation.\n"
          ]
        },
        {
          "output_type": "stream",
          "name": "stdout",
          "text": [
            "Title: Adrienne Monnier\n",
            "Question: What notable English language bookstore was inspired by Adrienne Monnier?\n",
            "Correct Answer: Shakespeare and Company\n",
            "Generated Answer: Shakespeare & Company\n",
            "BLEU Score: 0.1079\n",
            "ROUGE-L Score: 0.8000\n",
            "Exact Match: 0\n",
            "F1 Score: 0.8000\n",
            "\n",
            "---\n",
            "\n"
          ]
        },
        {
          "output_type": "stream",
          "name": "stderr",
          "text": [
            "Setting `pad_token_id` to `eos_token_id`:3 for open-end generation.\n"
          ]
        },
        {
          "output_type": "stream",
          "name": "stdout",
          "text": [
            "Title: Ann Brashares\n",
            "Question: What is Ann Brashares known for?\n",
            "Correct Answer: The Sisterhood of the Traveling Pants series.\n",
            "Generated Answer: author\n",
            "BLEU Score: 0.0000\n",
            "ROUGE-L Score: 0.0000\n",
            "Exact Match: 0\n",
            "F1 Score: 0.0000\n",
            "\n",
            "---\n",
            "\n"
          ]
        },
        {
          "output_type": "stream",
          "name": "stderr",
          "text": [
            "Setting `pad_token_id` to `eos_token_id`:3 for open-end generation.\n"
          ]
        },
        {
          "output_type": "stream",
          "name": "stdout",
          "text": [
            "Title: Ann Brashares\n",
            "Question: What genre does Ann Brashares primarily write in?\n",
            "Correct Answer: Young adult\n",
            "Generated Answer: Young adult\n",
            "BLEU Score: 0.3162\n",
            "ROUGE-L Score: 1.0000\n",
            "Exact Match: 1\n",
            "F1 Score: 1.0000\n",
            "\n",
            "---\n",
            "\n"
          ]
        },
        {
          "output_type": "stream",
          "name": "stderr",
          "text": [
            "Setting `pad_token_id` to `eos_token_id`:3 for open-end generation.\n"
          ]
        },
        {
          "output_type": "stream",
          "name": "stdout",
          "text": [
            "Title: Ann Brashares\n",
            "Question: Where does Ann Brashares reside?\n",
            "Correct Answer: New York City\n",
            "Generated Answer: New York\n",
            "BLEU Score: 0.1918\n",
            "ROUGE-L Score: 0.8000\n",
            "Exact Match: 0\n",
            "F1 Score: 0.8000\n",
            "\n",
            "---\n",
            "\n"
          ]
        },
        {
          "output_type": "stream",
          "name": "stderr",
          "text": [
            "Setting `pad_token_id` to `eos_token_id`:3 for open-end generation.\n"
          ]
        },
        {
          "output_type": "stream",
          "name": "stdout",
          "text": [
            "Title: Hartmann von Aue\n",
            "Question: What was Hartmann von Aue's nationality?\n",
            "Correct Answer: German\n",
            "Generated Answer: German\n",
            "BLEU Score: 0.1778\n",
            "ROUGE-L Score: 1.0000\n",
            "Exact Match: 1\n",
            "F1 Score: 1.0000\n",
            "\n",
            "---\n",
            "\n"
          ]
        },
        {
          "output_type": "stream",
          "name": "stderr",
          "text": [
            "Setting `pad_token_id` to `eos_token_id`:3 for open-end generation.\n"
          ]
        },
        {
          "output_type": "stream",
          "name": "stdout",
          "text": [
            "Title: Hartmann von Aue\n",
            "Question: Name one of Hartmann von Aue's works.\n",
            "Correct Answer: Erec\n",
            "Generated Answer: Erec and Enide\n",
            "BLEU Score: 0.1136\n",
            "ROUGE-L Score: 0.5000\n",
            "Exact Match: 0\n",
            "F1 Score: 0.5000\n",
            "\n",
            "---\n",
            "\n"
          ]
        },
        {
          "output_type": "stream",
          "name": "stderr",
          "text": [
            "Setting `pad_token_id` to `eos_token_id`:3 for open-end generation.\n"
          ]
        },
        {
          "output_type": "stream",
          "name": "stdout",
          "text": [
            "Title: Hartmann von Aue\n",
            "Question: In which crusade did Hartmann von Aue participate?\n",
            "Correct Answer: The Crusade of 1197\n",
            "Generated Answer: Third Crusade\n",
            "BLEU Score: 0.0550\n",
            "ROUGE-L Score: 0.3333\n",
            "Exact Match: 0\n",
            "F1 Score: 0.3333\n",
            "\n",
            "---\n",
            "\n"
          ]
        },
        {
          "output_type": "stream",
          "name": "stderr",
          "text": [
            "Setting `pad_token_id` to `eos_token_id`:3 for open-end generation.\n"
          ]
        },
        {
          "output_type": "stream",
          "name": "stdout",
          "text": [
            "Title: Hartmann von Aue\n",
            "Question: What was Hartmann von Aue's profession aside from being a poet?\n",
            "Correct Answer: Knight\n",
            "Generated Answer: knight\n",
            "BLEU Score: 0.1778\n",
            "ROUGE-L Score: 1.0000\n",
            "Exact Match: 1\n",
            "F1 Score: 1.0000\n",
            "\n",
            "---\n",
            "\n"
          ]
        },
        {
          "output_type": "stream",
          "name": "stderr",
          "text": [
            "Setting `pad_token_id` to `eos_token_id`:3 for open-end generation.\n"
          ]
        },
        {
          "output_type": "stream",
          "name": "stdout",
          "text": [
            "Title: Hartmann von Aue\n",
            "Question: What was the societal rank of Hartmann von Aue?\n",
            "Correct Answer: Lower nobility\n",
            "Generated Answer: nobleman\n",
            "BLEU Score: 0.0000\n",
            "ROUGE-L Score: 0.0000\n",
            "Exact Match: 0\n",
            "F1 Score: 0.0000\n",
            "\n",
            "---\n",
            "\n"
          ]
        },
        {
          "output_type": "stream",
          "name": "stderr",
          "text": [
            "Setting `pad_token_id` to `eos_token_id`:3 for open-end generation.\n"
          ]
        },
        {
          "output_type": "stream",
          "name": "stdout",
          "text": [
            "Title: Jorge Semprún\n",
            "Question: When was Jorge Semprún Maura born?\n",
            "Correct Answer: 10 December 1923\n",
            "Generated Answer: 1906\n",
            "BLEU Score: 0.0000\n",
            "ROUGE-L Score: 0.0000\n",
            "Exact Match: 0\n",
            "F1 Score: 0.0000\n",
            "\n",
            "---\n",
            "\n"
          ]
        },
        {
          "output_type": "stream",
          "name": "stderr",
          "text": [
            "Setting `pad_token_id` to `eos_token_id`:3 for open-end generation.\n"
          ]
        },
        {
          "output_type": "stream",
          "name": "stdout",
          "text": [
            "Title: Jorge Semprún\n",
            "Question: In what country was Jorge Semprún Maura born?\n",
            "Correct Answer: Spain\n",
            "Generated Answer: Spain\n",
            "BLEU Score: 0.1778\n",
            "ROUGE-L Score: 1.0000\n",
            "Exact Match: 1\n",
            "F1 Score: 1.0000\n",
            "\n",
            "---\n",
            "\n"
          ]
        },
        {
          "output_type": "stream",
          "name": "stderr",
          "text": [
            "Setting `pad_token_id` to `eos_token_id`:3 for open-end generation.\n"
          ]
        },
        {
          "output_type": "stream",
          "name": "stdout",
          "text": [
            "Title: Jorge Semprún\n",
            "Question: What role did Jorge Semprún Maura hold in Spain's government after the dictatorship of Francisco Franco?\n",
            "Correct Answer: Minister of Culture\n",
            "Generated Answer: Minister\n",
            "BLEU Score: 0.0241\n",
            "ROUGE-L Score: 0.5000\n",
            "Exact Match: 0\n",
            "F1 Score: 0.5000\n",
            "\n",
            "---\n",
            "\n"
          ]
        },
        {
          "output_type": "stream",
          "name": "stderr",
          "text": [
            "Setting `pad_token_id` to `eos_token_id`:3 for open-end generation.\n"
          ]
        },
        {
          "output_type": "stream",
          "name": "stdout",
          "text": [
            "Title: Jorge Semprún\n",
            "Question: What is the name of the concentration camp where Jorge Semprún was deported during World War II?\n",
            "Correct Answer: Buchenwald\n",
            "Generated Answer: Auschwitz\n",
            "BLEU Score: 0.0000\n",
            "ROUGE-L Score: 0.0000\n",
            "Exact Match: 0\n",
            "F1 Score: 0.0000\n",
            "\n",
            "---\n",
            "\n"
          ]
        },
        {
          "output_type": "stream",
          "name": "stderr",
          "text": [
            "Setting `pad_token_id` to `eos_token_id`:3 for open-end generation.\n"
          ]
        },
        {
          "output_type": "stream",
          "name": "stdout",
          "text": [
            "Title: Jorge Semprún\n",
            "Question: Where did Jorge Semprún live most of his life?\n",
            "Correct Answer: France\n",
            "Generated Answer: Mexico\n",
            "BLEU Score: 0.0000\n",
            "ROUGE-L Score: 0.0000\n",
            "Exact Match: 0\n",
            "F1 Score: 0.0000\n",
            "\n",
            "---\n",
            "\n"
          ]
        },
        {
          "output_type": "stream",
          "name": "stderr",
          "text": [
            "Setting `pad_token_id` to `eos_token_id`:3 for open-end generation.\n"
          ]
        },
        {
          "output_type": "stream",
          "name": "stdout",
          "text": [
            "Title: Jorge Semprún\n",
            "Question: In what language did Jorge Semprún primarily write?\n",
            "Correct Answer: French\n",
            "Generated Answer: Spanish\n",
            "BLEU Score: 0.0000\n",
            "ROUGE-L Score: 0.0000\n",
            "Exact Match: 0\n",
            "F1 Score: 0.0000\n",
            "\n",
            "---\n",
            "\n"
          ]
        },
        {
          "output_type": "stream",
          "name": "stderr",
          "text": [
            "Setting `pad_token_id` to `eos_token_id`:3 for open-end generation.\n"
          ]
        },
        {
          "output_type": "stream",
          "name": "stdout",
          "text": [
            "Title: Giovanni Battista Casti\n",
            "Question: What nationality was Giovanni Battista Casti?\n",
            "Correct Answer: Italian\n",
            "Generated Answer: Italian\n",
            "BLEU Score: 0.1778\n",
            "ROUGE-L Score: 1.0000\n",
            "Exact Match: 1\n",
            "F1 Score: 1.0000\n",
            "\n",
            "---\n",
            "\n"
          ]
        },
        {
          "output_type": "stream",
          "name": "stderr",
          "text": [
            "Setting `pad_token_id` to `eos_token_id`:3 for open-end generation.\n"
          ]
        },
        {
          "output_type": "stream",
          "name": "stdout",
          "text": [
            "Title: Giovanni Battista Casti\n",
            "Question: What type of studies did Giovanni Battista Casti pursue before entering priesthood?\n",
            "Correct Answer: He studied at the seminary of Montefiascone\n",
            "Generated Answer: scientific\n",
            "BLEU Score: 0.0000\n",
            "ROUGE-L Score: 0.0000\n",
            "Exact Match: 0\n",
            "F1 Score: 0.0000\n",
            "\n",
            "---\n",
            "\n"
          ]
        },
        {
          "output_type": "stream",
          "name": "stderr",
          "text": [
            "Setting `pad_token_id` to `eos_token_id`:3 for open-end generation.\n"
          ]
        },
        {
          "output_type": "stream",
          "name": "stdout",
          "text": [
            "Title: Giovanni Battista Casti\n",
            "Question: What position did Giovanni Battista Casti hold in his native place?\n",
            "Correct Answer: He became a canon in the cathedral of his native place\n",
            "Generated Answer: Archbishop\n",
            "BLEU Score: 0.0000\n",
            "ROUGE-L Score: 0.0000\n",
            "Exact Match: 0\n",
            "F1 Score: 0.0000\n",
            "\n",
            "---\n",
            "\n"
          ]
        },
        {
          "output_type": "stream",
          "name": "stderr",
          "text": [
            "Setting `pad_token_id` to `eos_token_id`:3 for open-end generation.\n"
          ]
        },
        {
          "output_type": "stream",
          "name": "stdout",
          "text": [
            "Title: Giovanni Battista Casti\n",
            "Question: Name an opera libretto written by Giovanni Battista Casti with music by Antonio Salieri in 1785.\n",
            "Correct Answer: La grotta di Trofonio\n",
            "Generated Answer: \"Alceste\"\n",
            "BLEU Score: 0.0000\n",
            "ROUGE-L Score: 0.0000\n",
            "Exact Match: 0\n",
            "F1 Score: 0.0000\n",
            "\n",
            "---\n",
            "\n"
          ]
        },
        {
          "output_type": "stream",
          "name": "stderr",
          "text": [
            "Setting `pad_token_id` to `eos_token_id`:3 for open-end generation.\n"
          ]
        },
        {
          "output_type": "stream",
          "name": "stdout",
          "text": [
            "Title: Najaf Daryabandari\n",
            "Question: Which languages did Najaf Daryabandari translate works from and into?\n",
            "Correct Answer: From English into Persian\n",
            "Generated Answer: Dari\n",
            "BLEU Score: 0.0000\n",
            "ROUGE-L Score: 0.0000\n",
            "Exact Match: 0\n",
            "F1 Score: 0.0000\n",
            "\n",
            "---\n",
            "\n"
          ]
        },
        {
          "output_type": "stream",
          "name": "stderr",
          "text": [
            "Setting `pad_token_id` to `eos_token_id`:3 for open-end generation.\n"
          ]
        },
        {
          "output_type": "stream",
          "name": "stdout",
          "text": [
            "Title: Najaf Daryabandari\n",
            "Question: Which Hemingway books did Najaf Daryabandari translate?\n",
            "Correct Answer: A Farewell to Arms and The Old Man and the Sea\n",
            "Generated Answer: The Old Man and the Sea\n",
            "BLEU Score: 0.4346\n",
            "ROUGE-L Score: 0.7059\n",
            "Exact Match: 0\n",
            "F1 Score: 0.5882\n",
            "\n",
            "---\n",
            "\n"
          ]
        },
        {
          "output_type": "stream",
          "name": "stderr",
          "text": [
            "Setting `pad_token_id` to `eos_token_id`:3 for open-end generation.\n"
          ]
        },
        {
          "output_type": "stream",
          "name": "stdout",
          "text": [
            "Title: Najaf Daryabandari\n",
            "Question: What play by Samuel Beckett did Najaf Daryabandari translate?\n",
            "Correct Answer: Waiting for Godot\n",
            "Generated Answer: Waiting for Godot\n",
            "BLEU Score: 0.5623\n",
            "ROUGE-L Score: 1.0000\n",
            "Exact Match: 1\n",
            "F1 Score: 1.0000\n",
            "\n",
            "---\n",
            "\n"
          ]
        },
        {
          "output_type": "stream",
          "name": "stderr",
          "text": [
            "Setting `pad_token_id` to `eos_token_id`:3 for open-end generation.\n"
          ]
        },
        {
          "output_type": "stream",
          "name": "stdout",
          "text": [
            "Title: Najaf Daryabandari\n",
            "Question: Which Sophocles' play did Najaf Daryabandari translate?\n",
            "Correct Answer: Antigone\n",
            "Generated Answer: Antigone\n",
            "BLEU Score: 0.1778\n",
            "ROUGE-L Score: 1.0000\n",
            "Exact Match: 1\n",
            "F1 Score: 1.0000\n",
            "\n",
            "---\n",
            "\n"
          ]
        },
        {
          "output_type": "stream",
          "name": "stderr",
          "text": [
            "Setting `pad_token_id` to `eos_token_id`:3 for open-end generation.\n"
          ]
        },
        {
          "output_type": "stream",
          "name": "stdout",
          "text": [
            "Title: Heinz Erhardt\n",
            "Question: What was Heinz Erhardt's nationality?\n",
            "Correct Answer: German\n",
            "Generated Answer: German\n",
            "BLEU Score: 0.1778\n",
            "ROUGE-L Score: 1.0000\n",
            "Exact Match: 1\n",
            "F1 Score: 1.0000\n",
            "\n",
            "---\n",
            "\n"
          ]
        },
        {
          "output_type": "stream",
          "name": "stderr",
          "text": [
            "Setting `pad_token_id` to `eos_token_id`:3 for open-end generation.\n"
          ]
        },
        {
          "output_type": "stream",
          "name": "stdout",
          "text": [
            "Title: Heinz Erhardt\n",
            "Question: How many children did Heinz Erhardt have?\n",
            "Correct Answer: Four\n",
            "Generated Answer: 3\n",
            "BLEU Score: 0.0000\n",
            "ROUGE-L Score: 0.0000\n",
            "Exact Match: 0\n",
            "F1 Score: 0.0000\n",
            "\n",
            "---\n",
            "\n"
          ]
        },
        {
          "output_type": "stream",
          "name": "stderr",
          "text": [
            "Setting `pad_token_id` to `eos_token_id`:3 for open-end generation.\n"
          ]
        },
        {
          "output_type": "stream",
          "name": "stdout",
          "text": [
            "Title: Heinz Erhardt\n",
            "Question: What was the profession of Heinz Erhardt's grandson Marek Erhardt?\n",
            "Correct Answer: Actor\n",
            "Generated Answer: actor\n",
            "BLEU Score: 0.1778\n",
            "ROUGE-L Score: 1.0000\n",
            "Exact Match: 1\n",
            "F1 Score: 1.0000\n",
            "\n",
            "---\n",
            "\n"
          ]
        },
        {
          "output_type": "stream",
          "name": "stderr",
          "text": [
            "Setting `pad_token_id` to `eos_token_id`:3 for open-end generation.\n"
          ]
        },
        {
          "output_type": "stream",
          "name": "stdout",
          "text": [
            "Title: Heinz Erhardt\n",
            "Question: During which war did Heinz Erhardt serve in the German navy?\n",
            "Correct Answer: World War II\n",
            "Generated Answer: World War I\n",
            "BLEU Score: 0.2403\n",
            "ROUGE-L Score: 0.6667\n",
            "Exact Match: 0\n",
            "F1 Score: 0.6667\n",
            "\n",
            "---\n",
            "\n"
          ]
        },
        {
          "output_type": "stream",
          "name": "stderr",
          "text": [
            "Setting `pad_token_id` to `eos_token_id`:3 for open-end generation.\n"
          ]
        },
        {
          "output_type": "stream",
          "name": "stdout",
          "text": [
            "Title: Heinz Erhardt\n",
            "Question: Where did Heinz Erhardt move to in 1938?\n",
            "Correct Answer: Berlin\n",
            "Generated Answer: New York City\n",
            "BLEU Score: 0.0000\n",
            "ROUGE-L Score: 0.0000\n",
            "Exact Match: 0\n",
            "F1 Score: 0.0000\n",
            "\n",
            "---\n",
            "\n"
          ]
        },
        {
          "output_type": "stream",
          "name": "stderr",
          "text": [
            "Setting `pad_token_id` to `eos_token_id`:3 for open-end generation.\n"
          ]
        },
        {
          "output_type": "stream",
          "name": "stdout",
          "text": [
            "Title: Rudolf Christoph Eucken\n",
            "Question: Which university did Rudolf Christoph Eucken receive his PhD from?\n",
            "Correct Answer: Göttingen University\n",
            "Generated Answer: University of Berlin\n",
            "BLEU Score: 0.1136\n",
            "ROUGE-L Score: 0.3333\n",
            "Exact Match: 0\n",
            "F1 Score: 0.4000\n",
            "\n",
            "---\n",
            "\n"
          ]
        },
        {
          "output_type": "stream",
          "name": "stderr",
          "text": [
            "Setting `pad_token_id` to `eos_token_id`:3 for open-end generation.\n"
          ]
        },
        {
          "output_type": "stream",
          "name": "stdout",
          "text": [
            "Title: Rudolf Christoph Eucken\n",
            "Question: In what year did Rudolf Christoph Eucken win the Nobel Prize in Literature?\n",
            "Correct Answer: 1908\n",
            "Generated Answer: 1902\n",
            "BLEU Score: 0.0000\n",
            "ROUGE-L Score: 0.0000\n",
            "Exact Match: 0\n",
            "F1 Score: 0.0000\n",
            "\n",
            "---\n",
            "\n"
          ]
        },
        {
          "output_type": "stream",
          "name": "stderr",
          "text": [
            "Setting `pad_token_id` to `eos_token_id`:3 for open-end generation.\n"
          ]
        },
        {
          "output_type": "stream",
          "name": "stdout",
          "text": [
            "Title: Rudolf Christoph Eucken\n",
            "Question: What was the main reason Rudolf Christoph Eucken received the Nobel Prize?\n",
            "Correct Answer: For his idealistic philosophy of life\n",
            "Generated Answer: his idealistic philosophy\n",
            "BLEU Score: 0.2069\n",
            "ROUGE-L Score: 0.6667\n",
            "Exact Match: 0\n",
            "F1 Score: 0.6667\n",
            "\n",
            "---\n",
            "\n"
          ]
        },
        {
          "output_type": "stream",
          "name": "stderr",
          "text": [
            "Setting `pad_token_id` to `eos_token_id`:3 for open-end generation.\n"
          ]
        },
        {
          "output_type": "stream",
          "name": "stdout",
          "text": [
            "Title: Rudolf Christoph Eucken\n",
            "Question: What position did Rudolf Christoph Eucken hold at the University of Basel?\n",
            "Correct Answer: Professor of Philosophy\n",
            "Generated Answer: Professor\n",
            "BLEU Score: 0.0241\n",
            "ROUGE-L Score: 0.5000\n",
            "Exact Match: 0\n",
            "F1 Score: 0.5000\n",
            "\n",
            "---\n",
            "\n"
          ]
        },
        {
          "output_type": "stream",
          "name": "stderr",
          "text": [
            "Setting `pad_token_id` to `eos_token_id`:3 for open-end generation.\n"
          ]
        },
        {
          "output_type": "stream",
          "name": "stdout",
          "text": [
            "Title: Rudolf Christoph Eucken\n",
            "Question: How many children did Rudolf Christoph Eucken have?\n",
            "Correct Answer: Three\n",
            "Generated Answer: none\n",
            "BLEU Score: 0.0000\n",
            "ROUGE-L Score: 0.0000\n",
            "Exact Match: 0\n",
            "F1 Score: 0.0000\n",
            "\n",
            "---\n",
            "\n"
          ]
        },
        {
          "output_type": "stream",
          "name": "stderr",
          "text": [
            "Setting `pad_token_id` to `eos_token_id`:3 for open-end generation.\n"
          ]
        },
        {
          "output_type": "stream",
          "name": "stdout",
          "text": [
            "Title: Rudolf Christoph Eucken\n",
            "Question: Which city was Rudolf Christoph Eucken born in?\n",
            "Correct Answer: Aurich\n",
            "Generated Answer: Berlin\n",
            "BLEU Score: 0.0000\n",
            "ROUGE-L Score: 0.0000\n",
            "Exact Match: 0\n",
            "F1 Score: 0.0000\n",
            "\n",
            "---\n",
            "\n"
          ]
        },
        {
          "output_type": "stream",
          "name": "stderr",
          "text": [
            "Setting `pad_token_id` to `eos_token_id`:3 for open-end generation.\n"
          ]
        },
        {
          "output_type": "stream",
          "name": "stdout",
          "text": [
            "Title: Rudolf Christoph Eucken\n",
            "Question: What philosophy did Rudolf Christoph Eucken contribute to?\n",
            "Correct Answer: Ethical activism and idealism\n",
            "Generated Answer: Idealism\n",
            "BLEU Score: 0.0089\n",
            "ROUGE-L Score: 0.4000\n",
            "Exact Match: 0\n",
            "F1 Score: 0.4000\n",
            "\n",
            "---\n",
            "\n"
          ]
        },
        {
          "output_type": "stream",
          "name": "stderr",
          "text": [
            "Setting `pad_token_id` to `eos_token_id`:3 for open-end generation.\n"
          ]
        },
        {
          "output_type": "stream",
          "name": "stdout",
          "text": [
            "Title: Paul Gerhardt\n",
            "Question: What nationality was Paul Gerhardt?\n",
            "Correct Answer: German\n",
            "Generated Answer: German\n",
            "BLEU Score: 0.1778\n",
            "ROUGE-L Score: 1.0000\n",
            "Exact Match: 1\n",
            "F1 Score: 1.0000\n",
            "\n",
            "---\n",
            "\n"
          ]
        },
        {
          "output_type": "stream",
          "name": "stderr",
          "text": [
            "Setting `pad_token_id` to `eos_token_id`:3 for open-end generation.\n"
          ]
        },
        {
          "output_type": "stream",
          "name": "stdout",
          "text": [
            "Title: Paul Gerhardt\n",
            "Question: Who did Paul Gerhardt collaborate with on hymns in Berlin?\n",
            "Correct Answer: Johann Crüger\n",
            "Generated Answer: Johann Rist\n",
            "BLEU Score: 0.1495\n",
            "ROUGE-L Score: 0.4000\n",
            "Exact Match: 0\n",
            "F1 Score: 0.5000\n",
            "\n",
            "---\n",
            "\n"
          ]
        },
        {
          "output_type": "stream",
          "name": "stderr",
          "text": [
            "Setting `pad_token_id` to `eos_token_id`:3 for open-end generation.\n"
          ]
        },
        {
          "output_type": "stream",
          "name": "stdout",
          "text": [
            "Title: Paul Gerhardt\n",
            "Question: What was the fate of Paul Gerhardt's first child?\n",
            "Correct Answer: Died in infancy\n",
            "Generated Answer: died\n",
            "BLEU Score: 0.0241\n",
            "ROUGE-L Score: 0.5000\n",
            "Exact Match: 0\n",
            "F1 Score: 0.5000\n",
            "\n",
            "---\n",
            "\n"
          ]
        },
        {
          "output_type": "stream",
          "name": "stderr",
          "text": [
            "Setting `pad_token_id` to `eos_token_id`:3 for open-end generation.\n"
          ]
        },
        {
          "output_type": "stream",
          "name": "stdout",
          "text": [
            "Title: Paul Gerhardt\n",
            "Question: What is considered Paul Gerhardt's greatest contribution to German hymnody?\n",
            "Correct Answer: His hymns\n",
            "Generated Answer: \"Nun komm, der Heiden Heiland\"\n",
            "BLEU Score: 0.0000\n",
            "ROUGE-L Score: 0.0000\n",
            "Exact Match: 0\n",
            "F1 Score: 0.0000\n",
            "\n",
            "---\n",
            "\n"
          ]
        },
        {
          "output_type": "stream",
          "name": "stderr",
          "text": [
            "Setting `pad_token_id` to `eos_token_id`:3 for open-end generation.\n"
          ]
        },
        {
          "output_type": "stream",
          "name": "stdout",
          "text": [
            "Title: Paul Gerhardt\n",
            "Question: What is the title of the English translation of Paul Gerhardt's hymns?\n",
            "Correct Answer: Paul Gerhardt's Spiritual Songs\n",
            "Generated Answer: Hymns for All Saints\n",
            "BLEU Score: 0.0000\n",
            "ROUGE-L Score: 0.0000\n",
            "Exact Match: 0\n",
            "F1 Score: 0.0000\n",
            "\n",
            "---\n",
            "\n"
          ]
        },
        {
          "output_type": "stream",
          "name": "stderr",
          "text": [
            "Setting `pad_token_id` to `eos_token_id`:3 for open-end generation.\n"
          ]
        },
        {
          "output_type": "stream",
          "name": "stdout",
          "text": [
            "Title: Moshe Greenberg\n",
            "Question: What field was Moshe Greenberg a scholar in?\n",
            "Correct Answer: Bible\n",
            "Generated Answer: Jewish Studies\n",
            "BLEU Score: 0.0000\n",
            "ROUGE-L Score: 0.0000\n",
            "Exact Match: 0\n",
            "F1 Score: 0.0000\n",
            "\n",
            "---\n",
            "\n"
          ]
        },
        {
          "output_type": "stream",
          "name": "stderr",
          "text": [
            "Setting `pad_token_id` to `eos_token_id`:3 for open-end generation.\n"
          ]
        },
        {
          "output_type": "stream",
          "name": "stdout",
          "text": [
            "Title: Moshe Greenberg\n",
            "Question: Where did Moshe Greenberg serve as a professor emeritus?\n",
            "Correct Answer: Hebrew University of Jerusalem\n",
            "Generated Answer: University of Toronto\n",
            "BLEU Score: 0.1722\n",
            "ROUGE-L Score: 0.5714\n",
            "Exact Match: 0\n",
            "F1 Score: 0.5714\n",
            "\n",
            "---\n",
            "\n"
          ]
        },
        {
          "output_type": "stream",
          "name": "stderr",
          "text": [
            "Setting `pad_token_id` to `eos_token_id`:3 for open-end generation.\n"
          ]
        },
        {
          "output_type": "stream",
          "name": "stdout",
          "text": [
            "Title: Moshe Greenberg\n",
            "Question: What languages did Moshe Greenberg grow up speaking at home?\n",
            "Correct Answer: Hebrew\n",
            "Generated Answer: Yiddish and Hebrew\n",
            "BLEU Score: 0.1136\n",
            "ROUGE-L Score: 0.5000\n",
            "Exact Match: 0\n",
            "F1 Score: 0.5000\n",
            "\n",
            "---\n",
            "\n"
          ]
        },
        {
          "output_type": "stream",
          "name": "stderr",
          "text": [
            "Setting `pad_token_id` to `eos_token_id`:3 for open-end generation.\n"
          ]
        },
        {
          "output_type": "stream",
          "name": "stdout",
          "text": [
            "Title: Moshe Greenberg\n",
            "Question: Which university did Moshe Greenberg teach at from 1964-1970?\n",
            "Correct Answer: University of Pennsylvania\n",
            "Generated Answer: University of Toronto\n",
            "BLEU Score: 0.2403\n",
            "ROUGE-L Score: 0.6667\n",
            "Exact Match: 0\n",
            "F1 Score: 0.6667\n",
            "\n",
            "---\n",
            "\n"
          ]
        },
        {
          "output_type": "stream",
          "name": "stderr",
          "text": [
            "Setting `pad_token_id` to `eos_token_id`:3 for open-end generation.\n"
          ]
        },
        {
          "output_type": "stream",
          "name": "stdout",
          "text": [
            "Title: Amy Clampitt\n",
            "Question: What nationality was Amy Clampitt?\n",
            "Correct Answer: American\n",
            "Generated Answer: American\n",
            "BLEU Score: 0.1778\n",
            "ROUGE-L Score: 1.0000\n",
            "Exact Match: 1\n",
            "F1 Score: 1.0000\n",
            "\n",
            "---\n",
            "\n"
          ]
        },
        {
          "output_type": "stream",
          "name": "stderr",
          "text": [
            "Setting `pad_token_id` to `eos_token_id`:3 for open-end generation.\n"
          ]
        },
        {
          "output_type": "stream",
          "name": "stdout",
          "text": [
            "Title: Amy Clampitt\n",
            "Question: What was the name of Amy Clampitt's first published poem's venue in 1978?\n",
            "Correct Answer: The New Yorker\n",
            "Generated Answer: The New Yorker\n",
            "BLEU Score: 0.5623\n",
            "ROUGE-L Score: 1.0000\n",
            "Exact Match: 1\n",
            "F1 Score: 1.0000\n",
            "\n",
            "---\n",
            "\n"
          ]
        },
        {
          "output_type": "stream",
          "name": "stderr",
          "text": [
            "Setting `pad_token_id` to `eos_token_id`:3 for open-end generation.\n"
          ]
        },
        {
          "output_type": "stream",
          "name": "stdout",
          "text": [
            "Title: Amy Clampitt\n",
            "Question: What type of cancer did Amy Clampitt die from?\n",
            "Correct Answer: Cancer\n",
            "Generated Answer: breast\n",
            "BLEU Score: 0.0000\n",
            "ROUGE-L Score: 0.0000\n",
            "Exact Match: 0\n",
            "F1 Score: 0.0000\n",
            "\n",
            "---\n",
            "\n"
          ]
        },
        {
          "output_type": "stream",
          "name": "stderr",
          "text": [
            "Setting `pad_token_id` to `eos_token_id`:3 for open-end generation.\n"
          ]
        },
        {
          "output_type": "stream",
          "name": "stdout",
          "text": [
            "Title: Amy Clampitt\n",
            "Question: What was Amy Clampitt's first published poetry collection?\n",
            "Correct Answer: The Kingfisher\n",
            "Generated Answer: The New York Times\n",
            "BLEU Score: 0.0803\n",
            "ROUGE-L Score: 0.3333\n",
            "Exact Match: 0\n",
            "F1 Score: 0.3333\n",
            "\n",
            "---\n",
            "\n"
          ]
        },
        {
          "output_type": "stream",
          "name": "stderr",
          "text": [
            "Setting `pad_token_id` to `eos_token_id`:3 for open-end generation.\n"
          ]
        },
        {
          "output_type": "stream",
          "name": "stdout",
          "text": [
            "Title: Amy Clampitt\n",
            "Question: Did Amy Clampitt publish any essays?\n",
            "Correct Answer: Yes\n",
            "Generated Answer: no\n",
            "BLEU Score: 0.0000\n",
            "ROUGE-L Score: 0.0000\n",
            "Exact Match: 0\n",
            "F1 Score: 0.0000\n",
            "\n",
            "---\n",
            "\n"
          ]
        },
        {
          "output_type": "stream",
          "name": "stderr",
          "text": [
            "Setting `pad_token_id` to `eos_token_id`:3 for open-end generation.\n"
          ]
        },
        {
          "output_type": "stream",
          "name": "stdout",
          "text": [
            "Title: Ted Kooser\n",
            "Question: What prize did Theodore J. Kooser win in 2005?\n",
            "Correct Answer: Pulitzer Prize in Poetry\n",
            "Generated Answer: Pulitzer Prize\n",
            "BLEU Score: 0.1163\n",
            "ROUGE-L Score: 0.6667\n",
            "Exact Match: 0\n",
            "F1 Score: 0.6667\n",
            "\n",
            "---\n",
            "\n"
          ]
        },
        {
          "output_type": "stream",
          "name": "stderr",
          "text": [
            "Setting `pad_token_id` to `eos_token_id`:3 for open-end generation.\n"
          ]
        },
        {
          "output_type": "stream",
          "name": "stdout",
          "text": [
            "Title: Ted Kooser\n",
            "Question: How long did Theodore J. Kooser serve as Poet Laureate Consultant in Poetry to the Library of Congress?\n",
            "Correct Answer: 2004 to 2006\n",
            "Generated Answer: from 1985 until his death\n",
            "BLEU Score: 0.0000\n",
            "ROUGE-L Score: 0.0000\n",
            "Exact Match: 0\n",
            "F1 Score: 0.0000\n",
            "\n",
            "---\n",
            "\n"
          ]
        },
        {
          "output_type": "stream",
          "name": "stderr",
          "text": [
            "Setting `pad_token_id` to `eos_token_id`:3 for open-end generation.\n"
          ]
        },
        {
          "output_type": "stream",
          "name": "stdout",
          "text": [
            "Title: Ted Kooser\n",
            "Question: Which university did Theodore J. Kooser attend for his undergraduate education?\n",
            "Correct Answer: Iowa State University\n",
            "Generated Answer: Indiana University\n",
            "BLEU Score: 0.0907\n",
            "ROUGE-L Score: 0.4000\n",
            "Exact Match: 0\n",
            "F1 Score: 0.4000\n",
            "\n",
            "---\n",
            "\n"
          ]
        },
        {
          "output_type": "stream",
          "name": "stderr",
          "text": [
            "Setting `pad_token_id` to `eos_token_id`:3 for open-end generation.\n"
          ]
        },
        {
          "output_type": "stream",
          "name": "stdout",
          "text": [
            "Title: Ted Kooser\n",
            "Question: What book by Theodore J. Kooser won the 2005 Pulitzer Prize for Poetry?\n",
            "Correct Answer: Delights & Shadows\n",
            "Generated Answer: \"The Ordinary Heart\"\n",
            "BLEU Score: 0.0000\n",
            "ROUGE-L Score: 0.0000\n",
            "Exact Match: 0\n",
            "F1 Score: 0.0000\n",
            "\n",
            "---\n",
            "\n"
          ]
        },
        {
          "output_type": "stream",
          "name": "stderr",
          "text": [
            "Setting `pad_token_id` to `eos_token_id`:3 for open-end generation.\n"
          ]
        },
        {
          "output_type": "stream",
          "name": "stdout",
          "text": [
            "Title: Alfred Vogel\n",
            "Question: What was Alfred Vogel's profession?\n",
            "Correct Answer: Herbalist, naturopath, and writer\n",
            "Generated Answer: German chemist\n",
            "BLEU Score: 0.0000\n",
            "ROUGE-L Score: 0.0000\n",
            "Exact Match: 0\n",
            "F1 Score: 0.0000\n",
            "\n",
            "---\n",
            "\n"
          ]
        },
        {
          "output_type": "stream",
          "name": "stderr",
          "text": [
            "Setting `pad_token_id` to `eos_token_id`:3 for open-end generation.\n"
          ]
        },
        {
          "output_type": "stream",
          "name": "stdout",
          "text": [
            "Title: Alfred Vogel\n",
            "Question: What is the name of Alfred Vogel's flagship product created from Echinacea purpurea?\n",
            "Correct Answer: Echinaforce\n",
            "Generated Answer: Purium\n",
            "BLEU Score: 0.0000\n",
            "ROUGE-L Score: 0.0000\n",
            "Exact Match: 0\n",
            "F1 Score: 0.0000\n",
            "\n",
            "---\n",
            "\n"
          ]
        },
        {
          "output_type": "stream",
          "name": "stderr",
          "text": [
            "Setting `pad_token_id` to `eos_token_id`:3 for open-end generation.\n"
          ]
        },
        {
          "output_type": "stream",
          "name": "stdout",
          "text": [
            "Title: Alfred Vogel\n",
            "Question: What year did Alfred Vogel die?\n",
            "Correct Answer: 1996\n",
            "Generated Answer: 1937\n",
            "BLEU Score: 0.0000\n",
            "ROUGE-L Score: 0.0000\n",
            "Exact Match: 0\n",
            "F1 Score: 0.0000\n",
            "\n",
            "---\n",
            "\n"
          ]
        },
        {
          "output_type": "stream",
          "name": "stderr",
          "text": [
            "Setting `pad_token_id` to `eos_token_id`:3 for open-end generation.\n"
          ]
        },
        {
          "output_type": "stream",
          "name": "stdout",
          "text": [
            "Title: Alfred Vogel\n",
            "Question: How old was Alfred Vogel at the time of his death?\n",
            "Correct Answer: 93\n",
            "Generated Answer: 95\n",
            "BLEU Score: 0.0000\n",
            "ROUGE-L Score: 0.0000\n",
            "Exact Match: 0\n",
            "F1 Score: 0.0000\n",
            "\n",
            "---\n",
            "\n"
          ]
        },
        {
          "output_type": "stream",
          "name": "stderr",
          "text": [
            "Setting `pad_token_id` to `eos_token_id`:3 for open-end generation.\n"
          ]
        },
        {
          "output_type": "stream",
          "name": "stdout",
          "text": [
            "Title: Alfred Vogel\n",
            "Question: What company named after Alfred Vogel is based in New Zealand?\n",
            "Correct Answer: Vogel's\n",
            "Generated Answer: Vogel Corporation\n",
            "BLEU Score: 0.1495\n",
            "ROUGE-L Score: 0.5000\n",
            "Exact Match: 0\n",
            "F1 Score: 0.5000\n",
            "\n",
            "---\n",
            "\n"
          ]
        },
        {
          "output_type": "stream",
          "name": "stderr",
          "text": [
            "Setting `pad_token_id` to `eos_token_id`:3 for open-end generation.\n"
          ]
        },
        {
          "output_type": "stream",
          "name": "stdout",
          "text": [
            "Title: Siegfried Lenz\n",
            "Question: Which prize did Siegfried Lenz receive in 2000?\n",
            "Correct Answer: The Goethe Prize\n",
            "Generated Answer: Man Booker Prize for Fiction\n",
            "BLEU Score: 0.0537\n",
            "ROUGE-L Score: 0.2500\n",
            "Exact Match: 0\n",
            "F1 Score: 0.2500\n",
            "\n",
            "---\n",
            "\n"
          ]
        },
        {
          "output_type": "stream",
          "name": "stderr",
          "text": [
            "Setting `pad_token_id` to `eos_token_id`:3 for open-end generation.\n"
          ]
        },
        {
          "output_type": "stream",
          "name": "stdout",
          "text": [
            "Title: Siegfried Lenz\n",
            "Question: What was Siegfried Lenz's profession?\n",
            "Correct Answer: Writer\n",
            "Generated Answer: writer\n",
            "BLEU Score: 0.1778\n",
            "ROUGE-L Score: 1.0000\n",
            "Exact Match: 1\n",
            "F1 Score: 1.0000\n",
            "\n",
            "---\n",
            "\n"
          ]
        },
        {
          "output_type": "stream",
          "name": "stderr",
          "text": [
            "Setting `pad_token_id` to `eos_token_id`:3 for open-end generation.\n"
          ]
        },
        {
          "output_type": "stream",
          "name": "stdout",
          "text": [
            "Title: Siegfried Lenz\n",
            "Question: In which military branch did Siegfried Lenz serve during World War II?\n",
            "Correct Answer: The Kriegsmarine\n",
            "Generated Answer: Luftwaffe\n",
            "BLEU Score: 0.0000\n",
            "ROUGE-L Score: 0.0000\n",
            "Exact Match: 0\n",
            "F1 Score: 0.0000\n",
            "\n",
            "---\n",
            "\n"
          ]
        },
        {
          "output_type": "stream",
          "name": "stderr",
          "text": [
            "Setting `pad_token_id` to `eos_token_id`:3 for open-end generation.\n"
          ]
        },
        {
          "output_type": "stream",
          "name": "stdout",
          "text": [
            "Title: Siegfried Lenz\n",
            "Question: What year did Siegfried Lenz join the Nazi Party?\n",
            "Correct Answer: 1944\n",
            "Generated Answer: 1937\n",
            "BLEU Score: 0.0000\n",
            "ROUGE-L Score: 0.0000\n",
            "Exact Match: 0\n",
            "F1 Score: 0.0000\n",
            "\n",
            "---\n",
            "\n"
          ]
        },
        {
          "output_type": "stream",
          "name": "stderr",
          "text": [
            "Setting `pad_token_id` to `eos_token_id`:3 for open-end generation.\n"
          ]
        },
        {
          "output_type": "stream",
          "name": "stdout",
          "text": [
            "Title: Siegfried Lenz\n",
            "Question: Which university did Siegfried Lenz attend?\n",
            "Correct Answer: University of Hamburg\n",
            "Generated Answer: Humboldt University\n",
            "BLEU Score: 0.0907\n",
            "ROUGE-L Score: 0.4000\n",
            "Exact Match: 0\n",
            "F1 Score: 0.4000\n",
            "\n",
            "---\n",
            "\n"
          ]
        },
        {
          "output_type": "stream",
          "name": "stderr",
          "text": [
            "Setting `pad_token_id` to `eos_token_id`:3 for open-end generation.\n"
          ]
        },
        {
          "output_type": "stream",
          "name": "stdout",
          "text": [
            "Title: Siegfried Lenz\n",
            "Question: When did Siegfried Lenz die?\n",
            "Correct Answer: 7 October 2014\n",
            "Generated Answer: 1985\n",
            "BLEU Score: 0.0000\n",
            "ROUGE-L Score: 0.0000\n",
            "Exact Match: 0\n",
            "F1 Score: 0.0000\n",
            "\n",
            "---\n",
            "\n"
          ]
        },
        {
          "output_type": "stream",
          "name": "stderr",
          "text": [
            "Setting `pad_token_id` to `eos_token_id`:3 for open-end generation.\n"
          ]
        },
        {
          "output_type": "stream",
          "name": "stdout",
          "text": [
            "Title: Siegfried Lenz\n",
            "Question: What was the subject of the novel 'Der Überläufer' by Siegfried Lenz?\n",
            "Correct Answer: A German soldier who defects to Soviet forces\n",
            "Generated Answer: World War II\n",
            "BLEU Score: 0.0000\n",
            "ROUGE-L Score: 0.0000\n",
            "Exact Match: 0\n",
            "F1 Score: 0.0000\n",
            "\n",
            "---\n",
            "\n"
          ]
        },
        {
          "output_type": "stream",
          "name": "stderr",
          "text": [
            "Setting `pad_token_id` to `eos_token_id`:3 for open-end generation.\n"
          ]
        },
        {
          "output_type": "stream",
          "name": "stdout",
          "text": [
            "Title: Siegfried Lenz\n",
            "Question: What was Siegfried Lenz's role in the Group 47?\n",
            "Correct Answer: Member\n",
            "Generated Answer: writer\n",
            "BLEU Score: 0.0000\n",
            "ROUGE-L Score: 0.0000\n",
            "Exact Match: 0\n",
            "F1 Score: 0.0000\n",
            "\n",
            "---\n",
            "\n"
          ]
        },
        {
          "output_type": "stream",
          "name": "stderr",
          "text": [
            "Setting `pad_token_id` to `eos_token_id`:3 for open-end generation.\n"
          ]
        },
        {
          "output_type": "stream",
          "name": "stdout",
          "text": [
            "Title: Philip Stanhope, 5th Earl Stanhope\n",
            "Question: What year did Philip Henry Stanhope, 5th Earl Stanhope, help pass the Literary Copyright Act?\n",
            "Correct Answer: 1842\n",
            "Generated Answer: 1842\n",
            "BLEU Score: 0.1778\n",
            "ROUGE-L Score: 1.0000\n",
            "Exact Match: 1\n",
            "F1 Score: 1.0000\n",
            "\n",
            "---\n",
            "\n"
          ]
        },
        {
          "output_type": "stream",
          "name": "stderr",
          "text": [
            "Setting `pad_token_id` to `eos_token_id`:3 for open-end generation.\n"
          ]
        },
        {
          "output_type": "stream",
          "name": "stdout",
          "text": [
            "Title: Philip Stanhope, 5th Earl Stanhope\n",
            "Question: What role did Philip Henry Stanhope, 5th Earl Stanhope, serve in the Royal Literary Fund until his death?\n",
            "Correct Answer: President\n",
            "Generated Answer: President\n",
            "BLEU Score: 0.1778\n",
            "ROUGE-L Score: 1.0000\n",
            "Exact Match: 1\n",
            "F1 Score: 1.0000\n",
            "\n",
            "---\n",
            "\n"
          ]
        },
        {
          "output_type": "stream",
          "name": "stderr",
          "text": [
            "Setting `pad_token_id` to `eos_token_id`:3 for open-end generation.\n"
          ]
        },
        {
          "output_type": "stream",
          "name": "stdout",
          "text": [
            "Title: Philip Stanhope, 5th Earl Stanhope\n",
            "Question: Which prize did Philip Henry Stanhope, 5th Earl Stanhope, found at Oxford in 1855?\n",
            "Correct Answer: The Stanhope essay prize\n",
            "Generated Answer: Gladstone Memorial Prize\n",
            "BLEU Score: 0.0814\n",
            "ROUGE-L Score: 0.2857\n",
            "Exact Match: 0\n",
            "F1 Score: 0.2857\n",
            "\n",
            "---\n",
            "\n"
          ]
        },
        {
          "output_type": "stream",
          "name": "stderr",
          "text": [
            "Setting `pad_token_id` to `eos_token_id`:3 for open-end generation.\n"
          ]
        },
        {
          "output_type": "stream",
          "name": "stdout",
          "text": [
            "Title: Philip Stanhope, 5th Earl Stanhope\n",
            "Question: What was the title of Philip Henry Stanhope, 5th Earl Stanhope's work about the War of the Spanish Succession?\n",
            "Correct Answer: History of the War of the Succession in Spain\n",
            "Generated Answer: A Short History\n",
            "BLEU Score: 0.0154\n",
            "ROUGE-L Score: 0.1667\n",
            "Exact Match: 0\n",
            "F1 Score: 0.1667\n",
            "\n",
            "---\n",
            "\n"
          ]
        },
        {
          "output_type": "stream",
          "name": "stderr",
          "text": [
            "Setting `pad_token_id` to `eos_token_id`:3 for open-end generation.\n"
          ]
        },
        {
          "output_type": "stream",
          "name": "stdout",
          "text": [
            "Title: Philip Stanhope, 5th Earl Stanhope\n",
            "Question: Who were Philip Henry Stanhope, 5th Earl Stanhope's parents?\n",
            "Correct Answer: Philip Stanhope, 4th Earl Stanhope, and the Hon. Catherine Stanhope\n",
            "Generated Answer: Lord George Stanhope and Lady Elizabeth Hamilton\n",
            "BLEU Score: 0.0455\n",
            "ROUGE-L Score: 0.2353\n",
            "Exact Match: 0\n",
            "F1 Score: 0.2353\n",
            "\n",
            "---\n",
            "\n"
          ]
        },
        {
          "output_type": "stream",
          "name": "stderr",
          "text": [
            "Setting `pad_token_id` to `eos_token_id`:3 for open-end generation.\n"
          ]
        },
        {
          "output_type": "stream",
          "name": "stdout",
          "text": [
            "Title: Philip Stanhope, 5th Earl Stanhope\n",
            "Question: What narrative does 'The Forty-Five', a work by Philip Henry Stanhope, 5th Earl Stanhope, detail?\n",
            "Correct Answer: The Jacobite rising of 1745\n",
            "Generated Answer: The Jacobite rising of 1745\n",
            "BLEU Score: 1.0000\n",
            "ROUGE-L Score: 1.0000\n",
            "Exact Match: 1\n",
            "F1 Score: 1.0000\n",
            "\n",
            "---\n",
            "\n"
          ]
        },
        {
          "output_type": "stream",
          "name": "stderr",
          "text": [
            "Setting `pad_token_id` to `eos_token_id`:3 for open-end generation.\n"
          ]
        },
        {
          "output_type": "stream",
          "name": "stdout",
          "text": [
            "Title: Henryk Grossman\n",
            "Question: What is Henryk Grossman's nationality?\n",
            "Correct Answer: Polish\n",
            "Generated Answer: Polish\n",
            "BLEU Score: 0.1778\n",
            "ROUGE-L Score: 1.0000\n",
            "Exact Match: 1\n",
            "F1 Score: 1.0000\n",
            "\n",
            "---\n",
            "\n"
          ]
        },
        {
          "output_type": "stream",
          "name": "stderr",
          "text": [
            "Setting `pad_token_id` to `eos_token_id`:3 for open-end generation.\n"
          ]
        },
        {
          "output_type": "stream",
          "name": "stdout",
          "text": [
            "Title: Henryk Grossman\n",
            "Question: In which field was Henryk Grossman primarily active?\n",
            "Correct Answer: Economics\n",
            "Generated Answer: physics\n",
            "BLEU Score: 0.0000\n",
            "ROUGE-L Score: 0.0000\n",
            "Exact Match: 0\n",
            "F1 Score: 0.0000\n",
            "\n",
            "---\n",
            "\n"
          ]
        },
        {
          "output_type": "stream",
          "name": "stderr",
          "text": [
            "Setting `pad_token_id` to `eos_token_id`:3 for open-end generation.\n"
          ]
        },
        {
          "output_type": "stream",
          "name": "stdout",
          "text": [
            "Title: Henryk Grossman\n",
            "Question: What was the title of Henryk Grossman's key contribution to political-economic theory?\n",
            "Correct Answer: The Law of Accumulation and Breakdown of the Capitalist System\n",
            "Generated Answer: The Political Economy of Socialism\n",
            "BLEU Score: 0.0235\n",
            "ROUGE-L Score: 0.2667\n",
            "Exact Match: 0\n",
            "F1 Score: 0.2667\n",
            "\n",
            "---\n",
            "\n"
          ]
        },
        {
          "output_type": "stream",
          "name": "stderr",
          "text": [
            "Setting `pad_token_id` to `eos_token_id`:3 for open-end generation.\n"
          ]
        },
        {
          "output_type": "stream",
          "name": "stdout",
          "text": [
            "Title: Henryk Grossman\n",
            "Question: In what year did Henryk Grossman publish his key work, just before the Stock Market Crash of 1929?\n",
            "Correct Answer: 1929\n",
            "Generated Answer: 1928\n",
            "BLEU Score: 0.0000\n",
            "ROUGE-L Score: 0.0000\n",
            "Exact Match: 0\n",
            "F1 Score: 0.0000\n",
            "\n",
            "---\n",
            "\n"
          ]
        },
        {
          "output_type": "stream",
          "name": "stderr",
          "text": [
            "Setting `pad_token_id` to `eos_token_id`:3 for open-end generation.\n"
          ]
        },
        {
          "output_type": "stream",
          "name": "stdout",
          "text": [
            "Title: Henryk Grossman\n",
            "Question: What was the ethnic background of Henryk Grossman's family?\n",
            "Correct Answer: Polish-Jewish\n",
            "Generated Answer: Polish\n",
            "BLEU Score: 0.0654\n",
            "ROUGE-L Score: 0.6667\n",
            "Exact Match: 0\n",
            "F1 Score: 0.6667\n",
            "\n",
            "---\n",
            "\n"
          ]
        },
        {
          "output_type": "stream",
          "name": "stderr",
          "text": [
            "Setting `pad_token_id` to `eos_token_id`:3 for open-end generation.\n"
          ]
        },
        {
          "output_type": "stream",
          "name": "stdout",
          "text": [
            "Title: Henryk Grossman\n",
            "Question: Which political party did Henryk Grossman join in Poland?\n",
            "Correct Answer: Communist Party of Poland\n",
            "Generated Answer: Polish Socialist Party\n",
            "BLEU Score: 0.0814\n",
            "ROUGE-L Score: 0.2857\n",
            "Exact Match: 0\n",
            "F1 Score: 0.2857\n",
            "\n",
            "---\n",
            "\n"
          ]
        },
        {
          "output_type": "stream",
          "name": "stderr",
          "text": [
            "Setting `pad_token_id` to `eos_token_id`:3 for open-end generation.\n"
          ]
        },
        {
          "output_type": "stream",
          "name": "stdout",
          "text": [
            "Title: Henryk Grossman\n",
            "Question: What position did Henryk Grossman hold at the Free Polish University in Warsaw?\n",
            "Correct Answer: Professor of economics\n",
            "Generated Answer: professor\n",
            "BLEU Score: 0.0241\n",
            "ROUGE-L Score: 0.5000\n",
            "Exact Match: 0\n",
            "F1 Score: 0.5000\n",
            "\n",
            "---\n",
            "\n"
          ]
        },
        {
          "output_type": "stream",
          "name": "stderr",
          "text": [
            "Setting `pad_token_id` to `eos_token_id`:3 for open-end generation.\n"
          ]
        },
        {
          "output_type": "stream",
          "name": "stdout",
          "text": [
            "Title: Edward Adelbert Doisy\n",
            "Question: What position did Edward Adelbert Doisy hold at Saint Louis University starting in 1923?\n",
            "Correct Answer: Professor and chairman of the Department of Biochemistry\n",
            "Generated Answer: professor of biochemistry\n",
            "BLEU Score: 0.0502\n",
            "ROUGE-L Score: 0.5455\n",
            "Exact Match: 0\n",
            "F1 Score: 0.5455\n",
            "\n",
            "---\n",
            "\n"
          ]
        },
        {
          "output_type": "stream",
          "name": "stderr",
          "text": [
            "Setting `pad_token_id` to `eos_token_id`:3 for open-end generation.\n"
          ]
        },
        {
          "output_type": "stream",
          "name": "stdout",
          "text": [
            "Title: Edward Adelbert Doisy\n",
            "Question: What was the original name of the department at Saint Louis University that was renamed in honor of Edward Adelbert Doisy?\n",
            "Correct Answer: Department of Biochemistry\n",
            "Generated Answer: Department of Chemistry\n",
            "BLEU Score: 0.2403\n",
            "ROUGE-L Score: 0.6667\n",
            "Exact Match: 0\n",
            "F1 Score: 0.6667\n",
            "\n",
            "---\n",
            "\n"
          ]
        },
        {
          "output_type": "stream",
          "name": "stderr",
          "text": [
            "Setting `pad_token_id` to `eos_token_id`:3 for open-end generation.\n"
          ]
        },
        {
          "output_type": "stream",
          "name": "stdout",
          "text": [
            "Title: Edward Adelbert Doisy\n",
            "Question: What is the current name of the department at Saint Louis University named after Edward Adelbert Doisy?\n",
            "Correct Answer: E.A. Doisy Department of Biochemistry and Molecular Biology\n",
            "Generated Answer: Department of Biochemistry\n",
            "BLEU Score: 0.0761\n",
            "ROUGE-L Score: 0.5000\n",
            "Exact Match: 0\n",
            "F1 Score: 0.5000\n",
            "\n",
            "---\n",
            "\n"
          ]
        },
        {
          "output_type": "stream",
          "name": "stderr",
          "text": [
            "Setting `pad_token_id` to `eos_token_id`:3 for open-end generation.\n"
          ]
        },
        {
          "output_type": "stream",
          "name": "stdout",
          "text": [
            "Title: Edward Adelbert Doisy\n",
            "Question: Was Edward Adelbert Doisy awarded the Nobel Prize in Chemistry for the discovery of estrone?\n",
            "Correct Answer: No\n",
            "Generated Answer: no\n",
            "BLEU Score: 0.1778\n",
            "ROUGE-L Score: 1.0000\n",
            "Exact Match: 1\n",
            "F1 Score: 1.0000\n",
            "\n",
            "---\n",
            "\n"
          ]
        },
        {
          "output_type": "stream",
          "name": "stderr",
          "text": [
            "Setting `pad_token_id` to `eos_token_id`:3 for open-end generation.\n"
          ]
        },
        {
          "output_type": "stream",
          "name": "stdout",
          "text": [
            "Title: Chico O'Farrill\n",
            "Question: When was Chico O'Farrill born?\n",
            "Correct Answer: October 28, 1921\n",
            "Generated Answer: 1923\n",
            "BLEU Score: 0.0000\n",
            "ROUGE-L Score: 0.0000\n",
            "Exact Match: 0\n",
            "F1 Score: 0.0000\n",
            "\n",
            "---\n",
            "\n"
          ]
        },
        {
          "output_type": "stream",
          "name": "stderr",
          "text": [
            "Setting `pad_token_id` to `eos_token_id`:3 for open-end generation.\n"
          ]
        },
        {
          "output_type": "stream",
          "name": "stdout",
          "text": [
            "Title: Chico O'Farrill\n",
            "Question: Which nightclub did Chico O'Farrill's big band take up residence at in the 1990s?\n",
            "Correct Answer: Birdland\n",
            "Generated Answer: The Blue Note\n",
            "BLEU Score: 0.0000\n",
            "ROUGE-L Score: 0.0000\n",
            "Exact Match: 0\n",
            "F1 Score: 0.0000\n",
            "\n",
            "---\n",
            "\n"
          ]
        },
        {
          "output_type": "stream",
          "name": "stderr",
          "text": [
            "Setting `pad_token_id` to `eos_token_id`:3 for open-end generation.\n"
          ]
        },
        {
          "output_type": "stream",
          "name": "stdout",
          "text": [
            "Title: Chico O'Farrill\n",
            "Question: In what city was Chico O'Farrill born?\n",
            "Correct Answer: Havana, Cuba\n",
            "Generated Answer: San Diego\n",
            "BLEU Score: 0.0000\n",
            "ROUGE-L Score: 0.0000\n",
            "Exact Match: 0\n",
            "F1 Score: 0.0000\n",
            "\n",
            "---\n",
            "\n"
          ]
        },
        {
          "output_type": "stream",
          "name": "stderr",
          "text": [
            "Setting `pad_token_id` to `eos_token_id`:3 for open-end generation.\n"
          ]
        },
        {
          "output_type": "stream",
          "name": "stdout",
          "text": [
            "Title: Chico O'Farrill\n",
            "Question: What nickname was Chico O'Farrill given by Benny Goodman due to pronunciation difficulties?\n",
            "Correct Answer: Chico\n",
            "Generated Answer: Little Chico\n",
            "BLEU Score: 0.1495\n",
            "ROUGE-L Score: 0.6667\n",
            "Exact Match: 0\n",
            "F1 Score: 0.6667\n",
            "\n",
            "---\n",
            "\n"
          ]
        },
        {
          "output_type": "stream",
          "name": "stderr",
          "text": [
            "Setting `pad_token_id` to `eos_token_id`:3 for open-end generation.\n"
          ]
        },
        {
          "output_type": "stream",
          "name": "stdout",
          "text": [
            "Title: Chico O'Farrill\n",
            "Question: Who took over Chico O'Farrill's band after his retirement?\n",
            "Correct Answer: His son, Arturo O'Farrill\n",
            "Generated Answer: Bobby Shew\n",
            "BLEU Score: 0.0000\n",
            "ROUGE-L Score: 0.0000\n",
            "Exact Match: 0\n",
            "F1 Score: 0.0000\n",
            "\n",
            "---\n",
            "\n"
          ]
        },
        {
          "output_type": "stream",
          "name": "stderr",
          "text": [
            "Setting `pad_token_id` to `eos_token_id`:3 for open-end generation.\n"
          ]
        },
        {
          "output_type": "stream",
          "name": "stdout",
          "text": [
            "Title: Chico O'Farrill\n",
            "Question: What did Chico O'Farrill credit himself with introducing to jazz band rhythm sections?\n",
            "Correct Answer: The clave\n",
            "Generated Answer: Latin rhythms\n",
            "BLEU Score: 0.0000\n",
            "ROUGE-L Score: 0.0000\n",
            "Exact Match: 0\n",
            "F1 Score: 0.0000\n",
            "\n",
            "---\n",
            "\n"
          ]
        },
        {
          "output_type": "stream",
          "name": "stderr",
          "text": [
            "Setting `pad_token_id` to `eos_token_id`:3 for open-end generation.\n"
          ]
        },
        {
          "output_type": "stream",
          "name": "stdout",
          "text": [
            "Title: Chico O'Farrill\n",
            "Question: What is the title of the suite that best summarizes Chico O'Farrill's fusion of musical styles?\n",
            "Correct Answer: Afro-Cuban Jazz Suite\n",
            "Generated Answer: Latin Jazz\n",
            "BLEU Score: 0.0550\n",
            "ROUGE-L Score: 0.3333\n",
            "Exact Match: 0\n",
            "F1 Score: 0.3333\n",
            "\n",
            "---\n",
            "\n"
          ]
        },
        {
          "output_type": "stream",
          "name": "stderr",
          "text": [
            "Setting `pad_token_id` to `eos_token_id`:3 for open-end generation.\n"
          ]
        },
        {
          "output_type": "stream",
          "name": "stdout",
          "text": [
            "Title: Jonas Kazlauskas\n",
            "Question: What is Jonas Kazlauskas's nationality?\n",
            "Correct Answer: Lithuanian\n",
            "Generated Answer: Lithuanian\n",
            "BLEU Score: 0.1778\n",
            "ROUGE-L Score: 1.0000\n",
            "Exact Match: 1\n",
            "F1 Score: 1.0000\n",
            "\n",
            "---\n",
            "\n"
          ]
        },
        {
          "output_type": "stream",
          "name": "stderr",
          "text": [
            "Setting `pad_token_id` to `eos_token_id`:3 for open-end generation.\n"
          ]
        },
        {
          "output_type": "stream",
          "name": "stdout",
          "text": [
            "Title: Jonas Kazlauskas\n",
            "Question: In which league did Jonas Kazlauskas coach the Guangdong Southern Tigers?\n",
            "Correct Answer: Chinese Basketball Association (CBA)\n",
            "Generated Answer: Chinese Basketball Association\n",
            "BLEU Score: 0.4029\n",
            "ROUGE-L Score: 0.8571\n",
            "Exact Match: 0\n",
            "F1 Score: 0.8571\n",
            "\n",
            "---\n",
            "\n"
          ]
        },
        {
          "output_type": "stream",
          "name": "stderr",
          "text": [
            "Setting `pad_token_id` to `eos_token_id`:3 for open-end generation.\n"
          ]
        },
        {
          "output_type": "stream",
          "name": "stdout",
          "text": [
            "Title: Jonas Kazlauskas\n",
            "Question: Which two top Lithuanian pro club basketball teams did Jonas Kazlauskas coach?\n",
            "Correct Answer: Žalgiris Kaunas and Lietuvos rytas Vilnius\n",
            "Generated Answer: Zalgiris and Lietuvos rytas\n",
            "BLEU Score: 0.2412\n",
            "ROUGE-L Score: 0.6000\n",
            "Exact Match: 0\n",
            "F1 Score: 0.6000\n",
            "\n",
            "---\n",
            "\n"
          ]
        },
        {
          "output_type": "stream",
          "name": "stderr",
          "text": [
            "Setting `pad_token_id` to `eos_token_id`:3 for open-end generation.\n"
          ]
        },
        {
          "output_type": "stream",
          "name": "stdout",
          "text": [
            "Title: Jonas Kazlauskas\n",
            "Question: Which national team did Jonas Kazlauskas lead to bronze medals at the 2000 Summer Olympics?\n",
            "Correct Answer: Lithuanian national team\n",
            "Generated Answer: Lithuanian\n",
            "BLEU Score: 0.0241\n",
            "ROUGE-L Score: 0.5000\n",
            "Exact Match: 0\n",
            "F1 Score: 0.5000\n",
            "\n",
            "---\n",
            "\n"
          ]
        },
        {
          "output_type": "stream",
          "name": "stderr",
          "text": [
            "Setting `pad_token_id` to `eos_token_id`:3 for open-end generation.\n"
          ]
        },
        {
          "output_type": "stream",
          "name": "stdout",
          "text": [
            "Title: José Batlle y Ordóñez\n",
            "Question: What is the full name of José Batlle y Ordóñez?\n",
            "Correct Answer: José Pablo Torcuato Batlle y Ordóñez\n",
            "Generated Answer: José Batlle y Ordóñez\n",
            "BLEU Score: 0.2592\n",
            "ROUGE-L Score: 0.8333\n",
            "Exact Match: 0\n",
            "F1 Score: 0.8000\n",
            "\n",
            "---\n",
            "\n"
          ]
        },
        {
          "output_type": "stream",
          "name": "stderr",
          "text": [
            "Setting `pad_token_id` to `eos_token_id`:3 for open-end generation.\n"
          ]
        },
        {
          "output_type": "stream",
          "name": "stdout",
          "text": [
            "Title: José Batlle y Ordóñez\n",
            "Question: Where was José Batlle y Ordóñez born?\n",
            "Correct Answer: Montevideo, Uruguay\n",
            "Generated Answer: Montevideo\n",
            "BLEU Score: 0.0654\n",
            "ROUGE-L Score: 0.6667\n",
            "Exact Match: 0\n",
            "F1 Score: 0.6667\n",
            "\n",
            "---\n",
            "\n"
          ]
        },
        {
          "output_type": "stream",
          "name": "stderr",
          "text": [
            "Setting `pad_token_id` to `eos_token_id`:3 for open-end generation.\n"
          ]
        },
        {
          "output_type": "stream",
          "name": "stdout",
          "text": [
            "Title: José Batlle y Ordóñez\n",
            "Question: For which political party did José Batlle y Ordóñez serve as President of Uruguay?\n",
            "Correct Answer: Colorado Party\n",
            "Generated Answer: National Party\n",
            "BLEU Score: 0.1495\n",
            "ROUGE-L Score: 0.5000\n",
            "Exact Match: 0\n",
            "F1 Score: 0.5000\n",
            "\n",
            "---\n",
            "\n"
          ]
        },
        {
          "output_type": "stream",
          "name": "stderr",
          "text": [
            "Setting `pad_token_id` to `eos_token_id`:3 for open-end generation.\n"
          ]
        },
        {
          "output_type": "stream",
          "name": "stdout",
          "text": [
            "Title: José Batlle y Ordóñez\n",
            "Question: Which university did José Batlle y Ordóñez attend?\n",
            "Correct Answer: University of the Republic\n",
            "Generated Answer: The Catholic University of Chile\n",
            "BLEU Score: 0.1257\n",
            "ROUGE-L Score: 0.4444\n",
            "Exact Match: 0\n",
            "F1 Score: 0.6667\n",
            "\n",
            "---\n",
            "\n"
          ]
        },
        {
          "output_type": "stream",
          "name": "stderr",
          "text": [
            "Setting `pad_token_id` to `eos_token_id`:3 for open-end generation.\n"
          ]
        },
        {
          "output_type": "stream",
          "name": "stdout",
          "text": [
            "Title: František Chvostek\n",
            "Question: What is the full name of František Chvostek?\n",
            "Correct Answer: František Chvostek\n",
            "Generated Answer: František Chvostek\n",
            "BLEU Score: 0.3162\n",
            "ROUGE-L Score: 1.0000\n",
            "Exact Match: 1\n",
            "F1 Score: 1.0000\n",
            "\n",
            "---\n",
            "\n"
          ]
        },
        {
          "output_type": "stream",
          "name": "stderr",
          "text": [
            "Setting `pad_token_id` to `eos_token_id`:3 for open-end generation.\n"
          ]
        },
        {
          "output_type": "stream",
          "name": "stdout",
          "text": [
            "Title: František Chvostek\n",
            "Question: What is the German name of František Chvostek?\n",
            "Correct Answer: Franz Chvostek\n",
            "Generated Answer: Franz Chvostek\n",
            "BLEU Score: 0.3162\n",
            "ROUGE-L Score: 1.0000\n",
            "Exact Match: 1\n",
            "F1 Score: 1.0000\n",
            "\n",
            "---\n",
            "\n"
          ]
        },
        {
          "output_type": "stream",
          "name": "stderr",
          "text": [
            "Setting `pad_token_id` to `eos_token_id`:3 for open-end generation.\n"
          ]
        },
        {
          "output_type": "stream",
          "name": "stdout",
          "text": [
            "Title: František Chvostek\n",
            "Question: What nationality was František Chvostek?\n",
            "Correct Answer: Czech-Austrian\n",
            "Generated Answer: Czech\n",
            "BLEU Score: 0.0654\n",
            "ROUGE-L Score: 0.6667\n",
            "Exact Match: 0\n",
            "F1 Score: 0.6667\n",
            "\n",
            "---\n",
            "\n"
          ]
        },
        {
          "output_type": "stream",
          "name": "stderr",
          "text": [
            "Setting `pad_token_id` to `eos_token_id`:3 for open-end generation.\n"
          ]
        },
        {
          "output_type": "stream",
          "name": "stdout",
          "text": [
            "Title: František Chvostek\n",
            "Question: What is František Chvostek most notable for?\n",
            "Correct Answer: Describing Chvostek's sign\n",
            "Generated Answer: Czech composer\n",
            "BLEU Score: 0.0000\n",
            "ROUGE-L Score: 0.0000\n",
            "Exact Match: 0\n",
            "F1 Score: 0.0000\n",
            "\n",
            "---\n",
            "\n"
          ]
        },
        {
          "output_type": "stream",
          "name": "stderr",
          "text": [
            "Setting `pad_token_id` to `eos_token_id`:3 for open-end generation.\n"
          ]
        },
        {
          "output_type": "stream",
          "name": "stdout",
          "text": [
            "Title: Marianne Brandt\n",
            "Question: Which art school did Marianne Brandt attend?\n",
            "Correct Answer: Bauhaus art school in Weimar\n",
            "Generated Answer: The New York Studio School of Photography\n",
            "BLEU Score: 0.0330\n",
            "ROUGE-L Score: 0.1667\n",
            "Exact Match: 0\n",
            "F1 Score: 0.1667\n",
            "\n",
            "---\n",
            "\n"
          ]
        },
        {
          "output_type": "stream",
          "name": "stderr",
          "text": [
            "Setting `pad_token_id` to `eos_token_id`:3 for open-end generation.\n"
          ]
        },
        {
          "output_type": "stream",
          "name": "stdout",
          "text": [
            "Title: Marianne Brandt\n",
            "Question: Which styles did Marianne Brandt produce works in before focusing on industrial design?\n",
            "Correct Answer: Expressionist\n",
            "Generated Answer: graphic art and photography\n",
            "BLEU Score: 0.0000\n",
            "ROUGE-L Score: 0.0000\n",
            "Exact Match: 0\n",
            "F1 Score: 0.0000\n",
            "\n",
            "---\n",
            "\n"
          ]
        },
        {
          "output_type": "stream",
          "name": "stderr",
          "text": [
            "Setting `pad_token_id` to `eos_token_id`:3 for open-end generation.\n"
          ]
        },
        {
          "output_type": "stream",
          "name": "stdout",
          "text": [
            "Title: Marianne Brandt\n",
            "Question: Which Bauhaus teacher was impressed by Marianne Brandt's work, leading to her joining the metal workshop?\n",
            "Correct Answer: László Moholy-Nagy\n",
            "Generated Answer: Walter Gropius\n",
            "BLEU Score: 0.0000\n",
            "ROUGE-L Score: 0.0000\n",
            "Exact Match: 0\n",
            "F1 Score: 0.0000\n",
            "\n",
            "---\n",
            "\n"
          ]
        },
        {
          "output_type": "stream",
          "name": "stderr",
          "text": [
            "Setting `pad_token_id` to `eos_token_id`:3 for open-end generation.\n"
          ]
        },
        {
          "output_type": "stream",
          "name": "stdout",
          "text": [
            "Title: Marianne Brandt\n",
            "Question: What type of compositions did Marianne Brandt create as a pioneering photographer?\n",
            "Correct Answer: Experimental still-life\n",
            "Generated Answer: photographic prints\n",
            "BLEU Score: 0.0000\n",
            "ROUGE-L Score: 0.0000\n",
            "Exact Match: 0\n",
            "F1 Score: 0.0000\n",
            "\n",
            "---\n",
            "\n"
          ]
        },
        {
          "output_type": "stream",
          "name": "stderr",
          "text": [
            "Setting `pad_token_id` to `eos_token_id`:3 for open-end generation.\n"
          ]
        },
        {
          "output_type": "stream",
          "name": "stdout",
          "text": [
            "Title: Michael Tiemann\n",
            "Question: What role did Michael Tiemann have at the Open Source Initiative?\n",
            "Correct Answer: President\n",
            "Generated Answer: Vice President\n",
            "BLEU Score: 0.1495\n",
            "ROUGE-L Score: 0.6667\n",
            "Exact Match: 0\n",
            "F1 Score: 0.6667\n",
            "\n",
            "---\n",
            "\n"
          ]
        },
        {
          "output_type": "stream",
          "name": "stderr",
          "text": [
            "Setting `pad_token_id` to `eos_token_id`:3 for open-end generation.\n"
          ]
        },
        {
          "output_type": "stream",
          "name": "stdout",
          "text": [
            "Title: Michael Tiemann\n",
            "Question: Which programming language's GNU compiler did Michael Tiemann author?\n",
            "Correct Answer: C++\n",
            "Generated Answer: C\n",
            "BLEU Score: 0.1778\n",
            "ROUGE-L Score: 1.0000\n",
            "Exact Match: 1\n",
            "F1 Score: 1.0000\n",
            "\n",
            "---\n",
            "\n"
          ]
        },
        {
          "output_type": "stream",
          "name": "stderr",
          "text": [
            "Setting `pad_token_id` to `eos_token_id`:3 for open-end generation.\n"
          ]
        },
        {
          "output_type": "stream",
          "name": "stdout",
          "text": [
            "Title: Michael Tiemann\n",
            "Question: What was Michael Tiemann's role at Red Hat besides vice president of open source affairs?\n",
            "Correct Answer: Chief technical officer\n",
            "Generated Answer: senior director for cloud\n",
            "BLEU Score: 0.0000\n",
            "ROUGE-L Score: 0.0000\n",
            "Exact Match: 0\n",
            "F1 Score: 0.0000\n",
            "\n",
            "---\n",
            "\n"
          ]
        },
        {
          "output_type": "stream",
          "name": "stderr",
          "text": [
            "Setting `pad_token_id` to `eos_token_id`:3 for open-end generation.\n"
          ]
        },
        {
          "output_type": "stream",
          "name": "stdout",
          "text": [
            "Title: Michael Tiemann\n",
            "Question: On which foundation's advisory board did Michael Tiemann serve?\n",
            "Correct Answer: The GNOME Foundation advisory board\n",
            "Generated Answer: The Nature Conservancy\n",
            "BLEU Score: 0.0583\n",
            "ROUGE-L Score: 0.2500\n",
            "Exact Match: 0\n",
            "F1 Score: 0.2500\n",
            "\n",
            "---\n",
            "\n"
          ]
        },
        {
          "output_type": "stream",
          "name": "stderr",
          "text": [
            "Setting `pad_token_id` to `eos_token_id`:3 for open-end generation.\n"
          ]
        },
        {
          "output_type": "stream",
          "name": "stdout",
          "text": [
            "Title: Norbert Reithofer\n",
            "Question: What is Norbert Reithofer's nationality?\n",
            "Correct Answer: German\n",
            "Generated Answer: Austrian\n",
            "BLEU Score: 0.0000\n",
            "ROUGE-L Score: 0.0000\n",
            "Exact Match: 0\n",
            "F1 Score: 0.0000\n",
            "\n",
            "---\n",
            "\n"
          ]
        },
        {
          "output_type": "stream",
          "name": "stderr",
          "text": [
            "Setting `pad_token_id` to `eos_token_id`:3 for open-end generation.\n"
          ]
        },
        {
          "output_type": "stream",
          "name": "stdout",
          "text": [
            "Title: Norbert Reithofer\n",
            "Question: What did Norbert Reithofer study at the Technical University Munich?\n",
            "Correct Answer: Engineering and Business Administration\n",
            "Generated Answer: mechanical engineering\n",
            "BLEU Score: 0.0550\n",
            "ROUGE-L Score: 0.3333\n",
            "Exact Match: 0\n",
            "F1 Score: 0.3333\n",
            "\n",
            "---\n",
            "\n"
          ]
        },
        {
          "output_type": "stream",
          "name": "stderr",
          "text": [
            "Setting `pad_token_id` to `eos_token_id`:3 for open-end generation.\n"
          ]
        },
        {
          "output_type": "stream",
          "name": "stdout",
          "text": [
            "Title: Norbert Reithofer\n",
            "Question: What role did Norbert Reithofer first take on at BMW?\n",
            "Correct Answer: Head of maintenance planning\n",
            "Generated Answer: CEO\n",
            "BLEU Score: 0.0000\n",
            "ROUGE-L Score: 0.0000\n",
            "Exact Match: 0\n",
            "F1 Score: 0.0000\n",
            "\n",
            "---\n",
            "\n"
          ]
        },
        {
          "output_type": "stream",
          "name": "stderr",
          "text": [
            "Setting `pad_token_id` to `eos_token_id`:3 for open-end generation.\n"
          ]
        },
        {
          "output_type": "stream",
          "name": "stdout",
          "text": [
            "Title: Norbert Reithofer\n",
            "Question: In what year did Norbert Reithofer become chairman of the board and CEO of BMW?\n",
            "Correct Answer: 2006\n",
            "Generated Answer: 2014\n",
            "BLEU Score: 0.0000\n",
            "ROUGE-L Score: 0.0000\n",
            "Exact Match: 0\n",
            "F1 Score: 0.0000\n",
            "\n",
            "---\n",
            "\n"
          ]
        },
        {
          "output_type": "stream",
          "name": "stderr",
          "text": [
            "Setting `pad_token_id` to `eos_token_id`:3 for open-end generation.\n"
          ]
        },
        {
          "output_type": "stream",
          "name": "stdout",
          "text": [
            "Title: Norbert Reithofer\n",
            "Question: What position did Norbert Reithofer take after stepping down as CEO?\n",
            "Correct Answer: Chairman of the supervisory board\n",
            "Generated Answer: board member\n",
            "BLEU Score: 0.0334\n",
            "ROUGE-L Score: 0.2857\n",
            "Exact Match: 0\n",
            "F1 Score: 0.2857\n",
            "\n",
            "---\n",
            "\n"
          ]
        },
        {
          "output_type": "stream",
          "name": "stderr",
          "text": [
            "Setting `pad_token_id` to `eos_token_id`:3 for open-end generation.\n"
          ]
        },
        {
          "output_type": "stream",
          "name": "stdout",
          "text": [
            "Title: Norbert Reithofer\n",
            "Question: What was Norbert Reithofer's position at Siemens between 2015 and 2023?\n",
            "Correct Answer: Member of the supervisory board\n",
            "Generated Answer: CEO\n",
            "BLEU Score: 0.0000\n",
            "ROUGE-L Score: 0.0000\n",
            "Exact Match: 0\n",
            "F1 Score: 0.0000\n",
            "\n",
            "---\n",
            "\n"
          ]
        },
        {
          "output_type": "stream",
          "name": "stderr",
          "text": [
            "Setting `pad_token_id` to `eos_token_id`:3 for open-end generation.\n"
          ]
        },
        {
          "output_type": "stream",
          "name": "stdout",
          "text": [
            "Title: Helen Greiner\n",
            "Question: What company did Helen Greiner co-found?\n",
            "Correct Answer: iRobot\n",
            "Generated Answer: Intuit\n",
            "BLEU Score: 0.0000\n",
            "ROUGE-L Score: 0.0000\n",
            "Exact Match: 0\n",
            "F1 Score: 0.0000\n",
            "\n",
            "---\n",
            "\n"
          ]
        },
        {
          "output_type": "stream",
          "name": "stderr",
          "text": [
            "Setting `pad_token_id` to `eos_token_id`:3 for open-end generation.\n"
          ]
        },
        {
          "output_type": "stream",
          "name": "stdout",
          "text": [
            "Title: Helen Greiner\n",
            "Question: What position did Helen Greiner hold at CyPhy Works, Inc.?\n",
            "Correct Answer: CEO\n",
            "Generated Answer: CEO\n",
            "BLEU Score: 0.1778\n",
            "ROUGE-L Score: 1.0000\n",
            "Exact Match: 1\n",
            "F1 Score: 1.0000\n",
            "\n",
            "---\n",
            "\n"
          ]
        },
        {
          "output_type": "stream",
          "name": "stderr",
          "text": [
            "Setting `pad_token_id` to `eos_token_id`:3 for open-end generation.\n"
          ]
        },
        {
          "output_type": "stream",
          "name": "stdout",
          "text": [
            "Title: Helen Greiner\n",
            "Question: What notable robotics company did Helen Greiner found in 2008?\n",
            "Correct Answer: CyPhy Works\n",
            "Generated Answer: Willow Garage\n",
            "BLEU Score: 0.0000\n",
            "ROUGE-L Score: 0.0000\n",
            "Exact Match: 0\n",
            "F1 Score: 0.0000\n",
            "\n",
            "---\n",
            "\n"
          ]
        },
        {
          "output_type": "stream",
          "name": "stderr",
          "text": [
            "Setting `pad_token_id` to `eos_token_id`:3 for open-end generation.\n"
          ]
        },
        {
          "output_type": "stream",
          "name": "stdout",
          "text": [
            "Title: Helen Greiner\n",
            "Question: Which award did Helen Greiner receive from the Association for Unmanned Vehicle Systems International in 2006?\n",
            "Correct Answer: Pioneer Award\n",
            "Generated Answer: Humanitarian Award\n",
            "BLEU Score: 0.1495\n",
            "ROUGE-L Score: 0.5000\n",
            "Exact Match: 0\n",
            "F1 Score: 0.5000\n",
            "\n",
            "---\n",
            "\n"
          ]
        },
        {
          "output_type": "stream",
          "name": "stderr",
          "text": [
            "Setting `pad_token_id` to `eos_token_id`:3 for open-end generation.\n"
          ]
        },
        {
          "output_type": "stream",
          "name": "stdout",
          "text": [
            "Title: Nikolaus Friedreich\n",
            "Question: What notable condition is named after Nikolaus Friedreich?\n",
            "Correct Answer: Friedreich's ataxia\n",
            "Generated Answer: Friedreich's ataxia\n",
            "BLEU Score: 0.5623\n",
            "ROUGE-L Score: 1.0000\n",
            "Exact Match: 1\n",
            "F1 Score: 1.0000\n",
            "\n",
            "---\n",
            "\n"
          ]
        },
        {
          "output_type": "stream",
          "name": "stderr",
          "text": [
            "Setting `pad_token_id` to `eos_token_id`:3 for open-end generation.\n"
          ]
        },
        {
          "output_type": "stream",
          "name": "stdout",
          "text": [
            "Title: Nikolaus Friedreich\n",
            "Question: What is Friedreich's disease also known as?\n",
            "Correct Answer: Friedreich's syndrome\n",
            "Generated Answer: FRDA\n",
            "BLEU Score: 0.0000\n",
            "ROUGE-L Score: 0.0000\n",
            "Exact Match: 0\n",
            "F1 Score: 0.0000\n",
            "\n",
            "---\n",
            "\n"
          ]
        },
        {
          "output_type": "stream",
          "name": "stderr",
          "text": [
            "Setting `pad_token_id` to `eos_token_id`:3 for open-end generation.\n"
          ]
        },
        {
          "output_type": "stream",
          "name": "stdout",
          "text": [
            "Title: Nikolaus Friedreich\n",
            "Question: What does Friedreich's ataxia affect?\n",
            "Correct Answer: Speech, balance and coordination\n",
            "Generated Answer: nervous system\n",
            "BLEU Score: 0.0000\n",
            "ROUGE-L Score: 0.0000\n",
            "Exact Match: 0\n",
            "F1 Score: 0.0000\n",
            "\n",
            "---\n",
            "\n"
          ]
        },
        {
          "output_type": "stream",
          "name": "stderr",
          "text": [
            "Setting `pad_token_id` to `eos_token_id`:3 for open-end generation.\n"
          ]
        },
        {
          "output_type": "stream",
          "name": "stdout",
          "text": [
            "Title: Nikolaus Friedreich\n",
            "Question: What genetic disorder is characterized by an unusual gait pattern and named after Nikolaus Friedreich?\n",
            "Correct Answer: Friedreich's ataxia\n",
            "Generated Answer: Friedreich's ataxia\n",
            "BLEU Score: 0.5623\n",
            "ROUGE-L Score: 1.0000\n",
            "Exact Match: 1\n",
            "F1 Score: 1.0000\n",
            "\n",
            "---\n",
            "\n"
          ]
        },
        {
          "output_type": "stream",
          "name": "stderr",
          "text": [
            "Setting `pad_token_id` to `eos_token_id`:3 for open-end generation.\n"
          ]
        },
        {
          "output_type": "stream",
          "name": "stdout",
          "text": [
            "Title: Louis Néel\n",
            "Question: What award did Louis Eugène Félix Néel receive in 1970?\n",
            "Correct Answer: Nobel Prize for Physics\n",
            "Generated Answer: Nobel Prize\n",
            "BLEU Score: 0.1163\n",
            "ROUGE-L Score: 0.6667\n",
            "Exact Match: 0\n",
            "F1 Score: 0.6667\n",
            "\n",
            "---\n",
            "\n"
          ]
        },
        {
          "output_type": "stream",
          "name": "stderr",
          "text": [
            "Setting `pad_token_id` to `eos_token_id`:3 for open-end generation.\n"
          ]
        },
        {
          "output_type": "stream",
          "name": "stdout",
          "text": [
            "Title: Louis Néel\n",
            "Question: What was the field of study that Louis Eugène Félix Néel specialized in?\n",
            "Correct Answer: Magnetic properties of solids\n",
            "Generated Answer: magnetism\n",
            "BLEU Score: 0.0000\n",
            "ROUGE-L Score: 0.4000\n",
            "Exact Match: 0\n",
            "F1 Score: 0.0000\n",
            "\n",
            "---\n",
            "\n"
          ]
        },
        {
          "output_type": "stream",
          "name": "stderr",
          "text": [
            "Setting `pad_token_id` to `eos_token_id`:3 for open-end generation.\n"
          ]
        },
        {
          "output_type": "stream",
          "name": "stdout",
          "text": [
            "Title: Louis Néel\n",
            "Question: What educational institution did Louis Eugène Félix Néel attend for his Doctor of Science degree?\n",
            "Correct Answer: University of Strasbourg\n",
            "Generated Answer: Sorbonne\n",
            "BLEU Score: 0.0000\n",
            "ROUGE-L Score: 0.0000\n",
            "Exact Match: 0\n",
            "F1 Score: 0.0000\n",
            "\n",
            "---\n",
            "\n"
          ]
        },
        {
          "output_type": "stream",
          "name": "stderr",
          "text": [
            "Setting `pad_token_id` to `eos_token_id`:3 for open-end generation.\n"
          ]
        },
        {
          "output_type": "stream",
          "name": "stdout",
          "text": [
            "Title: Louis Néel\n",
            "Question: Which academy elected Louis Eugène Félix Néel as a Foreign Member in 1959?\n",
            "Correct Answer: Royal Netherlands Academy of Arts and Sciences\n",
            "Generated Answer: Royal Society\n",
            "BLEU Score: 0.0123\n",
            "ROUGE-L Score: 0.2222\n",
            "Exact Match: 0\n",
            "F1 Score: 0.2222\n",
            "\n",
            "---\n",
            "\n"
          ]
        },
        {
          "output_type": "stream",
          "name": "stderr",
          "text": [
            "Setting `pad_token_id` to `eos_token_id`:3 for open-end generation.\n"
          ]
        },
        {
          "output_type": "stream",
          "name": "stdout",
          "text": [
            "Title: Lee Lawrie\n",
            "Question: What was Lee Lawrie's nationality?\n",
            "Correct Answer: American\n",
            "Generated Answer: Scottish\n",
            "BLEU Score: 0.0000\n",
            "ROUGE-L Score: 0.0000\n",
            "Exact Match: 0\n",
            "F1 Score: 0.0000\n",
            "\n",
            "---\n",
            "\n"
          ]
        },
        {
          "output_type": "stream",
          "name": "stderr",
          "text": [
            "Setting `pad_token_id` to `eos_token_id`:3 for open-end generation.\n"
          ]
        },
        {
          "output_type": "stream",
          "name": "stdout",
          "text": [
            "Title: Lee Lawrie\n",
            "Question: What major award did Lee Lawrie receive from the American Institute of Architects?\n",
            "Correct Answer: AIA Gold Medal\n",
            "Generated Answer: AIA Gold Medal\n",
            "BLEU Score: 0.5623\n",
            "ROUGE-L Score: 1.0000\n",
            "Exact Match: 1\n",
            "F1 Score: 1.0000\n",
            "\n",
            "---\n",
            "\n"
          ]
        },
        {
          "output_type": "stream",
          "name": "stderr",
          "text": [
            "Setting `pad_token_id` to `eos_token_id`:3 for open-end generation.\n"
          ]
        },
        {
          "output_type": "stream",
          "name": "stdout",
          "text": [
            "Title: Lee Lawrie\n",
            "Question: What year did Lee Lawrie die?\n",
            "Correct Answer: 1963\n",
            "Generated Answer: 1983\n",
            "BLEU Score: 0.0000\n",
            "ROUGE-L Score: 0.0000\n",
            "Exact Match: 0\n",
            "F1 Score: 0.0000\n",
            "\n",
            "---\n",
            "\n"
          ]
        },
        {
          "output_type": "stream",
          "name": "stderr",
          "text": [
            "Setting `pad_token_id` to `eos_token_id`:3 for open-end generation.\n"
          ]
        },
        {
          "output_type": "stream",
          "name": "stdout",
          "text": [
            "Title: Lee Lawrie\n",
            "Question: For which international exposition did Lee Lawrie serve as a consultant in 1933-34?\n",
            "Correct Answer: Century of Progress International Exposition in Chicago\n",
            "Generated Answer: Exposition Internationale des Arts et Techniques dans la Vie Moderne\n",
            "BLEU Score: 0.0211\n",
            "ROUGE-L Score: 0.1176\n",
            "Exact Match: 0\n",
            "F1 Score: 0.1176\n",
            "\n",
            "---\n",
            "\n"
          ]
        },
        {
          "output_type": "stream",
          "name": "stderr",
          "text": [
            "Setting `pad_token_id` to `eos_token_id`:3 for open-end generation.\n"
          ]
        },
        {
          "output_type": "stream",
          "name": "stdout",
          "text": [
            "Title: Dany Robin\n",
            "Question: What was Dany Robin's nationality?\n",
            "Correct Answer: French\n",
            "Generated Answer: American\n",
            "BLEU Score: 0.0000\n",
            "ROUGE-L Score: 0.0000\n",
            "Exact Match: 0\n",
            "F1 Score: 0.0000\n",
            "\n",
            "---\n",
            "\n"
          ]
        },
        {
          "output_type": "stream",
          "name": "stderr",
          "text": [
            "Setting `pad_token_id` to `eos_token_id`:3 for open-end generation.\n"
          ]
        },
        {
          "output_type": "stream",
          "name": "stdout",
          "text": [
            "Title: Dany Robin\n",
            "Question: In which year was Dany Robin born?\n",
            "Correct Answer: 1927\n",
            "Generated Answer: 1920\n",
            "BLEU Score: 0.0000\n",
            "ROUGE-L Score: 0.0000\n",
            "Exact Match: 0\n",
            "F1 Score: 0.0000\n",
            "\n",
            "---\n",
            "\n"
          ]
        },
        {
          "output_type": "stream",
          "name": "stderr",
          "text": [
            "Setting `pad_token_id` to `eos_token_id`:3 for open-end generation.\n"
          ]
        },
        {
          "output_type": "stream",
          "name": "stdout",
          "text": [
            "Title: Dany Robin\n",
            "Question: What was Dany Robin's birth name?\n",
            "Correct Answer: Danielle Robin\n",
            "Generated Answer: Daniel\n",
            "BLEU Score: 0.0000\n",
            "ROUGE-L Score: 0.6667\n",
            "Exact Match: 0\n",
            "F1 Score: 0.0000\n",
            "\n",
            "---\n",
            "\n"
          ]
        },
        {
          "output_type": "stream",
          "name": "stderr",
          "text": [
            "Setting `pad_token_id` to `eos_token_id`:3 for open-end generation.\n"
          ]
        },
        {
          "output_type": "stream",
          "name": "stdout",
          "text": [
            "Title: Dany Robin\n",
            "Question: In what year did Dany Robin die?\n",
            "Correct Answer: 1995\n",
            "Generated Answer: 1978\n",
            "BLEU Score: 0.0000\n",
            "ROUGE-L Score: 0.0000\n",
            "Exact Match: 0\n",
            "F1 Score: 0.0000\n",
            "\n",
            "---\n",
            "\n"
          ]
        },
        {
          "output_type": "stream",
          "name": "stderr",
          "text": [
            "Setting `pad_token_id` to `eos_token_id`:3 for open-end generation.\n"
          ]
        },
        {
          "output_type": "stream",
          "name": "stdout",
          "text": [
            "Title: Dany Robin\n",
            "Question: In which city did Dany Robin die?\n",
            "Correct Answer: Paris\n",
            "Generated Answer: Los Angeles\n",
            "BLEU Score: 0.0000\n",
            "ROUGE-L Score: 0.0000\n",
            "Exact Match: 0\n",
            "F1 Score: 0.0000\n",
            "\n",
            "---\n",
            "\n"
          ]
        },
        {
          "output_type": "stream",
          "name": "stderr",
          "text": [
            "Setting `pad_token_id` to `eos_token_id`:3 for open-end generation.\n"
          ]
        },
        {
          "output_type": "stream",
          "name": "stdout",
          "text": [
            "Title: Dany Robin\n",
            "Question: What was the French pronunciation of Dany Robin's name?\n",
            "Correct Answer: [dani ʁɔbɛ̃]\n",
            "Generated Answer: Dan-ee Roob\n",
            "BLEU Score: 0.0000\n",
            "ROUGE-L Score: 0.0000\n",
            "Exact Match: 0\n",
            "F1 Score: 0.0000\n",
            "\n",
            "---\n",
            "\n"
          ]
        },
        {
          "output_type": "stream",
          "name": "stderr",
          "text": [
            "Setting `pad_token_id` to `eos_token_id`:3 for open-end generation.\n"
          ]
        },
        {
          "output_type": "stream",
          "name": "stdout",
          "text": [
            "Title: Curt Backeberg\n",
            "Question: What was Curt Backeberg's nationality?\n",
            "Correct Answer: German\n",
            "Generated Answer: American\n",
            "BLEU Score: 0.0000\n",
            "ROUGE-L Score: 0.0000\n",
            "Exact Match: 0\n",
            "F1 Score: 0.0000\n",
            "\n",
            "---\n",
            "\n"
          ]
        },
        {
          "output_type": "stream",
          "name": "stderr",
          "text": [
            "Setting `pad_token_id` to `eos_token_id`:3 for open-end generation.\n"
          ]
        },
        {
          "output_type": "stream",
          "name": "stdout",
          "text": [
            "Title: Curt Backeberg\n",
            "Question: Which continents did Curt Backeberg travel through for his work?\n",
            "Correct Answer: Central and South America\n",
            "Generated Answer: North America and South America\n",
            "BLEU Score: 0.2659\n",
            "ROUGE-L Score: 0.6667\n",
            "Exact Match: 0\n",
            "F1 Score: 0.6667\n",
            "\n",
            "---\n",
            "\n"
          ]
        },
        {
          "output_type": "stream",
          "name": "stderr",
          "text": [
            "Setting `pad_token_id` to `eos_token_id`:3 for open-end generation.\n"
          ]
        },
        {
          "output_type": "stream",
          "name": "stdout",
          "text": [
            "Title: Curt Backeberg\n",
            "Question: What is the title of the major work published by Curt Backeberg on cacti?\n",
            "Correct Answer: Die Cactaceae\n",
            "Generated Answer: The Cacti\n",
            "BLEU Score: 0.0000\n",
            "ROUGE-L Score: 0.0000\n",
            "Exact Match: 0\n",
            "F1 Score: 0.0000\n",
            "\n",
            "---\n",
            "\n"
          ]
        },
        {
          "output_type": "stream",
          "name": "stderr",
          "text": [
            "Setting `pad_token_id` to `eos_token_id`:3 for open-end generation.\n"
          ]
        },
        {
          "output_type": "stream",
          "name": "stdout",
          "text": [
            "Title: Curt Backeberg\n",
            "Question: What is the name of the genus named in honor of Curt Backeberg?\n",
            "Correct Answer: Backebergia\n",
            "Generated Answer: Backebergiella\n",
            "BLEU Score: 0.0000\n",
            "ROUGE-L Score: 0.0000\n",
            "Exact Match: 0\n",
            "F1 Score: 0.0000\n",
            "\n",
            "---\n",
            "\n"
          ]
        },
        {
          "output_type": "stream",
          "name": "stderr",
          "text": [
            "Setting `pad_token_id` to `eos_token_id`:3 for open-end generation.\n"
          ]
        },
        {
          "output_type": "stream",
          "name": "stdout",
          "text": [
            "Title: Ida Rolf\n",
            "Question: What field did Ida Rolf contribute to?\n",
            "Correct Answer: alternative medicine\n",
            "Generated Answer: physical therapy\n",
            "BLEU Score: 0.0000\n",
            "ROUGE-L Score: 0.0000\n",
            "Exact Match: 0\n",
            "F1 Score: 0.0000\n",
            "\n",
            "---\n",
            "\n"
          ]
        },
        {
          "output_type": "stream",
          "name": "stderr",
          "text": [
            "Setting `pad_token_id` to `eos_token_id`:3 for open-end generation.\n"
          ]
        },
        {
          "output_type": "stream",
          "name": "stdout",
          "text": [
            "Title: Ida Rolf\n",
            "Question: What is the name of the practice that Ida Rolf created?\n",
            "Correct Answer: Structural Integration or Rolfing\n",
            "Generated Answer: Structural Integration\n",
            "BLEU Score: 0.1163\n",
            "ROUGE-L Score: 0.6667\n",
            "Exact Match: 0\n",
            "F1 Score: 0.6667\n",
            "\n",
            "---\n",
            "\n"
          ]
        },
        {
          "output_type": "stream",
          "name": "stderr",
          "text": [
            "Setting `pad_token_id` to `eos_token_id`:3 for open-end generation.\n"
          ]
        },
        {
          "output_type": "stream",
          "name": "stdout",
          "text": [
            "Title: Ida Rolf\n",
            "Question: What institute did Ida Rolf work at after receiving her PhD?\n",
            "Correct Answer: Rockefeller Institute for Medical Research\n",
            "Generated Answer: The Institute of Living\n",
            "BLEU Score: 0.0626\n",
            "ROUGE-L Score: 0.2222\n",
            "Exact Match: 0\n",
            "F1 Score: 0.2222\n",
            "\n",
            "---\n",
            "\n"
          ]
        },
        {
          "output_type": "stream",
          "name": "stderr",
          "text": [
            "Setting `pad_token_id` to `eos_token_id`:3 for open-end generation.\n"
          ]
        },
        {
          "output_type": "stream",
          "name": "stdout",
          "text": [
            "Title: Ida Rolf\n",
            "Question: What influence did yoga have on Ida Rolf?\n",
            "Correct Answer: It influenced her development of Rolfing\n",
            "Generated Answer: Yoga influenced her work\n",
            "BLEU Score: 0.1031\n",
            "ROUGE-L Score: 0.4000\n",
            "Exact Match: 0\n",
            "F1 Score: 0.4000\n",
            "\n",
            "---\n",
            "\n"
          ]
        },
        {
          "output_type": "stream",
          "name": "stderr",
          "text": [
            "Setting `pad_token_id` to `eos_token_id`:3 for open-end generation.\n"
          ]
        },
        {
          "output_type": "stream",
          "name": "stdout",
          "text": [
            "Title: Ida Rolf\n",
            "Question: What year was the Rolf Institute of Structural Integration consolidated under Ida Rolf's teaching activities?\n",
            "Correct Answer: 1971\n",
            "Generated Answer: 1946\n",
            "BLEU Score: 0.0000\n",
            "ROUGE-L Score: 0.0000\n",
            "Exact Match: 0\n",
            "F1 Score: 0.0000\n",
            "\n",
            "---\n",
            "\n"
          ]
        },
        {
          "output_type": "stream",
          "name": "stderr",
          "text": [
            "Setting `pad_token_id` to `eos_token_id`:3 for open-end generation.\n"
          ]
        },
        {
          "output_type": "stream",
          "name": "stdout",
          "text": [
            "Title: Ida Rolf\n",
            "Question: In what year did Ida Rolf publish 'Rolfing: Reestablishing the Natural Alignment and Structural Integration of the Human Body for Vitality and Well-Being'?\n",
            "Correct Answer: 1979\n",
            "Generated Answer: 1956\n",
            "BLEU Score: 0.0000\n",
            "ROUGE-L Score: 0.0000\n",
            "Exact Match: 0\n",
            "F1 Score: 0.0000\n",
            "\n",
            "---\n",
            "\n"
          ]
        },
        {
          "output_type": "stream",
          "name": "stderr",
          "text": [
            "Setting `pad_token_id` to `eos_token_id`:3 for open-end generation.\n"
          ]
        },
        {
          "output_type": "stream",
          "name": "stdout",
          "text": [
            "Title: Alexandre Mouton\n",
            "Question: In which district was Alexandre Mouton born?\n",
            "Correct Answer: Attakapas district\n",
            "Generated Answer: 1st\n",
            "BLEU Score: 0.0000\n",
            "ROUGE-L Score: 0.0000\n",
            "Exact Match: 0\n",
            "F1 Score: 0.0000\n",
            "\n",
            "---\n",
            "\n"
          ]
        },
        {
          "output_type": "stream",
          "name": "stderr",
          "text": [
            "Setting `pad_token_id` to `eos_token_id`:3 for open-end generation.\n"
          ]
        },
        {
          "output_type": "stream",
          "name": "stdout",
          "text": [
            "Title: Alexandre Mouton\n",
            "Question: What profession did Alexandre Mouton practice after being admitted to the bar in 1825?\n",
            "Correct Answer: Law\n",
            "Generated Answer: lawyer\n",
            "BLEU Score: 0.0000\n",
            "ROUGE-L Score: 0.0000\n",
            "Exact Match: 0\n",
            "F1 Score: 0.0000\n",
            "\n",
            "---\n",
            "\n"
          ]
        },
        {
          "output_type": "stream",
          "name": "stderr",
          "text": [
            "Setting `pad_token_id` to `eos_token_id`:3 for open-end generation.\n"
          ]
        },
        {
          "output_type": "stream",
          "name": "stdout",
          "text": [
            "Title: Alexandre Mouton\n",
            "Question: What did Alexandre Mouton oppose spending on as governor?\n",
            "Correct Answer: Internal improvements\n",
            "Generated Answer: education\n",
            "BLEU Score: 0.0000\n",
            "ROUGE-L Score: 0.0000\n",
            "Exact Match: 0\n",
            "F1 Score: 0.0000\n",
            "\n",
            "---\n",
            "\n"
          ]
        },
        {
          "output_type": "stream",
          "name": "stderr",
          "text": [
            "Setting `pad_token_id` to `eos_token_id`:3 for open-end generation.\n"
          ]
        },
        {
          "output_type": "stream",
          "name": "stdout",
          "text": [
            "Title: Alexandre Mouton\n",
            "Question: What was Alexandre Mouton's role in the Civil War?\n",
            "Correct Answer: President of the State secession convention in 1861\n",
            "Generated Answer: He served as an officer for the French Army\n",
            "BLEU Score: 0.0240\n",
            "ROUGE-L Score: 0.1176\n",
            "Exact Match: 0\n",
            "F1 Score: 0.1176\n",
            "\n",
            "---\n",
            "\n"
          ]
        },
        {
          "output_type": "stream",
          "name": "stderr",
          "text": [
            "Setting `pad_token_id` to `eos_token_id`:3 for open-end generation.\n"
          ]
        },
        {
          "output_type": "stream",
          "name": "stdout",
          "text": [
            "Title: Ernest Ansermet\n",
            "Question: What nationality was Ernest Ansermet?\n",
            "Correct Answer: Swiss\n",
            "Generated Answer: Swiss\n",
            "BLEU Score: 0.1778\n",
            "ROUGE-L Score: 1.0000\n",
            "Exact Match: 1\n",
            "F1 Score: 1.0000\n",
            "\n",
            "---\n",
            "\n"
          ]
        },
        {
          "output_type": "stream",
          "name": "stderr",
          "text": [
            "Setting `pad_token_id` to `eos_token_id`:3 for open-end generation.\n"
          ]
        },
        {
          "output_type": "stream",
          "name": "stdout",
          "text": [
            "Title: Ernest Ansermet\n",
            "Question: What was the name of the orchestra founded by Ernest Ansermet in 1918?\n",
            "Correct Answer: Orchestre de la Suisse Romande\n",
            "Generated Answer: Orchestre de chambre de Lausanne\n",
            "BLEU Score: 0.1136\n",
            "ROUGE-L Score: 0.4000\n",
            "Exact Match: 0\n",
            "F1 Score: 0.4000\n",
            "\n",
            "---\n",
            "\n"
          ]
        },
        {
          "output_type": "stream",
          "name": "stderr",
          "text": [
            "Setting `pad_token_id` to `eos_token_id`:3 for open-end generation.\n"
          ]
        },
        {
          "output_type": "stream",
          "name": "stdout",
          "text": [
            "Title: Ernest Ansermet\n",
            "Question: Which two French composers did Ernest Ansermet meet while traveling in France?\n",
            "Correct Answer: Claude Debussy and Maurice Ravel\n",
            "Generated Answer: Claude Debussy and Maurice Ravel\n",
            "BLEU Score: 1.0000\n",
            "ROUGE-L Score: 1.0000\n",
            "Exact Match: 1\n",
            "F1 Score: 1.0000\n",
            "\n",
            "---\n",
            "\n"
          ]
        },
        {
          "output_type": "stream",
          "name": "stderr",
          "text": [
            "Setting `pad_token_id` to `eos_token_id`:3 for open-end generation.\n"
          ]
        },
        {
          "output_type": "stream",
          "name": "stdout",
          "text": [
            "Title: Ernest Ansermet\n",
            "Question: With which record company did Ernest Ansermet and his orchestra sign a long-term contract after World War II?\n",
            "Correct Answer: Decca Records\n",
            "Generated Answer: Deutsche Grammophon\n",
            "BLEU Score: 0.0000\n",
            "ROUGE-L Score: 0.0000\n",
            "Exact Match: 0\n",
            "F1 Score: 0.0000\n",
            "\n",
            "---\n",
            "\n"
          ]
        },
        {
          "output_type": "stream",
          "name": "stderr",
          "text": [
            "Setting `pad_token_id` to `eos_token_id`:3 for open-end generation.\n"
          ]
        },
        {
          "output_type": "stream",
          "name": "stdout",
          "text": [
            "Title: P. A. Yeomans\n",
            "Question: What are P.A. Yeomans' Keyline principles known for influencing?\n",
            "Correct Answer: The development of permaculture design.\n",
            "Generated Answer: agriculture\n",
            "BLEU Score: 0.0000\n",
            "ROUGE-L Score: 0.0000\n",
            "Exact Match: 0\n",
            "F1 Score: 0.0000\n",
            "\n",
            "---\n",
            "\n"
          ]
        },
        {
          "output_type": "stream",
          "name": "stderr",
          "text": [
            "Setting `pad_token_id` to `eos_token_id`:3 for open-end generation.\n"
          ]
        },
        {
          "output_type": "stream",
          "name": "stdout",
          "text": [
            "Title: P. A. Yeomans\n",
            "Question: What is the title of one of P.A. Yeomans' books that focuses on water management?\n",
            "Correct Answer: Water For Every Farm.\n",
            "Generated Answer: Water Management\n",
            "BLEU Score: 0.0550\n",
            "ROUGE-L Score: 0.3333\n",
            "Exact Match: 0\n",
            "F1 Score: 0.3333\n",
            "\n",
            "---\n",
            "\n"
          ]
        },
        {
          "output_type": "stream",
          "name": "stderr",
          "text": [
            "Setting `pad_token_id` to `eos_token_id`:3 for open-end generation.\n"
          ]
        },
        {
          "output_type": "stream",
          "name": "stdout",
          "text": [
            "Title: P. A. Yeomans\n",
            "Question: Besides 'The Keyline Plan', can you name another book written by P.A. Yeomans?\n",
            "Correct Answer: The Challenge of Landscape.\n",
            "Generated Answer: The Geomancer\n",
            "BLEU Score: 0.0550\n",
            "ROUGE-L Score: 0.3333\n",
            "Exact Match: 0\n",
            "F1 Score: 0.3333\n",
            "\n",
            "---\n",
            "\n"
          ]
        },
        {
          "output_type": "stream",
          "name": "stderr",
          "text": [
            "Setting `pad_token_id` to `eos_token_id`:3 for open-end generation.\n"
          ]
        },
        {
          "output_type": "stream",
          "name": "stdout",
          "text": [
            "Title: P. A. Yeomans\n",
            "Question: Where is Nevallan, the tract of land managed by P.A. Yeomans, located?\n",
            "Correct Answer: New South Wales.\n",
            "Generated Answer: Victoria\n",
            "BLEU Score: 0.0000\n",
            "ROUGE-L Score: 0.0000\n",
            "Exact Match: 0\n",
            "F1 Score: 0.0000\n",
            "\n",
            "---\n",
            "\n"
          ]
        },
        {
          "output_type": "stream",
          "name": "stderr",
          "text": [
            "Setting `pad_token_id` to `eos_token_id`:3 for open-end generation.\n"
          ]
        },
        {
          "output_type": "stream",
          "name": "stdout",
          "text": [
            "Title: P. A. Yeomans\n",
            "Question: What sustainable practice is P.A. Yeomans credited with helping to develop?\n",
            "Correct Answer: Permaculture design.\n",
            "Generated Answer: permaculture\n",
            "BLEU Score: 0.0654\n",
            "ROUGE-L Score: 0.6667\n",
            "Exact Match: 0\n",
            "F1 Score: 0.6667\n",
            "\n",
            "---\n",
            "\n"
          ]
        },
        {
          "output_type": "stream",
          "name": "stderr",
          "text": [
            "Setting `pad_token_id` to `eos_token_id`:3 for open-end generation.\n"
          ]
        },
        {
          "output_type": "stream",
          "name": "stdout",
          "text": [
            "Title: Karl Hartl\n",
            "Question: What nationality was Karl Hartl?\n",
            "Correct Answer: Austrian\n",
            "Generated Answer: Austrian\n",
            "BLEU Score: 0.1778\n",
            "ROUGE-L Score: 1.0000\n",
            "Exact Match: 1\n",
            "F1 Score: 1.0000\n",
            "\n",
            "---\n",
            "\n"
          ]
        },
        {
          "output_type": "stream",
          "name": "stderr",
          "text": [
            "Setting `pad_token_id` to `eos_token_id`:3 for open-end generation.\n"
          ]
        },
        {
          "output_type": "stream",
          "name": "stdout",
          "text": [
            "Title: Karl Hartl\n",
            "Question: What was Karl Hartl's profession?\n",
            "Correct Answer: Film director\n",
            "Generated Answer: He is an Austrian-born American physicist\n",
            "BLEU Score: 0.0000\n",
            "ROUGE-L Score: 0.0000\n",
            "Exact Match: 0\n",
            "F1 Score: 0.0000\n",
            "\n",
            "---\n",
            "\n"
          ]
        },
        {
          "output_type": "stream",
          "name": "stderr",
          "text": [
            "Setting `pad_token_id` to `eos_token_id`:3 for open-end generation.\n"
          ]
        },
        {
          "output_type": "stream",
          "name": "stdout",
          "text": [
            "Title: Karl Hartl\n",
            "Question: For which film company did Karl Hartl work for from 1930?\n",
            "Correct Answer: Universum Film AG (UFA)\n",
            "Generated Answer: UFA\n",
            "BLEU Score: 0.0089\n",
            "ROUGE-L Score: 0.4000\n",
            "Exact Match: 0\n",
            "F1 Score: 0.4000\n",
            "\n",
            "---\n",
            "\n"
          ]
        },
        {
          "output_type": "stream",
          "name": "stderr",
          "text": [
            "Setting `pad_token_id` to `eos_token_id`:3 for open-end generation.\n"
          ]
        },
        {
          "output_type": "stream",
          "name": "stdout",
          "text": [
            "Title: Karl Hartl\n",
            "Question: Where is Karl Hartl buried?\n",
            "Correct Answer: Hietzing cemetery, Vienna\n",
            "Generated Answer: Vienna\n",
            "BLEU Score: 0.0241\n",
            "ROUGE-L Score: 0.5000\n",
            "Exact Match: 0\n",
            "F1 Score: 0.5000\n",
            "\n",
            "---\n",
            "\n"
          ]
        },
        {
          "output_type": "stream",
          "name": "stderr",
          "text": [
            "Setting `pad_token_id` to `eos_token_id`:3 for open-end generation.\n"
          ]
        },
        {
          "output_type": "stream",
          "name": "stdout",
          "text": [
            "Title: Karl Hartl\n",
            "Question: What city was Karl Hartl born in?\n",
            "Correct Answer: Vienna\n",
            "Generated Answer: Vienna\n",
            "BLEU Score: 0.1778\n",
            "ROUGE-L Score: 1.0000\n",
            "Exact Match: 1\n",
            "F1 Score: 1.0000\n",
            "\n",
            "---\n",
            "\n"
          ]
        },
        {
          "output_type": "stream",
          "name": "stderr",
          "text": [
            "Setting `pad_token_id` to `eos_token_id`:3 for open-end generation.\n"
          ]
        },
        {
          "output_type": "stream",
          "name": "stdout",
          "text": [
            "Title: Alicia de Larrocha\n",
            "Question: What was Alicia de Larrocha known for?\n",
            "Correct Answer: Being a Spanish pianist and composer.\n",
            "Generated Answer: Spanish pianist\n",
            "BLEU Score: 0.0428\n",
            "ROUGE-L Score: 0.5000\n",
            "Exact Match: 0\n",
            "F1 Score: 0.5000\n",
            "\n",
            "---\n",
            "\n"
          ]
        },
        {
          "output_type": "stream",
          "name": "stderr",
          "text": [
            "Setting `pad_token_id` to `eos_token_id`:3 for open-end generation.\n"
          ]
        },
        {
          "output_type": "stream",
          "name": "stdout",
          "text": [
            "Title: Alicia de Larrocha\n",
            "Question: What award did Alicia de Larrocha receive from the Prince of Asturias?\n",
            "Correct Answer: Award for the Arts\n",
            "Generated Answer: Princess of Asturias Award\n",
            "BLEU Score: 0.0803\n",
            "ROUGE-L Score: 0.2500\n",
            "Exact Match: 0\n",
            "F1 Score: 0.2500\n",
            "\n",
            "---\n",
            "\n"
          ]
        },
        {
          "output_type": "stream",
          "name": "stderr",
          "text": [
            "Setting `pad_token_id` to `eos_token_id`:3 for open-end generation.\n"
          ]
        },
        {
          "output_type": "stream",
          "name": "stdout",
          "text": [
            "Title: Alicia de Larrocha\n",
            "Question: Which composers' works did Alicia de Larrocha bring greater popularity to?\n",
            "Correct Answer: Isaac Albéniz and Enrique Granados\n",
            "Generated Answer: Chopin\n",
            "BLEU Score: 0.0000\n",
            "ROUGE-L Score: 0.0000\n",
            "Exact Match: 0\n",
            "F1 Score: 0.0000\n",
            "\n",
            "---\n",
            "\n"
          ]
        },
        {
          "output_type": "stream",
          "name": "stderr",
          "text": [
            "Setting `pad_token_id` to `eos_token_id`:3 for open-end generation.\n"
          ]
        },
        {
          "output_type": "stream",
          "name": "stdout",
          "text": [
            "Title: Alicia de Larrocha\n",
            "Question: Where was Alicia de Larrocha born?\n",
            "Correct Answer: Barcelona, Catalonia, Spain\n",
            "Generated Answer: Barcelona\n",
            "BLEU Score: 0.0241\n",
            "ROUGE-L Score: 0.5000\n",
            "Exact Match: 0\n",
            "F1 Score: 0.5000\n",
            "\n",
            "---\n",
            "\n"
          ]
        },
        {
          "output_type": "stream",
          "name": "stderr",
          "text": [
            "Setting `pad_token_id` to `eos_token_id`:3 for open-end generation.\n"
          ]
        },
        {
          "output_type": "stream",
          "name": "stdout",
          "text": [
            "Title: Alicia de Larrocha\n",
            "Question: How old was Alicia de Larrocha when she died?\n",
            "Correct Answer: 86\n",
            "Generated Answer: 72\n",
            "BLEU Score: 0.0000\n",
            "ROUGE-L Score: 0.0000\n",
            "Exact Match: 0\n",
            "F1 Score: 0.0000\n",
            "\n",
            "---\n",
            "\n"
          ]
        },
        {
          "output_type": "stream",
          "name": "stderr",
          "text": [
            "Setting `pad_token_id` to `eos_token_id`:3 for open-end generation.\n"
          ]
        },
        {
          "output_type": "stream",
          "name": "stdout",
          "text": [
            "Title: Abbott Lawrence\n",
            "Question: What industry did the Lawrence brothers help establish in New England?\n",
            "Correct Answer: The cotton textile industry\n",
            "Generated Answer: textile\n",
            "BLEU Score: 0.0089\n",
            "ROUGE-L Score: 0.4000\n",
            "Exact Match: 0\n",
            "F1 Score: 0.4000\n",
            "\n",
            "---\n",
            "\n"
          ]
        },
        {
          "output_type": "stream",
          "name": "stderr",
          "text": [
            "Setting `pad_token_id` to `eos_token_id`:3 for open-end generation.\n"
          ]
        },
        {
          "output_type": "stream",
          "name": "stdout",
          "text": [
            "Title: Abbott Lawrence\n",
            "Question: What was the name of the settlement that was named in honor of Abbott Lawrence?\n",
            "Correct Answer: Lawrence, Massachusetts\n",
            "Generated Answer: Abbot's\n",
            "BLEU Score: 0.0000\n",
            "ROUGE-L Score: 0.0000\n",
            "Exact Match: 0\n",
            "F1 Score: 0.0000\n",
            "\n",
            "---\n",
            "\n"
          ]
        },
        {
          "output_type": "stream",
          "name": "stderr",
          "text": [
            "Setting `pad_token_id` to `eos_token_id`:3 for open-end generation.\n"
          ]
        },
        {
          "output_type": "stream",
          "name": "stdout",
          "text": [
            "Title: Abbott Lawrence\n",
            "Question: What political party did Abbott Lawrence represent as a US Representative?\n",
            "Correct Answer: Whig\n",
            "Generated Answer: Republican\n",
            "BLEU Score: 0.0000\n",
            "ROUGE-L Score: 0.0000\n",
            "Exact Match: 0\n",
            "F1 Score: 0.0000\n",
            "\n",
            "---\n",
            "\n"
          ]
        },
        {
          "output_type": "stream",
          "name": "stderr",
          "text": [
            "Setting `pad_token_id` to `eos_token_id`:3 for open-end generation.\n"
          ]
        },
        {
          "output_type": "stream",
          "name": "stdout",
          "text": [
            "Title: Abbott Lawrence\n",
            "Question: What cause did Abbott Lawrence grow dissatisfied with, leading him to abandon the Whig party?\n",
            "Correct Answer: The Whig stand on slavery\n",
            "Generated Answer: slavery\n",
            "BLEU Score: 0.0033\n",
            "ROUGE-L Score: 0.3333\n",
            "Exact Match: 0\n",
            "F1 Score: 0.3333\n",
            "\n",
            "---\n",
            "\n"
          ]
        },
        {
          "output_type": "stream",
          "name": "stderr",
          "text": [
            "Setting `pad_token_id` to `eos_token_id`:3 for open-end generation.\n"
          ]
        },
        {
          "output_type": "stream",
          "name": "stdout",
          "text": [
            "Title: Abbott Lawrence\n",
            "Question: Where is Abbott Lawrence interred?\n",
            "Correct Answer: Mount Auburn Cemetery, Cambridge, Massachusetts\n",
            "Generated Answer: Mount Auburn Cemetery\n",
            "BLEU Score: 0.2887\n",
            "ROUGE-L Score: 0.7500\n",
            "Exact Match: 0\n",
            "F1 Score: 0.7500\n",
            "\n",
            "---\n",
            "\n"
          ]
        },
        {
          "output_type": "stream",
          "name": "stderr",
          "text": [
            "Setting `pad_token_id` to `eos_token_id`:3 for open-end generation.\n"
          ]
        },
        {
          "output_type": "stream",
          "name": "stdout",
          "text": [
            "Title: Jürgen Ehlers\n",
            "Question: In which field did Jürgen Ehlers specialize?\n",
            "Correct Answer: Physics\n",
            "Generated Answer: mathematics\n",
            "BLEU Score: 0.0000\n",
            "ROUGE-L Score: 0.0000\n",
            "Exact Match: 0\n",
            "F1 Score: 0.0000\n",
            "\n",
            "---\n",
            "\n"
          ]
        },
        {
          "output_type": "stream",
          "name": "stderr",
          "text": [
            "Setting `pad_token_id` to `eos_token_id`:3 for open-end generation.\n"
          ]
        },
        {
          "output_type": "stream",
          "name": "stdout",
          "text": [
            "Title: Jürgen Ehlers\n",
            "Question: Where did Jürgen Ehlers undertake his graduate and postgraduate work?\n",
            "Correct Answer: Hamburg University\n",
            "Generated Answer: University of Göttingen\n",
            "BLEU Score: 0.1136\n",
            "ROUGE-L Score: 0.3333\n",
            "Exact Match: 0\n",
            "F1 Score: 0.4000\n",
            "\n",
            "---\n",
            "\n"
          ]
        },
        {
          "output_type": "stream",
          "name": "stderr",
          "text": [
            "Setting `pad_token_id` to `eos_token_id`:3 for open-end generation.\n"
          ]
        },
        {
          "output_type": "stream",
          "name": "stdout",
          "text": [
            "Title: Jürgen Ehlers\n",
            "Question: What position did Jürgen Ehlers hold at the Max Planck Institute for Astrophysics in Munich?\n",
            "Correct Answer: Director\n",
            "Generated Answer: Director\n",
            "BLEU Score: 0.1778\n",
            "ROUGE-L Score: 1.0000\n",
            "Exact Match: 1\n",
            "F1 Score: 1.0000\n",
            "\n",
            "---\n",
            "\n"
          ]
        },
        {
          "output_type": "stream",
          "name": "stderr",
          "text": [
            "Setting `pad_token_id` to `eos_token_id`:3 for open-end generation.\n"
          ]
        },
        {
          "output_type": "stream",
          "name": "stdout",
          "text": [
            "Title: Jürgen Ehlers\n",
            "Question: When did Jürgen Ehlers become the founding director of the Max Planck Institute for Gravitational Physics?\n",
            "Correct Answer: 1995\n",
            "Generated Answer: 2015\n",
            "BLEU Score: 0.0000\n",
            "ROUGE-L Score: 0.0000\n",
            "Exact Match: 0\n",
            "F1 Score: 0.0000\n",
            "\n",
            "---\n",
            "\n"
          ]
        },
        {
          "output_type": "stream",
          "name": "stderr",
          "text": [
            "Setting `pad_token_id` to `eos_token_id`:3 for open-end generation.\n"
          ]
        },
        {
          "output_type": "stream",
          "name": "stdout",
          "text": [
            "Title: Jürgen Ehlers\n",
            "Question: Which university awarded Jürgen Ehlers his doctorate?\n",
            "Correct Answer: Hamburg University\n",
            "Generated Answer: University of Göttingen\n",
            "BLEU Score: 0.1136\n",
            "ROUGE-L Score: 0.3333\n",
            "Exact Match: 0\n",
            "F1 Score: 0.4000\n",
            "\n",
            "---\n",
            "\n"
          ]
        },
        {
          "output_type": "stream",
          "name": "stderr",
          "text": [
            "Setting `pad_token_id` to `eos_token_id`:3 for open-end generation.\n"
          ]
        },
        {
          "output_type": "stream",
          "name": "stdout",
          "text": [
            "Title: Jürgen Ehlers\n",
            "Question: Which institute did Jürgen Ehlers lobby for the establishment of after German reunification?\n",
            "Correct Answer: Max Planck Institute for Gravitational Physics in Potsdam\n",
            "Generated Answer: Max Planck Institute\n",
            "BLEU Score: 0.1062\n",
            "ROUGE-L Score: 0.5455\n",
            "Exact Match: 0\n",
            "F1 Score: 0.5455\n",
            "\n",
            "---\n",
            "\n"
          ]
        },
        {
          "output_type": "stream",
          "name": "stderr",
          "text": [
            "Setting `pad_token_id` to `eos_token_id`:3 for open-end generation.\n"
          ]
        },
        {
          "output_type": "stream",
          "name": "stdout",
          "text": [
            "Title: Gabrielle Bossis\n",
            "Question: What was Gabrielle Bossis known for?\n",
            "Correct Answer: Gabrielle Bossis was known for her mystical work Lui et Moi.\n",
            "Generated Answer: French actress\n",
            "BLEU Score: 0.0000\n",
            "ROUGE-L Score: 0.0000\n",
            "Exact Match: 0\n",
            "F1 Score: 0.0000\n",
            "\n",
            "---\n",
            "\n"
          ]
        },
        {
          "output_type": "stream",
          "name": "stderr",
          "text": [
            "Setting `pad_token_id` to `eos_token_id`:3 for open-end generation.\n"
          ]
        },
        {
          "output_type": "stream",
          "name": "stdout",
          "text": [
            "Title: Gabrielle Bossis\n",
            "Question: What profession did Gabrielle Bossis have during World War I?\n",
            "Correct Answer: Gabrielle Bossis was a nurse during World War I.\n",
            "Generated Answer: nurse\n",
            "BLEU Score: 0.0001\n",
            "ROUGE-L Score: 0.2000\n",
            "Exact Match: 0\n",
            "F1 Score: 0.2000\n",
            "\n",
            "---\n",
            "\n"
          ]
        },
        {
          "output_type": "stream",
          "name": "stderr",
          "text": [
            "Setting `pad_token_id` to `eos_token_id`:3 for open-end generation.\n"
          ]
        },
        {
          "output_type": "stream",
          "name": "stdout",
          "text": [
            "Title: Gabrielle Bossis\n",
            "Question: In what year did Gabrielle Bossis start hearing a mysterious inner voice?\n",
            "Correct Answer: Gabrielle Bossis started hearing a mysterious inner voice in 1936.\n",
            "Generated Answer: 1987\n",
            "BLEU Score: 0.0000\n",
            "ROUGE-L Score: 0.0000\n",
            "Exact Match: 0\n",
            "F1 Score: 0.0000\n",
            "\n",
            "---\n",
            "\n"
          ]
        },
        {
          "output_type": "stream",
          "name": "stderr",
          "text": [
            "Setting `pad_token_id` to `eos_token_id`:3 for open-end generation.\n"
          ]
        },
        {
          "output_type": "stream",
          "name": "stdout",
          "text": [
            "Title: Gabrielle Bossis\n",
            "Question: How many notebooks did Gabrielle Bossis fill with her mystical experiences?\n",
            "Correct Answer: Gabrielle Bossis filled 10 notebooks with her mystical experiences.\n",
            "Generated Answer: 1\n",
            "BLEU Score: 0.0000\n",
            "ROUGE-L Score: 0.0000\n",
            "Exact Match: 0\n",
            "F1 Score: 0.0000\n",
            "\n",
            "---\n",
            "\n"
          ]
        },
        {
          "output_type": "stream",
          "name": "stderr",
          "text": [
            "Setting `pad_token_id` to `eos_token_id`:3 for open-end generation.\n"
          ]
        },
        {
          "output_type": "stream",
          "name": "stdout",
          "text": [
            "Title: Gabrielle Bossis\n",
            "Question: Where did Gabrielle Bossis find refuge during the German occupation in 1940?\n",
            "Correct Answer: Gabrielle Bossis found refuge in Curzon during the German occupation in 1940.\n",
            "Generated Answer: The Hague\n",
            "BLEU Score: 0.0010\n",
            "ROUGE-L Score: 0.1429\n",
            "Exact Match: 0\n",
            "F1 Score: 0.1429\n",
            "\n",
            "---\n",
            "\n"
          ]
        },
        {
          "output_type": "stream",
          "name": "stderr",
          "text": [
            "Setting `pad_token_id` to `eos_token_id`:3 for open-end generation.\n"
          ]
        },
        {
          "output_type": "stream",
          "name": "stdout",
          "text": [
            "Title: Gabrielle Bossis\n",
            "Question: What was Gabrielle Bossis's profession besides being a mystic and playwright?\n",
            "Correct Answer: Gabrielle Bossis was also a nurse and an actress.\n",
            "Generated Answer: poet\n",
            "BLEU Score: 0.0000\n",
            "ROUGE-L Score: 0.0000\n",
            "Exact Match: 0\n",
            "F1 Score: 0.0000\n",
            "\n",
            "---\n",
            "\n"
          ]
        },
        {
          "output_type": "stream",
          "name": "stderr",
          "text": [
            "Setting `pad_token_id` to `eos_token_id`:3 for open-end generation.\n"
          ]
        },
        {
          "output_type": "stream",
          "name": "stdout",
          "text": [
            "Title: Gabrielle Bossis\n",
            "Question: In what city was Gabrielle Bossis born?\n",
            "Correct Answer: Gabrielle Bossis was born in Nantes.\n",
            "Generated Answer: Montreal\n",
            "BLEU Score: 0.0000\n",
            "ROUGE-L Score: 0.0000\n",
            "Exact Match: 0\n",
            "F1 Score: 0.0000\n",
            "\n",
            "---\n",
            "\n"
          ]
        },
        {
          "output_type": "stream",
          "name": "stderr",
          "text": [
            "Setting `pad_token_id` to `eos_token_id`:3 for open-end generation.\n"
          ]
        },
        {
          "output_type": "stream",
          "name": "stdout",
          "text": [
            "Title: Gabrielle Bossis\n",
            "Question: Who was the Bishop that Gabrielle Bossis presented her notes to in 1944?\n",
            "Correct Answer: Gabrielle Bossis presented her notes to Bishop Villepelet in 1944.\n",
            "Generated Answer: Marcel Lefebvre\n",
            "BLEU Score: 0.0000\n",
            "ROUGE-L Score: 0.0000\n",
            "Exact Match: 0\n",
            "F1 Score: 0.0000\n",
            "\n",
            "---\n",
            "\n"
          ]
        },
        {
          "output_type": "stream",
          "name": "stderr",
          "text": [
            "Setting `pad_token_id` to `eos_token_id`:3 for open-end generation.\n"
          ]
        },
        {
          "output_type": "stream",
          "name": "stdout",
          "text": [
            "Title: Gabrielle Bossis\n",
            "Question: What did Gabrielle Bossis do with the words she believed were from Jesus Christ?\n",
            "Correct Answer: Gabrielle Bossis jotted down the words she believed were from Jesus Christ and wrote them in notebooks.\n",
            "Generated Answer: wrote them down\n",
            "BLEU Score: 0.0025\n",
            "ROUGE-L Score: 0.2000\n",
            "Exact Match: 0\n",
            "F1 Score: 0.3000\n",
            "\n",
            "---\n",
            "\n"
          ]
        },
        {
          "output_type": "stream",
          "name": "stderr",
          "text": [
            "Setting `pad_token_id` to `eos_token_id`:3 for open-end generation.\n"
          ]
        },
        {
          "output_type": "stream",
          "name": "stdout",
          "text": [
            "Title: Franz Welser-Möst\n",
            "Question: What is Franz Welser-Möst's nationality?\n",
            "Correct Answer: Austrian\n",
            "Generated Answer: Austrian\n",
            "BLEU Score: 0.1778\n",
            "ROUGE-L Score: 1.0000\n",
            "Exact Match: 1\n",
            "F1 Score: 1.0000\n",
            "\n",
            "---\n",
            "\n"
          ]
        },
        {
          "output_type": "stream",
          "name": "stderr",
          "text": [
            "Setting `pad_token_id` to `eos_token_id`:3 for open-end generation.\n"
          ]
        },
        {
          "output_type": "stream",
          "name": "stdout",
          "text": [
            "Title: Franz Welser-Möst\n",
            "Question: What role does Franz Welser-Möst currently hold with the Cleveland Orchestra?\n",
            "Correct Answer: Music director\n",
            "Generated Answer: Music Director\n",
            "BLEU Score: 0.3162\n",
            "ROUGE-L Score: 1.0000\n",
            "Exact Match: 1\n",
            "F1 Score: 1.0000\n",
            "\n",
            "---\n",
            "\n"
          ]
        },
        {
          "output_type": "stream",
          "name": "stderr",
          "text": [
            "Setting `pad_token_id` to `eos_token_id`:3 for open-end generation.\n"
          ]
        },
        {
          "output_type": "stream",
          "name": "stdout",
          "text": [
            "Title: Franz Welser-Möst\n",
            "Question: In which city was Franz Welser-Möst born?\n",
            "Correct Answer: Linz, Austria\n",
            "Generated Answer: Vienna\n",
            "BLEU Score: 0.0000\n",
            "ROUGE-L Score: 0.0000\n",
            "Exact Match: 0\n",
            "F1 Score: 0.0000\n",
            "\n",
            "---\n",
            "\n"
          ]
        },
        {
          "output_type": "stream",
          "name": "stderr",
          "text": [
            "Setting `pad_token_id` to `eos_token_id`:3 for open-end generation.\n"
          ]
        },
        {
          "output_type": "stream",
          "name": "stdout",
          "text": [
            "Title: Franz Welser-Möst\n",
            "Question: How many DVDs of Franz Welser-Möst's Zürich opera productions were released by EMI?\n",
            "Correct Answer: A number of DVDs\n",
            "Generated Answer: 15\n",
            "BLEU Score: 0.0000\n",
            "ROUGE-L Score: 0.0000\n",
            "Exact Match: 0\n",
            "F1 Score: 0.0000\n",
            "\n",
            "---\n",
            "\n"
          ]
        },
        {
          "output_type": "stream",
          "name": "stderr",
          "text": [
            "Setting `pad_token_id` to `eos_token_id`:3 for open-end generation.\n"
          ]
        },
        {
          "output_type": "stream",
          "name": "stdout",
          "text": [
            "Title: Red Badgro\n",
            "Question: In what year did Red Badgro score the first touchdown in the first NFL Championship Game?\n",
            "Correct Answer: 1933\n",
            "Generated Answer: 1932\n",
            "BLEU Score: 0.0000\n",
            "ROUGE-L Score: 0.0000\n",
            "Exact Match: 0\n",
            "F1 Score: 0.0000\n",
            "\n",
            "---\n",
            "\n"
          ]
        },
        {
          "output_type": "stream",
          "name": "stderr",
          "text": [
            "Setting `pad_token_id` to `eos_token_id`:3 for open-end generation.\n"
          ]
        },
        {
          "output_type": "stream",
          "name": "stdout",
          "text": [
            "Title: Red Badgro\n",
            "Question: Which NFL Championship team was Red Badgro a member of in 1934?\n",
            "Correct Answer: New York Giants\n",
            "Generated Answer: Chicago Bears\n",
            "BLEU Score: 0.0000\n",
            "ROUGE-L Score: 0.0000\n",
            "Exact Match: 0\n",
            "F1 Score: 0.0000\n",
            "\n",
            "---\n",
            "\n"
          ]
        },
        {
          "output_type": "stream",
          "name": "stderr",
          "text": [
            "Setting `pad_token_id` to `eos_token_id`:3 for open-end generation.\n"
          ]
        },
        {
          "output_type": "stream",
          "name": "stdout",
          "text": [
            "Title: Red Badgro\n",
            "Question: What was Red Badgro's role in the 1934 NFL Championship Game?\n",
            "Correct Answer: Player\n",
            "Generated Answer: He scored two touchdowns\n",
            "BLEU Score: 0.0000\n",
            "ROUGE-L Score: 0.0000\n",
            "Exact Match: 0\n",
            "F1 Score: 0.0000\n",
            "\n",
            "---\n",
            "\n"
          ]
        },
        {
          "output_type": "stream",
          "name": "stderr",
          "text": [
            "Setting `pad_token_id` to `eos_token_id`:3 for open-end generation.\n"
          ]
        },
        {
          "output_type": "stream",
          "name": "stdout",
          "text": [
            "Title: Red Badgro\n",
            "Question: What was Red Badgro's primary sport focus in high school?\n",
            "Correct Answer: Baseball and basketball\n",
            "Generated Answer: football\n",
            "BLEU Score: 0.0000\n",
            "ROUGE-L Score: 0.0000\n",
            "Exact Match: 0\n",
            "F1 Score: 0.0000\n",
            "\n",
            "---\n",
            "\n"
          ]
        },
        {
          "output_type": "stream",
          "name": "stderr",
          "text": [
            "Setting `pad_token_id` to `eos_token_id`:3 for open-end generation.\n"
          ]
        },
        {
          "output_type": "stream",
          "name": "stdout",
          "text": [
            "Title: Karl-Otto Apel\n",
            "Question: Which university was Karl-Otto Apel a Professor Emeritus at?\n",
            "Correct Answer: University of Frankfurt am Main\n",
            "Generated Answer: University of Heidelberg\n",
            "BLEU Score: 0.1234\n",
            "ROUGE-L Score: 0.5000\n",
            "Exact Match: 0\n",
            "F1 Score: 0.5000\n",
            "\n",
            "---\n",
            "\n"
          ]
        },
        {
          "output_type": "stream",
          "name": "stderr",
          "text": [
            "Setting `pad_token_id` to `eos_token_id`:3 for open-end generation.\n"
          ]
        },
        {
          "output_type": "stream",
          "name": "stdout",
          "text": [
            "Title: Karl-Otto Apel\n",
            "Question: What was Karl-Otto Apel's field of specialization?\n",
            "Correct Answer: Philosophy of language\n",
            "Generated Answer: philosophy\n",
            "BLEU Score: 0.0241\n",
            "ROUGE-L Score: 0.5000\n",
            "Exact Match: 0\n",
            "F1 Score: 0.5000\n",
            "\n",
            "---\n",
            "\n"
          ]
        },
        {
          "output_type": "stream",
          "name": "stderr",
          "text": [
            "Setting `pad_token_id` to `eos_token_id`:3 for open-end generation.\n"
          ]
        },
        {
          "output_type": "stream",
          "name": "stdout",
          "text": [
            "Title: Karl-Otto Apel\n",
            "Question: What major philosophical theory did Karl-Otto Apel co-develop with Jürgen Habermas?\n",
            "Correct Answer: Theory of communicative action and discourse ethics\n",
            "Generated Answer: communicative action\n",
            "BLEU Score: 0.0260\n",
            "ROUGE-L Score: 0.4444\n",
            "Exact Match: 0\n",
            "F1 Score: 0.4444\n",
            "\n",
            "---\n",
            "\n"
          ]
        },
        {
          "output_type": "stream",
          "name": "stderr",
          "text": [
            "Setting `pad_token_id` to `eos_token_id`:3 for open-end generation.\n"
          ]
        },
        {
          "output_type": "stream",
          "name": "stdout",
          "text": [
            "Title: Karl-Otto Apel\n",
            "Question: What was Karl-Otto Apel's academic position at the University of Kiel from 1962 to 1969?\n",
            "Correct Answer: Full professor of philosophy\n",
            "Generated Answer: Professor\n",
            "BLEU Score: 0.0089\n",
            "ROUGE-L Score: 0.4000\n",
            "Exact Match: 0\n",
            "F1 Score: 0.4000\n",
            "\n",
            "---\n",
            "\n"
          ]
        },
        {
          "output_type": "stream",
          "name": "stderr",
          "text": [
            "Setting `pad_token_id` to `eos_token_id`:3 for open-end generation.\n"
          ]
        },
        {
          "output_type": "stream",
          "name": "stdout",
          "text": [
            "Title: Bruce Graham\n",
            "Question: What architectural firm did Bruce Graham join in 1951?\n",
            "Correct Answer: Skidmore, Owings and Merrill\n",
            "Generated Answer: Skidmore, Owings & Merrill\n",
            "BLEU Score: 0.1905\n",
            "ROUGE-L Score: 0.8571\n",
            "Exact Match: 0\n",
            "F1 Score: 0.8571\n",
            "\n",
            "---\n",
            "\n"
          ]
        },
        {
          "output_type": "stream",
          "name": "stderr",
          "text": [
            "Setting `pad_token_id` to `eos_token_id`:3 for open-end generation.\n"
          ]
        },
        {
          "output_type": "stream",
          "name": "stdout",
          "text": [
            "Title: Bruce Graham\n",
            "Question: Which building designed by Bruce Graham was the tallest in the world for nearly 36 years?\n",
            "Correct Answer: Willis Tower\n",
            "Generated Answer: Empire State Building\n",
            "BLEU Score: 0.0000\n",
            "ROUGE-L Score: 0.0000\n",
            "Exact Match: 0\n",
            "F1 Score: 0.0000\n",
            "\n",
            "---\n",
            "\n"
          ]
        },
        {
          "output_type": "stream",
          "name": "stderr",
          "text": [
            "Setting `pad_token_id` to `eos_token_id`:3 for open-end generation.\n"
          ]
        },
        {
          "output_type": "stream",
          "name": "stdout",
          "text": [
            "Title: Bruce Graham\n",
            "Question: Which university's School of Fine Arts was Bruce Graham extremely involved with?\n",
            "Correct Answer: University of Pennsylvania\n",
            "Generated Answer: Edinburgh College of Art\n",
            "BLEU Score: 0.0803\n",
            "ROUGE-L Score: 0.2857\n",
            "Exact Match: 0\n",
            "F1 Score: 0.2857\n",
            "\n",
            "---\n",
            "\n"
          ]
        },
        {
          "output_type": "stream",
          "name": "stderr",
          "text": [
            "Setting `pad_token_id` to `eos_token_id`:3 for open-end generation.\n"
          ]
        },
        {
          "output_type": "stream",
          "name": "stdout",
          "text": [
            "Title: Bruce Graham\n",
            "Question: In which city did Bruce Graham design the master plans for Broadgate and Canary Wharf developments?\n",
            "Correct Answer: London\n",
            "Generated Answer: London\n",
            "BLEU Score: 0.1778\n",
            "ROUGE-L Score: 1.0000\n",
            "Exact Match: 1\n",
            "F1 Score: 1.0000\n",
            "\n",
            "---\n",
            "\n"
          ]
        },
        {
          "output_type": "stream",
          "name": "stderr",
          "text": [
            "Setting `pad_token_id` to `eos_token_id`:3 for open-end generation.\n"
          ]
        },
        {
          "output_type": "stream",
          "name": "stdout",
          "text": [
            "Title: Erwin Baur\n",
            "Question: What was Erwin Baur's nationality?\n",
            "Correct Answer: German\n",
            "Generated Answer: Austrian\n",
            "BLEU Score: 0.0000\n",
            "ROUGE-L Score: 0.0000\n",
            "Exact Match: 0\n",
            "F1 Score: 0.0000\n",
            "\n",
            "---\n",
            "\n"
          ]
        },
        {
          "output_type": "stream",
          "name": "stderr",
          "text": [
            "Setting `pad_token_id` to `eos_token_id`:3 for open-end generation.\n"
          ]
        },
        {
          "output_type": "stream",
          "name": "stdout",
          "text": [
            "Title: Erwin Baur\n",
            "Question: What position did Erwin Baur hold at the Kaiser Wilhelm Institute?\n",
            "Correct Answer: Director of the Kaiser Wilhelm Institute for Breeding Research\n",
            "Generated Answer: Director\n",
            "BLEU Score: 0.0001\n",
            "ROUGE-L Score: 0.2000\n",
            "Exact Match: 0\n",
            "F1 Score: 0.2000\n",
            "\n",
            "---\n",
            "\n"
          ]
        },
        {
          "output_type": "stream",
          "name": "stderr",
          "text": [
            "Setting `pad_token_id` to `eos_token_id`:3 for open-end generation.\n"
          ]
        },
        {
          "output_type": "stream",
          "name": "stdout",
          "text": [
            "Title: Erwin Baur\n",
            "Question: What significant discovery is attributed to Erwin Baur?\n",
            "Correct Answer: The inheritance of plastids\n",
            "Generated Answer: The V-2 rocket\n",
            "BLEU Score: 0.0803\n",
            "ROUGE-L Score: 0.2500\n",
            "Exact Match: 0\n",
            "F1 Score: 0.2500\n",
            "\n",
            "---\n",
            "\n"
          ]
        },
        {
          "output_type": "stream",
          "name": "stderr",
          "text": [
            "Setting `pad_token_id` to `eos_token_id`:3 for open-end generation.\n"
          ]
        },
        {
          "output_type": "stream",
          "name": "stdout",
          "text": [
            "Title: Erwin Baur\n",
            "Question: What institute is named after Erwin Baur since 1938?\n",
            "Correct Answer: The Erwin Baur-Institute\n",
            "Generated Answer: Institute of Technology\n",
            "BLEU Score: 0.0814\n",
            "ROUGE-L Score: 0.2857\n",
            "Exact Match: 0\n",
            "F1 Score: 0.2857\n",
            "\n",
            "---\n",
            "\n"
          ]
        },
        {
          "output_type": "stream",
          "name": "stderr",
          "text": [
            "Setting `pad_token_id` to `eos_token_id`:3 for open-end generation.\n"
          ]
        },
        {
          "output_type": "stream",
          "name": "stdout",
          "text": [
            "Title: Erwin Baur\n",
            "Question: What was the major focus of Erwin Baur's research?\n",
            "Correct Answer: Plant genetics\n",
            "Generated Answer: He focused on the development and application of new materials\n",
            "BLEU Score: 0.0000\n",
            "ROUGE-L Score: 0.0000\n",
            "Exact Match: 0\n",
            "F1 Score: 0.0000\n",
            "\n",
            "---\n",
            "\n"
          ]
        },
        {
          "output_type": "stream",
          "name": "stderr",
          "text": [
            "Setting `pad_token_id` to `eos_token_id`:3 for open-end generation.\n"
          ]
        },
        {
          "output_type": "stream",
          "name": "stdout",
          "text": [
            "Title: Jean Ziegler\n",
            "Question: What nationality is Jean Ziegler?\n",
            "Correct Answer: Swiss\n",
            "Generated Answer: Swiss\n",
            "BLEU Score: 0.1778\n",
            "ROUGE-L Score: 1.0000\n",
            "Exact Match: 1\n",
            "F1 Score: 1.0000\n",
            "\n",
            "---\n",
            "\n"
          ]
        },
        {
          "output_type": "stream",
          "name": "stderr",
          "text": [
            "Setting `pad_token_id` to `eos_token_id`:3 for open-end generation.\n"
          ]
        },
        {
          "output_type": "stream",
          "name": "stdout",
          "text": [
            "Title: Jean Ziegler\n",
            "Question: What subjects did Jean Ziegler teach as a professor?\n",
            "Correct Answer: Sociology\n",
            "Generated Answer: International law\n",
            "BLEU Score: 0.0000\n",
            "ROUGE-L Score: 0.0000\n",
            "Exact Match: 0\n",
            "F1 Score: 0.0000\n",
            "\n",
            "---\n",
            "\n"
          ]
        },
        {
          "output_type": "stream",
          "name": "stderr",
          "text": [
            "Setting `pad_token_id` to `eos_token_id`:3 for open-end generation.\n"
          ]
        },
        {
          "output_type": "stream",
          "name": "stdout",
          "text": [
            "Title: Jean Ziegler\n",
            "Question: At which universities did Jean Ziegler serve as a professor?\n",
            "Correct Answer: University of Geneva and the Sorbonne, Paris\n",
            "Generated Answer: University of Geneva\n",
            "BLEU Score: 0.1482\n",
            "ROUGE-L Score: 0.6000\n",
            "Exact Match: 0\n",
            "F1 Score: 0.6000\n",
            "\n",
            "---\n",
            "\n"
          ]
        },
        {
          "output_type": "stream",
          "name": "stderr",
          "text": [
            "Setting `pad_token_id` to `eos_token_id`:3 for open-end generation.\n"
          ]
        },
        {
          "output_type": "stream",
          "name": "stdout",
          "text": [
            "Title: Jean Ziegler\n",
            "Question: What was Jean Ziegler's role with the United Nations from 2000 to 2008?\n",
            "Correct Answer: Special Rapporteur on the Right to Food\n",
            "Generated Answer: Special Rapporteur on extreme poverty and human rights\n",
            "BLEU Score: 0.1375\n",
            "ROUGE-L Score: 0.5333\n",
            "Exact Match: 0\n",
            "F1 Score: 0.4000\n",
            "\n",
            "---\n",
            "\n"
          ]
        },
        {
          "output_type": "stream",
          "name": "stderr",
          "text": [
            "Setting `pad_token_id` to `eos_token_id`:3 for open-end generation.\n"
          ]
        },
        {
          "output_type": "stream",
          "name": "stdout",
          "text": [
            "Title: Russell Alan Hulse\n",
            "Question: With whom did Russell Alan Hulse share the Nobel Prize in Physics?\n",
            "Correct Answer: Joseph Hooton Taylor Jr.\n",
            "Generated Answer: Joseph Hooton Taylor Jr\n",
            "BLEU Score: 1.0000\n",
            "ROUGE-L Score: 1.0000\n",
            "Exact Match: 1\n",
            "F1 Score: 1.0000\n",
            "\n",
            "---\n",
            "\n"
          ]
        },
        {
          "output_type": "stream",
          "name": "stderr",
          "text": [
            "Setting `pad_token_id` to `eos_token_id`:3 for open-end generation.\n"
          ]
        },
        {
          "output_type": "stream",
          "name": "stdout",
          "text": [
            "Title: Russell Alan Hulse\n",
            "Question: What discovery led Russell Alan Hulse to win the Nobel Prize in Physics?\n",
            "Correct Answer: The discovery of a new type of pulsar\n",
            "Generated Answer: binary pulsar\n",
            "BLEU Score: 0.0074\n",
            "ROUGE-L Score: 0.2000\n",
            "Exact Match: 0\n",
            "F1 Score: 0.2000\n",
            "\n",
            "---\n",
            "\n"
          ]
        },
        {
          "output_type": "stream",
          "name": "stderr",
          "text": [
            "Setting `pad_token_id` to `eos_token_id`:3 for open-end generation.\n"
          ]
        },
        {
          "output_type": "stream",
          "name": "stdout",
          "text": [
            "Title: Russell Alan Hulse\n",
            "Question: In what year did Russell Alan Hulse receive his PhD?\n",
            "Correct Answer: 1975\n",
            "Generated Answer: 1983\n",
            "BLEU Score: 0.0000\n",
            "ROUGE-L Score: 0.0000\n",
            "Exact Match: 0\n",
            "F1 Score: 0.0000\n",
            "\n",
            "---\n",
            "\n"
          ]
        },
        {
          "output_type": "stream",
          "name": "stderr",
          "text": [
            "Setting `pad_token_id` to `eos_token_id`:3 for open-end generation.\n"
          ]
        },
        {
          "output_type": "stream",
          "name": "stdout",
          "text": [
            "Title: Russell Alan Hulse\n",
            "Question: What is the name of the binary pulsar discovered by Russell Alan Hulse?\n",
            "Correct Answer: PSR B1913\n",
            "Generated Answer: PSR B1913+\n",
            "BLEU Score: 0.3162\n",
            "ROUGE-L Score: 1.0000\n",
            "Exact Match: 1\n",
            "F1 Score: 1.0000\n",
            "\n",
            "---\n",
            "\n"
          ]
        },
        {
          "output_type": "stream",
          "name": "stderr",
          "text": [
            "Setting `pad_token_id` to `eos_token_id`:3 for open-end generation.\n"
          ]
        },
        {
          "output_type": "stream",
          "name": "stdout",
          "text": [
            "Title: Russell Alan Hulse\n",
            "Question: At which university did Russell Alan Hulse become a visiting professor in 2003?\n",
            "Correct Answer: The University of Texas at Dallas\n",
            "Generated Answer: Princeton University\n",
            "BLEU Score: 0.0202\n",
            "ROUGE-L Score: 0.2500\n",
            "Exact Match: 0\n",
            "F1 Score: 0.2500\n",
            "\n",
            "---\n",
            "\n"
          ]
        },
        {
          "output_type": "stream",
          "name": "stderr",
          "text": [
            "Setting `pad_token_id` to `eos_token_id`:3 for open-end generation.\n"
          ]
        },
        {
          "output_type": "stream",
          "name": "stdout",
          "text": [
            "Title: Russell Alan Hulse\n",
            "Question: What year did Russell Alan Hulse and Taylor share the Nobel Prize in Physics?\n",
            "Correct Answer: 1993\n",
            "Generated Answer: 1993\n",
            "BLEU Score: 0.1778\n",
            "ROUGE-L Score: 1.0000\n",
            "Exact Match: 1\n",
            "F1 Score: 1.0000\n",
            "\n",
            "---\n",
            "\n"
          ]
        },
        {
          "output_type": "stream",
          "name": "stderr",
          "text": [
            "Setting `pad_token_id` to `eos_token_id`:3 for open-end generation.\n"
          ]
        },
        {
          "output_type": "stream",
          "name": "stdout",
          "text": [
            "Title: Tonino Cervi\n",
            "Question: Where was Tonino Cervi born?\n",
            "Correct Answer: Rome\n",
            "Generated Answer: Italy\n",
            "BLEU Score: 0.0000\n",
            "ROUGE-L Score: 0.0000\n",
            "Exact Match: 0\n",
            "F1 Score: 0.0000\n",
            "\n",
            "---\n",
            "\n"
          ]
        },
        {
          "output_type": "stream",
          "name": "stderr",
          "text": [
            "Setting `pad_token_id` to `eos_token_id`:3 for open-end generation.\n"
          ]
        },
        {
          "output_type": "stream",
          "name": "stdout",
          "text": [
            "Title: Tonino Cervi\n",
            "Question: Of what cause did Tonino Cervi die?\n",
            "Correct Answer: Heart attack\n",
            "Generated Answer: old age\n",
            "BLEU Score: 0.0000\n",
            "ROUGE-L Score: 0.0000\n",
            "Exact Match: 0\n",
            "F1 Score: 0.0000\n",
            "\n",
            "---\n",
            "\n"
          ]
        },
        {
          "output_type": "stream",
          "name": "stderr",
          "text": [
            "Setting `pad_token_id` to `eos_token_id`:3 for open-end generation.\n"
          ]
        },
        {
          "output_type": "stream",
          "name": "stdout",
          "text": [
            "Title: Tonino Cervi\n",
            "Question: In which city did Tonino Cervi die?\n",
            "Correct Answer: Rome\n",
            "Generated Answer: Rome\n",
            "BLEU Score: 0.1778\n",
            "ROUGE-L Score: 1.0000\n",
            "Exact Match: 1\n",
            "F1 Score: 1.0000\n",
            "\n",
            "---\n",
            "\n"
          ]
        },
        {
          "output_type": "stream",
          "name": "stderr",
          "text": [
            "Setting `pad_token_id` to `eos_token_id`:3 for open-end generation.\n"
          ]
        },
        {
          "output_type": "stream",
          "name": "stdout",
          "text": [
            "Title: Tonino Cervi\n",
            "Question: Did Tonino Cervi produce any films for Federico Fellini?\n",
            "Correct Answer: Yes\n",
            "Generated Answer: yes\n",
            "BLEU Score: 0.1778\n",
            "ROUGE-L Score: 1.0000\n",
            "Exact Match: 1\n",
            "F1 Score: 1.0000\n",
            "\n",
            "---\n",
            "\n"
          ]
        },
        {
          "output_type": "stream",
          "name": "stderr",
          "text": [
            "Setting `pad_token_id` to `eos_token_id`:3 for open-end generation.\n"
          ]
        },
        {
          "output_type": "stream",
          "name": "stdout",
          "text": [
            "Title: Christian Krohg\n",
            "Question: Which art movement inspired Christian Krohg?\n",
            "Correct Answer: Realism\n",
            "Generated Answer: Realism\n",
            "BLEU Score: 0.1778\n",
            "ROUGE-L Score: 1.0000\n",
            "Exact Match: 1\n",
            "F1 Score: 1.0000\n",
            "\n",
            "---\n",
            "\n"
          ]
        },
        {
          "output_type": "stream",
          "name": "stderr",
          "text": [
            "Setting `pad_token_id` to `eos_token_id`:3 for open-end generation.\n"
          ]
        },
        {
          "output_type": "stream",
          "name": "stdout",
          "text": [
            "Title: Christian Krohg\n",
            "Question: What year was Christian Krohg's son, Per Lasson Krohg, born?\n",
            "Correct Answer: 1889\n",
            "Generated Answer: 1906\n",
            "BLEU Score: 0.0000\n",
            "ROUGE-L Score: 0.0000\n",
            "Exact Match: 0\n",
            "F1 Score: 0.0000\n",
            "\n",
            "---\n",
            "\n"
          ]
        },
        {
          "output_type": "stream",
          "name": "stderr",
          "text": [
            "Setting `pad_token_id` to `eos_token_id`:3 for open-end generation.\n"
          ]
        },
        {
          "output_type": "stream",
          "name": "stdout",
          "text": [
            "Title: Christian Krohg\n",
            "Question: Where is Christian Krohg buried?\n",
            "Correct Answer: Vår Frelsers gravlund in Oslo\n",
            "Generated Answer: Oslo\n",
            "BLEU Score: 0.0033\n",
            "ROUGE-L Score: 0.2857\n",
            "Exact Match: 0\n",
            "F1 Score: 0.3333\n",
            "\n",
            "---\n",
            "\n"
          ]
        },
        {
          "output_type": "stream",
          "name": "stderr",
          "text": [
            "Setting `pad_token_id` to `eos_token_id`:3 for open-end generation.\n"
          ]
        },
        {
          "output_type": "stream",
          "name": "stdout",
          "text": [
            "Title: Christian Krohg\n",
            "Question: What role did Christian Krohg have at the Norwegian Commissioner at the Exposition Internationale d'Anvers?\n",
            "Correct Answer: Served as Norwegian Commissioner\n",
            "Generated Answer: artist\n",
            "BLEU Score: 0.0000\n",
            "ROUGE-L Score: 0.0000\n",
            "Exact Match: 0\n",
            "F1 Score: 0.0000\n",
            "\n",
            "---\n",
            "\n"
          ]
        },
        {
          "output_type": "stream",
          "name": "stderr",
          "text": [
            "Setting `pad_token_id` to `eos_token_id`:3 for open-end generation.\n"
          ]
        },
        {
          "output_type": "stream",
          "name": "stdout",
          "text": [
            "Title: Werner Janensch\n",
            "Question: Which museum was Werner Ernst Martin Janensch associated with during his expedition to the Tendaguru Beds?\n",
            "Correct Answer: Museum für Naturkunde in Berlin\n",
            "Generated Answer: Museum of Natural History\n",
            "BLEU Score: 0.0626\n",
            "ROUGE-L Score: 0.2000\n",
            "Exact Match: 0\n",
            "F1 Score: 0.2222\n",
            "\n",
            "---\n",
            "\n"
          ]
        },
        {
          "output_type": "stream",
          "name": "stderr",
          "text": [
            "Setting `pad_token_id` to `eos_token_id`:3 for open-end generation.\n"
          ]
        },
        {
          "output_type": "stream",
          "name": "stdout",
          "text": [
            "Title: Werner Janensch\n",
            "Question: What was Werner Ernst Martin Janensch's original classification of the Brachiosaurus skeletons discovered?\n",
            "Correct Answer: Brachiosaurus\n",
            "Generated Answer: Dinosaur\n",
            "BLEU Score: 0.0000\n",
            "ROUGE-L Score: 0.0000\n",
            "Exact Match: 0\n",
            "F1 Score: 0.0000\n",
            "\n",
            "---\n",
            "\n"
          ]
        },
        {
          "output_type": "stream",
          "name": "stderr",
          "text": [
            "Setting `pad_token_id` to `eos_token_id`:3 for open-end generation.\n"
          ]
        },
        {
          "output_type": "stream",
          "name": "stdout",
          "text": [
            "Title: Werner Janensch\n",
            "Question: What genus were Werner Ernst Martin Janensch's Brachiosaurus specimens later reassigned to?\n",
            "Correct Answer: Giraffatitan\n",
            "Generated Answer: Apatosaurus\n",
            "BLEU Score: 0.0000\n",
            "ROUGE-L Score: 0.0000\n",
            "Exact Match: 0\n",
            "F1 Score: 0.0000\n",
            "\n",
            "---\n",
            "\n"
          ]
        },
        {
          "output_type": "stream",
          "name": "stderr",
          "text": [
            "Setting `pad_token_id` to `eos_token_id`:3 for open-end generation.\n"
          ]
        },
        {
          "output_type": "stream",
          "name": "stdout",
          "text": [
            "Title: Werner Janensch\n",
            "Question: Who was considered Germany's most important dinosaur specialist alongside Werner Ernst Martin Janensch?\n",
            "Correct Answer: Friedrich von Huene\n",
            "Generated Answer: Alfred von Huene\n",
            "BLEU Score: 0.2403\n",
            "ROUGE-L Score: 0.6667\n",
            "Exact Match: 0\n",
            "F1 Score: 0.6667\n",
            "\n",
            "---\n",
            "\n"
          ]
        },
        {
          "output_type": "stream",
          "name": "stderr",
          "text": [
            "Setting `pad_token_id` to `eos_token_id`:3 for open-end generation.\n"
          ]
        },
        {
          "output_type": "stream",
          "name": "stdout",
          "text": [
            "Title: Johann Rudolf Wyss\n",
            "Question: What nationality was Johann Rudolf Wyss?\n",
            "Correct Answer: Swiss\n",
            "Generated Answer: Swiss\n",
            "BLEU Score: 0.1778\n",
            "ROUGE-L Score: 1.0000\n",
            "Exact Match: 1\n",
            "F1 Score: 1.0000\n",
            "\n",
            "---\n",
            "\n"
          ]
        },
        {
          "output_type": "stream",
          "name": "stderr",
          "text": [
            "Setting `pad_token_id` to `eos_token_id`:3 for open-end generation.\n"
          ]
        },
        {
          "output_type": "stream",
          "name": "stdout",
          "text": [
            "Title: Johann Rudolf Wyss\n",
            "Question: Which novel did Johann Rudolf Wyss edit that was written by his father?\n",
            "Correct Answer: The Swiss Family Robinson\n",
            "Generated Answer: The Swiss Family Robinson\n",
            "BLEU Score: 1.0000\n",
            "ROUGE-L Score: 1.0000\n",
            "Exact Match: 1\n",
            "F1 Score: 1.0000\n",
            "\n",
            "---\n",
            "\n"
          ]
        },
        {
          "output_type": "stream",
          "name": "stderr",
          "text": [
            "Setting `pad_token_id` to `eos_token_id`:3 for open-end generation.\n"
          ]
        },
        {
          "output_type": "stream",
          "name": "stdout",
          "text": [
            "Title: Johann Rudolf Wyss\n",
            "Question: In what year was The Swiss Family Robinson, edited by Johann Rudolf Wyss, published?\n",
            "Correct Answer: 1812\n",
            "Generated Answer: 1812\n",
            "BLEU Score: 0.1778\n",
            "ROUGE-L Score: 1.0000\n",
            "Exact Match: 1\n",
            "F1 Score: 1.0000\n",
            "\n",
            "---\n",
            "\n"
          ]
        },
        {
          "output_type": "stream",
          "name": "stderr",
          "text": [
            "Setting `pad_token_id` to `eos_token_id`:3 for open-end generation.\n"
          ]
        },
        {
          "output_type": "stream",
          "name": "stdout",
          "text": [
            "Title: Johann Rudolf Wyss\n",
            "Question: How many volumes were published for 'Vorlesungen über das höchste Gut' by Johann Rudolf Wyss?\n",
            "Correct Answer: 2\n",
            "Generated Answer: 3\n",
            "BLEU Score: 0.0000\n",
            "ROUGE-L Score: 0.0000\n",
            "Exact Match: 0\n",
            "F1 Score: 0.0000\n",
            "\n",
            "---\n",
            "\n"
          ]
        },
        {
          "output_type": "stream",
          "name": "stderr",
          "text": [
            "Setting `pad_token_id` to `eos_token_id`:3 for open-end generation.\n"
          ]
        },
        {
          "output_type": "stream",
          "name": "stdout",
          "text": [
            "Title: Johann Rudolf Wyss\n",
            "Question: Did Johann Rudolf Wyss write any works that were translated into French?\n",
            "Correct Answer: Yes\n",
            "Generated Answer: yes\n",
            "BLEU Score: 0.1778\n",
            "ROUGE-L Score: 1.0000\n",
            "Exact Match: 1\n",
            "F1 Score: 1.0000\n",
            "\n",
            "---\n",
            "\n"
          ]
        },
        {
          "output_type": "stream",
          "name": "stderr",
          "text": [
            "Setting `pad_token_id` to `eos_token_id`:3 for open-end generation.\n"
          ]
        },
        {
          "output_type": "stream",
          "name": "stdout",
          "text": [
            "Title: Gottfried Heinrich Graf zu Pappenheim\n",
            "Question: Which side did Gottfried Heinrich Graf zu Pappenheim support in the Thirty Years' War?\n",
            "Correct Answer: The Catholic League\n",
            "Generated Answer: Catholic\n",
            "BLEU Score: 0.0241\n",
            "ROUGE-L Score: 0.5000\n",
            "Exact Match: 0\n",
            "F1 Score: 0.5000\n",
            "\n",
            "---\n",
            "\n"
          ]
        },
        {
          "output_type": "stream",
          "name": "stderr",
          "text": [
            "Setting `pad_token_id` to `eos_token_id`:3 for open-end generation.\n"
          ]
        },
        {
          "output_type": "stream",
          "name": "stdout",
          "text": [
            "Title: Gottfried Heinrich Graf zu Pappenheim\n",
            "Question: Against whom was Gottfried Heinrich Graf zu Pappenheim fighting when he was mortally wounded?\n",
            "Correct Answer: The Protestant forces under Swedish king Gustavus Adolphus\n",
            "Generated Answer: Ottoman Empire\n",
            "BLEU Score: 0.0000\n",
            "ROUGE-L Score: 0.0000\n",
            "Exact Match: 0\n",
            "F1 Score: 0.0000\n",
            "\n",
            "---\n",
            "\n"
          ]
        },
        {
          "output_type": "stream",
          "name": "stderr",
          "text": [
            "Setting `pad_token_id` to `eos_token_id`:3 for open-end generation.\n"
          ]
        },
        {
          "output_type": "stream",
          "name": "stdout",
          "text": [
            "Title: Gottfried Heinrich Graf zu Pappenheim\n",
            "Question: Which city's siege and storm is Gottfried Heinrich Graf zu Pappenheim accused of showing savage cruelty?\n",
            "Correct Answer: Magdeburg\n",
            "Generated Answer: Magdeburg\n",
            "BLEU Score: 0.1778\n",
            "ROUGE-L Score: 1.0000\n",
            "Exact Match: 1\n",
            "F1 Score: 1.0000\n",
            "\n",
            "---\n",
            "\n"
          ]
        },
        {
          "output_type": "stream",
          "name": "stderr",
          "text": [
            "Setting `pad_token_id` to `eos_token_id`:3 for open-end generation.\n"
          ]
        },
        {
          "output_type": "stream",
          "name": "stdout",
          "text": [
            "Title: Gottfried Heinrich Graf zu Pappenheim\n",
            "Question: What military rank did Gottfried Heinrich Graf zu Pappenheim hold when he was recalled to join Wallenstein?\n",
            "Correct Answer: Field marshal\n",
            "Generated Answer: General\n",
            "BLEU Score: 0.0000\n",
            "ROUGE-L Score: 0.0000\n",
            "Exact Match: 0\n",
            "F1 Score: 0.0000\n",
            "\n",
            "---\n",
            "\n"
          ]
        },
        {
          "output_type": "stream",
          "name": "stderr",
          "text": [
            "Setting `pad_token_id` to `eos_token_id`:3 for open-end generation.\n"
          ]
        },
        {
          "output_type": "stream",
          "name": "stdout",
          "text": [
            "Title: Gottfried Heinrich Graf zu Pappenheim\n",
            "Question: What is the name of the form of rapier reportedly named after Gottfried Heinrich Graf zu Pappenheim?\n",
            "Correct Answer: The Pappenheimer\n",
            "Generated Answer: Pappenheimer\n",
            "BLEU Score: 0.0654\n",
            "ROUGE-L Score: 0.6667\n",
            "Exact Match: 0\n",
            "F1 Score: 0.6667\n",
            "\n",
            "---\n",
            "\n"
          ]
        },
        {
          "output_type": "stream",
          "name": "stderr",
          "text": [
            "Setting `pad_token_id` to `eos_token_id`:3 for open-end generation.\n"
          ]
        },
        {
          "output_type": "stream",
          "name": "stdout",
          "text": [
            "Title: Gottfried Heinrich Graf zu Pappenheim\n",
            "Question: In which part of the battle of Lützen did Gottfried Heinrich Graf zu Pappenheim appear with his horsemen?\n",
            "Correct Answer: In the midst of the battle\n",
            "Generated Answer: front\n",
            "BLEU Score: 0.0000\n",
            "ROUGE-L Score: 0.0000\n",
            "Exact Match: 0\n",
            "F1 Score: 0.0000\n",
            "\n",
            "---\n",
            "\n"
          ]
        },
        {
          "output_type": "stream",
          "name": "stderr",
          "text": [
            "Setting `pad_token_id` to `eos_token_id`:3 for open-end generation.\n"
          ]
        },
        {
          "output_type": "stream",
          "name": "stdout",
          "text": [
            "Title: Rudolf Mössbauer\n",
            "Question: Which university did Rudolf Mössbauer attend for his physics studies?\n",
            "Correct Answer: Technical University of Munich\n",
            "Generated Answer: University of Vienna\n",
            "BLEU Score: 0.1722\n",
            "ROUGE-L Score: 0.5714\n",
            "Exact Match: 0\n",
            "F1 Score: 0.5714\n",
            "\n",
            "---\n",
            "\n"
          ]
        },
        {
          "output_type": "stream",
          "name": "stderr",
          "text": [
            "Setting `pad_token_id` to `eos_token_id`:3 for open-end generation.\n"
          ]
        },
        {
          "output_type": "stream",
          "name": "stdout",
          "text": [
            "Title: Rudolf Mössbauer\n",
            "Question: What significant effect did Rudolf Mössbauer discover?\n",
            "Correct Answer: The Mössbauer effect\n",
            "Generated Answer: nuclear magnetic resonance\n",
            "BLEU Score: 0.0000\n",
            "ROUGE-L Score: 0.0000\n",
            "Exact Match: 0\n",
            "F1 Score: 0.0000\n",
            "\n",
            "---\n",
            "\n"
          ]
        },
        {
          "output_type": "stream",
          "name": "stderr",
          "text": [
            "Setting `pad_token_id` to `eos_token_id`:3 for open-end generation.\n"
          ]
        },
        {
          "output_type": "stream",
          "name": "stdout",
          "text": [
            "Title: Rudolf Mössbauer\n",
            "Question: For what achievement was Rudolf Mössbauer awarded the Nobel Prize in Physics?\n",
            "Correct Answer: For his discovery of 'recoilless nuclear resonance fluorescence'.\n",
            "Generated Answer: his discovery of nuclear magnetic resonance\n",
            "BLEU Score: 0.1645\n",
            "ROUGE-L Score: 0.7143\n",
            "Exact Match: 0\n",
            "F1 Score: 0.7143\n",
            "\n",
            "---\n",
            "\n"
          ]
        },
        {
          "output_type": "stream",
          "name": "stderr",
          "text": [
            "Setting `pad_token_id` to `eos_token_id`:3 for open-end generation.\n"
          ]
        },
        {
          "output_type": "stream",
          "name": "stdout",
          "text": [
            "Title: Rudolf Mössbauer\n",
            "Question: In which year did Rudolf Mössbauer receive the Nobel Prize in Physics?\n",
            "Correct Answer: 1961\n",
            "Generated Answer: 1961\n",
            "BLEU Score: 0.1778\n",
            "ROUGE-L Score: 1.0000\n",
            "Exact Match: 1\n",
            "F1 Score: 1.0000\n",
            "\n",
            "---\n",
            "\n"
          ]
        },
        {
          "output_type": "stream",
          "name": "stderr",
          "text": [
            "Setting `pad_token_id` to `eos_token_id`:3 for open-end generation.\n"
          ]
        },
        {
          "output_type": "stream",
          "name": "stdout",
          "text": [
            "Title: Rudolf Mössbauer\n",
            "Question: What is the basis for Mössbauer spectroscopy?\n",
            "Correct Answer: The Mössbauer effect\n",
            "Generated Answer: nuclear spin\n",
            "BLEU Score: 0.0000\n",
            "ROUGE-L Score: 0.0000\n",
            "Exact Match: 0\n",
            "F1 Score: 0.0000\n",
            "\n",
            "---\n",
            "\n"
          ]
        },
        {
          "output_type": "stream",
          "name": "stderr",
          "text": [
            "Setting `pad_token_id` to `eos_token_id`:3 for open-end generation.\n"
          ]
        },
        {
          "output_type": "stream",
          "name": "stdout",
          "text": [
            "Title: A. B. Guthrie Jr.\n",
            "Question: What notable award did A. B. Guthrie Jr.'s novel The Way West win?\n",
            "Correct Answer: 1950 Pulitzer Prize for Fiction\n",
            "Generated Answer: Pulitzer Prize\n",
            "BLEU Score: 0.0706\n",
            "ROUGE-L Score: 0.5714\n",
            "Exact Match: 0\n",
            "F1 Score: 0.5714\n",
            "\n",
            "---\n",
            "\n"
          ]
        },
        {
          "output_type": "stream",
          "name": "stderr",
          "text": [
            "Setting `pad_token_id` to `eos_token_id`:3 for open-end generation.\n"
          ]
        },
        {
          "output_type": "stream",
          "name": "stdout",
          "text": [
            "Title: A. B. Guthrie Jr.\n",
            "Question: In what year was A. B. Guthrie Jr.'s novel The Big Sky published?\n",
            "Correct Answer: 1947\n",
            "Generated Answer: 1949\n",
            "BLEU Score: 0.0000\n",
            "ROUGE-L Score: 0.0000\n",
            "Exact Match: 0\n",
            "F1 Score: 0.0000\n",
            "\n",
            "---\n",
            "\n"
          ]
        },
        {
          "output_type": "stream",
          "name": "stderr",
          "text": [
            "Setting `pad_token_id` to `eos_token_id`:3 for open-end generation.\n"
          ]
        },
        {
          "output_type": "stream",
          "name": "stdout",
          "text": [
            "Title: A. B. Guthrie Jr.\n",
            "Question: What university did A. B. Guthrie Jr. teach creative writing at?\n",
            "Correct Answer: University of Kentucky\n",
            "Generated Answer: Syracuse University\n",
            "BLEU Score: 0.0907\n",
            "ROUGE-L Score: 0.4000\n",
            "Exact Match: 0\n",
            "F1 Score: 0.4000\n",
            "\n",
            "---\n",
            "\n"
          ]
        },
        {
          "output_type": "stream",
          "name": "stderr",
          "text": [
            "Setting `pad_token_id` to `eos_token_id`:3 for open-end generation.\n"
          ]
        },
        {
          "output_type": "stream",
          "name": "stdout",
          "text": [
            "Title: A. B. Guthrie Jr.\n",
            "Question: What was the title of A. B. Guthrie Jr.'s first collection of short stories?\n",
            "Correct Answer: The Big It and Other Stories\n",
            "Generated Answer: The Big Sky Stories\n",
            "BLEU Score: 0.1140\n",
            "ROUGE-L Score: 0.6000\n",
            "Exact Match: 0\n",
            "F1 Score: 0.6000\n",
            "\n",
            "---\n",
            "\n"
          ]
        },
        {
          "output_type": "stream",
          "name": "stderr",
          "text": [
            "Setting `pad_token_id` to `eos_token_id`:3 for open-end generation.\n"
          ]
        },
        {
          "output_type": "stream",
          "name": "stdout",
          "text": [
            "Title: Eberhard Jüngel\n",
            "Question: What nationality was Eberhard Jüngel?\n",
            "Correct Answer: German\n",
            "Generated Answer: German\n",
            "BLEU Score: 0.1778\n",
            "ROUGE-L Score: 1.0000\n",
            "Exact Match: 1\n",
            "F1 Score: 1.0000\n",
            "\n",
            "---\n",
            "\n"
          ]
        },
        {
          "output_type": "stream",
          "name": "stderr",
          "text": [
            "Setting `pad_token_id` to `eos_token_id`:3 for open-end generation.\n"
          ]
        },
        {
          "output_type": "stream",
          "name": "stdout",
          "text": [
            "Title: Eberhard Jüngel\n",
            "Question: At which university was Eberhard Jüngel an Emeritus Professor?\n",
            "Correct Answer: University of Tübingen\n",
            "Generated Answer: University of Heidelberg\n",
            "BLEU Score: 0.2403\n",
            "ROUGE-L Score: 0.5714\n",
            "Exact Match: 0\n",
            "F1 Score: 0.6667\n",
            "\n",
            "---\n",
            "\n"
          ]
        },
        {
          "output_type": "stream",
          "name": "stderr",
          "text": [
            "Setting `pad_token_id` to `eos_token_id`:3 for open-end generation.\n"
          ]
        },
        {
          "output_type": "stream",
          "name": "stdout",
          "text": [
            "Title: Eberhard Jüngel\n",
            "Question: What was Eberhard Jüngel's area of expertise?\n",
            "Correct Answer: Systematic Theology and the Philosophy of Religion\n",
            "Generated Answer: theology\n",
            "BLEU Score: 0.0004\n",
            "ROUGE-L Score: 0.2500\n",
            "Exact Match: 0\n",
            "F1 Score: 0.2500\n",
            "\n",
            "---\n",
            "\n"
          ]
        },
        {
          "output_type": "stream",
          "name": "stderr",
          "text": [
            "Setting `pad_token_id` to `eos_token_id`:3 for open-end generation.\n"
          ]
        },
        {
          "output_type": "stream",
          "name": "stdout",
          "text": [
            "Title: Eberhard Jüngel\n",
            "Question: Which prestigious orders and academies was Eberhard Jüngel a member of?\n",
            "Correct Answer: Norwegian Academy of Science and Letters, Chancellor of the Order Pour le Mérite for Sciences and Arts\n",
            "Generated Answer: Bavarian Academy of Sciences\n",
            "BLEU Score: 0.0073\n",
            "ROUGE-L Score: 0.2727\n",
            "Exact Match: 0\n",
            "F1 Score: 0.2857\n",
            "\n",
            "---\n",
            "\n"
          ]
        },
        {
          "output_type": "stream",
          "name": "stderr",
          "text": [
            "Setting `pad_token_id` to `eos_token_id`:3 for open-end generation.\n"
          ]
        },
        {
          "output_type": "stream",
          "name": "stdout",
          "text": [
            "Title: Eberhard Jüngel\n",
            "Question: What honors did Eberhard Jüngel receive from the Federal Republic of Germany and the State of Baden-Württemberg?\n",
            "Correct Answer: Knight Commander's Cross of the Order of Merit of the Federal Republic of Germany, Medal of Merit of the State of Baden-Württemberg\n",
            "Generated Answer: Order Pour le Mérite\n",
            "BLEU Score: 0.0005\n",
            "ROUGE-L Score: 0.0667\n",
            "Exact Match: 0\n",
            "F1 Score: 0.0714\n",
            "\n",
            "---\n",
            "\n"
          ]
        },
        {
          "output_type": "stream",
          "name": "stderr",
          "text": [
            "Setting `pad_token_id` to `eos_token_id`:3 for open-end generation.\n"
          ]
        },
        {
          "output_type": "stream",
          "name": "stdout",
          "text": [
            "Title: Eberhard Jüngel\n",
            "Question: Which universities awarded Eberhard Jüngel honorary doctorates?\n",
            "Correct Answer: University of Greifswald and University of Basel\n",
            "Generated Answer: University of Heidelberg\n",
            "BLEU Score: 0.0633\n",
            "ROUGE-L Score: 0.4000\n",
            "Exact Match: 0\n",
            "F1 Score: 0.4000\n",
            "\n",
            "---\n",
            "\n"
          ]
        },
        {
          "output_type": "stream",
          "name": "stderr",
          "text": [
            "Setting `pad_token_id` to `eos_token_id`:3 for open-end generation.\n"
          ]
        },
        {
          "output_type": "stream",
          "name": "stdout",
          "text": [
            "Title: Wolfgang, Count Palatine of Zweibrücken\n",
            "Question: Who was Wolfgang, Count Palatine of Zweibrücken's father?\n",
            "Correct Answer: Louis II, Count Palatine of Zweibrücken\n",
            "Generated Answer: Frederick I\n",
            "BLEU Score: 0.0000\n",
            "ROUGE-L Score: 0.0000\n",
            "Exact Match: 0\n",
            "F1 Score: 0.0000\n",
            "\n",
            "---\n",
            "\n"
          ]
        },
        {
          "output_type": "stream",
          "name": "stderr",
          "text": [
            "Setting `pad_token_id` to `eos_token_id`:3 for open-end generation.\n"
          ]
        },
        {
          "output_type": "stream",
          "name": "stdout",
          "text": [
            "Title: Wolfgang, Count Palatine of Zweibrücken\n",
            "Question: What significant religious change did Wolfgang, Count Palatine of Zweibrücken introduce to Zweibrücken in 1537?\n",
            "Correct Answer: The Reformation\n",
            "Generated Answer: Protestantism\n",
            "BLEU Score: 0.0000\n",
            "ROUGE-L Score: 0.0000\n",
            "Exact Match: 0\n",
            "F1 Score: 0.0000\n",
            "\n",
            "---\n",
            "\n"
          ]
        },
        {
          "output_type": "stream",
          "name": "stderr",
          "text": [
            "Setting `pad_token_id` to `eos_token_id`:3 for open-end generation.\n"
          ]
        },
        {
          "output_type": "stream",
          "name": "stdout",
          "text": [
            "Title: Wolfgang, Count Palatine of Zweibrücken\n",
            "Question: Which Emperor occupied Wolfgang, Count Palatine of Zweibrücken's Protestant territories in 1548?\n",
            "Correct Answer: Holy Roman Emperor Charles V\n",
            "Generated Answer: Charles V\n",
            "BLEU Score: 0.0706\n",
            "ROUGE-L Score: 0.5714\n",
            "Exact Match: 0\n",
            "F1 Score: 0.5714\n",
            "\n",
            "---\n",
            "\n"
          ]
        },
        {
          "output_type": "stream",
          "name": "stderr",
          "text": [
            "Setting `pad_token_id` to `eos_token_id`:3 for open-end generation.\n"
          ]
        },
        {
          "output_type": "stream",
          "name": "stdout",
          "text": [
            "Title: Wolfgang, Count Palatine of Zweibrücken\n",
            "Question: Which of Wolfgang, Count Palatine of Zweibrücken's sons became the ancestor to the line of Palatinate-Zweibrücken-Birkenfeld?\n",
            "Correct Answer: Charles I, Count Palatine of Zweibrücken-Birkenfeld\n",
            "Generated Answer: Ludwig\n",
            "BLEU Score: 0.0000\n",
            "ROUGE-L Score: 0.0000\n",
            "Exact Match: 0\n",
            "F1 Score: 0.0000\n",
            "\n",
            "---\n",
            "\n"
          ]
        },
        {
          "output_type": "stream",
          "name": "stderr",
          "text": [
            "Setting `pad_token_id` to `eos_token_id`:3 for open-end generation.\n"
          ]
        },
        {
          "output_type": "stream",
          "name": "stdout",
          "text": [
            "Title: Wolfgang, Count Palatine of Zweibrücken\n",
            "Question: Which of Wolfgang, Count Palatine of Zweibrücken's territories was involved in the Contract of Heidelberg?\n",
            "Correct Answer: Palatinate-Neuburg\n",
            "Generated Answer: Electoral Hesse\n",
            "BLEU Score: 0.0000\n",
            "ROUGE-L Score: 0.0000\n",
            "Exact Match: 0\n",
            "F1 Score: 0.0000\n",
            "\n",
            "---\n",
            "\n"
          ]
        },
        {
          "output_type": "stream",
          "name": "stderr",
          "text": [
            "Setting `pad_token_id` to `eos_token_id`:3 for open-end generation.\n"
          ]
        },
        {
          "output_type": "stream",
          "name": "stdout",
          "text": [
            "Title: Emil Wiechert\n",
            "Question: What type of waves did Emil Wiechert do pioneering work on?\n",
            "Correct Answer: Seismic waves\n",
            "Generated Answer: electromagnetic\n",
            "BLEU Score: 0.0000\n",
            "ROUGE-L Score: 0.0000\n",
            "Exact Match: 0\n",
            "F1 Score: 0.0000\n",
            "\n",
            "---\n",
            "\n"
          ]
        },
        {
          "output_type": "stream",
          "name": "stderr",
          "text": [
            "Setting `pad_token_id` to `eos_token_id`:3 for open-end generation.\n"
          ]
        },
        {
          "output_type": "stream",
          "name": "stdout",
          "text": [
            "Title: Emil Wiechert\n",
            "Question: What is named after Emil Wiechert on the Moon?\n",
            "Correct Answer: The crater Wiechert\n",
            "Generated Answer: crater\n",
            "BLEU Score: 0.0241\n",
            "ROUGE-L Score: 0.5000\n",
            "Exact Match: 0\n",
            "F1 Score: 0.5000\n",
            "\n",
            "---\n",
            "\n"
          ]
        },
        {
          "output_type": "stream",
          "name": "stderr",
          "text": [
            "Setting `pad_token_id` to `eos_token_id`:3 for open-end generation.\n"
          ]
        },
        {
          "output_type": "stream",
          "name": "stdout",
          "text": [
            "Title: Emil Wiechert\n",
            "Question: What title did Emil Wiechert achieve by 1896?\n",
            "Correct Answer: Professor\n",
            "Generated Answer: Professor\n",
            "BLEU Score: 0.1778\n",
            "ROUGE-L Score: 1.0000\n",
            "Exact Match: 1\n",
            "F1 Score: 1.0000\n",
            "\n",
            "---\n",
            "\n"
          ]
        },
        {
          "output_type": "stream",
          "name": "stderr",
          "text": [
            "Setting `pad_token_id` to `eos_token_id`:3 for open-end generation.\n"
          ]
        },
        {
          "output_type": "stream",
          "name": "stdout",
          "text": [
            "Title: Emil Wiechert\n",
            "Question: Which academy named Emil Wiechert as a corresponding member in 1912?\n",
            "Correct Answer: Berlin Academy of Science\n",
            "Generated Answer: The Royal Swedish Academy of Sciences\n",
            "BLEU Score: 0.0863\n",
            "ROUGE-L Score: 0.6000\n",
            "Exact Match: 0\n",
            "F1 Score: 0.4000\n",
            "\n",
            "---\n",
            "\n"
          ]
        },
        {
          "output_type": "stream",
          "name": "stderr",
          "text": [
            "Setting `pad_token_id` to `eos_token_id`:3 for open-end generation.\n"
          ]
        },
        {
          "output_type": "stream",
          "name": "stdout",
          "text": [
            "Title: Thomas Klestil\n",
            "Question: In what year was Thomas Klestil first elected as president of Austria?\n",
            "Correct Answer: 1992\n",
            "Generated Answer: 1986\n",
            "BLEU Score: 0.0000\n",
            "ROUGE-L Score: 0.0000\n",
            "Exact Match: 0\n",
            "F1 Score: 0.0000\n",
            "\n",
            "---\n",
            "\n"
          ]
        },
        {
          "output_type": "stream",
          "name": "stderr",
          "text": [
            "Setting `pad_token_id` to `eos_token_id`:3 for open-end generation.\n"
          ]
        },
        {
          "output_type": "stream",
          "name": "stdout",
          "text": [
            "Title: Thomas Klestil\n",
            "Question: How many terms did Thomas Klestil serve as president of Austria?\n",
            "Correct Answer: Two\n",
            "Generated Answer: two\n",
            "BLEU Score: 0.1778\n",
            "ROUGE-L Score: 1.0000\n",
            "Exact Match: 1\n",
            "F1 Score: 1.0000\n",
            "\n",
            "---\n",
            "\n"
          ]
        },
        {
          "output_type": "stream",
          "name": "stderr",
          "text": [
            "Setting `pad_token_id` to `eos_token_id`:3 for open-end generation.\n"
          ]
        },
        {
          "output_type": "stream",
          "name": "stdout",
          "text": [
            "Title: Thomas Klestil\n",
            "Question: Where was Thomas Klestil born?\n",
            "Correct Answer: Vienna\n",
            "Generated Answer: Vienna\n",
            "BLEU Score: 0.1778\n",
            "ROUGE-L Score: 1.0000\n",
            "Exact Match: 1\n",
            "F1 Score: 1.0000\n",
            "\n",
            "---\n",
            "\n"
          ]
        },
        {
          "output_type": "stream",
          "name": "stderr",
          "text": [
            "Setting `pad_token_id` to `eos_token_id`:3 for open-end generation.\n"
          ]
        },
        {
          "output_type": "stream",
          "name": "stdout",
          "text": [
            "Title: Thomas Klestil\n",
            "Question: Where was Thomas Klestil buried?\n",
            "Correct Answer: Vienna's Central Cemetery (Zentralfriedhof)\n",
            "Generated Answer: Vienna\n",
            "BLEU Score: 0.0033\n",
            "ROUGE-L Score: 0.3333\n",
            "Exact Match: 0\n",
            "F1 Score: 0.3333\n",
            "\n",
            "---\n",
            "\n"
          ]
        },
        {
          "output_type": "stream",
          "name": "stderr",
          "text": [
            "Setting `pad_token_id` to `eos_token_id`:3 for open-end generation.\n"
          ]
        },
        {
          "output_type": "stream",
          "name": "stdout",
          "text": [
            "Title: Thomas Klestil\n",
            "Question: What notable dignitary attended Thomas Klestil's funeral?\n",
            "Correct Answer: Vladimir Putin\n",
            "Generated Answer: Pope Francis\n",
            "BLEU Score: 0.0000\n",
            "ROUGE-L Score: 0.0000\n",
            "Exact Match: 0\n",
            "F1 Score: 0.0000\n",
            "\n",
            "---\n",
            "\n"
          ]
        },
        {
          "output_type": "stream",
          "name": "stderr",
          "text": [
            "Setting `pad_token_id` to `eos_token_id`:3 for open-end generation.\n"
          ]
        },
        {
          "output_type": "stream",
          "name": "stdout",
          "text": [
            "Title: Michaela Dorfmeister\n",
            "Question: What is the nationality of Michaela Dorfmeister?\n",
            "Correct Answer: Austrian\n",
            "Generated Answer: Austrian\n",
            "BLEU Score: 0.1778\n",
            "ROUGE-L Score: 1.0000\n",
            "Exact Match: 1\n",
            "F1 Score: 1.0000\n",
            "\n",
            "---\n",
            "\n"
          ]
        },
        {
          "output_type": "stream",
          "name": "stderr",
          "text": [
            "Setting `pad_token_id` to `eos_token_id`:3 for open-end generation.\n"
          ]
        },
        {
          "output_type": "stream",
          "name": "stdout",
          "text": [
            "Title: Michaela Dorfmeister\n",
            "Question: In which skiing disciplines did Michaela Dorfmeister specialize?\n",
            "Correct Answer: Downhill and super-G\n",
            "Generated Answer: alpine\n",
            "BLEU Score: 0.0000\n",
            "ROUGE-L Score: 0.0000\n",
            "Exact Match: 0\n",
            "F1 Score: 0.0000\n",
            "\n",
            "---\n",
            "\n"
          ]
        },
        {
          "output_type": "stream",
          "name": "stderr",
          "text": [
            "Setting `pad_token_id` to `eos_token_id`:3 for open-end generation.\n"
          ]
        },
        {
          "output_type": "stream",
          "name": "stdout",
          "text": [
            "Title: Michaela Dorfmeister\n",
            "Question: In what year did Michaela Dorfmeister enter her first World Cup race?\n",
            "Correct Answer: 1991\n",
            "Generated Answer: 1983\n",
            "BLEU Score: 0.0000\n",
            "ROUGE-L Score: 0.0000\n",
            "Exact Match: 0\n",
            "F1 Score: 0.0000\n",
            "\n",
            "---\n",
            "\n"
          ]
        },
        {
          "output_type": "stream",
          "name": "stderr",
          "text": [
            "Setting `pad_token_id` to `eos_token_id`:3 for open-end generation.\n"
          ]
        },
        {
          "output_type": "stream",
          "name": "stdout",
          "text": [
            "Title: Michaela Dorfmeister\n",
            "Question: In which races did Michaela Dorfmeister win gold medals at the 2006 Winter Olympics?\n",
            "Correct Answer: Downhill and super-G\n",
            "Generated Answer: Alpine skiing\n",
            "BLEU Score: 0.0000\n",
            "ROUGE-L Score: 0.0000\n",
            "Exact Match: 0\n",
            "F1 Score: 0.0000\n",
            "\n",
            "---\n",
            "\n"
          ]
        },
        {
          "output_type": "stream",
          "name": "stderr",
          "text": [
            "Setting `pad_token_id` to `eos_token_id`:3 for open-end generation.\n"
          ]
        },
        {
          "output_type": "stream",
          "name": "stdout",
          "text": [
            "Title: Michaela Dorfmeister\n",
            "Question: How many downhill victories did Michaela Dorfmeister have in her career?\n",
            "Correct Answer: 7\n",
            "Generated Answer: 12\n",
            "BLEU Score: 0.0000\n",
            "ROUGE-L Score: 0.0000\n",
            "Exact Match: 0\n",
            "F1 Score: 0.0000\n",
            "\n",
            "---\n",
            "\n"
          ]
        },
        {
          "output_type": "stream",
          "name": "stderr",
          "text": [
            "Setting `pad_token_id` to `eos_token_id`:3 for open-end generation.\n"
          ]
        },
        {
          "output_type": "stream",
          "name": "stdout",
          "text": [
            "Title: Frank R. Paul\n",
            "Question: What field did Frank R. Paul work in?\n",
            "Correct Answer: Science fiction illustration\n",
            "Generated Answer: film\n",
            "BLEU Score: 0.0000\n",
            "ROUGE-L Score: 0.0000\n",
            "Exact Match: 0\n",
            "F1 Score: 0.0000\n",
            "\n",
            "---\n",
            "\n"
          ]
        },
        {
          "output_type": "stream",
          "name": "stderr",
          "text": [
            "Setting `pad_token_id` to `eos_token_id`:3 for open-end generation.\n"
          ]
        },
        {
          "output_type": "stream",
          "name": "stdout",
          "text": [
            "Title: Frank R. Paul\n",
            "Question: Which was the first magazine dedicated to science fiction that featured Frank R. Paul's work on its cover?\n",
            "Correct Answer: Amazing Stories\n",
            "Generated Answer: Amazing Stories\n",
            "BLEU Score: 0.3162\n",
            "ROUGE-L Score: 1.0000\n",
            "Exact Match: 1\n",
            "F1 Score: 1.0000\n",
            "\n",
            "---\n",
            "\n"
          ]
        },
        {
          "output_type": "stream",
          "name": "stderr",
          "text": [
            "Setting `pad_token_id` to `eos_token_id`:3 for open-end generation.\n"
          ]
        },
        {
          "output_type": "stream",
          "name": "stdout",
          "text": [
            "Title: Frank R. Paul\n",
            "Question: What award is named in honor of Frank R. Paul?\n",
            "Correct Answer: The Frank R Paul Award\n",
            "Generated Answer: The Hugo Award for Best Dramatic Presentation\n",
            "BLEU Score: 0.0393\n",
            "ROUGE-L Score: 0.3333\n",
            "Exact Match: 0\n",
            "F1 Score: 0.3333\n",
            "\n",
            "---\n",
            "\n"
          ]
        },
        {
          "output_type": "stream",
          "name": "stderr",
          "text": [
            "Setting `pad_token_id` to `eos_token_id`:3 for open-end generation.\n"
          ]
        },
        {
          "output_type": "stream",
          "name": "stdout",
          "text": [
            "Title: Frank R. Paul\n",
            "Question: In what year was Frank R. Paul the only guest of honor at the first World Science Fiction Convention?\n",
            "Correct Answer: 1939\n",
            "Generated Answer: 1939\n",
            "BLEU Score: 0.1778\n",
            "ROUGE-L Score: 1.0000\n",
            "Exact Match: 1\n",
            "F1 Score: 1.0000\n",
            "\n",
            "---\n",
            "\n"
          ]
        },
        {
          "output_type": "stream",
          "name": "stderr",
          "text": [
            "Setting `pad_token_id` to `eos_token_id`:3 for open-end generation.\n"
          ]
        },
        {
          "output_type": "stream",
          "name": "stdout",
          "text": [
            "Title: Martin Gutzwiller\n",
            "Question: For what field of study is Martin Charles Gutzwiller known?\n",
            "Correct Answer: Physics\n",
            "Generated Answer: Physics\n",
            "BLEU Score: 0.1778\n",
            "ROUGE-L Score: 1.0000\n",
            "Exact Match: 1\n",
            "F1 Score: 1.0000\n",
            "\n",
            "---\n",
            "\n"
          ]
        },
        {
          "output_type": "stream",
          "name": "stderr",
          "text": [
            "Setting `pad_token_id` to `eos_token_id`:3 for open-end generation.\n"
          ]
        },
        {
          "output_type": "stream",
          "name": "stdout",
          "text": [
            "Title: Martin Gutzwiller\n",
            "Question: What position did Martin Charles Gutzwiller hold at Yale University?\n",
            "Correct Answer: Adjunct professor of physics\n",
            "Generated Answer: Professor of Physics\n",
            "BLEU Score: 0.4029\n",
            "ROUGE-L Score: 0.8571\n",
            "Exact Match: 0\n",
            "F1 Score: 0.8571\n",
            "\n",
            "---\n",
            "\n"
          ]
        },
        {
          "output_type": "stream",
          "name": "stderr",
          "text": [
            "Setting `pad_token_id` to `eos_token_id`:3 for open-end generation.\n"
          ]
        },
        {
          "output_type": "stream",
          "name": "stdout",
          "text": [
            "Title: Martin Gutzwiller\n",
            "Question: In which city was Martin Charles Gutzwiller born?\n",
            "Correct Answer: Basel\n",
            "Generated Answer: Zurich\n",
            "BLEU Score: 0.0000\n",
            "ROUGE-L Score: 0.0000\n",
            "Exact Match: 0\n",
            "F1 Score: 0.0000\n",
            "\n",
            "---\n",
            "\n"
          ]
        },
        {
          "output_type": "stream",
          "name": "stderr",
          "text": [
            "Setting `pad_token_id` to `eos_token_id`:3 for open-end generation.\n"
          ]
        },
        {
          "output_type": "stream",
          "name": "stdout",
          "text": [
            "Title: Martin Gutzwiller\n",
            "Question: What approximation is Martin Charles Gutzwiller known for formulating?\n",
            "Correct Answer: The Gutzwiller approximation\n",
            "Generated Answer: Bethe-Guttorfactor\n",
            "BLEU Score: 0.0000\n",
            "ROUGE-L Score: 0.0000\n",
            "Exact Match: 0\n",
            "F1 Score: 0.0000\n",
            "\n",
            "---\n",
            "\n"
          ]
        },
        {
          "output_type": "stream",
          "name": "stderr",
          "text": [
            "Setting `pad_token_id` to `eos_token_id`:3 for open-end generation.\n"
          ]
        },
        {
          "output_type": "stream",
          "name": "stdout",
          "text": [
            "Title: Martin Gutzwiller\n",
            "Question: What fellowship is named after Martin Charles Gutzwiller?\n",
            "Correct Answer: The Martin Gutzwiller Fellowship\n",
            "Generated Answer: The Gutzwiller Fellowship\n",
            "BLEU Score: 0.1905\n",
            "ROUGE-L Score: 0.8571\n",
            "Exact Match: 0\n",
            "F1 Score: 0.8571\n",
            "\n",
            "---\n",
            "\n"
          ]
        },
        {
          "output_type": "stream",
          "name": "stderr",
          "text": [
            "Setting `pad_token_id` to `eos_token_id`:3 for open-end generation.\n"
          ]
        },
        {
          "output_type": "stream",
          "name": "stdout",
          "text": [
            "Title: Iwan Wirth\n",
            "Question: What is the nationality of Iwan Wirth?\n",
            "Correct Answer: Swiss\n",
            "Generated Answer: Dutch\n",
            "BLEU Score: 0.0000\n",
            "ROUGE-L Score: 0.0000\n",
            "Exact Match: 0\n",
            "F1 Score: 0.0000\n",
            "\n",
            "---\n",
            "\n"
          ]
        },
        {
          "output_type": "stream",
          "name": "stderr",
          "text": [
            "Setting `pad_token_id` to `eos_token_id`:3 for open-end generation.\n"
          ]
        },
        {
          "output_type": "stream",
          "name": "stdout",
          "text": [
            "Title: Iwan Wirth\n",
            "Question: What is the name of the contemporary art gallery co-founded by Iwan Wirth?\n",
            "Correct Answer: Hauser & Wirth\n",
            "Generated Answer: Gagosian\n",
            "BLEU Score: 0.0000\n",
            "ROUGE-L Score: 0.0000\n",
            "Exact Match: 0\n",
            "F1 Score: 0.0000\n",
            "\n",
            "---\n",
            "\n"
          ]
        },
        {
          "output_type": "stream",
          "name": "stderr",
          "text": [
            "Setting `pad_token_id` to `eos_token_id`:3 for open-end generation.\n"
          ]
        },
        {
          "output_type": "stream",
          "name": "stdout",
          "text": [
            "Title: Iwan Wirth\n",
            "Question: What did Iwan Wirth and Manuela Hauser found that led them to be named one of the 'Top 50 Philanthropists of 2019' by Town & Country?\n",
            "Correct Answer: Hauser & Wirth Institute\n",
            "Generated Answer: The ONE Campaign\n",
            "BLEU Score: 0.0000\n",
            "ROUGE-L Score: 0.0000\n",
            "Exact Match: 0\n",
            "F1 Score: 0.0000\n",
            "\n",
            "---\n",
            "\n"
          ]
        },
        {
          "output_type": "stream",
          "name": "stderr",
          "text": [
            "Setting `pad_token_id` to `eos_token_id`:3 for open-end generation.\n"
          ]
        },
        {
          "output_type": "stream",
          "name": "stdout",
          "text": [
            "Title: Iwan Wirth\n",
            "Question: How much did Iwan Wirth and his wife donate to Cal State LA?\n",
            "Correct Answer: $1 million\n",
            "Generated Answer: $10 million\n",
            "BLEU Score: 0.1495\n",
            "ROUGE-L Score: 0.5000\n",
            "Exact Match: 0\n",
            "F1 Score: 0.5000\n",
            "\n",
            "---\n",
            "\n"
          ]
        },
        {
          "output_type": "stream",
          "name": "stderr",
          "text": [
            "Setting `pad_token_id` to `eos_token_id`:3 for open-end generation.\n"
          ]
        },
        {
          "output_type": "stream",
          "name": "stdout",
          "text": [
            "Title: Elizabeth Manley\n",
            "Question: What was the result of Elizabeth Ann Manley at the 1982 World Junior Championships?\n",
            "Correct Answer: Bronze medal\n",
            "Generated Answer: bronze medal\n",
            "BLEU Score: 0.3162\n",
            "ROUGE-L Score: 1.0000\n",
            "Exact Match: 1\n",
            "F1 Score: 1.0000\n",
            "\n",
            "---\n",
            "\n"
          ]
        },
        {
          "output_type": "stream",
          "name": "stderr",
          "text": [
            "Setting `pad_token_id` to `eos_token_id`:3 for open-end generation.\n"
          ]
        },
        {
          "output_type": "stream",
          "name": "stdout",
          "text": [
            "Title: Elizabeth Manley\n",
            "Question: Who were Elizabeth Ann Manley's main competitors at the 1988 Winter Olympics?\n",
            "Correct Answer: Katarina Witt and Debi Thomas\n",
            "Generated Answer: Bonnie Blair\n",
            "BLEU Score: 0.0000\n",
            "ROUGE-L Score: 0.0000\n",
            "Exact Match: 0\n",
            "F1 Score: 0.0000\n",
            "\n",
            "---\n",
            "\n"
          ]
        },
        {
          "output_type": "stream",
          "name": "stderr",
          "text": [
            "Setting `pad_token_id` to `eos_token_id`:3 for open-end generation.\n"
          ]
        },
        {
          "output_type": "stream",
          "name": "stdout",
          "text": [
            "Title: Elizabeth Manley\n",
            "Question: What honor was Elizabeth Ann Manley awarded in 1988?\n",
            "Correct Answer: Member of the Order of Canada\n",
            "Generated Answer: Olympic gold medal\n",
            "BLEU Score: 0.0000\n",
            "ROUGE-L Score: 0.0000\n",
            "Exact Match: 0\n",
            "F1 Score: 0.0000\n",
            "\n",
            "---\n",
            "\n"
          ]
        },
        {
          "output_type": "stream",
          "name": "stderr",
          "text": [
            "Setting `pad_token_id` to `eos_token_id`:3 for open-end generation.\n"
          ]
        },
        {
          "output_type": "stream",
          "name": "stdout",
          "text": [
            "Title: Elizabeth Manley\n",
            "Question: What personal health issue has Elizabeth Ann Manley been a spokesperson for?\n",
            "Correct Answer: Mental health issues\n",
            "Generated Answer: Multiple sclerosis\n",
            "BLEU Score: 0.0000\n",
            "ROUGE-L Score: 0.0000\n",
            "Exact Match: 0\n",
            "F1 Score: 0.0000\n",
            "\n",
            "---\n",
            "\n"
          ]
        },
        {
          "output_type": "stream",
          "name": "stderr",
          "text": [
            "Setting `pad_token_id` to `eos_token_id`:3 for open-end generation.\n"
          ]
        },
        {
          "output_type": "stream",
          "name": "stdout",
          "text": [
            "Title: Thomas Baines\n",
            "Question: Which famous waterfall did Thomas Baines view alongside David Livingstone in 1858?\n",
            "Correct Answer: Victoria Falls\n",
            "Generated Answer: Victoria Falls\n",
            "BLEU Score: 0.3162\n",
            "ROUGE-L Score: 1.0000\n",
            "Exact Match: 1\n",
            "F1 Score: 1.0000\n",
            "\n",
            "---\n",
            "\n"
          ]
        },
        {
          "output_type": "stream",
          "name": "stderr",
          "text": [
            "Setting `pad_token_id` to `eos_token_id`:3 for open-end generation.\n"
          ]
        },
        {
          "output_type": "stream",
          "name": "stdout",
          "text": [
            "Title: Thomas Baines\n",
            "Question: Where is the majority of Thomas Baines' work held?\n",
            "Correct Answer: London\n",
            "Generated Answer: National Gallery\n",
            "BLEU Score: 0.0000\n",
            "ROUGE-L Score: 0.0000\n",
            "Exact Match: 0\n",
            "F1 Score: 0.0000\n",
            "\n",
            "---\n",
            "\n"
          ]
        },
        {
          "output_type": "stream",
          "name": "stderr",
          "text": [
            "Setting `pad_token_id` to `eos_token_id`:3 for open-end generation.\n"
          ]
        },
        {
          "output_type": "stream",
          "name": "stdout",
          "text": [
            "Title: Thomas Baines\n",
            "Question: What nature reserve is named after Thomas Baines?\n",
            "Correct Answer: The Thomas Baines Nature Reserve in the Eastern Cape of South Africa\n",
            "Generated Answer: Baine's Thicket\n",
            "BLEU Score: 0.0000\n",
            "ROUGE-L Score: 0.1333\n",
            "Exact Match: 0\n",
            "F1 Score: 0.0000\n",
            "\n",
            "---\n",
            "\n"
          ]
        },
        {
          "output_type": "stream",
          "name": "stderr",
          "text": [
            "Setting `pad_token_id` to `eos_token_id`:3 for open-end generation.\n"
          ]
        },
        {
          "output_type": "stream",
          "name": "stdout",
          "text": [
            "Title: Thomas Baines\n",
            "Question: What is the title of the publication by Thomas Baines about his explorations in South-West Africa?\n",
            "Correct Answer: Explorations in South-West Africa\n",
            "Generated Answer: The Land Beyond\n",
            "BLEU Score: 0.0000\n",
            "ROUGE-L Score: 0.0000\n",
            "Exact Match: 0\n",
            "F1 Score: 0.0000\n",
            "\n",
            "---\n",
            "\n"
          ]
        },
        {
          "output_type": "stream",
          "name": "stderr",
          "text": [
            "Setting `pad_token_id` to `eos_token_id`:3 for open-end generation.\n"
          ]
        },
        {
          "output_type": "stream",
          "name": "stdout",
          "text": [
            "Title: Fatmir Sejdiu\n",
            "Question: What was Fatmir Sejdiu's role in the Kosovo Parliament between 1992-98 and 1998–2001?\n",
            "Correct Answer: Member of Parliament\n",
            "Generated Answer: President\n",
            "BLEU Score: 0.0000\n",
            "ROUGE-L Score: 0.0000\n",
            "Exact Match: 0\n",
            "F1 Score: 0.0000\n",
            "\n",
            "---\n",
            "\n"
          ]
        },
        {
          "output_type": "stream",
          "name": "stderr",
          "text": [
            "Setting `pad_token_id` to `eos_token_id`:3 for open-end generation.\n"
          ]
        },
        {
          "output_type": "stream",
          "name": "stdout",
          "text": [
            "Title: Fatmir Sejdiu\n",
            "Question: What significant event did Fatmir Sejdiu lead Kosovo through as president?\n",
            "Correct Answer: Declaration of Independence of Kosovo\n",
            "Generated Answer: declaration of independence\n",
            "BLEU Score: 0.2887\n",
            "ROUGE-L Score: 0.7500\n",
            "Exact Match: 0\n",
            "F1 Score: 0.7500\n",
            "\n",
            "---\n",
            "\n"
          ]
        },
        {
          "output_type": "stream",
          "name": "stderr",
          "text": [
            "Setting `pad_token_id` to `eos_token_id`:3 for open-end generation.\n"
          ]
        },
        {
          "output_type": "stream",
          "name": "stdout",
          "text": [
            "Title: Fatmir Sejdiu\n",
            "Question: On what date did Kosovo declare independence under Fatmir Sejdiu's leadership?\n",
            "Correct Answer: 17 February 2008\n",
            "Generated Answer: February 17, 2008\n",
            "BLEU Score: 0.1495\n",
            "ROUGE-L Score: 0.6667\n",
            "Exact Match: 0\n",
            "F1 Score: 1.0000\n",
            "\n",
            "---\n",
            "\n"
          ]
        },
        {
          "output_type": "stream",
          "name": "stderr",
          "text": [
            "Setting `pad_token_id` to `eos_token_id`:3 for open-end generation.\n"
          ]
        },
        {
          "output_type": "stream",
          "name": "stdout",
          "text": [
            "Title: Fatmir Sejdiu\n",
            "Question: Why did Fatmir Sejdiu resign as President of Kosovo in 2010?\n",
            "Correct Answer: Violating the Constitution of Kosovo\n",
            "Generated Answer: corruption allegations\n",
            "BLEU Score: 0.0000\n",
            "ROUGE-L Score: 0.0000\n",
            "Exact Match: 0\n",
            "F1 Score: 0.0000\n",
            "\n",
            "---\n",
            "\n"
          ]
        },
        {
          "output_type": "stream",
          "name": "stderr",
          "text": [
            "Setting `pad_token_id` to `eos_token_id`:3 for open-end generation.\n"
          ]
        },
        {
          "output_type": "stream",
          "name": "stdout",
          "text": [
            "Title: Andreas Wenzel\n",
            "Question: How many season titles in the combined event did Andreas Wenzel win?\n",
            "Correct Answer: 2\n",
            "Generated Answer: 2\n",
            "BLEU Score: 0.1778\n",
            "ROUGE-L Score: 1.0000\n",
            "Exact Match: 1\n",
            "F1 Score: 1.0000\n",
            "\n",
            "---\n",
            "\n"
          ]
        },
        {
          "output_type": "stream",
          "name": "stderr",
          "text": [
            "Setting `pad_token_id` to `eos_token_id`:3 for open-end generation.\n"
          ]
        },
        {
          "output_type": "stream",
          "name": "stdout",
          "text": [
            "Title: Andreas Wenzel\n",
            "Question: How many Winter Olympics did Andreas Wenzel compete in?\n",
            "Correct Answer: 4\n",
            "Generated Answer: 2\n",
            "BLEU Score: 0.0000\n",
            "ROUGE-L Score: 0.0000\n",
            "Exact Match: 0\n",
            "F1 Score: 0.0000\n",
            "\n",
            "---\n",
            "\n"
          ]
        },
        {
          "output_type": "stream",
          "name": "stderr",
          "text": [
            "Setting `pad_token_id` to `eos_token_id`:3 for open-end generation.\n"
          ]
        },
        {
          "output_type": "stream",
          "name": "stdout",
          "text": [
            "Title: Andreas Wenzel\n",
            "Question: How many Olympic medals did Andreas Wenzel win?\n",
            "Correct Answer: 2\n",
            "Generated Answer: 1\n",
            "BLEU Score: 0.0000\n",
            "ROUGE-L Score: 0.0000\n",
            "Exact Match: 0\n",
            "F1 Score: 0.0000\n",
            "\n",
            "---\n",
            "\n"
          ]
        },
        {
          "output_type": "stream",
          "name": "stderr",
          "text": [
            "Setting `pad_token_id` to `eos_token_id`:3 for open-end generation.\n"
          ]
        },
        {
          "output_type": "stream",
          "name": "stdout",
          "text": [
            "Title: Andreas Wenzel\n",
            "Question: How many World Championship medals did Andreas Wenzel win?\n",
            "Correct Answer: 4\n",
            "Generated Answer: 1\n",
            "BLEU Score: 0.0000\n",
            "ROUGE-L Score: 0.0000\n",
            "Exact Match: 0\n",
            "F1 Score: 0.0000\n",
            "\n",
            "---\n",
            "\n"
          ]
        },
        {
          "output_type": "stream",
          "name": "stderr",
          "text": [
            "Setting `pad_token_id` to `eos_token_id`:3 for open-end generation.\n"
          ]
        },
        {
          "output_type": "stream",
          "name": "stdout",
          "text": [
            "Title: Claire Goll\n",
            "Question: To which country did Claire Goll emigrate during World War I?\n",
            "Correct Answer: Switzerland\n",
            "Generated Answer: United States\n",
            "BLEU Score: 0.0000\n",
            "ROUGE-L Score: 0.0000\n",
            "Exact Match: 0\n",
            "F1 Score: 0.0000\n",
            "\n",
            "---\n",
            "\n"
          ]
        },
        {
          "output_type": "stream",
          "name": "stderr",
          "text": [
            "Setting `pad_token_id` to `eos_token_id`:3 for open-end generation.\n"
          ]
        },
        {
          "output_type": "stream",
          "name": "stdout",
          "text": [
            "Title: Claire Goll\n",
            "Question: In what year did Claire Goll marry Yvan Goll?\n",
            "Correct Answer: 1921\n",
            "Generated Answer: 1986\n",
            "BLEU Score: 0.0000\n",
            "ROUGE-L Score: 0.0000\n",
            "Exact Match: 0\n",
            "F1 Score: 0.0000\n",
            "\n",
            "---\n",
            "\n"
          ]
        },
        {
          "output_type": "stream",
          "name": "stderr",
          "text": [
            "Setting `pad_token_id` to `eos_token_id`:3 for open-end generation.\n"
          ]
        },
        {
          "output_type": "stream",
          "name": "stdout",
          "text": [
            "Title: Claire Goll\n",
            "Question: What languages did Claire Goll write her works in?\n",
            "Correct Answer: German and French\n",
            "Generated Answer: English\n",
            "BLEU Score: 0.0000\n",
            "ROUGE-L Score: 0.0000\n",
            "Exact Match: 0\n",
            "F1 Score: 0.0000\n",
            "\n",
            "---\n",
            "\n"
          ]
        },
        {
          "output_type": "stream",
          "name": "stderr",
          "text": [
            "Setting `pad_token_id` to `eos_token_id`:3 for open-end generation.\n"
          ]
        },
        {
          "output_type": "stream",
          "name": "stdout",
          "text": [
            "Title: Claire Goll\n",
            "Question: Where did Claire Goll die?\n",
            "Correct Answer: Paris, France\n",
            "Generated Answer: in her home\n",
            "BLEU Score: 0.0000\n",
            "ROUGE-L Score: 0.0000\n",
            "Exact Match: 0\n",
            "F1 Score: 0.0000\n",
            "\n",
            "---\n",
            "\n"
          ]
        },
        {
          "output_type": "stream",
          "name": "stderr",
          "text": [
            "Setting `pad_token_id` to `eos_token_id`:3 for open-end generation.\n"
          ]
        },
        {
          "output_type": "stream",
          "name": "stdout",
          "text": [
            "Title: Hans Georg Dehmelt\n",
            "Question: What nationality was Hans Georg Dehmelt?\n",
            "Correct Answer: German and American\n",
            "Generated Answer: German\n",
            "BLEU Score: 0.0241\n",
            "ROUGE-L Score: 0.5000\n",
            "Exact Match: 0\n",
            "F1 Score: 0.5000\n",
            "\n",
            "---\n",
            "\n"
          ]
        },
        {
          "output_type": "stream",
          "name": "stderr",
          "text": [
            "Setting `pad_token_id` to `eos_token_id`:3 for open-end generation.\n"
          ]
        },
        {
          "output_type": "stream",
          "name": "stdout",
          "text": [
            "Title: Hans Georg Dehmelt\n",
            "Question: At which university did Hans Georg Dehmelt become a full professor in 1961?\n",
            "Correct Answer: University of Washington\n",
            "Generated Answer: University of California\n",
            "BLEU Score: 0.2403\n",
            "ROUGE-L Score: 0.6667\n",
            "Exact Match: 0\n",
            "F1 Score: 0.6667\n",
            "\n",
            "---\n",
            "\n"
          ]
        },
        {
          "output_type": "stream",
          "name": "stderr",
          "text": [
            "Setting `pad_token_id` to `eos_token_id`:3 for open-end generation.\n"
          ]
        },
        {
          "output_type": "stream",
          "name": "stdout",
          "text": [
            "Title: Hans Georg Dehmelt\n",
            "Question: What was Hans Georg Dehmelt's age at the time of his death?\n",
            "Correct Answer: 94\n",
            "Generated Answer: 95\n",
            "BLEU Score: 0.0000\n",
            "ROUGE-L Score: 0.0000\n",
            "Exact Match: 0\n",
            "F1 Score: 0.0000\n",
            "\n",
            "---\n",
            "\n"
          ]
        },
        {
          "output_type": "stream",
          "name": "stderr",
          "text": [
            "Setting `pad_token_id` to `eos_token_id`:3 for open-end generation.\n"
          ]
        },
        {
          "output_type": "stream",
          "name": "stdout",
          "text": [
            "Title: Hans Georg Dehmelt\n",
            "Question: In which city did Hans Georg Dehmelt die?\n",
            "Correct Answer: Seattle, Washington\n",
            "Generated Answer: Munich\n",
            "BLEU Score: 0.0000\n",
            "ROUGE-L Score: 0.0000\n",
            "Exact Match: 0\n",
            "F1 Score: 0.0000\n",
            "\n",
            "---\n",
            "\n"
          ]
        },
        {
          "output_type": "stream",
          "name": "stderr",
          "text": [
            "Setting `pad_token_id` to `eos_token_id`:3 for open-end generation.\n"
          ]
        },
        {
          "output_type": "stream",
          "name": "stdout",
          "text": [
            "Title: Simone Young\n",
            "Question: What is Simone Young's nationality?\n",
            "Correct Answer: Australian\n",
            "Generated Answer: Australian\n",
            "BLEU Score: 0.1778\n",
            "ROUGE-L Score: 1.0000\n",
            "Exact Match: 1\n",
            "F1 Score: 1.0000\n",
            "\n",
            "---\n",
            "\n"
          ]
        },
        {
          "output_type": "stream",
          "name": "stderr",
          "text": [
            "Setting `pad_token_id` to `eos_token_id`:3 for open-end generation.\n"
          ]
        },
        {
          "output_type": "stream",
          "name": "stdout",
          "text": [
            "Title: Simone Young\n",
            "Question: Which orchestra is Simone Young the chief conductor of?\n",
            "Correct Answer: Sydney Symphony Orchestra\n",
            "Generated Answer: The National Symphony Orchestra\n",
            "BLEU Score: 0.1699\n",
            "ROUGE-L Score: 0.5714\n",
            "Exact Match: 0\n",
            "F1 Score: 0.5714\n",
            "\n",
            "---\n",
            "\n"
          ]
        },
        {
          "output_type": "stream",
          "name": "stderr",
          "text": [
            "Setting `pad_token_id` to `eos_token_id`:3 for open-end generation.\n"
          ]
        },
        {
          "output_type": "stream",
          "name": "stdout",
          "text": [
            "Title: Simone Young\n",
            "Question: What notable recording did Simone Young complete involving Richard Wagner's works?\n",
            "Correct Answer: The complete Ring Cycle\n",
            "Generated Answer: Bayreuth Festival\n",
            "BLEU Score: 0.0000\n",
            "ROUGE-L Score: 0.0000\n",
            "Exact Match: 0\n",
            "F1 Score: 0.0000\n",
            "\n",
            "---\n",
            "\n"
          ]
        },
        {
          "output_type": "stream",
          "name": "stderr",
          "text": [
            "Setting `pad_token_id` to `eos_token_id`:3 for open-end generation.\n"
          ]
        },
        {
          "output_type": "stream",
          "name": "stdout",
          "text": [
            "Title: Simone Young\n",
            "Question: What was a unique aspect of Simone Young's appointment with the Sydney Symphony Orchestra?\n",
            "Correct Answer: First female chief conductor\n",
            "Generated Answer: first Indigenous Australian\n",
            "BLEU Score: 0.0814\n",
            "ROUGE-L Score: 0.2857\n",
            "Exact Match: 0\n",
            "F1 Score: 0.2857\n",
            "\n",
            "---\n",
            "\n"
          ]
        },
        {
          "output_type": "stream",
          "name": "stderr",
          "text": [
            "Setting `pad_token_id` to `eos_token_id`:3 for open-end generation.\n"
          ]
        },
        {
          "output_type": "stream",
          "name": "stdout",
          "text": [
            "Title: George Beadle\n",
            "Question: What significant award did George Wells Beadle share in 1958?\n",
            "Correct Answer: Nobel Prize in Physiology or Medicine\n",
            "Generated Answer: Nobel Prize\n",
            "BLEU Score: 0.0428\n",
            "ROUGE-L Score: 0.5000\n",
            "Exact Match: 0\n",
            "F1 Score: 0.5000\n",
            "\n",
            "---\n",
            "\n"
          ]
        },
        {
          "output_type": "stream",
          "name": "stderr",
          "text": [
            "Setting `pad_token_id` to `eos_token_id`:3 for open-end generation.\n"
          ]
        },
        {
          "output_type": "stream",
          "name": "stdout",
          "text": [
            "Title: George Beadle\n",
            "Question: Who did George Wells Beadle share the Nobel Prize with in 1958?\n",
            "Correct Answer: Edward Tatum\n",
            "Generated Answer: Edward Tatum\n",
            "BLEU Score: 0.3162\n",
            "ROUGE-L Score: 1.0000\n",
            "Exact Match: 1\n",
            "F1 Score: 1.0000\n",
            "\n",
            "---\n",
            "\n"
          ]
        },
        {
          "output_type": "stream",
          "name": "stderr",
          "text": [
            "Setting `pad_token_id` to `eos_token_id`:3 for open-end generation.\n"
          ]
        },
        {
          "output_type": "stream",
          "name": "stdout",
          "text": [
            "Title: George Beadle\n",
            "Question: Which university did George Wells Beadle serve as the 7th President of?\n",
            "Correct Answer: University of Chicago\n",
            "Generated Answer: University of California\n",
            "BLEU Score: 0.2403\n",
            "ROUGE-L Score: 0.6667\n",
            "Exact Match: 0\n",
            "F1 Score: 0.6667\n",
            "\n",
            "---\n",
            "\n"
          ]
        },
        {
          "output_type": "stream",
          "name": "stderr",
          "text": [
            "Setting `pad_token_id` to `eos_token_id`:3 for open-end generation.\n"
          ]
        },
        {
          "output_type": "stream",
          "name": "stdout",
          "text": [
            "Title: George Beadle\n",
            "Question: Where was George Wells Beadle born?\n",
            "Correct Answer: Wahoo, Nebraska\n",
            "Generated Answer: New York City\n",
            "BLEU Score: 0.0000\n",
            "ROUGE-L Score: 0.0000\n",
            "Exact Match: 0\n",
            "F1 Score: 0.0000\n",
            "\n",
            "---\n",
            "\n"
          ]
        },
        {
          "output_type": "stream",
          "name": "stderr",
          "text": [
            "Setting `pad_token_id` to `eos_token_id`:3 for open-end generation.\n"
          ]
        },
        {
          "output_type": "stream",
          "name": "stdout",
          "text": [
            "Title: George Beadle\n",
            "Question: What position did George Wells Beadle hold at Harvard University?\n",
            "Correct Answer: Assistant Professor of Genetics\n",
            "Generated Answer: professor\n",
            "BLEU Score: 0.0089\n",
            "ROUGE-L Score: 0.4000\n",
            "Exact Match: 0\n",
            "F1 Score: 0.4000\n",
            "\n",
            "---\n",
            "\n"
          ]
        },
        {
          "output_type": "stream",
          "name": "stderr",
          "text": [
            "Setting `pad_token_id` to `eos_token_id`:3 for open-end generation.\n"
          ]
        },
        {
          "output_type": "stream",
          "name": "stdout",
          "text": [
            "Title: George Beadle\n",
            "Question: What year did George Wells Beadle return to the California Institute of Technology as Professor of Biology?\n",
            "Correct Answer: 1946\n",
            "Generated Answer: 1945\n",
            "BLEU Score: 0.0000\n",
            "ROUGE-L Score: 0.0000\n",
            "Exact Match: 0\n",
            "F1 Score: 0.0000\n",
            "\n",
            "---\n",
            "\n"
          ]
        },
        {
          "output_type": "stream",
          "name": "stderr",
          "text": [
            "Setting `pad_token_id` to `eos_token_id`:3 for open-end generation.\n"
          ]
        },
        {
          "output_type": "stream",
          "name": "stdout",
          "text": [
            "Title: Paul Otlet\n",
            "Question: What field is Paul Otlet considered to be the father of?\n",
            "Correct Answer: Information science\n",
            "Generated Answer: Information science\n",
            "BLEU Score: 0.3162\n",
            "ROUGE-L Score: 1.0000\n",
            "Exact Match: 1\n",
            "F1 Score: 1.0000\n",
            "\n",
            "---\n",
            "\n"
          ]
        },
        {
          "output_type": "stream",
          "name": "stderr",
          "text": [
            "Setting `pad_token_id` to `eos_token_id`:3 for open-end generation.\n"
          ]
        },
        {
          "output_type": "stream",
          "name": "stdout",
          "text": [
            "Title: Paul Otlet\n",
            "Question: What did Paul Otlet create that is related to classification?\n",
            "Correct Answer: The Universal Decimal Classification\n",
            "Generated Answer: Universal Decimal Classification\n",
            "BLEU Score: 0.4029\n",
            "ROUGE-L Score: 0.8571\n",
            "Exact Match: 0\n",
            "F1 Score: 0.8571\n",
            "\n",
            "---\n",
            "\n"
          ]
        },
        {
          "output_type": "stream",
          "name": "stderr",
          "text": [
            "Setting `pad_token_id` to `eos_token_id`:3 for open-end generation.\n"
          ]
        },
        {
          "output_type": "stream",
          "name": "stdout",
          "text": [
            "Title: Paul Otlet\n",
            "Question: Where was Paul Otlet born?\n",
            "Correct Answer: Brussels, Belgium\n",
            "Generated Answer: Brussels\n",
            "BLEU Score: 0.0654\n",
            "ROUGE-L Score: 0.6667\n",
            "Exact Match: 0\n",
            "F1 Score: 0.6667\n",
            "\n",
            "---\n",
            "\n"
          ]
        },
        {
          "output_type": "stream",
          "name": "stderr",
          "text": [
            "Setting `pad_token_id` to `eos_token_id`:3 for open-end generation.\n"
          ]
        },
        {
          "output_type": "stream",
          "name": "stdout",
          "text": [
            "Title: Paul Otlet\n",
            "Question: What degree did Paul Otlet earn from the Free University of Brussels?\n",
            "Correct Answer: A law degree\n",
            "Generated Answer: Doctor\n",
            "BLEU Score: 0.0000\n",
            "ROUGE-L Score: 0.0000\n",
            "Exact Match: 0\n",
            "F1 Score: 0.0000\n",
            "\n",
            "---\n",
            "\n"
          ]
        },
        {
          "output_type": "stream",
          "name": "stderr",
          "text": [
            "Setting `pad_token_id` to `eos_token_id`:3 for open-end generation.\n"
          ]
        },
        {
          "output_type": "stream",
          "name": "stdout",
          "text": [
            "Title: Paul Otlet\n",
            "Question: What architectural style was Paul Otlet's mansion in Brussels?\n",
            "Correct Answer: Art Nouveau\n",
            "Generated Answer: Art Nouveau\n",
            "BLEU Score: 0.3162\n",
            "ROUGE-L Score: 1.0000\n",
            "Exact Match: 1\n",
            "F1 Score: 1.0000\n",
            "\n",
            "---\n",
            "\n"
          ]
        },
        {
          "output_type": "stream",
          "name": "stderr",
          "text": [
            "Setting `pad_token_id` to `eos_token_id`:3 for open-end generation.\n"
          ]
        },
        {
          "output_type": "stream",
          "name": "stdout",
          "text": [
            "Title: Alfred Büchi\n",
            "Question: In which year is the birth of the turbocharging era acknowledged due to Alfred Büchi's invention?\n",
            "Correct Answer: 1905\n",
            "Generated Answer: 1905\n",
            "BLEU Score: 0.1778\n",
            "ROUGE-L Score: 1.0000\n",
            "Exact Match: 1\n",
            "F1 Score: 1.0000\n",
            "\n",
            "---\n",
            "\n"
          ]
        },
        {
          "output_type": "stream",
          "name": "stderr",
          "text": [
            "Setting `pad_token_id` to `eos_token_id`:3 for open-end generation.\n"
          ]
        },
        {
          "output_type": "stream",
          "name": "stdout",
          "text": [
            "Title: Alfred Büchi\n",
            "Question: Which companies did Alfred Büchi's first practical application of turbocharging technology involve?\n",
            "Correct Answer: Brown Boveri (BBC) (now ABB)\n",
            "Generated Answer: BMW and Rolls-Royce\n",
            "BLEU Score: 0.0000\n",
            "ROUGE-L Score: 0.0000\n",
            "Exact Match: 0\n",
            "F1 Score: 0.0000\n",
            "\n",
            "---\n",
            "\n"
          ]
        },
        {
          "output_type": "stream",
          "name": "stderr",
          "text": [
            "Setting `pad_token_id` to `eos_token_id`:3 for open-end generation.\n"
          ]
        },
        {
          "output_type": "stream",
          "name": "stdout",
          "text": [
            "Title: Alfred Büchi\n",
            "Question: Where is Alfred Büchi buried?\n",
            "Correct Answer: Rosenberg cemetery in Winterthur\n",
            "Generated Answer: Chur\n",
            "BLEU Score: 0.0000\n",
            "ROUGE-L Score: 0.0000\n",
            "Exact Match: 0\n",
            "F1 Score: 0.0000\n",
            "\n",
            "---\n",
            "\n"
          ]
        },
        {
          "output_type": "stream",
          "name": "stderr",
          "text": [
            "Setting `pad_token_id` to `eos_token_id`:3 for open-end generation.\n"
          ]
        },
        {
          "output_type": "stream",
          "name": "stdout",
          "text": [
            "Title: Alfred Büchi\n",
            "Question: What honour was Alfred Büchi awarded in 1938 by ETH Zurich?\n",
            "Correct Answer: An honorary doctorate\n",
            "Generated Answer: Honorary Professor\n",
            "BLEU Score: 0.0907\n",
            "ROUGE-L Score: 0.4000\n",
            "Exact Match: 0\n",
            "F1 Score: 0.4000\n",
            "\n",
            "---\n",
            "\n"
          ]
        },
        {
          "output_type": "stream",
          "name": "stderr",
          "text": [
            "Setting `pad_token_id` to `eos_token_id`:3 for open-end generation.\n"
          ]
        },
        {
          "output_type": "stream",
          "name": "stdout",
          "text": [
            "Title: Alfred Büchi\n",
            "Question: What was named after Alfred Büchi in Neuwiesenquartier, Winterthur, in summer 2012?\n",
            "Correct Answer: Alfred Büchi Way\n",
            "Generated Answer: Büchi-Park\n",
            "BLEU Score: 0.0907\n",
            "ROUGE-L Score: 0.5714\n",
            "Exact Match: 0\n",
            "F1 Score: 0.4000\n",
            "\n",
            "---\n",
            "\n"
          ]
        },
        {
          "output_type": "stream",
          "name": "stderr",
          "text": [
            "Setting `pad_token_id` to `eos_token_id`:3 for open-end generation.\n"
          ]
        },
        {
          "output_type": "stream",
          "name": "stdout",
          "text": [
            "Title: Kati Outinen\n",
            "Question: What nationality is Kati Outinen?\n",
            "Correct Answer: Finnish\n",
            "Generated Answer: Finnish\n",
            "BLEU Score: 0.1778\n",
            "ROUGE-L Score: 1.0000\n",
            "Exact Match: 1\n",
            "F1 Score: 1.0000\n",
            "\n",
            "---\n",
            "\n"
          ]
        },
        {
          "output_type": "stream",
          "name": "stderr",
          "text": [
            "Setting `pad_token_id` to `eos_token_id`:3 for open-end generation.\n"
          ]
        },
        {
          "output_type": "stream",
          "name": "stdout",
          "text": [
            "Title: Kati Outinen\n",
            "Question: Which director's films has Kati Outinen often played leading female roles in?\n",
            "Correct Answer: Aki Kaurismäki\n",
            "Generated Answer: Aki Kaurismäki\n",
            "BLEU Score: 0.3162\n",
            "ROUGE-L Score: 1.0000\n",
            "Exact Match: 1\n",
            "F1 Score: 1.0000\n",
            "\n",
            "---\n",
            "\n"
          ]
        },
        {
          "output_type": "stream",
          "name": "stderr",
          "text": [
            "Setting `pad_token_id` to `eos_token_id`:3 for open-end generation.\n"
          ]
        },
        {
          "output_type": "stream",
          "name": "stdout",
          "text": [
            "Title: Kati Outinen\n",
            "Question: Where was Kati Outinen born?\n",
            "Correct Answer: Helsinki\n",
            "Generated Answer: Finland\n",
            "BLEU Score: 0.0000\n",
            "ROUGE-L Score: 0.0000\n",
            "Exact Match: 0\n",
            "F1 Score: 0.0000\n",
            "\n",
            "---\n",
            "\n"
          ]
        },
        {
          "output_type": "stream",
          "name": "stderr",
          "text": [
            "Setting `pad_token_id` to `eos_token_id`:3 for open-end generation.\n"
          ]
        },
        {
          "output_type": "stream",
          "name": "stdout",
          "text": [
            "Title: Kati Outinen\n",
            "Question: What was Kati Outinen's profession at the Theatre Academy Helsinki from 2002 to 2013?\n",
            "Correct Answer: A professor in acting\n",
            "Generated Answer: professor\n",
            "BLEU Score: 0.0089\n",
            "ROUGE-L Score: 0.4000\n",
            "Exact Match: 0\n",
            "F1 Score: 0.4000\n",
            "\n",
            "---\n",
            "\n"
          ]
        },
        {
          "output_type": "stream",
          "name": "stderr",
          "text": [
            "Setting `pad_token_id` to `eos_token_id`:3 for open-end generation.\n"
          ]
        },
        {
          "output_type": "stream",
          "name": "stdout",
          "text": [
            "Title: Catherine of Bohemia\n",
            "Question: What is the full name of Catherine of Bohemia?\n",
            "Correct Answer: Catherine of Bohemia\n",
            "Generated Answer: Catherine of Valois\n",
            "BLEU Score: 0.2403\n",
            "ROUGE-L Score: 0.6667\n",
            "Exact Match: 0\n",
            "F1 Score: 0.6667\n",
            "\n",
            "---\n",
            "\n"
          ]
        },
        {
          "output_type": "stream",
          "name": "stderr",
          "text": [
            "Setting `pad_token_id` to `eos_token_id`:3 for open-end generation.\n"
          ]
        },
        {
          "output_type": "stream",
          "name": "stdout",
          "text": [
            "Title: Catherine of Bohemia\n",
            "Question: What was Catherine of Bohemia's title in Brandenburg?\n",
            "Correct Answer: Electress of Brandenburg\n",
            "Generated Answer: Duchess\n",
            "BLEU Score: 0.0000\n",
            "ROUGE-L Score: 0.0000\n",
            "Exact Match: 0\n",
            "F1 Score: 0.0000\n",
            "\n",
            "---\n",
            "\n"
          ]
        },
        {
          "output_type": "stream",
          "name": "stderr",
          "text": [
            "Setting `pad_token_id` to `eos_token_id`:3 for open-end generation.\n"
          ]
        },
        {
          "output_type": "stream",
          "name": "stdout",
          "text": [
            "Title: Catherine of Bohemia\n",
            "Question: Did Catherine of Bohemia have any children with Rudolf IV, Duke of Austria?\n",
            "Correct Answer: No\n",
            "Generated Answer: no\n",
            "BLEU Score: 0.1778\n",
            "ROUGE-L Score: 1.0000\n",
            "Exact Match: 1\n",
            "F1 Score: 1.0000\n",
            "\n",
            "---\n",
            "\n"
          ]
        },
        {
          "output_type": "stream",
          "name": "stderr",
          "text": [
            "Setting `pad_token_id` to `eos_token_id`:3 for open-end generation.\n"
          ]
        },
        {
          "output_type": "stream",
          "name": "stdout",
          "text": [
            "Title: Catherine of Bohemia\n",
            "Question: What languages are used to refer to Catherine of Bohemia in her homeland?\n",
            "Correct Answer: Czech and German\n",
            "Generated Answer: Czech\n",
            "BLEU Score: 0.0241\n",
            "ROUGE-L Score: 0.5000\n",
            "Exact Match: 0\n",
            "F1 Score: 0.5000\n",
            "\n",
            "---\n",
            "\n"
          ]
        },
        {
          "output_type": "stream",
          "name": "stderr",
          "text": [
            "Setting `pad_token_id` to `eos_token_id`:3 for open-end generation.\n"
          ]
        },
        {
          "output_type": "stream",
          "name": "stdout",
          "text": [
            "Title: Catherine of Bohemia\n",
            "Question: In German, how is Catherine of Bohemia's name spelled?\n",
            "Correct Answer: Katharina von Böhmen\n",
            "Generated Answer: Katharina\n",
            "BLEU Score: 0.0241\n",
            "ROUGE-L Score: 0.4000\n",
            "Exact Match: 0\n",
            "F1 Score: 0.5000\n",
            "\n",
            "---\n",
            "\n"
          ]
        },
        {
          "output_type": "stream",
          "name": "stderr",
          "text": [
            "Setting `pad_token_id` to `eos_token_id`:3 for open-end generation.\n"
          ]
        },
        {
          "output_type": "stream",
          "name": "stdout",
          "text": [
            "Title: Géza Maróczy\n",
            "Question: What nationality was Géza Maróczy?\n",
            "Correct Answer: Hungarian\n",
            "Generated Answer: Hungarian\n",
            "BLEU Score: 0.1778\n",
            "ROUGE-L Score: 1.0000\n",
            "Exact Match: 1\n",
            "F1 Score: 1.0000\n",
            "\n",
            "---\n",
            "\n"
          ]
        },
        {
          "output_type": "stream",
          "name": "stderr",
          "text": [
            "Setting `pad_token_id` to `eos_token_id`:3 for open-end generation.\n"
          ]
        },
        {
          "output_type": "stream",
          "name": "stdout",
          "text": [
            "Title: Géza Maróczy\n",
            "Question: In what year did Géza Maróczy become one of the inaugural recipients of the International Grandmaster title from FIDE?\n",
            "Correct Answer: 1950\n",
            "Generated Answer: 1950\n",
            "BLEU Score: 0.1778\n",
            "ROUGE-L Score: 1.0000\n",
            "Exact Match: 1\n",
            "F1 Score: 1.0000\n",
            "\n",
            "---\n",
            "\n"
          ]
        },
        {
          "output_type": "stream",
          "name": "stderr",
          "text": [
            "Setting `pad_token_id` to `eos_token_id`:3 for open-end generation.\n"
          ]
        },
        {
          "output_type": "stream",
          "name": "stdout",
          "text": [
            "Title: Géza Maróczy\n",
            "Question: What is the name of the chess formation associated with Géza Maróczy's name?\n",
            "Correct Answer: The Maróczy Bind\n",
            "Generated Answer: Maroczy\n",
            "BLEU Score: 0.0000\n",
            "ROUGE-L Score: 0.0000\n",
            "Exact Match: 0\n",
            "F1 Score: 0.0000\n",
            "\n",
            "---\n",
            "\n"
          ]
        },
        {
          "output_type": "stream",
          "name": "stderr",
          "text": [
            "Setting `pad_token_id` to `eos_token_id`:3 for open-end generation.\n"
          ]
        },
        {
          "output_type": "stream",
          "name": "stdout",
          "text": [
            "Title: Géza Maróczy\n",
            "Question: Who praised Géza Maróczy for his handling of queen endgames?\n",
            "Correct Answer: Capablanca\n",
            "Generated Answer: Emanuel Lasker\n",
            "BLEU Score: 0.0000\n",
            "ROUGE-L Score: 0.0000\n",
            "Exact Match: 0\n",
            "F1 Score: 0.0000\n",
            "\n",
            "---\n",
            "\n"
          ]
        },
        {
          "output_type": "stream",
          "name": "stderr",
          "text": [
            "Setting `pad_token_id` to `eos_token_id`:3 for open-end generation.\n"
          ]
        },
        {
          "output_type": "stream",
          "name": "stdout",
          "text": [
            "Title: Géza Maróczy\n",
            "Question: What contribution to opening theory did Capablanca credit to Géza Maróczy?\n",
            "Correct Answer: The Maróczy Bind\n",
            "Generated Answer: his study of openings\n",
            "BLEU Score: 0.0000\n",
            "ROUGE-L Score: 0.0000\n",
            "Exact Match: 0\n",
            "F1 Score: 0.0000\n",
            "\n",
            "---\n",
            "\n"
          ]
        },
        {
          "output_type": "stream",
          "name": "stderr",
          "text": [
            "Setting `pad_token_id` to `eos_token_id`:3 for open-end generation.\n"
          ]
        },
        {
          "output_type": "stream",
          "name": "stdout",
          "text": [
            "Title: Géza Maróczy\n",
            "Question: Which women's chess champion did Géza Maróczy greatly help?\n",
            "Correct Answer: Vera Menchik\n",
            "Generated Answer: Bobby Fischer\n",
            "BLEU Score: 0.0000\n",
            "ROUGE-L Score: 0.0000\n",
            "Exact Match: 0\n",
            "F1 Score: 0.0000\n",
            "\n",
            "---\n",
            "\n"
          ]
        },
        {
          "output_type": "stream",
          "name": "stderr",
          "text": [
            "Setting `pad_token_id` to `eos_token_id`:3 for open-end generation.\n"
          ]
        },
        {
          "output_type": "stream",
          "name": "stdout",
          "text": [
            "Title: Géza Maróczy\n",
            "Question: What did Capablanca believe about Géza Maróczy's relative strength compared to the best young masters of his time, excluding Botvinnik and Keres?\n",
            "Correct Answer: Maróczy was superior to all the other players of today\n",
            "Generated Answer: that he was not among them\n",
            "BLEU Score: 0.0210\n",
            "ROUGE-L Score: 0.1176\n",
            "Exact Match: 0\n",
            "F1 Score: 0.1250\n",
            "\n",
            "---\n",
            "\n"
          ]
        },
        {
          "output_type": "stream",
          "name": "stderr",
          "text": [
            "Setting `pad_token_id` to `eos_token_id`:3 for open-end generation.\n"
          ]
        },
        {
          "output_type": "stream",
          "name": "stdout",
          "text": [
            "Title: Alfred H. Colquitt\n",
            "Question: What profession did Alfred H. Colquitt have before entering politics?\n",
            "Correct Answer: Lawyer\n",
            "Generated Answer: lawyer\n",
            "BLEU Score: 0.1778\n",
            "ROUGE-L Score: 1.0000\n",
            "Exact Match: 1\n",
            "F1 Score: 1.0000\n",
            "\n",
            "---\n",
            "\n"
          ]
        },
        {
          "output_type": "stream",
          "name": "stderr",
          "text": [
            "Setting `pad_token_id` to `eos_token_id`:3 for open-end generation.\n"
          ]
        },
        {
          "output_type": "stream",
          "name": "stdout",
          "text": [
            "Title: Alfred H. Colquitt\n",
            "Question: What rank did Alfred H. Colquitt achieve in the Confederate States Army?\n",
            "Correct Answer: Major general\n",
            "Generated Answer: Lieutenant General\n",
            "BLEU Score: 0.1495\n",
            "ROUGE-L Score: 0.5000\n",
            "Exact Match: 0\n",
            "F1 Score: 0.5000\n",
            "\n",
            "---\n",
            "\n"
          ]
        },
        {
          "output_type": "stream",
          "name": "stderr",
          "text": [
            "Setting `pad_token_id` to `eos_token_id`:3 for open-end generation.\n"
          ]
        },
        {
          "output_type": "stream",
          "name": "stdout",
          "text": [
            "Title: Alfred H. Colquitt\n",
            "Question: In what year was Alfred H. Colquitt first elected to the U.S. Senate?\n",
            "Correct Answer: 1883\n",
            "Generated Answer: 1946\n",
            "BLEU Score: 0.0000\n",
            "ROUGE-L Score: 0.0000\n",
            "Exact Match: 0\n",
            "F1 Score: 0.0000\n",
            "\n",
            "---\n",
            "\n"
          ]
        },
        {
          "output_type": "stream",
          "name": "stderr",
          "text": [
            "Setting `pad_token_id` to `eos_token_id`:3 for open-end generation.\n"
          ]
        },
        {
          "output_type": "stream",
          "name": "stdout",
          "text": [
            "Title: Alfred H. Colquitt\n",
            "Question: What was the final rank Alfred H. Colquitt held in the Confederate Army?\n",
            "Correct Answer: Major general\n",
            "Generated Answer: Lieutenant General\n",
            "BLEU Score: 0.1495\n",
            "ROUGE-L Score: 0.5000\n",
            "Exact Match: 0\n",
            "F1 Score: 0.5000\n",
            "\n",
            "---\n",
            "\n"
          ]
        },
        {
          "output_type": "stream",
          "name": "stderr",
          "text": [
            "Setting `pad_token_id` to `eos_token_id`:3 for open-end generation.\n"
          ]
        },
        {
          "output_type": "stream",
          "name": "stdout",
          "text": [
            "Title: Alfred H. Colquitt\n",
            "Question: What was the Bourbon Triumvirate, which Alfred H. Colquitt was a part of?\n",
            "Correct Answer: A group of powerful Georgia Democrats\n",
            "Generated Answer: group of three Spanish ministers\n",
            "BLEU Score: 0.0930\n",
            "ROUGE-L Score: 0.3636\n",
            "Exact Match: 0\n",
            "F1 Score: 0.3636\n",
            "\n",
            "---\n",
            "\n"
          ]
        },
        {
          "output_type": "stream",
          "name": "stderr",
          "text": [
            "Setting `pad_token_id` to `eos_token_id`:3 for open-end generation.\n"
          ]
        },
        {
          "output_type": "stream",
          "name": "stdout",
          "text": [
            "Title: Alfred H. Colquitt\n",
            "Question: Where is Alfred H. Colquitt buried?\n",
            "Correct Answer: Rose Hill cemetery in Macon\n",
            "Generated Answer: Arlington National Cemetery\n",
            "BLEU Score: 0.0583\n",
            "ROUGE-L Score: 0.2500\n",
            "Exact Match: 0\n",
            "F1 Score: 0.2500\n",
            "\n",
            "---\n",
            "\n"
          ]
        },
        {
          "output_type": "stream",
          "name": "stderr",
          "text": [
            "Setting `pad_token_id` to `eos_token_id`:3 for open-end generation.\n"
          ]
        },
        {
          "output_type": "stream",
          "name": "stdout",
          "text": [
            "Title: Alfred H. Colquitt\n",
            "Question: How many children did Alfred H. Colquitt have with his first wife?\n",
            "Correct Answer: Three\n",
            "Generated Answer: 3\n",
            "BLEU Score: 0.0000\n",
            "ROUGE-L Score: 0.0000\n",
            "Exact Match: 0\n",
            "F1 Score: 0.0000\n",
            "\n",
            "---\n",
            "\n"
          ]
        },
        {
          "output_type": "stream",
          "name": "stderr",
          "text": [
            "Setting `pad_token_id` to `eos_token_id`:3 for open-end generation.\n"
          ]
        },
        {
          "output_type": "stream",
          "name": "stdout",
          "text": [
            "Title: Waleran III, Duke of Limburg\n",
            "Question: What titles did Waleran III, Duke of Limburg hold initially?\n",
            "Correct Answer: Lord of Montjoie, then count of Luxembourg\n",
            "Generated Answer: Count\n",
            "BLEU Score: 0.0004\n",
            "ROUGE-L Score: 0.2500\n",
            "Exact Match: 0\n",
            "F1 Score: 0.2500\n",
            "\n",
            "---\n",
            "\n"
          ]
        },
        {
          "output_type": "stream",
          "name": "stderr",
          "text": [
            "Setting `pad_token_id` to `eos_token_id`:3 for open-end generation.\n"
          ]
        },
        {
          "output_type": "stream",
          "name": "stdout",
          "text": [
            "Title: Waleran III, Duke of Limburg\n",
            "Question: What additional titles did Waleran III, Duke of Limburg inherit from his father in 1221?\n",
            "Correct Answer: Count of Arlon and duke of Limburg\n",
            "Generated Answer: Count of Hainaut and Holland\n",
            "BLEU Score: 0.0843\n",
            "ROUGE-L Score: 0.5000\n",
            "Exact Match: 0\n",
            "F1 Score: 0.5000\n",
            "\n",
            "---\n",
            "\n"
          ]
        },
        {
          "output_type": "stream",
          "name": "stderr",
          "text": [
            "Setting `pad_token_id` to `eos_token_id`:3 for open-end generation.\n"
          ]
        },
        {
          "output_type": "stream",
          "name": "stdout",
          "text": [
            "Title: Waleran III, Duke of Limburg\n",
            "Question: Which crusade did Waleran III, Duke of Limburg participate in?\n",
            "Correct Answer: The Third Crusade\n",
            "Generated Answer: Third Crusade\n",
            "BLEU Score: 0.1918\n",
            "ROUGE-L Score: 0.8000\n",
            "Exact Match: 0\n",
            "F1 Score: 0.8000\n",
            "\n",
            "---\n",
            "\n"
          ]
        },
        {
          "output_type": "stream",
          "name": "stderr",
          "text": [
            "Setting `pad_token_id` to `eos_token_id`:3 for open-end generation.\n"
          ]
        },
        {
          "output_type": "stream",
          "name": "stdout",
          "text": [
            "Title: Waleran III, Duke of Limburg\n",
            "Question: Who was the heir of Waleran III, Duke of Limburg from his marriage with Cunigunda of Lorraine?\n",
            "Correct Answer: Henry IV, Duke of Limburg\n",
            "Generated Answer: Henry I\n",
            "BLEU Score: 0.0334\n",
            "ROUGE-L Score: 0.2857\n",
            "Exact Match: 0\n",
            "F1 Score: 0.2857\n",
            "\n",
            "---\n",
            "\n"
          ]
        },
        {
          "output_type": "stream",
          "name": "stderr",
          "text": [
            "Setting `pad_token_id` to `eos_token_id`:3 for open-end generation.\n"
          ]
        },
        {
          "output_type": "stream",
          "name": "stdout",
          "text": [
            "Title: Waleran III, Duke of Limburg\n",
            "Question: What was the relation of Waleran III, Duke of Limburg's child Henry V to Luxembourg?\n",
            "Correct Answer: Count of Luxembourg\n",
            "Generated Answer: King\n",
            "BLEU Score: 0.0000\n",
            "ROUGE-L Score: 0.0000\n",
            "Exact Match: 0\n",
            "F1 Score: 0.0000\n",
            "\n",
            "---\n",
            "\n"
          ]
        },
        {
          "output_type": "stream",
          "name": "stderr",
          "text": [
            "Setting `pad_token_id` to `eos_token_id`:3 for open-end generation.\n"
          ]
        },
        {
          "output_type": "stream",
          "name": "stdout",
          "text": [
            "Title: Waleran III, Duke of Limburg\n",
            "Question: Did Waleran III, Duke of Limburg have any children with Ermesinda of Luxembourg?\n",
            "Correct Answer: Yes\n",
            "Generated Answer: no\n",
            "BLEU Score: 0.0000\n",
            "ROUGE-L Score: 0.0000\n",
            "Exact Match: 0\n",
            "F1 Score: 0.0000\n",
            "\n",
            "---\n",
            "\n"
          ]
        },
        {
          "output_type": "stream",
          "name": "stderr",
          "text": [
            "Setting `pad_token_id` to `eos_token_id`:3 for open-end generation.\n"
          ]
        },
        {
          "output_type": "stream",
          "name": "stdout",
          "text": [
            "Title: Waleran III, Duke of Limburg\n",
            "Question: Who succeeded Waleran III, Duke of Limburg as Duke of Limburg?\n",
            "Correct Answer: His son Henry IV\n",
            "Generated Answer: John II\n",
            "BLEU Score: 0.0000\n",
            "ROUGE-L Score: 0.0000\n",
            "Exact Match: 0\n",
            "F1 Score: 0.0000\n",
            "\n",
            "---\n",
            "\n"
          ]
        },
        {
          "output_type": "stream",
          "name": "stderr",
          "text": [
            "Setting `pad_token_id` to `eos_token_id`:3 for open-end generation.\n"
          ]
        },
        {
          "output_type": "stream",
          "name": "stdout",
          "text": [
            "Title: Frederick I, Duke of Lorraine\n",
            "Question: Which title did Frederick I, Duke of Lorraine hold?\n",
            "Correct Answer: Duke of Lorraine\n",
            "Generated Answer: Holy Roman Emperor\n",
            "BLEU Score: 0.0000\n",
            "ROUGE-L Score: 0.0000\n",
            "Exact Match: 0\n",
            "F1 Score: 0.0000\n",
            "\n",
            "---\n",
            "\n"
          ]
        },
        {
          "output_type": "stream",
          "name": "stderr",
          "text": [
            "Setting `pad_token_id` to `eos_token_id`:3 for open-end generation.\n"
          ]
        },
        {
          "output_type": "stream",
          "name": "stdout",
          "text": [
            "Title: Frederick I, Duke of Lorraine\n",
            "Question: What position did Frederick I, Duke of Lorraine's father-in-law hold?\n",
            "Correct Answer: Duke of Greater Poland and high duke of all Poland\n",
            "Generated Answer: Holy Roman Emperor\n",
            "BLEU Score: 0.0000\n",
            "ROUGE-L Score: 0.0000\n",
            "Exact Match: 0\n",
            "F1 Score: 0.0000\n",
            "\n",
            "---\n",
            "\n"
          ]
        },
        {
          "output_type": "stream",
          "name": "stderr",
          "text": [
            "Setting `pad_token_id` to `eos_token_id`:3 for open-end generation.\n"
          ]
        },
        {
          "output_type": "stream",
          "name": "stdout",
          "text": [
            "Title: Frederick I, Duke of Lorraine\n",
            "Question: Who succeeded Frederick I, Duke of Lorraine as Duke of Lorraine?\n",
            "Correct Answer: His son Frederick\n",
            "Generated Answer: Charles III\n",
            "BLEU Score: 0.0000\n",
            "ROUGE-L Score: 0.0000\n",
            "Exact Match: 0\n",
            "F1 Score: 0.0000\n",
            "\n",
            "---\n",
            "\n"
          ]
        },
        {
          "output_type": "stream",
          "name": "stderr",
          "text": [
            "Setting `pad_token_id` to `eos_token_id`:3 for open-end generation.\n"
          ]
        },
        {
          "output_type": "stream",
          "name": "stdout",
          "text": [
            "Title: Frederick I, Duke of Lorraine\n",
            "Question: Which castle did Henry the Lombard, son of Frederick I, Duke of Lorraine, build?\n",
            "Correct Answer: The castle of Bayon\n",
            "Generated Answer: Hohenbourg Castle\n",
            "BLEU Score: 0.0550\n",
            "ROUGE-L Score: 0.3333\n",
            "Exact Match: 0\n",
            "F1 Score: 0.3333\n",
            "\n",
            "---\n",
            "\n"
          ]
        },
        {
          "output_type": "stream",
          "name": "stderr",
          "text": [
            "Setting `pad_token_id` to `eos_token_id`:3 for open-end generation.\n"
          ]
        },
        {
          "output_type": "stream",
          "name": "stdout",
          "text": [
            "Title: Émile Boirac\n",
            "Question: What nationality was Émile Boirac?\n",
            "Correct Answer: French\n",
            "Generated Answer: French\n",
            "BLEU Score: 0.1778\n",
            "ROUGE-L Score: 1.0000\n",
            "Exact Match: 1\n",
            "F1 Score: 1.0000\n",
            "\n",
            "---\n",
            "\n"
          ]
        },
        {
          "output_type": "stream",
          "name": "stderr",
          "text": [
            "Setting `pad_token_id` to `eos_token_id`:3 for open-end generation.\n"
          ]
        },
        {
          "output_type": "stream",
          "name": "stdout",
          "text": [
            "Title: Émile Boirac\n",
            "Question: In what year did Émile Boirac become the president of the University of Grenoble?\n",
            "Correct Answer: 1898\n",
            "Generated Answer: 1967\n",
            "BLEU Score: 0.0000\n",
            "ROUGE-L Score: 0.0000\n",
            "Exact Match: 0\n",
            "F1 Score: 0.0000\n",
            "\n",
            "---\n",
            "\n"
          ]
        },
        {
          "output_type": "stream",
          "name": "stderr",
          "text": [
            "Setting `pad_token_id` to `eos_token_id`:3 for open-end generation.\n"
          ]
        },
        {
          "output_type": "stream",
          "name": "stdout",
          "text": [
            "Title: Émile Boirac\n",
            "Question: What language was Émile Boirac a notable advocate for?\n",
            "Correct Answer: Esperanto\n",
            "Generated Answer: Occitan\n",
            "BLEU Score: 0.0000\n",
            "ROUGE-L Score: 0.0000\n",
            "Exact Match: 0\n",
            "F1 Score: 0.0000\n",
            "\n",
            "---\n",
            "\n"
          ]
        },
        {
          "output_type": "stream",
          "name": "stderr",
          "text": [
            "Setting `pad_token_id` to `eos_token_id`:3 for open-end generation.\n"
          ]
        },
        {
          "output_type": "stream",
          "name": "stdout",
          "text": [
            "Title: Émile Boirac\n",
            "Question: In what year did Émile Boirac use the term 'déjà vu' in a letter to the Revue philosophique?\n",
            "Correct Answer: 1876\n",
            "Generated Answer: 1876\n",
            "BLEU Score: 0.1778\n",
            "ROUGE-L Score: 1.0000\n",
            "Exact Match: 1\n",
            "F1 Score: 1.0000\n",
            "\n",
            "---\n",
            "\n"
          ]
        },
        {
          "output_type": "stream",
          "name": "stderr",
          "text": [
            "Setting `pad_token_id` to `eos_token_id`:3 for open-end generation.\n"
          ]
        },
        {
          "output_type": "stream",
          "name": "stdout",
          "text": [
            "Title: Maximus Planudes\n",
            "Question: What empire's reign did Maximus Planudes live during?\n",
            "Correct Answer: Byzantine Empire\n",
            "Generated Answer: Byzantine Empire\n",
            "BLEU Score: 0.3162\n",
            "ROUGE-L Score: 1.0000\n",
            "Exact Match: 1\n",
            "F1 Score: 1.0000\n",
            "\n",
            "---\n",
            "\n"
          ]
        },
        {
          "output_type": "stream",
          "name": "stderr",
          "text": [
            "Setting `pad_token_id` to `eos_token_id`:3 for open-end generation.\n"
          ]
        },
        {
          "output_type": "stream",
          "name": "stdout",
          "text": [
            "Title: Maximus Planudes\n",
            "Question: Which city did Maximus Planudes spend most of his life in?\n",
            "Correct Answer: Constantinople\n",
            "Generated Answer: Constantinople\n",
            "BLEU Score: 0.1778\n",
            "ROUGE-L Score: 1.0000\n",
            "Exact Match: 1\n",
            "F1 Score: 1.0000\n",
            "\n",
            "---\n",
            "\n"
          ]
        },
        {
          "output_type": "stream",
          "name": "stderr",
          "text": [
            "Setting `pad_token_id` to `eos_token_id`:3 for open-end generation.\n"
          ]
        },
        {
          "output_type": "stream",
          "name": "stdout",
          "text": [
            "Title: Maximus Planudes\n",
            "Question: What was Maximus Planudes' notable contribution to the revival of studies in Western Europe?\n",
            "Correct Answer: His translations\n",
            "Generated Answer: He compiled and edited numerous works by ancient Greek philosophers\n",
            "BLEU Score: 0.0000\n",
            "ROUGE-L Score: 0.0000\n",
            "Exact Match: 0\n",
            "F1 Score: 0.0000\n",
            "\n",
            "---\n",
            "\n"
          ]
        },
        {
          "output_type": "stream",
          "name": "stderr",
          "text": [
            "Setting `pad_token_id` to `eos_token_id`:3 for open-end generation.\n"
          ]
        },
        {
          "output_type": "stream",
          "name": "stdout",
          "text": [
            "Title: Maximus Planudes\n",
            "Question: What type of poetry did Maximus Planudes write?\n",
            "Correct Answer: Hexameter poems\n",
            "Generated Answer: Byzantine\n",
            "BLEU Score: 0.0000\n",
            "ROUGE-L Score: 0.0000\n",
            "Exact Match: 0\n",
            "F1 Score: 0.0000\n",
            "\n",
            "---\n",
            "\n"
          ]
        },
        {
          "output_type": "stream",
          "name": "stderr",
          "text": [
            "Setting `pad_token_id` to `eos_token_id`:3 for open-end generation.\n"
          ]
        },
        {
          "output_type": "stream",
          "name": "stdout",
          "text": [
            "Title: Eve Arnold\n",
            "Question: What notable actress did Eve Arnold frequently photograph?\n",
            "Correct Answer: Marilyn Monroe\n",
            "Generated Answer: Marilyn Monroe\n",
            "BLEU Score: 0.3162\n",
            "ROUGE-L Score: 1.0000\n",
            "Exact Match: 1\n",
            "F1 Score: 1.0000\n",
            "\n",
            "---\n",
            "\n"
          ]
        },
        {
          "output_type": "stream",
          "name": "stderr",
          "text": [
            "Setting `pad_token_id` to `eos_token_id`:3 for open-end generation.\n"
          ]
        },
        {
          "output_type": "stream",
          "name": "stdout",
          "text": [
            "Title: Eve Arnold\n",
            "Question: Where was Eve Arnold born?\n",
            "Correct Answer: Philadelphia\n",
            "Generated Answer: Chicago\n",
            "BLEU Score: 0.0000\n",
            "ROUGE-L Score: 0.0000\n",
            "Exact Match: 0\n",
            "F1 Score: 0.0000\n",
            "\n",
            "---\n",
            "\n"
          ]
        },
        {
          "output_type": "stream",
          "name": "stderr",
          "text": [
            "Setting `pad_token_id` to `eos_token_id`:3 for open-end generation.\n"
          ]
        },
        {
          "output_type": "stream",
          "name": "stdout",
          "text": [
            "Title: Eve Arnold\n",
            "Question: What year did Eve Arnold marry Arnold Schmitz?\n",
            "Correct Answer: 1941\n",
            "Generated Answer: 1937\n",
            "BLEU Score: 0.0000\n",
            "ROUGE-L Score: 0.0000\n",
            "Exact Match: 0\n",
            "F1 Score: 0.0000\n",
            "\n",
            "---\n",
            "\n"
          ]
        },
        {
          "output_type": "stream",
          "name": "stderr",
          "text": [
            "Setting `pad_token_id` to `eos_token_id`:3 for open-end generation.\n"
          ]
        },
        {
          "output_type": "stream",
          "name": "stdout",
          "text": [
            "Title: Eve Arnold\n",
            "Question: When did Eve Arnold die?\n",
            "Correct Answer: January 4, 2012\n",
            "Generated Answer: 1980\n",
            "BLEU Score: 0.0000\n",
            "ROUGE-L Score: 0.0000\n",
            "Exact Match: 0\n",
            "F1 Score: 0.0000\n",
            "\n",
            "---\n",
            "\n"
          ]
        },
        {
          "output_type": "stream",
          "name": "stderr",
          "text": [
            "Setting `pad_token_id` to `eos_token_id`:3 for open-end generation.\n"
          ]
        },
        {
          "output_type": "stream",
          "name": "stdout",
          "text": [
            "Title: Wanda Orlikowski\n",
            "Question: Which university is Wanda J. Orlikowski associated with as a professor?\n",
            "Correct Answer: Massachusetts Institute of Technology\n",
            "Generated Answer: University of California\n",
            "BLEU Score: 0.0814\n",
            "ROUGE-L Score: 0.2857\n",
            "Exact Match: 0\n",
            "F1 Score: 0.2857\n",
            "\n",
            "---\n",
            "\n"
          ]
        },
        {
          "output_type": "stream",
          "name": "stderr",
          "text": [
            "Setting `pad_token_id` to `eos_token_id`:3 for open-end generation.\n"
          ]
        },
        {
          "output_type": "stream",
          "name": "stdout",
          "text": [
            "Title: Wanda Orlikowski\n",
            "Question: In what year did Wanda J. Orlikowski complete her Ph.D. from the New York University Stern School of Business?\n",
            "Correct Answer: 1989\n",
            "Generated Answer: 2016\n",
            "BLEU Score: 0.0000\n",
            "ROUGE-L Score: 0.0000\n",
            "Exact Match: 0\n",
            "F1 Score: 0.0000\n",
            "\n",
            "---\n",
            "\n"
          ]
        },
        {
          "output_type": "stream",
          "name": "stderr",
          "text": [
            "Setting `pad_token_id` to `eos_token_id`:3 for open-end generation.\n"
          ]
        },
        {
          "output_type": "stream",
          "name": "stdout",
          "text": [
            "Title: Wanda Orlikowski\n",
            "Question: Which journal has Wanda J. Orlikowski served as a senior editor for?\n",
            "Correct Answer: Organization Science\n",
            "Generated Answer: Journal of Gerontological Nursing\n",
            "BLEU Score: 0.0000\n",
            "ROUGE-L Score: 0.0000\n",
            "Exact Match: 0\n",
            "F1 Score: 0.0000\n",
            "\n",
            "---\n",
            "\n"
          ]
        },
        {
          "output_type": "stream",
          "name": "stderr",
          "text": [
            "Setting `pad_token_id` to `eos_token_id`:3 for open-end generation.\n"
          ]
        },
        {
          "output_type": "stream",
          "name": "stdout",
          "text": [
            "Title: Wanda Orlikowski\n",
            "Question: What award did Wanda J. Orlikowski receive from the Academy of Management in 2015?\n",
            "Correct Answer: Distinguished Scholar Award\n",
            "Generated Answer: Distinguished Scholar Award\n",
            "BLEU Score: 0.5623\n",
            "ROUGE-L Score: 1.0000\n",
            "Exact Match: 1\n",
            "F1 Score: 1.0000\n",
            "\n",
            "---\n",
            "\n"
          ]
        },
        {
          "output_type": "stream",
          "name": "stderr",
          "text": [
            "Setting `pad_token_id` to `eos_token_id`:3 for open-end generation.\n"
          ]
        },
        {
          "output_type": "stream",
          "name": "stdout",
          "text": [
            "Title: Wanda Orlikowski\n",
            "Question: What concept does Wanda J. Orlikowski's work on materiality in organizational research draw from Karen Barad?\n",
            "Correct Answer: Agential realism\n",
            "Generated Answer: Actor-Network Theory\n",
            "BLEU Score: 0.0000\n",
            "ROUGE-L Score: 0.0000\n",
            "Exact Match: 0\n",
            "F1 Score: 0.0000\n",
            "\n",
            "---\n",
            "\n"
          ]
        },
        {
          "output_type": "stream",
          "name": "stderr",
          "text": [
            "Setting `pad_token_id` to `eos_token_id`:3 for open-end generation.\n"
          ]
        },
        {
          "output_type": "stream",
          "name": "stdout",
          "text": [
            "Title: William Roper\n",
            "Question: What profession did William Roper have?\n",
            "Correct Answer: Lawyer\n",
            "Generated Answer: lawyer\n",
            "BLEU Score: 0.1778\n",
            "ROUGE-L Score: 1.0000\n",
            "Exact Match: 1\n",
            "F1 Score: 1.0000\n",
            "\n",
            "---\n",
            "\n"
          ]
        },
        {
          "output_type": "stream",
          "name": "stderr",
          "text": [
            "Setting `pad_token_id` to `eos_token_id`:3 for open-end generation.\n"
          ]
        },
        {
          "output_type": "stream",
          "name": "stdout",
          "text": [
            "Title: William Roper\n",
            "Question: Who was William Roper's father?\n",
            "Correct Answer: John Roper\n",
            "Generated Answer: Thomas\n",
            "BLEU Score: 0.0000\n",
            "ROUGE-L Score: 0.0000\n",
            "Exact Match: 0\n",
            "F1 Score: 0.0000\n",
            "\n",
            "---\n",
            "\n"
          ]
        },
        {
          "output_type": "stream",
          "name": "stderr",
          "text": [
            "Setting `pad_token_id` to `eos_token_id`:3 for open-end generation.\n"
          ]
        },
        {
          "output_type": "stream",
          "name": "stdout",
          "text": [
            "Title: William Roper\n",
            "Question: What notable work did William Roper write?\n",
            "Correct Answer: A biography of Sir Thomas More\n",
            "Generated Answer: The History of the Reformation\n",
            "BLEU Score: 0.0440\n",
            "ROUGE-L Score: 0.1818\n",
            "Exact Match: 0\n",
            "F1 Score: 0.1818\n",
            "\n",
            "---\n",
            "\n"
          ]
        },
        {
          "output_type": "stream",
          "name": "stderr",
          "text": [
            "Setting `pad_token_id` to `eos_token_id`:3 for open-end generation.\n"
          ]
        },
        {
          "output_type": "stream",
          "name": "stdout",
          "text": [
            "Title: William Roper\n",
            "Question: To which religion did William Roper return after leaving Lutheranism?\n",
            "Correct Answer: Catholicism\n",
            "Generated Answer: Catholicism\n",
            "BLEU Score: 0.1778\n",
            "ROUGE-L Score: 1.0000\n",
            "Exact Match: 1\n",
            "F1 Score: 1.0000\n",
            "\n",
            "---\n",
            "\n"
          ]
        },
        {
          "output_type": "stream",
          "name": "stderr",
          "text": [
            "Setting `pad_token_id` to `eos_token_id`:3 for open-end generation.\n"
          ]
        },
        {
          "output_type": "stream",
          "name": "stdout",
          "text": [
            "Title: Edgar Wind\n",
            "Question: Which institute is Edgar Wind associated with?\n",
            "Correct Answer: The Warburg Institute\n",
            "Generated Answer: University of California\n",
            "BLEU Score: 0.0000\n",
            "ROUGE-L Score: 0.0000\n",
            "Exact Match: 0\n",
            "F1 Score: 0.0000\n",
            "\n",
            "---\n",
            "\n"
          ]
        },
        {
          "output_type": "stream",
          "name": "stderr",
          "text": [
            "Setting `pad_token_id` to `eos_token_id`:3 for open-end generation.\n"
          ]
        },
        {
          "output_type": "stream",
          "name": "stdout",
          "text": [
            "Title: Edgar Wind\n",
            "Question: Where was Edgar Wind born?\n",
            "Correct Answer: Berlin, Germany\n",
            "Generated Answer: Berlin\n",
            "BLEU Score: 0.0654\n",
            "ROUGE-L Score: 0.6667\n",
            "Exact Match: 0\n",
            "F1 Score: 0.6667\n",
            "\n",
            "---\n",
            "\n"
          ]
        },
        {
          "output_type": "stream",
          "name": "stderr",
          "text": [
            "Setting `pad_token_id` to `eos_token_id`:3 for open-end generation.\n"
          ]
        },
        {
          "output_type": "stream",
          "name": "stdout",
          "text": [
            "Title: Edgar Wind\n",
            "Question: What modern institution has a reading room dedicated to Edgar Wind?\n",
            "Correct Answer: Oxford's Sackler Library\n",
            "Generated Answer: The British Library\n",
            "BLEU Score: 0.0814\n",
            "ROUGE-L Score: 0.2857\n",
            "Exact Match: 0\n",
            "F1 Score: 0.2857\n",
            "\n",
            "---\n",
            "\n"
          ]
        },
        {
          "output_type": "stream",
          "name": "stderr",
          "text": [
            "Setting `pad_token_id` to `eos_token_id`:3 for open-end generation.\n"
          ]
        },
        {
          "output_type": "stream",
          "name": "stdout",
          "text": [
            "Title: Edgar Wind\n",
            "Question: What was Edgar Wind's stance on modern art?\n",
            "Correct Answer: He defended modern art\n",
            "Generated Answer: He disliked it\n",
            "BLEU Score: 0.0814\n",
            "ROUGE-L Score: 0.2857\n",
            "Exact Match: 0\n",
            "F1 Score: 0.2857\n",
            "\n",
            "---\n",
            "\n"
          ]
        },
        {
          "output_type": "stream",
          "name": "stderr",
          "text": [
            "Setting `pad_token_id` to `eos_token_id`:3 for open-end generation.\n"
          ]
        },
        {
          "output_type": "stream",
          "name": "stdout",
          "text": [
            "Title: Edgar Wind\n",
            "Question: What society at Oxford University is named after Edgar Wind?\n",
            "Correct Answer: The student art and art history society\n",
            "Generated Answer: The Society of Jesus and St Edmund\n",
            "BLEU Score: 0.0435\n",
            "ROUGE-L Score: 0.2857\n",
            "Exact Match: 0\n",
            "F1 Score: 0.4286\n",
            "\n",
            "---\n",
            "\n"
          ]
        },
        {
          "output_type": "stream",
          "name": "stderr",
          "text": [
            "Setting `pad_token_id` to `eos_token_id`:3 for open-end generation.\n"
          ]
        },
        {
          "output_type": "stream",
          "name": "stdout",
          "text": [
            "Title: Vera Dushevina\n",
            "Question: How many doubles titles did Vera Dushevina win on the WTA Tour?\n",
            "Correct Answer: Two\n",
            "Generated Answer: 1\n",
            "BLEU Score: 0.0000\n",
            "ROUGE-L Score: 0.0000\n",
            "Exact Match: 0\n",
            "F1 Score: 0.0000\n",
            "\n",
            "---\n",
            "\n"
          ]
        },
        {
          "output_type": "stream",
          "name": "stderr",
          "text": [
            "Setting `pad_token_id` to `eos_token_id`:3 for open-end generation.\n"
          ]
        },
        {
          "output_type": "stream",
          "name": "stdout",
          "text": [
            "Title: Vera Dushevina\n",
            "Question: Which Grand Slam tournament did Vera Dushevina reach the fourth round of for the first time in her career in 2005?\n",
            "Correct Answer: Australian Open\n",
            "Generated Answer: Wimbledon\n",
            "BLEU Score: 0.0000\n",
            "ROUGE-L Score: 0.0000\n",
            "Exact Match: 0\n",
            "F1 Score: 0.0000\n",
            "\n",
            "---\n",
            "\n"
          ]
        },
        {
          "output_type": "stream",
          "name": "stderr",
          "text": [
            "Setting `pad_token_id` to `eos_token_id`:3 for open-end generation.\n"
          ]
        },
        {
          "output_type": "stream",
          "name": "stdout",
          "text": [
            "Title: Vera Dushevina\n",
            "Question: Which team did Vera Dushevina play for in the 2005 Fed Cup?\n",
            "Correct Answer: Russian team\n",
            "Generated Answer: Russia\n",
            "BLEU Score: 0.0000\n",
            "ROUGE-L Score: 0.0000\n",
            "Exact Match: 0\n",
            "F1 Score: 0.0000\n",
            "\n",
            "---\n",
            "\n"
          ]
        },
        {
          "output_type": "stream",
          "name": "stderr",
          "text": [
            "Setting `pad_token_id` to `eos_token_id`:3 for open-end generation.\n"
          ]
        },
        {
          "output_type": "stream",
          "name": "stdout",
          "text": [
            "Title: Vera Dushevina\n",
            "Question: Who did Vera Dushevina upset in the first round of Wimbledon after defeating Francesca Schiavone?\n",
            "Correct Answer: Francesca Schiavone\n",
            "Generated Answer: Petra Kvitova\n",
            "BLEU Score: 0.0000\n",
            "ROUGE-L Score: 0.0000\n",
            "Exact Match: 0\n",
            "F1 Score: 0.0000\n",
            "\n",
            "---\n",
            "\n"
          ]
        },
        {
          "output_type": "stream",
          "name": "stderr",
          "text": [
            "Setting `pad_token_id` to `eos_token_id`:3 for open-end generation.\n"
          ]
        },
        {
          "output_type": "stream",
          "name": "stdout",
          "text": [
            "Title: Engelbert Endrass\n",
            "Question: What nationality was Engelbert Endrass?\n",
            "Correct Answer: German\n",
            "Generated Answer: Austrian\n",
            "BLEU Score: 0.0000\n",
            "ROUGE-L Score: 0.0000\n",
            "Exact Match: 0\n",
            "F1 Score: 0.0000\n",
            "\n",
            "---\n",
            "\n"
          ]
        },
        {
          "output_type": "stream",
          "name": "stderr",
          "text": [
            "Setting `pad_token_id` to `eos_token_id`:3 for open-end generation.\n"
          ]
        },
        {
          "output_type": "stream",
          "name": "stdout",
          "text": [
            "Title: Engelbert Endrass\n",
            "Question: How many ships is Engelbert Endrass credited with sinking?\n",
            "Correct Answer: 22\n",
            "Generated Answer: 37\n",
            "BLEU Score: 0.0000\n",
            "ROUGE-L Score: 0.0000\n",
            "Exact Match: 0\n",
            "F1 Score: 0.0000\n",
            "\n",
            "---\n",
            "\n"
          ]
        },
        {
          "output_type": "stream",
          "name": "stderr",
          "text": [
            "Setting `pad_token_id` to `eos_token_id`:3 for open-end generation.\n"
          ]
        },
        {
          "output_type": "stream",
          "name": "stdout",
          "text": [
            "Title: Engelbert Endrass\n",
            "Question: What military decoration was Engelbert Endrass a recipient of?\n",
            "Correct Answer: Knight's Cross of the Iron Cross with Oak Leaves\n",
            "Generated Answer: Iron Cross\n",
            "BLEU Score: 0.0058\n",
            "ROUGE-L Score: 0.3333\n",
            "Exact Match: 0\n",
            "F1 Score: 0.3333\n",
            "\n",
            "---\n",
            "\n"
          ]
        },
        {
          "output_type": "stream",
          "name": "stderr",
          "text": [
            "Setting `pad_token_id` to `eos_token_id`:3 for open-end generation.\n"
          ]
        },
        {
          "output_type": "stream",
          "name": "stdout",
          "text": [
            "Title: Engelbert Endrass\n",
            "Question: Which U-boat did Engelbert Endrass command first, U-46 or U-567?\n",
            "Correct Answer: U-46\n",
            "Generated Answer: U-46\n",
            "BLEU Score: 0.3162\n",
            "ROUGE-L Score: 1.0000\n",
            "Exact Match: 1\n",
            "F1 Score: 1.0000\n",
            "\n",
            "---\n",
            "\n"
          ]
        },
        {
          "output_type": "stream",
          "name": "stderr",
          "text": [
            "Setting `pad_token_id` to `eos_token_id`:3 for open-end generation.\n"
          ]
        },
        {
          "output_type": "stream",
          "name": "stdout",
          "text": [
            "Title: Leo Slezak\n",
            "Question: In what field was Leo Slezak primarily known?\n",
            "Correct Answer: Opera\n",
            "Generated Answer: film\n",
            "BLEU Score: 0.0000\n",
            "ROUGE-L Score: 0.0000\n",
            "Exact Match: 0\n",
            "F1 Score: 0.0000\n",
            "\n",
            "---\n",
            "\n"
          ]
        },
        {
          "output_type": "stream",
          "name": "stderr",
          "text": [
            "Setting `pad_token_id` to `eos_token_id`:3 for open-end generation.\n"
          ]
        },
        {
          "output_type": "stream",
          "name": "stdout",
          "text": [
            "Title: Leo Slezak\n",
            "Question: Who was Leo Slezak's famous conductor for his performance as Otello at the Met?\n",
            "Correct Answer: Arturo Toscanini\n",
            "Generated Answer: Giuseppe Verdi\n",
            "BLEU Score: 0.0000\n",
            "ROUGE-L Score: 0.0000\n",
            "Exact Match: 0\n",
            "F1 Score: 0.0000\n",
            "\n",
            "---\n",
            "\n"
          ]
        },
        {
          "output_type": "stream",
          "name": "stderr",
          "text": [
            "Setting `pad_token_id` to `eos_token_id`:3 for open-end generation.\n"
          ]
        },
        {
          "output_type": "stream",
          "name": "stdout",
          "text": [
            "Title: Leo Slezak\n",
            "Question: Which opera house was Leo Slezak a permanent member of from 1901 onwards?\n",
            "Correct Answer: Vienna State Opera\n",
            "Generated Answer: Metropolitan Opera\n",
            "BLEU Score: 0.0907\n",
            "ROUGE-L Score: 0.4000\n",
            "Exact Match: 0\n",
            "F1 Score: 0.4000\n",
            "\n",
            "---\n",
            "\n"
          ]
        },
        {
          "output_type": "stream",
          "name": "stderr",
          "text": [
            "Setting `pad_token_id` to `eos_token_id`:3 for open-end generation.\n"
          ]
        },
        {
          "output_type": "stream",
          "name": "stdout",
          "text": [
            "Title: Leo Slezak\n",
            "Question: How many children did Leo Slezak have who were also actors?\n",
            "Correct Answer: Two\n",
            "Generated Answer: two\n",
            "BLEU Score: 0.1778\n",
            "ROUGE-L Score: 1.0000\n",
            "Exact Match: 1\n",
            "F1 Score: 1.0000\n",
            "\n",
            "---\n",
            "\n"
          ]
        },
        {
          "output_type": "stream",
          "name": "stderr",
          "text": [
            "Setting `pad_token_id` to `eos_token_id`:3 for open-end generation.\n"
          ]
        },
        {
          "output_type": "stream",
          "name": "stdout",
          "text": [
            "Title: Leo Slezak\n",
            "Question: What kind of roles did Leo Slezak mostly play in German cinema?\n",
            "Correct Answer: Humorous characters\n",
            "Generated Answer: villains\n",
            "BLEU Score: 0.0000\n",
            "ROUGE-L Score: 0.0000\n",
            "Exact Match: 0\n",
            "F1 Score: 0.0000\n",
            "\n",
            "---\n",
            "\n"
          ]
        },
        {
          "output_type": "stream",
          "name": "stderr",
          "text": [
            "Setting `pad_token_id` to `eos_token_id`:3 for open-end generation.\n"
          ]
        },
        {
          "output_type": "stream",
          "name": "stdout",
          "text": [
            "Title: Gaston Eyskens\n",
            "Question: How many terms did Gaston Eyskens serve as the Prime Minister of Belgium?\n",
            "Correct Answer: Three\n",
            "Generated Answer: four\n",
            "BLEU Score: 0.0000\n",
            "ROUGE-L Score: 0.0000\n",
            "Exact Match: 0\n",
            "F1 Score: 0.0000\n",
            "\n",
            "---\n",
            "\n"
          ]
        },
        {
          "output_type": "stream",
          "name": "stderr",
          "text": [
            "Setting `pad_token_id` to `eos_token_id`:3 for open-end generation.\n"
          ]
        },
        {
          "output_type": "stream",
          "name": "stdout",
          "text": [
            "Title: Gaston Eyskens\n",
            "Question: Which university did Gaston Eyskens attend for his master and doctorate degrees?\n",
            "Correct Answer: Catholic University of Leuven\n",
            "Generated Answer: KU Leuven\n",
            "BLEU Score: 0.0550\n",
            "ROUGE-L Score: 0.3333\n",
            "Exact Match: 0\n",
            "F1 Score: 0.3333\n",
            "\n",
            "---\n",
            "\n"
          ]
        },
        {
          "output_type": "stream",
          "name": "stderr",
          "text": [
            "Setting `pad_token_id` to `eos_token_id`:3 for open-end generation.\n"
          ]
        },
        {
          "output_type": "stream",
          "name": "stdout",
          "text": [
            "Title: Gaston Eyskens\n",
            "Question: In what year did Gaston Eyskens first become Prime Minister of Belgium?\n",
            "Correct Answer: 1949\n",
            "Generated Answer: 1968\n",
            "BLEU Score: 0.0000\n",
            "ROUGE-L Score: 0.0000\n",
            "Exact Match: 0\n",
            "F1 Score: 0.0000\n",
            "\n",
            "---\n",
            "\n"
          ]
        },
        {
          "output_type": "stream",
          "name": "stderr",
          "text": [
            "Setting `pad_token_id` to `eos_token_id`:3 for open-end generation.\n"
          ]
        },
        {
          "output_type": "stream",
          "name": "stdout",
          "text": [
            "Title: Gaston Eyskens\n",
            "Question: What honors was Gaston Eyskens awarded in Belgium?\n",
            "Correct Answer: Minister of State, Commander in the Order of Leopold II, Knight Grand Cross in the Order of the Crown\n",
            "Generated Answer: King Baudouin Prize\n",
            "BLEU Score: 0.0000\n",
            "ROUGE-L Score: 0.0000\n",
            "Exact Match: 0\n",
            "F1 Score: 0.0000\n",
            "\n",
            "---\n",
            "\n"
          ]
        },
        {
          "output_type": "stream",
          "name": "stderr",
          "text": [
            "Setting `pad_token_id` to `eos_token_id`:3 for open-end generation.\n"
          ]
        },
        {
          "output_type": "stream",
          "name": "stdout",
          "text": [
            "Title: Steve Furber\n",
            "Question: Which university did Steve Furber attend for his education?\n",
            "Correct Answer: University of Cambridge\n",
            "Generated Answer: Cambridge University\n",
            "BLEU Score: 0.1079\n",
            "ROUGE-L Score: 0.4000\n",
            "Exact Match: 0\n",
            "F1 Score: 0.8000\n",
            "\n",
            "---\n",
            "\n"
          ]
        },
        {
          "output_type": "stream",
          "name": "stderr",
          "text": [
            "Setting `pad_token_id` to `eos_token_id`:3 for open-end generation.\n"
          ]
        },
        {
          "output_type": "stream",
          "name": "stdout",
          "text": [
            "Title: Steve Furber\n",
            "Question: What notable computer did Steve Furber help design in the 1980s?\n",
            "Correct Answer: BBC Micro\n",
            "Generated Answer: Acorn Archimedes\n",
            "BLEU Score: 0.0000\n",
            "ROUGE-L Score: 0.0000\n",
            "Exact Match: 0\n",
            "F1 Score: 0.0000\n",
            "\n",
            "---\n",
            "\n"
          ]
        },
        {
          "output_type": "stream",
          "name": "stderr",
          "text": [
            "Setting `pad_token_id` to `eos_token_id`:3 for open-end generation.\n"
          ]
        },
        {
          "output_type": "stream",
          "name": "stdout",
          "text": [
            "Title: Steve Furber\n",
            "Question: What company did Steve Furber work for in the 1980s?\n",
            "Correct Answer: Acorn Computers\n",
            "Generated Answer: Acorn Computers\n",
            "BLEU Score: 0.3162\n",
            "ROUGE-L Score: 1.0000\n",
            "Exact Match: 1\n",
            "F1 Score: 1.0000\n",
            "\n",
            "---\n",
            "\n"
          ]
        },
        {
          "output_type": "stream",
          "name": "stderr",
          "text": [
            "Setting `pad_token_id` to `eos_token_id`:3 for open-end generation.\n"
          ]
        },
        {
          "output_type": "stream",
          "name": "stdout",
          "text": [
            "Title: Steve Furber\n",
            "Question: What significant contribution did Steve Furber make to the field of computer science?\n",
            "Correct Answer: Design of the ARM processor architecture\n",
            "Generated Answer: He is best known for his work on ARM architecture and co-designed its first processor with Acorn Computers in 1983\n",
            "BLEU Score: 0.0120\n",
            "ROUGE-L Score: 0.1481\n",
            "Exact Match: 0\n",
            "F1 Score: 0.2222\n",
            "\n",
            "---\n",
            "\n"
          ]
        },
        {
          "output_type": "stream",
          "name": "stderr",
          "text": [
            "Setting `pad_token_id` to `eos_token_id`:3 for open-end generation.\n"
          ]
        },
        {
          "output_type": "stream",
          "name": "stdout",
          "text": [
            "Title: Gustav Otto\n",
            "Question: What nationality was Gustav Otto?\n",
            "Correct Answer: German\n",
            "Generated Answer: Swedish\n",
            "BLEU Score: 0.0000\n",
            "ROUGE-L Score: 0.0000\n",
            "Exact Match: 0\n",
            "F1 Score: 0.0000\n",
            "\n",
            "---\n",
            "\n"
          ]
        },
        {
          "output_type": "stream",
          "name": "stderr",
          "text": [
            "Setting `pad_token_id` to `eos_token_id`:3 for open-end generation.\n"
          ]
        },
        {
          "output_type": "stream",
          "name": "stdout",
          "text": [
            "Title: Gustav Otto\n",
            "Question: What significant invention is Gustav Otto's father credited with?\n",
            "Correct Answer: The four-stroke internal combustion engine\n",
            "Generated Answer: internal combustion engine\n",
            "BLEU Score: 0.2069\n",
            "ROUGE-L Score: 0.6667\n",
            "Exact Match: 0\n",
            "F1 Score: 0.6667\n",
            "\n",
            "---\n",
            "\n"
          ]
        },
        {
          "output_type": "stream",
          "name": "stderr",
          "text": [
            "Setting `pad_token_id` to `eos_token_id`:3 for open-end generation.\n"
          ]
        },
        {
          "output_type": "stream",
          "name": "stdout",
          "text": [
            "Title: Gustav Otto\n",
            "Question: In what field did Gustav Otto obtain further education?\n",
            "Correct Answer: Engineering\n",
            "Generated Answer: medicine\n",
            "BLEU Score: 0.0000\n",
            "ROUGE-L Score: 0.0000\n",
            "Exact Match: 0\n",
            "F1 Score: 0.0000\n",
            "\n",
            "---\n",
            "\n"
          ]
        },
        {
          "output_type": "stream",
          "name": "stderr",
          "text": [
            "Setting `pad_token_id` to `eos_token_id`:3 for open-end generation.\n"
          ]
        },
        {
          "output_type": "stream",
          "name": "stdout",
          "text": [
            "Title: Gustav Otto\n",
            "Question: What was the initial name of the factory Gustav Otto opened in 1913?\n",
            "Correct Answer: Otto-Flugzeugwerke\n",
            "Generated Answer: Victoria Cycle\n",
            "BLEU Score: 0.0000\n",
            "ROUGE-L Score: 0.0000\n",
            "Exact Match: 0\n",
            "F1 Score: 0.0000\n",
            "\n",
            "---\n",
            "\n"
          ]
        },
        {
          "output_type": "stream",
          "name": "stderr",
          "text": [
            "Setting `pad_token_id` to `eos_token_id`:3 for open-end generation.\n"
          ]
        },
        {
          "output_type": "stream",
          "name": "stdout",
          "text": [
            "Title: Anna Diamantopoulou\n",
            "Question: What is Anna Diamantopoulou's nationality?\n",
            "Correct Answer: Greek\n",
            "Generated Answer: Greek\n",
            "BLEU Score: 0.1778\n",
            "ROUGE-L Score: 1.0000\n",
            "Exact Match: 1\n",
            "F1 Score: 1.0000\n",
            "\n",
            "---\n",
            "\n"
          ]
        },
        {
          "output_type": "stream",
          "name": "stderr",
          "text": [
            "Setting `pad_token_id` to `eos_token_id`:3 for open-end generation.\n"
          ]
        },
        {
          "output_type": "stream",
          "name": "stdout",
          "text": [
            "Title: Anna Diamantopoulou\n",
            "Question: What major legislative reform did Anna Diamantopoulou introduce as Minister of Education?\n",
            "Correct Answer: The 'Diamantopoulou Law'\n",
            "Generated Answer: free tuition for all Greek university students\n",
            "BLEU Score: 0.0000\n",
            "ROUGE-L Score: 0.0000\n",
            "Exact Match: 0\n",
            "F1 Score: 0.0000\n",
            "\n",
            "---\n",
            "\n"
          ]
        },
        {
          "output_type": "stream",
          "name": "stderr",
          "text": [
            "Setting `pad_token_id` to `eos_token_id`:3 for open-end generation.\n"
          ]
        },
        {
          "output_type": "stream",
          "name": "stdout",
          "text": [
            "Title: Anna Diamantopoulou\n",
            "Question: What was Anna Diamantopoulou's role in the Prodi Commission?\n",
            "Correct Answer: European Commissioner for Employment, Social Affairs and Equal Opportunities\n",
            "Generated Answer: European Commissioner for Justice and Consumers\n",
            "BLEU Score: 0.1317\n",
            "ROUGE-L Score: 0.5333\n",
            "Exact Match: 0\n",
            "F1 Score: 0.5333\n",
            "\n",
            "---\n",
            "\n"
          ]
        },
        {
          "output_type": "stream",
          "name": "stderr",
          "text": [
            "Setting `pad_token_id` to `eos_token_id`:3 for open-end generation.\n"
          ]
        },
        {
          "output_type": "stream",
          "name": "stdout",
          "text": [
            "Title: Anna Diamantopoulou\n",
            "Question: Which initiative did Anna Diamantopoulou lead that aimed at securing equal opportunities and improving working conditions in the EU?\n",
            "Correct Answer: Agenda for Social Policy\n",
            "Generated Answer: European Equal Pay Action Services\n",
            "BLEU Score: 0.0000\n",
            "ROUGE-L Score: 0.0000\n",
            "Exact Match: 0\n",
            "F1 Score: 0.0000\n",
            "\n",
            "---\n",
            "\n"
          ]
        },
        {
          "output_type": "stream",
          "name": "stderr",
          "text": [
            "Setting `pad_token_id` to `eos_token_id`:3 for open-end generation.\n"
          ]
        },
        {
          "output_type": "stream",
          "name": "stdout",
          "text": [
            "Title: Anna Diamantopoulou\n",
            "Question: Which university's John F. Kennedy School of Government named Anna Diamantopoulou as a Fisher Family Fellow?\n",
            "Correct Answer: Harvard University\n",
            "Generated Answer: Harvard University\n",
            "BLEU Score: 0.3162\n",
            "ROUGE-L Score: 1.0000\n",
            "Exact Match: 1\n",
            "F1 Score: 1.0000\n",
            "\n",
            "---\n",
            "\n"
          ]
        },
        {
          "output_type": "stream",
          "name": "stderr",
          "text": [
            "Setting `pad_token_id` to `eos_token_id`:3 for open-end generation.\n"
          ]
        },
        {
          "output_type": "stream",
          "name": "stdout",
          "text": [
            "Title: Friedrich Paulsen\n",
            "Question: What was Friedrich Paulsen's nationality?\n",
            "Correct Answer: German\n",
            "Generated Answer: German\n",
            "BLEU Score: 0.1778\n",
            "ROUGE-L Score: 1.0000\n",
            "Exact Match: 1\n",
            "F1 Score: 1.0000\n",
            "\n",
            "---\n",
            "\n"
          ]
        },
        {
          "output_type": "stream",
          "name": "stderr",
          "text": [
            "Setting `pad_token_id` to `eos_token_id`:3 for open-end generation.\n"
          ]
        },
        {
          "output_type": "stream",
          "name": "stdout",
          "text": [
            "Title: Friedrich Paulsen\n",
            "Question: Which philosophical movement is Friedrich Paulsen associated with?\n",
            "Correct Answer: Neo-Kantian\n",
            "Generated Answer: German idealism\n",
            "BLEU Score: 0.0000\n",
            "ROUGE-L Score: 0.0000\n",
            "Exact Match: 0\n",
            "F1 Score: 0.0000\n",
            "\n",
            "---\n",
            "\n"
          ]
        },
        {
          "output_type": "stream",
          "name": "stderr",
          "text": [
            "Setting `pad_token_id` to `eos_token_id`:3 for open-end generation.\n"
          ]
        },
        {
          "output_type": "stream",
          "name": "stdout",
          "text": [
            "Title: Friedrich Paulsen\n",
            "Question: At which university did Friedrich Paulsen complete his doctoral thesis?\n",
            "Correct Answer: University of Berlin\n",
            "Generated Answer: University of Berlin\n",
            "BLEU Score: 0.5623\n",
            "ROUGE-L Score: 1.0000\n",
            "Exact Match: 1\n",
            "F1 Score: 1.0000\n",
            "\n",
            "---\n",
            "\n"
          ]
        },
        {
          "output_type": "stream",
          "name": "stderr",
          "text": [
            "Setting `pad_token_id` to `eos_token_id`:3 for open-end generation.\n"
          ]
        },
        {
          "output_type": "stream",
          "name": "stdout",
          "text": [
            "Title: Friedrich Paulsen\n",
            "Question: What is the main subject of Friedrich Paulsen's work 'System der Ethik'?\n",
            "Correct Answer: Ethics\n",
            "Generated Answer: ethics\n",
            "BLEU Score: 0.1778\n",
            "ROUGE-L Score: 1.0000\n",
            "Exact Match: 1\n",
            "F1 Score: 1.0000\n",
            "\n",
            "---\n",
            "\n"
          ]
        },
        {
          "output_type": "stream",
          "name": "stderr",
          "text": [
            "Setting `pad_token_id` to `eos_token_id`:3 for open-end generation.\n"
          ]
        },
        {
          "output_type": "stream",
          "name": "stdout",
          "text": [
            "Title: Józef Oleksy\n",
            "Question: Which position did Józef Oleksy serve as in the Polish government from 7 March 1995 to 7 February 1996?\n",
            "Correct Answer: Prime Minister of Poland\n",
            "Generated Answer: Minister of Foreign Affairs\n",
            "BLEU Score: 0.1699\n",
            "ROUGE-L Score: 0.5000\n",
            "Exact Match: 0\n",
            "F1 Score: 0.5000\n",
            "\n",
            "---\n",
            "\n"
          ]
        },
        {
          "output_type": "stream",
          "name": "stderr",
          "text": [
            "Setting `pad_token_id` to `eos_token_id`:3 for open-end generation.\n"
          ]
        },
        {
          "output_type": "stream",
          "name": "stdout",
          "text": [
            "Title: Józef Oleksy\n",
            "Question: What was Józef Oleksy's role in the church during his youth?\n",
            "Correct Answer: He was an altar boy\n",
            "Generated Answer: altar boy\n",
            "BLEU Score: 0.0706\n",
            "ROUGE-L Score: 0.5714\n",
            "Exact Match: 0\n",
            "F1 Score: 0.5714\n",
            "\n",
            "---\n",
            "\n"
          ]
        },
        {
          "output_type": "stream",
          "name": "stderr",
          "text": [
            "Setting `pad_token_id` to `eos_token_id`:3 for open-end generation.\n"
          ]
        },
        {
          "output_type": "stream",
          "name": "stdout",
          "text": [
            "Title: Józef Oleksy\n",
            "Question: What degree did Józef Oleksy obtain?\n",
            "Correct Answer: A doctoral degree in economics\n",
            "Generated Answer: PhD\n",
            "BLEU Score: 0.0000\n",
            "ROUGE-L Score: 0.0000\n",
            "Exact Match: 0\n",
            "F1 Score: 0.0000\n",
            "\n",
            "---\n",
            "\n"
          ]
        },
        {
          "output_type": "stream",
          "name": "stderr",
          "text": [
            "Setting `pad_token_id` to `eos_token_id`:3 for open-end generation.\n"
          ]
        },
        {
          "output_type": "stream",
          "name": "stdout",
          "text": [
            "Title: Józef Oleksy\n",
            "Question: Which political party was Józef Oleksy a member of from 1968 to 1990?\n",
            "Correct Answer: Communist Polish United Workers' Party (PZPR)\n",
            "Generated Answer: Polish United Workers' Party\n",
            "BLEU Score: 0.6065\n",
            "ROUGE-L Score: 0.8000\n",
            "Exact Match: 0\n",
            "F1 Score: 0.8000\n",
            "\n",
            "---\n",
            "\n"
          ]
        },
        {
          "output_type": "stream",
          "name": "stderr",
          "text": [
            "Setting `pad_token_id` to `eos_token_id`:3 for open-end generation.\n"
          ]
        },
        {
          "output_type": "stream",
          "name": "stdout",
          "text": [
            "Title: Józef Oleksy\n",
            "Question: What role did Józef Oleksy have in the Socialist Union of Polish Students?\n",
            "Correct Answer: He was a member of the board\n",
            "Generated Answer: leader\n",
            "BLEU Score: 0.0000\n",
            "ROUGE-L Score: 0.0000\n",
            "Exact Match: 0\n",
            "F1 Score: 0.0000\n",
            "\n",
            "---\n",
            "\n"
          ]
        },
        {
          "output_type": "stream",
          "name": "stderr",
          "text": [
            "Setting `pad_token_id` to `eos_token_id`:3 for open-end generation.\n"
          ]
        },
        {
          "output_type": "stream",
          "name": "stdout",
          "text": [
            "Title: Józef Oleksy\n",
            "Question: What position did Józef Oleksy hold in the European Parliament?\n",
            "Correct Answer: Member of the European Parliament\n",
            "Generated Answer: President of the Committee on Foreign Affairs\n",
            "BLEU Score: 0.0699\n",
            "ROUGE-L Score: 0.3333\n",
            "Exact Match: 0\n",
            "F1 Score: 0.3333\n",
            "\n",
            "---\n",
            "\n"
          ]
        },
        {
          "output_type": "stream",
          "name": "stderr",
          "text": [
            "Setting `pad_token_id` to `eos_token_id`:3 for open-end generation.\n"
          ]
        },
        {
          "output_type": "stream",
          "name": "stdout",
          "text": [
            "Title: Józef Oleksy\n",
            "Question: Who was Józef Oleksy married to?\n",
            "Correct Answer: Maria Oleksy\n",
            "Generated Answer: Maria\n",
            "BLEU Score: 0.0654\n",
            "ROUGE-L Score: 0.6667\n",
            "Exact Match: 0\n",
            "F1 Score: 0.6667\n",
            "\n",
            "---\n",
            "\n"
          ]
        },
        {
          "output_type": "stream",
          "name": "stderr",
          "text": [
            "Setting `pad_token_id` to `eos_token_id`:3 for open-end generation.\n"
          ]
        },
        {
          "output_type": "stream",
          "name": "stdout",
          "text": [
            "Title: Guillermo Cabrera Infante\n",
            "Question: What nationality was Guillermo Cabrera Infante?\n",
            "Correct Answer: Cuban\n",
            "Generated Answer: Cuban\n",
            "BLEU Score: 0.1778\n",
            "ROUGE-L Score: 1.0000\n",
            "Exact Match: 1\n",
            "F1 Score: 1.0000\n",
            "\n",
            "---\n",
            "\n"
          ]
        },
        {
          "output_type": "stream",
          "name": "stderr",
          "text": [
            "Setting `pad_token_id` to `eos_token_id`:3 for open-end generation.\n"
          ]
        },
        {
          "output_type": "stream",
          "name": "stdout",
          "text": [
            "Title: Guillermo Cabrera Infante\n",
            "Question: For what is Guillermo Cabrera Infante best known?\n",
            "Correct Answer: The novel Tres tristes tigres\n",
            "Generated Answer: One Hundred Years of Solitude\n",
            "BLEU Score: 0.0000\n",
            "ROUGE-L Score: 0.0000\n",
            "Exact Match: 0\n",
            "F1 Score: 0.0000\n",
            "\n",
            "---\n",
            "\n"
          ]
        },
        {
          "output_type": "stream",
          "name": "stderr",
          "text": [
            "Setting `pad_token_id` to `eos_token_id`:3 for open-end generation.\n"
          ]
        },
        {
          "output_type": "stream",
          "name": "stdout",
          "text": [
            "Title: Guillermo Cabrera Infante\n",
            "Question: What was the original setting for nearly all of Guillermo Cabrera Infante's writings?\n",
            "Correct Answer: Havana\n",
            "Generated Answer: Mexico\n",
            "BLEU Score: 0.0000\n",
            "ROUGE-L Score: 0.0000\n",
            "Exact Match: 0\n",
            "F1 Score: 0.0000\n",
            "\n",
            "---\n",
            "\n"
          ]
        },
        {
          "output_type": "stream",
          "name": "stderr",
          "text": [
            "Setting `pad_token_id` to `eos_token_id`:3 for open-end generation.\n"
          ]
        },
        {
          "output_type": "stream",
          "name": "stdout",
          "text": [
            "Title: Guillermo Cabrera Infante\n",
            "Question: What university did Guillermo Cabrera Infante attend for journalism?\n",
            "Correct Answer: University of Havana\n",
            "Generated Answer: The New School\n",
            "BLEU Score: 0.0000\n",
            "ROUGE-L Score: 0.0000\n",
            "Exact Match: 0\n",
            "F1 Score: 0.0000\n",
            "\n",
            "---\n",
            "\n"
          ]
        },
        {
          "output_type": "stream",
          "name": "stderr",
          "text": [
            "Setting `pad_token_id` to `eos_token_id`:3 for open-end generation.\n"
          ]
        },
        {
          "output_type": "stream",
          "name": "stdout",
          "text": [
            "Title: Hermann Maas\n",
            "Question: What title was Hermann Maas awarded by Yad Vashem?\n",
            "Correct Answer: Righteous Among the Nations\n",
            "Generated Answer: Righteous Among the Nations\n",
            "BLEU Score: 1.0000\n",
            "ROUGE-L Score: 1.0000\n",
            "Exact Match: 1\n",
            "F1 Score: 1.0000\n",
            "\n",
            "---\n",
            "\n"
          ]
        },
        {
          "output_type": "stream",
          "name": "stderr",
          "text": [
            "Setting `pad_token_id` to `eos_token_id`:3 for open-end generation.\n"
          ]
        },
        {
          "output_type": "stream",
          "name": "stdout",
          "text": [
            "Title: Hermann Maas\n",
            "Question: Which political party did Hermann Maas join in 1918?\n",
            "Correct Answer: DDP\n",
            "Generated Answer: German Democratic Party\n",
            "BLEU Score: 0.0000\n",
            "ROUGE-L Score: 0.0000\n",
            "Exact Match: 0\n",
            "F1 Score: 0.0000\n",
            "\n",
            "---\n",
            "\n"
          ]
        },
        {
          "output_type": "stream",
          "name": "stderr",
          "text": [
            "Setting `pad_token_id` to `eos_token_id`:3 for open-end generation.\n"
          ]
        },
        {
          "output_type": "stream",
          "name": "stdout",
          "text": [
            "Title: Hermann Maas\n",
            "Question: What languages could Hermann Maas speak fluently that impressed Zionist activists?\n",
            "Correct Answer: Hebrew\n",
            "Generated Answer: Hebrew\n",
            "BLEU Score: 0.1778\n",
            "ROUGE-L Score: 1.0000\n",
            "Exact Match: 1\n",
            "F1 Score: 1.0000\n",
            "\n",
            "---\n",
            "\n"
          ]
        },
        {
          "output_type": "stream",
          "name": "stderr",
          "text": [
            "Setting `pad_token_id` to `eos_token_id`:3 for open-end generation.\n"
          ]
        },
        {
          "output_type": "stream",
          "name": "stdout",
          "text": [
            "Title: Hermann Maas\n",
            "Question: Which church did Hermann Maas join that opposed the Nazi regime?\n",
            "Correct Answer: Confessing Church\n",
            "Generated Answer: The Church of Our Lady\n",
            "BLEU Score: 0.0537\n",
            "ROUGE-L Score: 0.2857\n",
            "Exact Match: 0\n",
            "F1 Score: 0.2857\n",
            "\n",
            "---\n",
            "\n"
          ]
        },
        {
          "output_type": "stream",
          "name": "stderr",
          "text": [
            "Setting `pad_token_id` to `eos_token_id`:3 for open-end generation.\n"
          ]
        },
        {
          "output_type": "stream",
          "name": "stdout",
          "text": [
            "Title: Louis de Rougemont\n",
            "Question: In which country was Louis De Rougemont born?\n",
            "Correct Answer: Switzerland\n",
            "Generated Answer: France\n",
            "BLEU Score: 0.0000\n",
            "ROUGE-L Score: 0.0000\n",
            "Exact Match: 0\n",
            "F1 Score: 0.0000\n",
            "\n",
            "---\n",
            "\n"
          ]
        },
        {
          "output_type": "stream",
          "name": "stderr",
          "text": [
            "Setting `pad_token_id` to `eos_token_id`:3 for open-end generation.\n"
          ]
        },
        {
          "output_type": "stream",
          "name": "stdout",
          "text": [
            "Title: Louis de Rougemont\n",
            "Question: What profession did Louis De Rougemont claim to be?\n",
            "Correct Answer: Explorer\n",
            "Generated Answer: historian\n",
            "BLEU Score: 0.0000\n",
            "ROUGE-L Score: 0.0000\n",
            "Exact Match: 0\n",
            "F1 Score: 0.0000\n",
            "\n",
            "---\n",
            "\n"
          ]
        },
        {
          "output_type": "stream",
          "name": "stderr",
          "text": [
            "Setting `pad_token_id` to `eos_token_id`:3 for open-end generation.\n"
          ]
        },
        {
          "output_type": "stream",
          "name": "stdout",
          "text": [
            "Title: Louis de Rougemont\n",
            "Question: Under what name did Louis De Rougemont write about his invented adventures?\n",
            "Correct Answer: Louis De Rougemont\n",
            "Generated Answer: Nicholas Remy\n",
            "BLEU Score: 0.0000\n",
            "ROUGE-L Score: 0.0000\n",
            "Exact Match: 0\n",
            "F1 Score: 0.0000\n",
            "\n",
            "---\n",
            "\n"
          ]
        },
        {
          "output_type": "stream",
          "name": "stderr",
          "text": [
            "Setting `pad_token_id` to `eos_token_id`:3 for open-end generation.\n"
          ]
        },
        {
          "output_type": "stream",
          "name": "stdout",
          "text": [
            "Title: Louis de Rougemont\n",
            "Question: What did Louis De Rougemont claim to have been worshipped as by Indigenous Australians?\n",
            "Correct Answer: A god\n",
            "Generated Answer: god\n",
            "BLEU Score: 0.0654\n",
            "ROUGE-L Score: 0.6667\n",
            "Exact Match: 0\n",
            "F1 Score: 0.6667\n",
            "\n",
            "---\n",
            "\n",
            "Title: Louis de Rougemont\n",
            "Question: Which society examined Louis De Rougemont's claims?\n",
            "Correct Answer: The Royal Geographical Society\n",
            "Generated Answer: American\n",
            "BLEU Score: 0.0000\n",
            "ROUGE-L Score: 0.0000\n",
            "Exact Match: 0\n",
            "F1 Score: 0.0000\n",
            "\n",
            "---\n",
            "\n"
          ]
        }
      ]
    },
    {
      "cell_type": "code",
      "source": [],
      "metadata": {
        "id": "F08q2rouugsS"
      },
      "execution_count": null,
      "outputs": []
    }
  ]
}